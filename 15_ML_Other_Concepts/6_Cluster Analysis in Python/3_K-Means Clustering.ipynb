{
 "cells": [
  {
   "cell_type": "markdown",
   "metadata": {},
   "source": [
    "# K-Means Clustering\n",
    "\n",
    "This chapter introduces a different clustering algorithm - k-means clustering - and its implementation in SciPy. K-means clustering overcomes the biggest drawback of hierarchical clustering that was discussed in the last chapter. As dendrograms are specific to hierarchical clustering, this chapter discusses one method to find the number of clusters before running k-means clustering. The chapter concludes with a discussion on the limitations of k-means clustering and discusses considerations while using this algorithm.\n",
    "\n",
    "## Basics of K-means clustering\n",
    "\n",
    "K means runs significantly faster on large datasets.\n",
    "\n",
    "```python\n",
    "kmeans(obs, k_or_guess, iter, thresh, check_finite)\n",
    "```\n",
    "\n",
    "* obs: standardized observations using `whiten` method\n",
    "* k_or_guess: number of clusters\n",
    "* iter: number of iterations(default:20)\n",
    "* thres: threshold if change in distursion since the last k means is <= threshold (default: 1e-05=0.00001)\n",
    "* check_finite: whether to check if observations contain only finite numbers(default=True) thus no infinite or NaN values if True.\n",
    "\n",
    "\n",
    "Returns 2  cluster centers and distortion.\n",
    "\n",
    "The mean of the list of distortions from the vq method should approximately equal the distortion value of the kmeans method if the same list of observations is passed."
   ]
  },
  {
   "cell_type": "markdown",
   "metadata": {},
   "source": [
    "## K-means clustering: first exercise\n",
    "\n",
    "This exercise will familiarize you with the usage of k-means clustering on a dataset. Let us use the Comic Con dataset and check how k-means clustering works on it.\n",
    "\n",
    "Recall the two steps of k-means clustering:\n",
    "\n",
    "* Define cluster centers through kmeans() function. It has two required arguments: observations and number of clusters.\n",
    "* Assign cluster labels through the vq() function. It has two required arguments: observations and cluster centers.\n",
    "The data is stored in a Pandas data frame, comic_con. x_scaled and y_scaled are the column names of the standardized X and Y coordinates of people at a given point in time."
   ]
  },
  {
   "cell_type": "code",
   "execution_count": 1,
   "metadata": {},
   "outputs": [],
   "source": [
    "import pandas as pd\n",
    "import numpy as np\n",
    "import seaborn as sns\n",
    "import matplotlib.pyplot as plt\n",
    "from scipy.cluster.vq import whiten"
   ]
  },
  {
   "cell_type": "code",
   "execution_count": 3,
   "metadata": {},
   "outputs": [],
   "source": [
    "x_coordinate=[17,\n",
    " 20,\n",
    " 35,\n",
    " 14,\n",
    " 37,\n",
    " 33,\n",
    " 14,\n",
    " 30,\n",
    " 35,\n",
    " 17,\n",
    " 11,\n",
    " 21,\n",
    " 13,\n",
    " 10,\n",
    " 81,\n",
    " 84,\n",
    " 87,\n",
    " 83,\n",
    " 90,\n",
    " 97,\n",
    " 94,\n",
    " 88,\n",
    " 89,\n",
    " 93,\n",
    " 92,\n",
    " 82,\n",
    " 81,\n",
    " 92,\n",
    " 91,\n",
    " 22,\n",
    " 23,\n",
    " 25,\n",
    " 25,\n",
    " 27,\n",
    " 17,\n",
    " 17]\n",
    "y_coordinate= [4,\n",
    " 6,\n",
    " 0,\n",
    " 0,\n",
    " 4,\n",
    " 3,\n",
    " 1,\n",
    " 6,\n",
    " 5,\n",
    " 4,\n",
    " 6,\n",
    " 10,\n",
    " 8,\n",
    " 10,\n",
    " 97,\n",
    " 94,\n",
    " 99,\n",
    " 95,\n",
    " 95,\n",
    " 97,\n",
    " 99,\n",
    " 99,\n",
    " 94,\n",
    " 99,\n",
    " 90,\n",
    " 98,\n",
    " 100,\n",
    " 93,\n",
    " 98,\n",
    " 15,\n",
    " 10,\n",
    " 0,\n",
    " 10,\n",
    " 7,\n",
    " 17,\n",
    " 15]"
   ]
  },
  {
   "cell_type": "code",
   "execution_count": 4,
   "metadata": {},
   "outputs": [
    {
     "data": {
      "text/plain": [
       "(36, 4)"
      ]
     },
     "execution_count": 4,
     "metadata": {},
     "output_type": "execute_result"
    }
   ],
   "source": [
    "comic_con=pd.DataFrame({'x_coordinate':x_coordinate,'y_coordinate':y_coordinate})\n",
    "# Use the whiten() function to standardize the data\n",
    "comic_con['x_scaled'] = whiten(comic_con['x_coordinate'])\n",
    "comic_con['y_scaled'] = whiten(comic_con['y_coordinate'])\n",
    "comic_con.shape"
   ]
  },
  {
   "cell_type": "markdown",
   "metadata": {},
   "source": [
    "**Instructions**\n",
    "\n",
    "* Import kmeans and vq functions in SciPy.\n",
    "* Generate cluster centers using the kmeans() function with two clusters.\n",
    "* Create cluster labels using these cluster centers."
   ]
  },
  {
   "cell_type": "code",
   "execution_count": 7,
   "metadata": {},
   "outputs": [
    {
     "data": {
      "image/png": "[encoded data removed]",
      "text/plain": [
       "<Figure size 864x576 with 1 Axes>"
      ]
     },
     "metadata": {
      "needs_background": "light"
     },
     "output_type": "display_data"
    }
   ],
   "source": [
    "# Import the kmeans and vq functions\n",
    "from scipy.cluster.vq import kmeans, vq\n",
    "\n",
    "# Generate cluster centers\n",
    "cluster_centers, distortion = kmeans(comic_con[['x_scaled','y_scaled']],2)\n",
    "\n",
    "# Assign cluster labels\n",
    "comic_con['cluster_labels'], distortion_list = vq(comic_con[['x_scaled','y_scaled']],cluster_centers)\n",
    "\n",
    "fig=plt.figure(figsize=(12,8))\n",
    "# Plot clusters\n",
    "sns.scatterplot(x='x_scaled', y='y_scaled', \n",
    "                hue='cluster_labels', data = comic_con)\n",
    "plt.show()"
   ]
  },
  {
   "cell_type": "code",
   "execution_count": 8,
   "metadata": {},
   "outputs": [
    {
     "data": {
      "text/plain": [
       "x_coordinate        int64\n",
       "y_coordinate        int64\n",
       "x_scaled          float64\n",
       "y_scaled          float64\n",
       "cluster_labels      int32\n",
       "dtype: object"
      ]
     },
     "execution_count": 8,
     "metadata": {},
     "output_type": "execute_result"
    }
   ],
   "source": [
    "comic_con.dtypes"
   ]
  },
  {
   "cell_type": "markdown",
   "metadata": {},
   "source": [
    "Notice that the clusters formed are exactly the same as hierarchical clustering that you did in the previous chapter."
   ]
  },
  {
   "cell_type": "code",
   "execution_count": 9,
   "metadata": {},
   "outputs": [
    {
     "data": {
      "text/html": [
       "<div>\n",
       "<style scoped>\n",
       "    .dataframe tbody tr th:only-of-type {\n",
       "        vertical-align: middle;\n",
       "    }\n",
       "\n",
       "    .dataframe tbody tr th {\n",
       "        vertical-align: top;\n",
       "    }\n",
       "\n",
       "    .dataframe thead th {\n",
       "        text-align: right;\n",
       "    }\n",
       "</style>\n",
       "<table border=\"1\" class=\"dataframe\">\n",
       "  <thead>\n",
       "    <tr style=\"text-align: right;\">\n",
       "      <th></th>\n",
       "      <th>sliding_tackle</th>\n",
       "      <th>aggression</th>\n",
       "      <th>scaled_sliding_tackle</th>\n",
       "      <th>scaled_aggression</th>\n",
       "    </tr>\n",
       "  </thead>\n",
       "  <tbody>\n",
       "    <tr>\n",
       "      <th>0</th>\n",
       "      <td>23</td>\n",
       "      <td>63</td>\n",
       "      <td>0.97</td>\n",
       "      <td>3.72</td>\n",
       "    </tr>\n",
       "    <tr>\n",
       "      <th>1</th>\n",
       "      <td>26</td>\n",
       "      <td>48</td>\n",
       "      <td>1.09</td>\n",
       "      <td>2.84</td>\n",
       "    </tr>\n",
       "    <tr>\n",
       "      <th>2</th>\n",
       "      <td>33</td>\n",
       "      <td>56</td>\n",
       "      <td>1.39</td>\n",
       "      <td>3.31</td>\n",
       "    </tr>\n",
       "    <tr>\n",
       "      <th>3</th>\n",
       "      <td>38</td>\n",
       "      <td>78</td>\n",
       "      <td>1.60</td>\n",
       "      <td>4.61</td>\n",
       "    </tr>\n",
       "    <tr>\n",
       "      <th>4</th>\n",
       "      <td>11</td>\n",
       "      <td>29</td>\n",
       "      <td>0.46</td>\n",
       "      <td>1.71</td>\n",
       "    </tr>\n",
       "  </tbody>\n",
       "</table>\n",
       "</div>"
      ],
      "text/plain": [
       "   sliding_tackle  aggression  scaled_sliding_tackle  scaled_aggression\n",
       "0              23          63                   0.97               3.72\n",
       "1              26          48                   1.09               2.84\n",
       "2              33          56                   1.39               3.31\n",
       "3              38          78                   1.60               4.61\n",
       "4              11          29                   0.46               1.71"
      ]
     },
     "execution_count": 9,
     "metadata": {},
     "output_type": "execute_result"
    }
   ],
   "source": [
    "import timeit\n",
    "\n",
    "fifa=pd.read_csv(\"fifa_18_dataset.csv\")\n",
    "fifa=fifa[0:5000]\n",
    "fifa['scaled_sliding_tackle']= np.round(whiten(fifa['sliding_tackle']),2)\n",
    "fifa['scaled_aggression']= np.round(whiten(fifa['aggression'],2),2)\n",
    "fifa.head()"
   ]
  },
  {
   "cell_type": "code",
   "execution_count": 10,
   "metadata": {},
   "outputs": [
    {
     "name": "stdout",
     "output_type": "stream",
     "text": [
      "167 ms ± 52.9 ms per loop (mean ± std. dev. of 7 runs, 10 loops each)\n"
     ]
    }
   ],
   "source": [
    "%timeit kmeans(fifa[['scaled_sliding_tackle','scaled_aggression']],3)"
   ]
  },
  {
   "cell_type": "markdown",
   "metadata": {},
   "source": [
    "On this system, It took 167 milliseconds (0.167 sec) to run Kmeans, but took more time 2 sec to run hierarchical clustering."
   ]
  },
  {
   "cell_type": "markdown",
   "metadata": {},
   "source": [
    "## How many clusters?\n",
    "\n",
    "* Distortion: sum of squared distances of\n",
    "points from cluster centers\n",
    "\n",
    "using elbow method, average silhouette and gap statistics\n",
    "\n",
    "### Elbow method on distinct clusters\n",
    "\n",
    "Let us use the comic con data set to see how the elbow plot looks on a data set with distinct, well-defined clusters. You may want to display the data points before proceeding with the exercise.\n",
    "\n",
    "The data is stored in a Pandas data frame, comic_con. x_scaled and y_scaled are the column names of the standardized X and Y coordinates of people at a given point in time."
   ]
  },
  {
   "cell_type": "markdown",
   "metadata": {},
   "source": [
    "**Instructions**\n",
    "\n",
    "* Create a list of distortions for each cluster in num_clusters.\n",
    "* Create a data frame elbow_plot with num_clusters and distortions.\n",
    "* With the .lineplot() method, plot elbow_plot with num_clusters in the x axis and distortions in the y axis."
   ]
  },
  {
   "cell_type": "code",
   "execution_count": 12,
   "metadata": {},
   "outputs": [
    {
     "data": {
      "image/png": "[encoded data removed]",
      "text/plain": [
       "<Figure size 864x576 with 1 Axes>"
      ]
     },
     "metadata": {
      "needs_background": "light"
     },
     "output_type": "display_data"
    }
   ],
   "source": [
    "distortions = []\n",
    "num_clusters = range(1, 7)\n",
    "\n",
    "# Create a list of distortions from the kmeans function\n",
    "for i in num_clusters:\n",
    "    cluster_centers, distortion = kmeans(comic_con[['x_scaled','y_scaled']],i)\n",
    "    distortions.append(distortion)\n",
    "\n",
    "# Create a data frame with two lists - num_clusters, distortions\n",
    "elbow_plot = pd.DataFrame({'num_clusters': num_clusters, 'distortions': distortions})\n",
    "\n",
    "fig=plt.figure(figsize=(12,8))\n",
    "\n",
    "# Creat a line plot of num_clusters and distortions\n",
    "sns.lineplot(x='num_clusters', y='distortions', data = elbow_plot)\n",
    "plt.xticks(num_clusters)\n",
    "plt.show()"
   ]
  },
  {
   "cell_type": "markdown",
   "metadata": {},
   "source": [
    "This shows 2 clusters in the data."
   ]
  },
  {
   "cell_type": "markdown",
   "metadata": {},
   "source": [
    "## Elbow method on uniform data\n",
    "\n",
    "In the earlier exercise, you constructed an elbow plot on data with well-defined clusters. Let us now see how the elbow plot looks on a data set with uniformly distributed points. You may want to display the data points on the console before proceeding with the exercise.\n",
    "\n",
    "The data is stored in a Pandas data frame, uniform_data. x_scaled and y_scaled are the column names of the standardized X and Y coordinates of points."
   ]
  },
  {
   "cell_type": "code",
   "execution_count": 13,
   "metadata": {},
   "outputs": [],
   "source": [
    "x_coordinate=[39,\n",
    " 42,\n",
    " 58,\n",
    " 43,\n",
    " 13,\n",
    " 32,\n",
    " 60,\n",
    " 13,\n",
    " 26,\n",
    " 27,\n",
    " 29,\n",
    " 51,\n",
    " 14,\n",
    " 50,\n",
    " 62,\n",
    " 59,\n",
    " 50,\n",
    " 62,\n",
    " 65,\n",
    " 17,\n",
    " 25,\n",
    " 45,\n",
    " 55,\n",
    " 48,\n",
    " 42,\n",
    " 58,\n",
    " 68,\n",
    " 58,\n",
    " 37,\n",
    " 55]\n",
    "\n",
    "y_coordinate=[3,\n",
    " 7,\n",
    " 3,\n",
    " 3,\n",
    " 6,\n",
    " 5,\n",
    " 3,\n",
    " 4,\n",
    " 0,\n",
    " 9,\n",
    " 6,\n",
    " 3,\n",
    " 0,\n",
    " 7,\n",
    " 4,\n",
    " 1,\n",
    " 3,\n",
    " 0,\n",
    " 2,\n",
    " 5,\n",
    " 9,\n",
    " 5,\n",
    " 8,\n",
    " 6,\n",
    " 3,\n",
    " 1,\n",
    " 4,\n",
    " 2,\n",
    " 8,\n",
    " 7]"
   ]
  },
  {
   "cell_type": "code",
   "execution_count": 14,
   "metadata": {},
   "outputs": [
    {
     "data": {
      "text/html": [
       "<div>\n",
       "<style scoped>\n",
       "    .dataframe tbody tr th:only-of-type {\n",
       "        vertical-align: middle;\n",
       "    }\n",
       "\n",
       "    .dataframe tbody tr th {\n",
       "        vertical-align: top;\n",
       "    }\n",
       "\n",
       "    .dataframe thead th {\n",
       "        text-align: right;\n",
       "    }\n",
       "</style>\n",
       "<table border=\"1\" class=\"dataframe\">\n",
       "  <thead>\n",
       "    <tr style=\"text-align: right;\">\n",
       "      <th></th>\n",
       "      <th>x_coordinate</th>\n",
       "      <th>y_coordinate</th>\n",
       "      <th>x_scaled</th>\n",
       "      <th>y_scaled</th>\n",
       "    </tr>\n",
       "  </thead>\n",
       "  <tbody>\n",
       "    <tr>\n",
       "      <th>0</th>\n",
       "      <td>39</td>\n",
       "      <td>3</td>\n",
       "      <td>2.376199</td>\n",
       "      <td>1.152237</td>\n",
       "    </tr>\n",
       "    <tr>\n",
       "      <th>1</th>\n",
       "      <td>42</td>\n",
       "      <td>7</td>\n",
       "      <td>2.558984</td>\n",
       "      <td>2.688554</td>\n",
       "    </tr>\n",
       "    <tr>\n",
       "      <th>2</th>\n",
       "      <td>58</td>\n",
       "      <td>3</td>\n",
       "      <td>3.533835</td>\n",
       "      <td>1.152237</td>\n",
       "    </tr>\n",
       "    <tr>\n",
       "      <th>3</th>\n",
       "      <td>43</td>\n",
       "      <td>3</td>\n",
       "      <td>2.619912</td>\n",
       "      <td>1.152237</td>\n",
       "    </tr>\n",
       "    <tr>\n",
       "      <th>4</th>\n",
       "      <td>13</td>\n",
       "      <td>6</td>\n",
       "      <td>0.792066</td>\n",
       "      <td>2.304475</td>\n",
       "    </tr>\n",
       "  </tbody>\n",
       "</table>\n",
       "</div>"
      ],
      "text/plain": [
       "   x_coordinate  y_coordinate  x_scaled  y_scaled\n",
       "0            39             3  2.376199  1.152237\n",
       "1            42             7  2.558984  2.688554\n",
       "2            58             3  3.533835  1.152237\n",
       "3            43             3  2.619912  1.152237\n",
       "4            13             6  0.792066  2.304475"
      ]
     },
     "execution_count": 14,
     "metadata": {},
     "output_type": "execute_result"
    }
   ],
   "source": [
    "uniform_data=pd.DataFrame({'x_coordinate':x_coordinate,'y_coordinate':y_coordinate})\n",
    "uniform_data['x_scaled']=whiten(uniform_data['x_coordinate'])\n",
    "uniform_data['y_scaled']=whiten(uniform_data['y_coordinate'])\n",
    "uniform_data.head()"
   ]
  },
  {
   "cell_type": "markdown",
   "metadata": {},
   "source": [
    "**Instructions**\n",
    "\n",
    "* Create a list of distortions for each cluster in num_clusters.\n",
    "* Create a data frame elbow_plot with num_clusters and distortions.\n",
    "* With the .lineplot() method, plot elbow_plot with num_clusters in the x axis and distortions in the y axis."
   ]
  },
  {
   "cell_type": "code",
   "execution_count": 16,
   "metadata": {},
   "outputs": [
    {
     "data": {
      "image/png": "[encoded data removed]",
      "text/plain": [
       "<Figure size 864x576 with 1 Axes>"
      ]
     },
     "metadata": {
      "needs_background": "light"
     },
     "output_type": "display_data"
    }
   ],
   "source": [
    "distortions = []\n",
    "num_clusters = range(2, 7)\n",
    "\n",
    "# Create a list of distortions from the kmeans function\n",
    "for i in num_clusters:\n",
    "    cluster_centers, distortion = kmeans(uniform_data[['x_scaled','y_scaled']],i)\n",
    "    distortions.append(distortion)\n",
    "\n",
    "# Create a data frame with two lists - number of clusters and distortions\n",
    "elbow_plot = pd.DataFrame({'num_clusters': num_clusters, 'distortions': distortions})\n",
    "\n",
    "\n",
    "fig=plt.figure(figsize=(12,8))\n",
    "# Creat a line plot of num_clusters and distortions\n",
    "sns.lineplot(x='num_clusters', y='distortions', data=elbow_plot)\n",
    "plt.xticks(num_clusters)\n",
    "plt.show()"
   ]
  },
  {
   "cell_type": "markdown",
   "metadata": {},
   "source": [
    "There is no well defined elbow in this plot!"
   ]
  },
  {
   "cell_type": "markdown",
   "metadata": {},
   "source": [
    "## Limitations of k-means clustering\n",
    "\n",
    "* how to find k\n",
    "* impact of seeds,\n",
    "* formation of equal sized clusters\n",
    "\n",
    "Clustering is still an Exploratory stage of analysis. \n",
    "\n",
    "### Impact of seeds on distinct clusters\n",
    "\n",
    "You noticed the impact of seeds on a dataset that did not have well-defined groups of clusters. In this exercise, you will explore whether seeds impact the clusters in the Comic Con data, where the clusters are well-defined.\n",
    "\n",
    "The data is stored in a Pandas data frame, comic_con. x_scaled and y_scaled are the column names of the standardized X and Y coordinates of people at a given point in time."
   ]
  },
  {
   "cell_type": "markdown",
   "metadata": {},
   "source": [
    "**Instructions**\n",
    "\n",
    "* Import the random class from numpy and initialize the seed with the integer 0."
   ]
  },
  {
   "cell_type": "code",
   "execution_count": 19,
   "metadata": {},
   "outputs": [
    {
     "data": {
      "image/png": "[encoded data removed]",
      "text/plain": [
       "<Figure size 864x576 with 1 Axes>"
      ]
     },
     "metadata": {
      "needs_background": "light"
     },
     "output_type": "display_data"
    }
   ],
   "source": [
    "# Import random class\n",
    "from numpy  import random\n",
    "\n",
    "# Initialize seed\n",
    "random.seed(0)\n",
    "\n",
    "# Run kmeans clustering\n",
    "cluster_centers, distortion = kmeans(comic_con[['x_scaled', 'y_scaled']], 2)\n",
    "comic_con['cluster_labels'], distortion_list = vq(comic_con[['x_scaled', 'y_scaled']], cluster_centers)\n",
    "\n",
    "fig=plt.figure(figsize=(12,8))\n",
    "\n",
    "# Plot the scatterplot\n",
    "sns.scatterplot(x='x_scaled', y='y_scaled', \n",
    "                hue='cluster_labels', data = comic_con)\n",
    "plt.show()"
   ]
  },
  {
   "cell_type": "markdown",
   "metadata": {},
   "source": [
    "* Change your code from the earlier step so that the seed is initialized with a list [1, 2, 1000]."
   ]
  },
  {
   "cell_type": "code",
   "execution_count": 21,
   "metadata": {},
   "outputs": [
    {
     "data": {
      "image/png": "[encoded data removed]",
      "text/plain": [
       "<Figure size 864x576 with 1 Axes>"
      ]
     },
     "metadata": {
      "needs_background": "light"
     },
     "output_type": "display_data"
    }
   ],
   "source": [
    "# Initialize seed\n",
    "random.seed([1, 2, 1000])\n",
    "\n",
    "# Run kmeans clustering\n",
    "cluster_centers, distortion = kmeans(comic_con[['x_scaled', 'y_scaled']], 2)\n",
    "comic_con['cluster_labels'], distortion_list = vq(comic_con[['x_scaled', 'y_scaled']], cluster_centers)\n",
    "\n",
    "fig=plt.figure(figsize=(12,8))\n",
    "# Plot the scatterplot\n",
    "sns.scatterplot(x='x_scaled', y='y_scaled', \n",
    "                hue='cluster_labels', data = comic_con)\n",
    "plt.show()"
   ]
  },
  {
   "cell_type": "markdown",
   "metadata": {},
   "source": [
    "Notice that the plots have not changed after changing the seed as the clusters are well-defined."
   ]
  },
  {
   "cell_type": "markdown",
   "metadata": {},
   "source": [
    "### Uniform clustering patterns\n",
    "\n",
    "Now that you are familiar with the impact of seeds, let us look at the bias in k-means clustering towards the formation of uniform clusters.\n",
    "\n",
    "Let us use a mouse-like dataset for our next exercise. A mouse-like dataset is a group of points that resemble the head of a mouse: it has three clusters of points arranged in circles, one each for the face and two ears of a mouse.\n",
    "\n",
    "The data is stored in a Pandas data frame, mouse. x_scaled and y_scaled are the column names of the standardized X and Y coordinates of the data points."
   ]
  },
  {
   "cell_type": "code",
   "execution_count": 23,
   "metadata": {},
   "outputs": [],
   "source": [
    "x_coordinate=[33.875528010208775,\n",
    " 38.208747889149606,\n",
    " 35.740587879668375,\n",
    " 32.54696342954206,\n",
    " 62.06314582832662,\n",
    " 53.769683890896005,\n",
    " 32.49035021952977,\n",
    " 55.3252017626829,\n",
    " 68.10254176198403,\n",
    " 53.283123547122216,\n",
    " 67.71803005072717,\n",
    " 32.845502853646536,\n",
    " 61.78083409365266,\n",
    " 62.072467329911454,\n",
    " 37.2423104965403,\n",
    " 48.39279681160971,\n",
    " 35.48978845302275,\n",
    " 65.60854565818534,\n",
    " 38.02888393506392,\n",
    " 65.49367503080025,\n",
    " 41.60372438786939,\n",
    " 48.41398475297436,\n",
    " 41.81966990296046,\n",
    " 51.769182700772454,\n",
    " 45.179950587632945,\n",
    " 38.02218596797351,\n",
    " 56.37185205882892,\n",
    " 52.05250382127925,\n",
    " 44.24373638076516,\n",
    " 40.33281190433085,\n",
    " 53.59657550320356,\n",
    " 45.872652957168775,\n",
    " 54.000011702824835,\n",
    " 52.6886879008935,\n",
    " 53.25422917515853,\n",
    " 63.54212627168273,\n",
    " 65.38884629108937,\n",
    " 49.7331204244559,\n",
    " 48.58080531427996,\n",
    " 48.03000662249777,\n",
    " 44.667125096576456,\n",
    " 65.30935895573465,\n",
    " 40.58584806552085,\n",
    " 43.935337781568315,\n",
    " 32.873749638659994,\n",
    " 43.17638645624066,\n",
    " 61.44735547191348,\n",
    " 47.902126357633676,\n",
    " 47.572750544262746,\n",
    " 50.65221646915222,\n",
    " 45.446521013813914,\n",
    " 48.17757170967687,\n",
    " 50.11893027842959,\n",
    " 37.33082580526986,\n",
    " 53.28605844737083,\n",
    " 32.606017427486364,\n",
    " 46.59545711595761,\n",
    " 54.91413224060491,\n",
    " 61.18758173081231,\n",
    " 62.25623799525337,\n",
    " 47.807103448547345,\n",
    " 65.44265167099898,\n",
    " 36.17446484734976,\n",
    " 60.90339817677179,\n",
    " 44.238116884086224,\n",
    " 40.34232188761509,\n",
    " 57.1991023845528,\n",
    " 36.08806304674293,\n",
    " 35.56663866798864,\n",
    " 42.41968176650849,\n",
    " 59.65269146405017,\n",
    " 32.624629292084094,\n",
    " 55.802169917560185,\n",
    " 65.49918670396143,\n",
    " 45.54670963865595,\n",
    " 61.005369016634205,\n",
    " 58.19939103997329,\n",
    " 63.119317713784035,\n",
    " 55.317083131439325,\n",
    " 45.609472159593864,\n",
    " 45.63141644596187,\n",
    " 46.74818574516722,\n",
    " 68.2835242879107,\n",
    " 61.96714674680341,\n",
    " 48.961046192567,\n",
    " 45.37856387981091,\n",
    " 50.841168640885435,\n",
    " 52.56595620799083,\n",
    " 39.13493120568782,\n",
    " 48.991763726168436,\n",
    " 58.05200857676577,\n",
    " 41.37122590593515,\n",
    " 64.3514005533457,\n",
    " 35.02226785177038,\n",
    " 48.60847434578881,\n",
    " 42.6486493170514,\n",
    " 57.584951487904185,\n",
    " 49.08107020583896,\n",
    " 51.426592405160875,\n",
    " 62.315517190744416,\n",
    " 26.840752816458078,\n",
    " 26.951941203374947,\n",
    " 32.5621398164603,\n",
    " 27.108845406070458,\n",
    " 20.77972887648475,\n",
    " 34.64864231015485,\n",
    " 27.334714397277274,\n",
    " 38.63528805644043,\n",
    " 27.362780877847065,\n",
    " 22.25173068139633,\n",
    " 23.561817911734813,\n",
    " 28.6834020635391,\n",
    " 33.84077612867423,\n",
    " 28.223160262959322,\n",
    " 38.08583937546411,\n",
    " 29.88562783705242,\n",
    " 28.408504942406417,\n",
    " 31.72078699025845,\n",
    " 25.21073980042423,\n",
    " 28.676889274075087,\n",
    " 32.248620751649284,\n",
    " 26.387527137544257,\n",
    " 28.699010037068682,\n",
    " 26.075497431739343,\n",
    " 34.287109826660135,\n",
    " 24.026824037174762,\n",
    " 30.83187786615126,\n",
    " 32.37571558869186,\n",
    " 22.76230802134732,\n",
    " 35.251223510448035,\n",
    " 70.1823912319945,\n",
    " 79.58988481728986,\n",
    " 65.72716493320895,\n",
    " 68.48339899780753,\n",
    " 76.4135846784469,\n",
    " 79.26874522519233,\n",
    " 64.84182258980695,\n",
    " 71.11774101770646,\n",
    " 78.34020407876903,\n",
    " 63.61846310591197,\n",
    " 67.53968320798616,\n",
    " 69.1508780470645,\n",
    " 67.79213380348288,\n",
    " 76.87140430526,\n",
    " 62.00437158352073,\n",
    " 67.49125960815724,\n",
    " 71.90747912630009,\n",
    " 65.27576084118527,\n",
    " 77.58529514762616,\n",
    " 79.66066417912315,\n",
    " 77.32463519764799,\n",
    " 68.5790017971886,\n",
    " 65.9764957476465,\n",
    " 71.55575552204994,\n",
    " 69.83671682593541,\n",
    " 70.4943218813415,\n",
    " 72.62743438217248,\n",
    " 67.66970193136962,\n",
    " 63.44559188910216,\n",
    " 75.45783601312209]\n",
    "\n",
    "y_coordinate=[44.89342094946078,\n",
    " 41.11632695012222,\n",
    " 57.41800587821296,\n",
    " 57.21808248658115,\n",
    " 47.19694447881652,\n",
    " 35.9519591663506,\n",
    " 42.0218536061098,\n",
    " 52.548322206341886,\n",
    " 52.31212455866878,\n",
    " 31.63628689308561,\n",
    " 47.605248069586594,\n",
    " 54.23496141308666,\n",
    " 60.824987602248825,\n",
    " 65.23558661122223,\n",
    " 48.237577085508796,\n",
    " 67.52456486435298,\n",
    " 54.10211413900534,\n",
    " 51.8513512002574,\n",
    " 39.82817720810414,\n",
    " 44.28386899368546,\n",
    " 60.21348801168716,\n",
    " 45.355137861258946,\n",
    " 35.81066078526795,\n",
    " 56.95992181229278,\n",
    " 61.05673695261803,\n",
    " 44.34557019681759,\n",
    " 49.53371077686823,\n",
    " 57.76601797690635,\n",
    " 41.7427565034216,\n",
    " 52.07742896956642,\n",
    " 55.58701182345966,\n",
    " 43.81629666563168,\n",
    " 61.46690780645113,\n",
    " 44.3775923583563,\n",
    " 44.722751130263774,\n",
    " 47.98225455002846,\n",
    " 47.73690085784043,\n",
    " 46.049823776856826,\n",
    " 56.78708412569725,\n",
    " 56.60380297058407,\n",
    " 61.716042124809185,\n",
    " 56.52781556973503,\n",
    " 45.81317068292476,\n",
    " 49.107768819361304,\n",
    " 41.14505631914088,\n",
    " 64.84595736862047,\n",
    " 62.46952021318698,\n",
    " 58.299124711890485,\n",
    " 48.533208073849394,\n",
    " 48.79467674278415,\n",
    " 40.65821117776538,\n",
    " 30.466588286384656,\n",
    " 65.1805398242621,\n",
    " 41.73000679928131,\n",
    " 69.24321762302908,\n",
    " 56.00106984258167,\n",
    " 39.63738121453994,\n",
    " 38.404587085375475,\n",
    " 39.63915234786564,\n",
    " 38.73957077928137,\n",
    " 36.00996935366802,\n",
    " 45.627290421255125,\n",
    " 57.17020664932346,\n",
    " 51.32130044599607,\n",
    " 40.89880525190646,\n",
    " 41.15484687210742,\n",
    " 58.21497749474327,\n",
    " 43.45728537166188,\n",
    " 42.722747180257315,\n",
    " 39.27124659372834,\n",
    " 42.66172394093738,\n",
    " 57.407147546037336,\n",
    " 34.25546896017839,\n",
    " 61.2946118575901,\n",
    " 30.513927856422505,\n",
    " 65.03769516099436,\n",
    " 63.378856912574534,\n",
    " 62.926205725335116,\n",
    " 35.88019396665801,\n",
    " 52.89656062679065,\n",
    " 37.259020806758414,\n",
    " 31.67028002331956,\n",
    " 47.16555533297543,\n",
    " 50.8823970375166,\n",
    " 41.77975390328266,\n",
    " 49.38557057141355,\n",
    " 52.58865855257825,\n",
    " 40.89034885614024,\n",
    " 65.91171887261399,\n",
    " 46.57669291055369,\n",
    " 63.5556821473357,\n",
    " 45.45012239907503,\n",
    " 43.705265331740556,\n",
    " 46.58949706968058,\n",
    " 38.91660455701806,\n",
    " 55.46764508050404,\n",
    " 67.89462117284727,\n",
    " 36.02362380728002,\n",
    " 59.985360625320176,\n",
    " 54.70049854246623,\n",
    " 82.72356822426191,\n",
    " 77.9444363345605,\n",
    " 75.40050306769567,\n",
    " 68.91634077469779,\n",
    " 72.84274950158657,\n",
    " 74.71747015717696,\n",
    " 70.61496974587016,\n",
    " 76.12679437605598,\n",
    " 80.60280864557596,\n",
    " 70.19696261830036,\n",
    " 68.23133122814531,\n",
    " 83.83579386727436,\n",
    " 83.97371742515891,\n",
    " 70.71122298781704,\n",
    " 72.22425104319395,\n",
    " 79.61715461567954,\n",
    " 74.81720151229194,\n",
    " 81.28549433293101,\n",
    " 79.839476126322,\n",
    " 82.54505219682139,\n",
    " 72.41216493735487,\n",
    " 74.60395650171206,\n",
    " 68.84261456484317,\n",
    " 73.28936759848196,\n",
    " 80.51600556553831,\n",
    " 82.6396572856646,\n",
    " 66.38754731793188,\n",
    " 73.35737436223333,\n",
    " 72.53759838415348,\n",
    " 73.71960774659767,\n",
    " 78.16166533096742,\n",
    " 75.99349930565272,\n",
    " 67.237386284613,\n",
    " 82.50606008627572,\n",
    " 77.72556254117448,\n",
    " 73.68057342677461,\n",
    " 83.33967752728628,\n",
    " 84.67897397759208,\n",
    " 71.78110971610965,\n",
    " 68.1659101899457,\n",
    " 83.8792565462558,\n",
    " 74.22367681669748,\n",
    " 78.1526834527262,\n",
    " 74.21207006805605,\n",
    " 75.13106435618263,\n",
    " 77.71960453281291,\n",
    " 71.08256275442666,\n",
    " 74.66344797163669,\n",
    " 80.35559980446331,\n",
    " 73.34017066404198,\n",
    " 70.12614603304121,\n",
    " 77.46797550765935,\n",
    " 77.65232497035855,\n",
    " 76.70948616089562,\n",
    " 73.94355101042667,\n",
    " 71.19864360817556,\n",
    " 76.4341868745873,\n",
    " 70.62890953003463,\n",
    " 78.5744388997699,\n",
    " 68.4489350236011]"
   ]
  },
  {
   "cell_type": "code",
   "execution_count": 24,
   "metadata": {},
   "outputs": [
    {
     "data": {
      "text/html": [
       "<div>\n",
       "<style scoped>\n",
       "    .dataframe tbody tr th:only-of-type {\n",
       "        vertical-align: middle;\n",
       "    }\n",
       "\n",
       "    .dataframe tbody tr th {\n",
       "        vertical-align: top;\n",
       "    }\n",
       "\n",
       "    .dataframe thead th {\n",
       "        text-align: right;\n",
       "    }\n",
       "</style>\n",
       "<table border=\"1\" class=\"dataframe\">\n",
       "  <thead>\n",
       "    <tr style=\"text-align: right;\">\n",
       "      <th></th>\n",
       "      <th>x_coordinate</th>\n",
       "      <th>y_coordinate</th>\n",
       "      <th>x_scaled</th>\n",
       "      <th>y_scaled</th>\n",
       "    </tr>\n",
       "  </thead>\n",
       "  <tbody>\n",
       "    <tr>\n",
       "      <th>0</th>\n",
       "      <td>33.875528</td>\n",
       "      <td>44.893421</td>\n",
       "      <td>2.209458</td>\n",
       "      <td>2.977524</td>\n",
       "    </tr>\n",
       "    <tr>\n",
       "      <th>1</th>\n",
       "      <td>38.208748</td>\n",
       "      <td>41.116327</td>\n",
       "      <td>2.492083</td>\n",
       "      <td>2.727011</td>\n",
       "    </tr>\n",
       "    <tr>\n",
       "      <th>2</th>\n",
       "      <td>35.740588</td>\n",
       "      <td>57.418006</td>\n",
       "      <td>2.331103</td>\n",
       "      <td>3.808208</td>\n",
       "    </tr>\n",
       "    <tr>\n",
       "      <th>3</th>\n",
       "      <td>32.546963</td>\n",
       "      <td>57.218082</td>\n",
       "      <td>2.122806</td>\n",
       "      <td>3.794948</td>\n",
       "    </tr>\n",
       "    <tr>\n",
       "      <th>4</th>\n",
       "      <td>62.063146</td>\n",
       "      <td>47.196944</td>\n",
       "      <td>4.047935</td>\n",
       "      <td>3.130303</td>\n",
       "    </tr>\n",
       "  </tbody>\n",
       "</table>\n",
       "</div>"
      ],
      "text/plain": [
       "   x_coordinate  y_coordinate  x_scaled  y_scaled\n",
       "0     33.875528     44.893421  2.209458  2.977524\n",
       "1     38.208748     41.116327  2.492083  2.727011\n",
       "2     35.740588     57.418006  2.331103  3.808208\n",
       "3     32.546963     57.218082  2.122806  3.794948\n",
       "4     62.063146     47.196944  4.047935  3.130303"
      ]
     },
     "execution_count": 24,
     "metadata": {},
     "output_type": "execute_result"
    }
   ],
   "source": [
    "mouse=pd.DataFrame({'x_coordinate':x_coordinate,'y_coordinate':y_coordinate})\n",
    "mouse['x_scaled']=whiten(mouse['x_coordinate'])\n",
    "mouse['y_scaled']=whiten(mouse['y_coordinate'])\n",
    "mouse.head()"
   ]
  },
  {
   "cell_type": "markdown",
   "metadata": {},
   "source": [
    "**Instructions**\n",
    "\n",
    "* Import kmeans and vq functions in SciPy.\n",
    "* Generate cluster centers using the kmeans() function with three clusters.\n",
    "* Create cluster labels with vq() with the cluster centers generated above."
   ]
  },
  {
   "cell_type": "code",
   "execution_count": 26,
   "metadata": {},
   "outputs": [
    {
     "data": {
      "image/png": "[encoded data removed]",
      "text/plain": [
       "<Figure size 864x576 with 1 Axes>"
      ]
     },
     "metadata": {
      "needs_background": "light"
     },
     "output_type": "display_data"
    }
   ],
   "source": [
    "# Import the kmeans and vq functions\n",
    "#from scipy.cluster.vq import kmeans, vq\n",
    "\n",
    "# Generate cluster centers\n",
    "cluster_centers, distortion = kmeans(mouse[['x_scaled','y_scaled']],3)\n",
    "\n",
    "# Assign cluster labels\n",
    "mouse['cluster_labels'], distortion_list = vq(mouse[['x_scaled','y_scaled']],cluster_centers)\n",
    "\n",
    "fig=plt.figure(figsize=(12,8))\n",
    "# Plot clusters\n",
    "sns.scatterplot(x='x_scaled', y='y_scaled', \n",
    "                hue='cluster_labels', data = mouse)\n",
    "plt.show()"
   ]
  },
  {
   "cell_type": "markdown",
   "metadata": {},
   "source": [
    "Notice that kmeans is unable to capture the three visible clusters clearly, and the two clusters towards the top have taken in some points along the boundary. This happens due to the underlying assumption in kmeans algorithm to minimize distortions which leads to clusters that are similar in terms of area."
   ]
  },
  {
   "cell_type": "markdown",
   "metadata": {},
   "source": [
    "### FIFA 18: defenders revisited\n",
    "\n",
    "In the FIFA 18 dataset, various attributes of players are present. Two such attributes are:\n",
    "\n",
    "* defending: a number which signifies the defending attributes of a player\n",
    "* physical: a number which signifies the physical attributes of a player\n",
    "These are typically defense-minded players. In this exercise, you will perform clustering based on these attributes in the data.\n",
    "\n",
    "The following modules have been pre-loaded: kmeans, vq from scipy.cluster.vq, matplotlib.pyplot as plt, seaborn as sns. The data for this exercise is stored in a Pandas dataframe, fifa. The scaled variables are scaled_def and scaled_phy."
   ]
  },
  {
   "cell_type": "code",
   "execution_count": 28,
   "metadata": {},
   "outputs": [
    {
     "data": {
      "text/plain": [
       "(1000, 185)"
      ]
     },
     "execution_count": 28,
     "metadata": {},
     "output_type": "execute_result"
    }
   ],
   "source": [
    "# fifa_18_dataset.csv\n",
    "fifa=pd.read_csv(\"fifa_18_sample_data.csv\")\n",
    "fifa.shape"
   ]
  },
  {
   "cell_type": "code",
   "execution_count": 32,
   "metadata": {},
   "outputs": [
    {
     "data": {
      "text/plain": [
       "ID    188803\n",
       "Name: 249, dtype: object"
      ]
     },
     "execution_count": 32,
     "metadata": {},
     "output_type": "execute_result"
    }
   ],
   "source": [
    "fifa.iloc[249,0:1]"
   ]
  },
  {
   "cell_type": "code",
   "execution_count": 33,
   "metadata": {},
   "outputs": [],
   "source": [
    "fifa=fifa.iloc[0:250]"
   ]
  },
  {
   "cell_type": "code",
   "execution_count": 36,
   "metadata": {},
   "outputs": [
    {
     "data": {
      "text/html": [
       "<div>\n",
       "<style scoped>\n",
       "    .dataframe tbody tr th:only-of-type {\n",
       "        vertical-align: middle;\n",
       "    }\n",
       "\n",
       "    .dataframe tbody tr th {\n",
       "        vertical-align: top;\n",
       "    }\n",
       "\n",
       "    .dataframe thead th {\n",
       "        text-align: right;\n",
       "    }\n",
       "</style>\n",
       "<table border=\"1\" class=\"dataframe\">\n",
       "  <thead>\n",
       "    <tr style=\"text-align: right;\">\n",
       "      <th></th>\n",
       "      <th>ID</th>\n",
       "      <th>name</th>\n",
       "      <th>full_name</th>\n",
       "      <th>club</th>\n",
       "      <th>club_logo</th>\n",
       "      <th>special</th>\n",
       "      <th>age</th>\n",
       "      <th>league</th>\n",
       "      <th>birth_date</th>\n",
       "      <th>height_cm</th>\n",
       "      <th>...</th>\n",
       "      <th>prefers_lwb</th>\n",
       "      <th>prefers_ls</th>\n",
       "      <th>prefers_lf</th>\n",
       "      <th>prefers_lam</th>\n",
       "      <th>prefers_lcm</th>\n",
       "      <th>prefers_ldm</th>\n",
       "      <th>prefers_lcb</th>\n",
       "      <th>prefers_gk</th>\n",
       "      <th>scaled_def</th>\n",
       "      <th>scaled_phy</th>\n",
       "    </tr>\n",
       "  </thead>\n",
       "  <tbody>\n",
       "    <tr>\n",
       "      <th>0</th>\n",
       "      <td>20801</td>\n",
       "      <td>Cristiano Ronaldo</td>\n",
       "      <td>C. Ronaldo dos Santos Aveiro</td>\n",
       "      <td>Real Madrid CF</td>\n",
       "      <td>https://cdn.sofifa.org/18/teams/243.png</td>\n",
       "      <td>2228</td>\n",
       "      <td>32</td>\n",
       "      <td>Spanish Primera División</td>\n",
       "      <td>1985-02-05</td>\n",
       "      <td>185.0</td>\n",
       "      <td>...</td>\n",
       "      <td>False</td>\n",
       "      <td>False</td>\n",
       "      <td>False</td>\n",
       "      <td>False</td>\n",
       "      <td>False</td>\n",
       "      <td>False</td>\n",
       "      <td>False</td>\n",
       "      <td>False</td>\n",
       "      <td>1.54</td>\n",
       "      <td>8.92</td>\n",
       "    </tr>\n",
       "    <tr>\n",
       "      <th>1</th>\n",
       "      <td>158023</td>\n",
       "      <td>L. Messi</td>\n",
       "      <td>Lionel Messi</td>\n",
       "      <td>FC Barcelona</td>\n",
       "      <td>https://cdn.sofifa.org/18/teams/241.png</td>\n",
       "      <td>2158</td>\n",
       "      <td>30</td>\n",
       "      <td>Spanish Primera División</td>\n",
       "      <td>1987-06-24</td>\n",
       "      <td>170.0</td>\n",
       "      <td>...</td>\n",
       "      <td>False</td>\n",
       "      <td>False</td>\n",
       "      <td>False</td>\n",
       "      <td>False</td>\n",
       "      <td>False</td>\n",
       "      <td>False</td>\n",
       "      <td>False</td>\n",
       "      <td>False</td>\n",
       "      <td>1.21</td>\n",
       "      <td>6.80</td>\n",
       "    </tr>\n",
       "    <tr>\n",
       "      <th>2</th>\n",
       "      <td>190871</td>\n",
       "      <td>Neymar</td>\n",
       "      <td>Neymar da Silva Santos Jr.</td>\n",
       "      <td>Paris Saint-Germain</td>\n",
       "      <td>https://cdn.sofifa.org/18/teams/73.png</td>\n",
       "      <td>2100</td>\n",
       "      <td>25</td>\n",
       "      <td>French Ligue 1</td>\n",
       "      <td>1992-02-05</td>\n",
       "      <td>175.0</td>\n",
       "      <td>...</td>\n",
       "      <td>False</td>\n",
       "      <td>False</td>\n",
       "      <td>False</td>\n",
       "      <td>False</td>\n",
       "      <td>False</td>\n",
       "      <td>False</td>\n",
       "      <td>False</td>\n",
       "      <td>False</td>\n",
       "      <td>1.40</td>\n",
       "      <td>6.69</td>\n",
       "    </tr>\n",
       "    <tr>\n",
       "      <th>3</th>\n",
       "      <td>176580</td>\n",
       "      <td>L. Suárez</td>\n",
       "      <td>Luis Suárez</td>\n",
       "      <td>FC Barcelona</td>\n",
       "      <td>https://cdn.sofifa.org/18/teams/241.png</td>\n",
       "      <td>2291</td>\n",
       "      <td>30</td>\n",
       "      <td>Spanish Primera División</td>\n",
       "      <td>1987-01-24</td>\n",
       "      <td>182.0</td>\n",
       "      <td>...</td>\n",
       "      <td>False</td>\n",
       "      <td>False</td>\n",
       "      <td>False</td>\n",
       "      <td>False</td>\n",
       "      <td>False</td>\n",
       "      <td>False</td>\n",
       "      <td>False</td>\n",
       "      <td>False</td>\n",
       "      <td>1.96</td>\n",
       "      <td>9.03</td>\n",
       "    </tr>\n",
       "    <tr>\n",
       "      <th>4</th>\n",
       "      <td>167495</td>\n",
       "      <td>M. Neuer</td>\n",
       "      <td>Manuel Neuer</td>\n",
       "      <td>FC Bayern Munich</td>\n",
       "      <td>https://cdn.sofifa.org/18/teams/21.png</td>\n",
       "      <td>1493</td>\n",
       "      <td>31</td>\n",
       "      <td>German Bundesliga</td>\n",
       "      <td>1986-03-27</td>\n",
       "      <td>193.0</td>\n",
       "      <td>...</td>\n",
       "      <td>False</td>\n",
       "      <td>False</td>\n",
       "      <td>False</td>\n",
       "      <td>False</td>\n",
       "      <td>False</td>\n",
       "      <td>False</td>\n",
       "      <td>False</td>\n",
       "      <td>True</td>\n",
       "      <td>2.80</td>\n",
       "      <td>10.15</td>\n",
       "    </tr>\n",
       "  </tbody>\n",
       "</table>\n",
       "<p>5 rows × 187 columns</p>\n",
       "</div>"
      ],
      "text/plain": [
       "       ID               name                     full_name  \\\n",
       "0   20801  Cristiano Ronaldo  C. Ronaldo dos Santos Aveiro   \n",
       "1  158023           L. Messi                  Lionel Messi   \n",
       "2  190871             Neymar    Neymar da Silva Santos Jr.   \n",
       "3  176580          L. Suárez                   Luis Suárez   \n",
       "4  167495           M. Neuer                  Manuel Neuer   \n",
       "\n",
       "                  club                                club_logo  special  age  \\\n",
       "0       Real Madrid CF  https://cdn.sofifa.org/18/teams/243.png     2228   32   \n",
       "1         FC Barcelona  https://cdn.sofifa.org/18/teams/241.png     2158   30   \n",
       "2  Paris Saint-Germain   https://cdn.sofifa.org/18/teams/73.png     2100   25   \n",
       "3         FC Barcelona  https://cdn.sofifa.org/18/teams/241.png     2291   30   \n",
       "4     FC Bayern Munich   https://cdn.sofifa.org/18/teams/21.png     1493   31   \n",
       "\n",
       "                     league  birth_date  height_cm  ...  prefers_lwb  \\\n",
       "0  Spanish Primera División  1985-02-05      185.0  ...        False   \n",
       "1  Spanish Primera División  1987-06-24      170.0  ...        False   \n",
       "2            French Ligue 1  1992-02-05      175.0  ...        False   \n",
       "3  Spanish Primera División  1987-01-24      182.0  ...        False   \n",
       "4         German Bundesliga  1986-03-27      193.0  ...        False   \n",
       "\n",
       "  prefers_ls  prefers_lf prefers_lam prefers_lcm prefers_ldm  prefers_lcb  \\\n",
       "0      False       False       False       False       False        False   \n",
       "1      False       False       False       False       False        False   \n",
       "2      False       False       False       False       False        False   \n",
       "3      False       False       False       False       False        False   \n",
       "4      False       False       False       False       False        False   \n",
       "\n",
       "   prefers_gk  scaled_def  scaled_phy  \n",
       "0       False        1.54        8.92  \n",
       "1       False        1.21        6.80  \n",
       "2       False        1.40        6.69  \n",
       "3       False        1.96        9.03  \n",
       "4        True        2.80       10.15  \n",
       "\n",
       "[5 rows x 187 columns]"
      ]
     },
     "execution_count": 36,
     "metadata": {},
     "output_type": "execute_result"
    }
   ],
   "source": [
    "fifa['scaled_def']=np.round(whiten(fifa['def']),2)\n",
    "fifa['scaled_phy']=np.round(whiten(fifa['phy']),2)\n",
    "fifa.head()"
   ]
  },
  {
   "cell_type": "code",
   "execution_count": 37,
   "metadata": {},
   "outputs": [
    {
     "data": {
      "text/plain": [
       "248    3.83\n",
       "249    2.20\n",
       "Name: scaled_def, dtype: float64"
      ]
     },
     "execution_count": 37,
     "metadata": {},
     "output_type": "execute_result"
    }
   ],
   "source": [
    "fifa.loc[248:249,'scaled_def']"
   ]
  },
  {
   "cell_type": "markdown",
   "metadata": {},
   "source": [
    "* Initialize the random seed to the list [1000,2000]."
   ]
  },
  {
   "cell_type": "code",
   "execution_count": 38,
   "metadata": {},
   "outputs": [],
   "source": [
    "# Set up a random seed in numpy\n",
    "random.seed([1000,2000])"
   ]
  },
  {
   "cell_type": "markdown",
   "metadata": {},
   "source": [
    "* Fit the scaled data in columns scaled_def and scaled_phy into a k-means clustering algorithm with 3 clusters and assign cluster labels."
   ]
  },
  {
   "cell_type": "code",
   "execution_count": 39,
   "metadata": {},
   "outputs": [],
   "source": [
    "# Fit the data into a k-means algorithm\n",
    "cluster_centers,_ = kmeans(fifa[['scaled_def','scaled_phy']],3)\n",
    "\n",
    "# Assign cluster labels\n",
    "fifa['cluster_labels'],_ = vq(fifa[['scaled_def','scaled_phy']],cluster_centers)"
   ]
  },
  {
   "cell_type": "markdown",
   "metadata": {},
   "source": [
    "* Display cluster centers of each cluster with respect to the scaled columns by calculating the mean value for each cluster."
   ]
  },
  {
   "cell_type": "code",
   "execution_count": 40,
   "metadata": {},
   "outputs": [
    {
     "name": "stdout",
     "output_type": "stream",
     "text": [
      "                scaled_def  scaled_phy\n",
      "cluster_labels                        \n",
      "0                 3.743839    8.867500\n",
      "1                 1.865316    7.083038\n",
      "2                 2.096780    8.944915\n"
     ]
    }
   ],
   "source": [
    "# Display cluster centers \n",
    "print(fifa[['scaled_def', 'scaled_phy', 'cluster_labels']].groupby('cluster_labels').mean())"
   ]
  },
  {
   "cell_type": "markdown",
   "metadata": {},
   "source": [
    "* Create a seaborn scatter plot with scaled_def on the x-axis and scaled_phy on the y-axis, with each cluster represented by a different color."
   ]
  },
  {
   "cell_type": "code",
   "execution_count": 42,
   "metadata": {},
   "outputs": [
    {
     "data": {
      "image/png": "[encoded data removed]",
      "text/plain": [
       "<Figure size 864x576 with 1 Axes>"
      ]
     },
     "metadata": {
      "needs_background": "light"
     },
     "output_type": "display_data"
    }
   ],
   "source": [
    "fig=plt.figure(figsize=(12,8))\n",
    "# Create a scatter plot through seaborn\n",
    "sns.scatterplot(x='scaled_def', y='scaled_phy', hue='cluster_labels', data=fifa)\n",
    "plt.show()"
   ]
  },
  {
   "cell_type": "markdown",
   "metadata": {},
   "source": [
    "* Notice that the seed has an impact on clustering as the data is uniformly distributed."
   ]
  }
 ],
 "metadata": {
  "interpreter": {
   "hash": "60062bfbbdb55d7c70b884c78dba17d93f7bddb21846b67229a99cf865725014"
  },
  "kernelspec": {
   "display_name": "Python 3.7.6 64-bit ('base': conda)",
   "name": "python3"
  },
  "language_info": {
   "codemirror_mode": {
    "name": "ipython",
    "version": 3
   },
   "file_extension": ".py",
   "mimetype": "text/x-python",
   "name": "python",
   "nbconvert_exporter": "python",
   "pygments_lexer": "ipython3",
   "version": "3.7.6"
  },
  "orig_nbformat": 4
 },
 "nbformat": 4,
 "nbformat_minor": 2
}
