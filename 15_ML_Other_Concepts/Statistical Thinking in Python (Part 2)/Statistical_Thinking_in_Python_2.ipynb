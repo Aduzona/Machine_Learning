{
 "cells": [
  {
   "cell_type": "markdown",
   "metadata": {},
   "source": [
    "# Parameter estimation by optimization\n",
    "\n",
    "When doing statistical inference, we speak the language of probability. A probability distribution that describes your data has parameters. So, a major goal of statistical inference is to estimate the values of these parameters, which allows us to concisely and unambiguously describe our data and draw conclusions from it. In this chapter, you will learn how to find the optimal parameters, those that best describe your data.\n",
    "\n",
    "## Optimal parameters\n",
    "\n",
    "Packages to do statistical inference:\n",
    "\n",
    "* scipy.stats\n",
    "* statsmodels\n"
   ]
  },
  {
   "cell_type": "markdown",
   "metadata": {},
   "source": [
    "## How often do we get no-hitters?\n",
    "\n",
    "The number of games played between each no-hitter in the modern era (1901-2015) of Major League Baseball is stored in the array nohitter_times.\n",
    "\n",
    "If you assume that no-hitters are described as a Poisson process, then the time between no-hitters is Exponentially distributed. As you have seen, the Exponential distribution has a single parameter, which we will call $\\tau$, the typical interval time. The value of the parameter $\\tau$ that makes the exponential distribution best match the data is the mean interval time (where time is in units of number of games) between no-hitters.\n",
    "\n",
    "Compute the value of this parameter from the data. Then, use np.random.exponential() to \"repeat\" the history of Major League Baseball by drawing inter-no-hitter times from an exponential distribution with the $\\tau$ you found and plot the histogram as an approximation to the PDF.\n",
    "\n",
    "NumPy, pandas, matlotlib.pyplot, and seaborn have been imported for you as np, pd, plt, and sns, respectively."
   ]
  },
  {
   "cell_type": "markdown",
   "metadata": {},
   "source": [
    "**Instructions**\n",
    "\n",
    "* Seed the random number generator with 42.\n",
    "* Compute the mean time (in units of number of games) between no-hitters.\n",
    "* Draw 100,000 samples from an Exponential distribution with the parameter you computed from the mean of the inter-no-hitter times.\n",
    "* Plot the theoretical PDF using plt.hist(). Remember to use keyword arguments bins=50, normed=True, and histtype='step'. Be sure to label your axes.\n",
    "* Show your plot."
   ]
  },
  {
   "cell_type": "code",
   "execution_count": 1,
   "metadata": {},
   "outputs": [
    {
     "name": "stderr",
     "output_type": "stream",
     "text": [
      "C:\\Users\\aduzo\\Anaconda3\\lib\\importlib\\_bootstrap.py:219: RuntimeWarning: numpy.ufunc size changed, may indicate binary incompatibility. Expected 192 from C header, got 216 from PyObject\n",
      "  return f(*args, **kwds)\n",
      "C:\\Users\\aduzo\\Anaconda3\\lib\\importlib\\_bootstrap.py:219: RuntimeWarning: numpy.ufunc size changed, may indicate binary incompatibility. Expected 192 from C header, got 216 from PyObject\n",
      "  return f(*args, **kwds)\n",
      "C:\\Users\\aduzo\\Anaconda3\\lib\\importlib\\_bootstrap.py:219: RuntimeWarning: numpy.ufunc size changed, may indicate binary incompatibility. Expected 192 from C header, got 216 from PyObject\n",
      "  return f(*args, **kwds)\n",
      "C:\\Users\\aduzo\\Anaconda3\\lib\\importlib\\_bootstrap.py:219: RuntimeWarning: numpy.ufunc size changed, may indicate binary incompatibility. Expected 192 from C header, got 216 from PyObject\n",
      "  return f(*args, **kwds)\n"
     ]
    }
   ],
   "source": [
    "import numpy as np\n",
    "import pandas as pd\n",
    "import matplotlib.pyplot as plt\n",
    "import seaborn as sns"
   ]
  },
  {
   "cell_type": "code",
   "execution_count": 6,
   "metadata": {},
   "outputs": [],
   "source": [
    "nohitter_times=np.array([ 843, 1613, 1101,  215,  684,  814,  278,  324,  161,  219,  545,\n",
    "        715,  966,  624,   29,  450,  107,   20,   91, 1325,  124, 1468,\n",
    "        104, 1309,  429,   62, 1878, 1104,  123,  251,   93,  188,  983,\n",
    "        166,   96,  702,   23,  524,   26,  299,   59,   39,   12,    2,\n",
    "        308, 1114,  813,  887,  645, 2088,   42, 2090,   11,  886, 1665,\n",
    "       1084, 2900, 2432,  750, 4021, 1070, 1765, 1322,   26,  548, 1525,\n",
    "         77, 2181, 2752,  127, 2147,  211,   41, 1575,  151,  479,  697,\n",
    "        557, 2267,  542,  392,   73,  603,  233,  255,  528,  397, 1529,\n",
    "       1023, 1194,  462,  583,   37,  943,  996,  480, 1497,  717,  224,\n",
    "        219, 1531,  498,   44,  288,  267,  600,   52,  269, 1086,  386,\n",
    "        176, 2199,  216,   54,  675, 1243,  463,  650,  171,  327,  110,\n",
    "        774,  509,    8,  197,  136,   12, 1124,   64,  380,  811,  232,\n",
    "        192,  731,  715,  226,  605,  539, 1491,  323,  240,  179,  702,\n",
    "        156,   82, 1397,  354,  778,  603, 1001,  385,  986,  203,  149,\n",
    "        576,  445,  180, 1403,  252,  675, 1351, 2983, 1568,   45,  899,\n",
    "       3260, 1025,   31,  100, 2055, 4043,   79,  238, 3931, 2351,  595,\n",
    "        110,  215,    0,  563,  206,  660,  242,  577,  179,  157,  192,\n",
    "        192, 1848,  792, 1693,   55,  388,  225, 1134, 1172, 1555,   31,\n",
    "       1582, 1044,  378, 1687, 2915,  280,  765, 2819,  511, 1521,  745,\n",
    "       2491,  580, 2072, 6450,  578,  745, 1075, 1103, 1549, 1520,  138,\n",
    "       1202,  296,  277,  351,  391,  950,  459,   62, 1056, 1128,  139,\n",
    "        420,   87,   71,  814,  603, 1349,  162, 1027,  783,  326,  101,\n",
    "        876,  381,  905,  156,  419,  239,  119,  129,  467])"
   ]
  },
  {
   "cell_type": "code",
   "execution_count": 4,
   "metadata": {},
   "outputs": [
    {
     "data": {
      "text/plain": [
       "array([   140,   1035,   1046,   1177,   1179,   2114,   2144,   2151,\n",
       "         2637,   2892,   3265,   3347,   3539,   3895,   4076,   4363,\n",
       "         4411,   4681,   5043,   5217,   5464,   5957,   6420,   7740,\n",
       "         7799,   8097,   8129,  11100,  11741,  11979,  12414,  12985,\n",
       "        13063,  13335,  13899,  17265,  17355,  17356,  17736,  17958,\n",
       "        18438,  18806,  19435,  20279,  21893,  22995,  23211,  23896,\n",
       "        24711,  24990,  25315,  25477,  25697,  26243,  26959,  27926,\n",
       "        28551,  28581,  29032,  29140,  29161,  29253,  30579,  30704,\n",
       "        32173,  32278,  33588,  34018,  34081,  35960,  37065,  37189,\n",
       "        37441,  37535,  37724,  38708,  38875,  38972,  39675,  39699,\n",
       "        40224,  40251,  40551,  40611,  40651,  40664,  40667,  40976,\n",
       "        42091,  42905,  43793,  44439,  46528,  46571,  48662,  48674,\n",
       "        49561,  51227,  52312,  55213,  57646,  58397,  62419,  63490,\n",
       "        65256,  66579,  66606,  67155,  68681,  68759,  70941,  73694,\n",
       "        73822,  75970,  76182,  76224,  77800,  77952,  78432,  79130,\n",
       "        79688,  81956,  82499,  82892,  82966,  83570,  83804,  84060,\n",
       "        84589,  84987,  86517,  87541,  88736,  89199,  89783,  89821,\n",
       "        90765,  91762,  92243,  93741,  94459,  94684,  94904,  96436,\n",
       "        96935,  96980,  97269,  97537,  98138,  98191,  98461,  99548,\n",
       "        99935, 100112, 102312, 102529, 102584, 103260, 104504, 104968,\n",
       "       105619, 105791, 106119, 106230, 107005, 107515, 107524, 107722,\n",
       "       107859, 107872, 108997, 109062, 109443, 110255, 110488, 110681,\n",
       "       111413, 112129, 112356, 112962, 113502, 114994, 115318, 115559,\n",
       "       115739, 116442, 116599, 116682, 118080, 118435, 119214, 119818,\n",
       "       120820, 121206, 122193, 122397, 122547, 123124, 123570, 123751,\n",
       "       125155, 125408, 126084, 127436, 130420, 131989, 132035, 132935,\n",
       "       136196, 137222, 137254, 137355, 139411, 143455, 143535, 143774,\n",
       "       147706, 150058, 150654, 150765, 150981, 150982, 151546, 151753,\n",
       "       152414, 152657, 153235, 153415, 153573, 153766, 153959, 155808,\n",
       "       156601, 158295, 158351, 158740, 158966, 160101, 161274, 162830,\n",
       "       162862, 164445, 165490, 165869, 167557, 170473, 170754, 171520,\n",
       "       174340, 174852, 176374, 177120, 179612, 180193, 182266, 188717,\n",
       "       189296, 190042, 191118, 192222, 193772, 195293, 195432, 196635,\n",
       "       196932, 197210, 197562, 197954, 198905, 199365, 199428, 200485,\n",
       "       201614, 201754, 202175, 202263, 202335, 203150, 203754, 205104,\n",
       "       205267, 206295, 207079, 207406, 207508, 208385, 208767, 209673,\n",
       "       209830, 210250, 210490, 210610, 210740, 211208], dtype=int64)"
      ]
     },
     "execution_count": 4,
     "metadata": {},
     "output_type": "execute_result"
    }
   ],
   "source": [
    "nohitter_times"
   ]
  },
  {
   "cell_type": "markdown",
   "metadata": {},
   "source": [
    "Exponential distribution [link](https://numpy.org/doc/stable/reference/random/generated/numpy.random.exponential.html)"
   ]
  },
  {
   "cell_type": "code",
   "execution_count": 8,
   "metadata": {},
   "outputs": [
    {
     "data": {
      "image/png": "[encoded data removed]",
      "text/plain": [
       "<Figure size 864x576 with 1 Axes>"
      ]
     },
     "metadata": {
      "needs_background": "light"
     },
     "output_type": "display_data"
    }
   ],
   "source": [
    "# Seed random number generator\n",
    "np.random.seed(42)\n",
    "\n",
    "# Compute mean no-hitter time: tau\n",
    "tau = np.mean(nohitter_times)\n",
    "\n",
    "# Draw out of an exponential distribution with parameter tau: inter_nohitter_time\n",
    "inter_nohitter_time = np.random.exponential(tau, 100000)\n",
    "\n",
    "# Plot the PDF and label axes\n",
    "plt.figure(figsize=(12,8))\n",
    "_ = plt.hist(inter_nohitter_time,\n",
    "             bins=50, density=True, histtype='step')\n",
    "_ = plt.xlabel('Games between no-hitters')\n",
    "_ = plt.ylabel('PDF')\n",
    "\n",
    "# Show the plot\n",
    "plt.show()\n"
   ]
  },
  {
   "cell_type": "markdown",
   "metadata": {},
   "source": [
    "We see the typical shape of the Exponential distribution, going from a maximum at 0 and decaying to the right."
   ]
  }
 ],
 "metadata": {
  "interpreter": {
   "hash": "60062bfbbdb55d7c70b884c78dba17d93f7bddb21846b67229a99cf865725014"
  },
  "kernelspec": {
   "display_name": "Python 3.7.6 64-bit ('base': conda)",
   "language": "python",
   "name": "python3"
  },
  "language_info": {
   "codemirror_mode": {
    "name": "ipython",
    "version": 3
   },
   "file_extension": ".py",
   "mimetype": "text/x-python",
   "name": "python",
   "nbconvert_exporter": "python",
   "pygments_lexer": "ipython3",
   "version": "3.7.6"
  },
  "orig_nbformat": 4
 },
 "nbformat": 4,
 "nbformat_minor": 2
}
