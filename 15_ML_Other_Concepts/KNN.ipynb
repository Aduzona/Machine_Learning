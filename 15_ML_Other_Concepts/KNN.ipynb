{
 "cells": [
  {
   "cell_type": "markdown",
   "source": [
    "## KNN\r\n",
    "\r\n",
    "[Source](https://www.youtube.com/watch?v=SDSC4yLLBKM&list=PLfdYKAN5q9QMO9WkKS67AveqwpcCPFvzc&index=5)\r\n",
    "\r\n",
    "<p>kNN stands for k Nearest Neighbors\r\n",
    "<p>It is a <b>supervised</b> learning algorithm \r\n",
    "But in essence supervised simply means that we require labelled data\r\n",
    "\r\n",
    "It can solve both classification and regression problems.\r\n"
   ],
   "metadata": {}
  },
  {
   "cell_type": "code",
   "execution_count": 1,
   "source": [
    "#sklearn is a machine learning library in python\r\n",
    "from sklearn.neighbors import NearestNeighbors, KNeighborsClassifier,KNeighborsRegressor"
   ],
   "outputs": [],
   "metadata": {}
  },
  {
   "cell_type": "markdown",
   "source": [
    "<h2>How does kNN work?</h2>\r\n",
    "<p>A number of neighbors k is chosen e.g. 10</p>\r\n",
    "<p>Then for each data point p, the 10 data points whose input variables (X) are most <b>similar</b> to p (based on some distance similarity metric) are selected</p>\r\n",
    "<p>Then the <b>average</b> output variable of these 10 points are found and used as the predicted output value for p</p>\r\n",
    "<p>If this is a <b>classification</b> task then the averaging might be majority voting</p>\r\n",
    "<p>For a <b>regression</b> task it could be simply getting the mean of the 10 outputs</p>\r\n",
    "<p>The averaging can also include <b>weighting</b> by distance from p so closer points have more of a contribution in the final value</p>"
   ],
   "metadata": {}
  },
  {
   "cell_type": "code",
   "execution_count": 2,
   "source": [
    "from sklearn.datasets import load_iris"
   ],
   "outputs": [],
   "metadata": {}
  },
  {
   "cell_type": "code",
   "execution_count": 3,
   "source": [
    "iris_data=load_iris()"
   ],
   "outputs": [],
   "metadata": {}
  },
  {
   "cell_type": "code",
   "execution_count": 7,
   "source": [
    "iris_data.data.shape"
   ],
   "outputs": [
    {
     "output_type": "execute_result",
     "data": {
      "text/plain": [
       "(150, 4)"
      ]
     },
     "metadata": {},
     "execution_count": 7
    }
   ],
   "metadata": {}
  },
  {
   "cell_type": "markdown",
   "source": [
    "It has 4 features and 150 instances"
   ],
   "metadata": {}
  },
  {
   "cell_type": "code",
   "execution_count": 8,
   "source": [
    "iris_data.target.shape # the class label"
   ],
   "outputs": [
    {
     "output_type": "execute_result",
     "data": {
      "text/plain": [
       "(150,)"
      ]
     },
     "metadata": {},
     "execution_count": 8
    }
   ],
   "metadata": {}
  },
  {
   "cell_type": "markdown",
   "source": [
    "<h2>Underfitting and Overfitting</h2>\r\n",
    "<p><b>Underfitting</b> occurs when there isn't enough data to learn the underlying features and make accurate predictions</p>\r\n",
    "<p><b>Overfitting</b> occurs when the model fits the training data too well and does not work well for unseen data</p>\r\n",
    "\r\n",
    "<h3>Solution: Validation</h3>\r\n",
    "<p>The data is split into training and testing -- e.g. the model is trained on 80%, and tested on 20%</p>\r\n",
    "<p>Or even better, training, validation and testing -- e.g. the model is trained on 60%, adjusted on 20% and tested on 20%</p>\r\n",
    "<h4>More Advanced: Cross-Validation</h4>\r\n",
    "<p><b>Leave one out: </b>For each data point p, use p as testing, and the rest as training. Average.</p>\r\n",
    "<p><b>k-Fold Cross Validation: </b>Split the data into k folds, for k runs, use one fold as testing and the rest as training. Average over the k folds. (We will use this one)</p>"
   ],
   "metadata": {}
  },
  {
   "cell_type": "code",
   "execution_count": 9,
   "source": [
    "from sklearn.model_selection import cross_val_predict"
   ],
   "outputs": [],
   "metadata": {}
  },
  {
   "cell_type": "code",
   "execution_count": 10,
   "source": [
    "X=iris_data.data\r\n",
    "y=iris_data.target\r\n",
    "knn = KNeighborsClassifier(n_neighbors=10)\r\n",
    "y_pred = cross_val_predict(knn,X,y, cv=5)"
   ],
   "outputs": [],
   "metadata": {}
  },
  {
   "cell_type": "code",
   "execution_count": 51,
   "source": [
    "import numpy as np"
   ],
   "outputs": [],
   "metadata": {}
  },
  {
   "cell_type": "code",
   "execution_count": 52,
   "source": [
    "np.unique(y_pred)"
   ],
   "outputs": [
    {
     "output_type": "execute_result",
     "data": {
      "text/plain": [
       "array([0, 1, 2])"
      ]
     },
     "metadata": {},
     "execution_count": 52
    }
   ],
   "metadata": {}
  },
  {
   "cell_type": "markdown",
   "source": [
    "3 class values"
   ],
   "metadata": {}
  },
  {
   "cell_type": "code",
   "execution_count": 11,
   "source": [
    "y_pred"
   ],
   "outputs": [
    {
     "output_type": "execute_result",
     "data": {
      "text/plain": [
       "array([0, 0, 0, 0, 0, 0, 0, 0, 0, 0, 0, 0, 0, 0, 0, 0, 0, 0, 0, 0, 0, 0,\n",
       "       0, 0, 0, 0, 0, 0, 0, 0, 0, 0, 0, 0, 0, 0, 0, 0, 0, 0, 0, 0, 0, 0,\n",
       "       0, 0, 0, 0, 0, 0, 1, 1, 1, 1, 1, 1, 1, 1, 1, 1, 1, 1, 1, 1, 1, 1,\n",
       "       1, 1, 1, 1, 1, 1, 1, 1, 1, 1, 1, 1, 1, 1, 1, 1, 1, 2, 1, 1, 1, 1,\n",
       "       1, 1, 1, 1, 1, 1, 1, 1, 1, 1, 1, 1, 2, 2, 2, 2, 2, 2, 1, 2, 2, 2,\n",
       "       2, 2, 2, 2, 2, 2, 2, 2, 2, 2, 2, 2, 2, 2, 2, 2, 2, 2, 2, 2, 2, 2,\n",
       "       2, 2, 2, 2, 2, 2, 1, 2, 2, 2, 2, 2, 2, 2, 2, 2, 2, 2])"
      ]
     },
     "metadata": {},
     "execution_count": 11
    }
   ],
   "metadata": {}
  },
  {
   "cell_type": "markdown",
   "source": [
    "<h2>Evaluation</h2>\r\n",
    "<p><b>mean Squared Error: </b>averaged of the squared error of the difference between the actual and predicted values (lower = better)\r\n",
    "<p><b>R2: </b>the correlation between the dependent variable and the set of independent variables (higher = better)"
   ],
   "metadata": {}
  },
  {
   "cell_type": "code",
   "execution_count": 12,
   "source": [
    "from sklearn.metrics import mean_squared_error,r2_score"
   ],
   "outputs": [],
   "metadata": {}
  },
  {
   "cell_type": "code",
   "execution_count": 13,
   "source": [
    "print(mean_squared_error(y,y_pred))\r\n",
    "print(r2_score(y,y_pred))"
   ],
   "outputs": [
    {
     "output_type": "stream",
     "name": "stdout",
     "text": [
      "0.02\n",
      "0.97\n"
     ]
    }
   ],
   "metadata": {}
  },
  {
   "cell_type": "markdown",
   "source": [
    "<h2>What value for k?</h2>\r\n",
    "<p>Test a range of values and see which produces the lowest error</p>"
   ],
   "metadata": {}
  },
  {
   "cell_type": "code",
   "execution_count": 17,
   "source": [
    "import pandas as pd"
   ],
   "outputs": [],
   "metadata": {}
  },
  {
   "cell_type": "code",
   "execution_count": 40,
   "source": [
    "error =[]\r\n",
    "rq=[]\r\n",
    "for k in range(1,51):\r\n",
    "    knn=KNeighborsClassifier(n_neighbors=k)\r\n",
    "    y_pred = cross_val_predict(knn,X,y,cv=5)\r\n",
    "    error.append(mean_squared_error(y,y_pred))\r\n",
    "    rq.append(r2_score(y,y_pred))"
   ],
   "outputs": [],
   "metadata": {}
  },
  {
   "cell_type": "code",
   "execution_count": 15,
   "source": [
    "import matplotlib.pyplot as plt"
   ],
   "outputs": [],
   "metadata": {}
  },
  {
   "cell_type": "code",
   "execution_count": 41,
   "source": [
    "plt.plot(range(1,51),error)"
   ],
   "outputs": [
    {
     "output_type": "execute_result",
     "data": {
      "text/plain": [
       "[<matplotlib.lines.Line2D at 0x23edc214f48>]"
      ]
     },
     "metadata": {},
     "execution_count": 41
    },
    {
     "output_type": "display_data",
     "data": {
      "image/png": "[encoded data removed]",
      "text/plain": [
       "<Figure size 432x288 with 1 Axes>"
      ]
     },
     "metadata": {
      "needs_background": "light"
     }
    }
   ],
   "metadata": {}
  },
  {
   "cell_type": "code",
   "execution_count": 42,
   "source": [
    "plt.plot(range(1,51),rq)"
   ],
   "outputs": [
    {
     "output_type": "execute_result",
     "data": {
      "text/plain": [
       "[<matplotlib.lines.Line2D at 0x23edc291808>]"
      ]
     },
     "metadata": {},
     "execution_count": 42
    },
    {
     "output_type": "display_data",
     "data": {
      "image/png": "[encoded data removed]",
      "text/plain": [
       "<Figure size 432x288 with 1 Axes>"
      ]
     },
     "metadata": {
      "needs_background": "light"
     }
    }
   ],
   "metadata": {}
  },
  {
   "cell_type": "markdown",
   "source": [
    "using k=10, will increase  R2 and yield lower Mean Squared Error."
   ],
   "metadata": {}
  },
  {
   "cell_type": "markdown",
   "source": [
    "Using Boston dataset"
   ],
   "metadata": {}
  },
  {
   "cell_type": "code",
   "execution_count": 43,
   "source": [
    "from sklearn.datasets import load_boston"
   ],
   "outputs": [],
   "metadata": {}
  },
  {
   "cell_type": "code",
   "execution_count": 44,
   "source": [
    "boston_data=load_boston()"
   ],
   "outputs": [],
   "metadata": {}
  },
  {
   "cell_type": "code",
   "execution_count": 45,
   "source": [
    "boston_data.data.shape"
   ],
   "outputs": [
    {
     "output_type": "execute_result",
     "data": {
      "text/plain": [
       "(506, 13)"
      ]
     },
     "metadata": {},
     "execution_count": 45
    }
   ],
   "metadata": {}
  },
  {
   "cell_type": "code",
   "execution_count": 47,
   "source": [
    "boston_data.target.shape"
   ],
   "outputs": [
    {
     "output_type": "execute_result",
     "data": {
      "text/plain": [
       "(506,)"
      ]
     },
     "metadata": {},
     "execution_count": 47
    }
   ],
   "metadata": {}
  },
  {
   "cell_type": "code",
   "execution_count": 57,
   "source": [
    "X=boston_data.data\r\n",
    "y=boston_data.target\r\n",
    "np.unique(y)"
   ],
   "outputs": [
    {
     "output_type": "execute_result",
     "data": {
      "text/plain": [
       "array([ 5. ,  5.6,  6.3,  7. ,  7.2,  7.4,  7.5,  8.1,  8.3,  8.4,  8.5,\n",
       "        8.7,  8.8,  9.5,  9.6,  9.7, 10.2, 10.4, 10.5, 10.8, 10.9, 11. ,\n",
       "       11.3, 11.5, 11.7, 11.8, 11.9, 12. , 12.1, 12.3, 12.5, 12.6, 12.7,\n",
       "       12.8, 13. , 13.1, 13.2, 13.3, 13.4, 13.5, 13.6, 13.8, 13.9, 14. ,\n",
       "       14.1, 14.2, 14.3, 14.4, 14.5, 14.6, 14.8, 14.9, 15. , 15.1, 15.2,\n",
       "       15.3, 15.4, 15.6, 15.7, 16. , 16.1, 16.2, 16.3, 16.4, 16.5, 16.6,\n",
       "       16.7, 16.8, 17. , 17.1, 17.2, 17.3, 17.4, 17.5, 17.6, 17.7, 17.8,\n",
       "       17.9, 18. , 18.1, 18.2, 18.3, 18.4, 18.5, 18.6, 18.7, 18.8, 18.9,\n",
       "       19. , 19.1, 19.2, 19.3, 19.4, 19.5, 19.6, 19.7, 19.8, 19.9, 20. ,\n",
       "       20.1, 20.2, 20.3, 20.4, 20.5, 20.6, 20.7, 20.8, 20.9, 21. , 21.1,\n",
       "       21.2, 21.4, 21.5, 21.6, 21.7, 21.8, 21.9, 22. , 22.1, 22.2, 22.3,\n",
       "       22.4, 22.5, 22.6, 22.7, 22.8, 22.9, 23. , 23.1, 23.2, 23.3, 23.4,\n",
       "       23.5, 23.6, 23.7, 23.8, 23.9, 24. , 24.1, 24.2, 24.3, 24.4, 24.5,\n",
       "       24.6, 24.7, 24.8, 25. , 25.1, 25.2, 25.3, 26.2, 26.4, 26.5, 26.6,\n",
       "       26.7, 27. , 27.1, 27.5, 27.9, 28. , 28.1, 28.2, 28.4, 28.5, 28.6,\n",
       "       28.7, 29. , 29.1, 29.4, 29.6, 29.8, 29.9, 30.1, 30.3, 30.5, 30.7,\n",
       "       30.8, 31. , 31.1, 31.2, 31.5, 31.6, 31.7, 32. , 32.2, 32.4, 32.5,\n",
       "       32.7, 32.9, 33. , 33.1, 33.2, 33.3, 33.4, 33.8, 34.6, 34.7, 34.9,\n",
       "       35.1, 35.2, 35.4, 36. , 36.1, 36.2, 36.4, 36.5, 37. , 37.2, 37.3,\n",
       "       37.6, 37.9, 38.7, 39.8, 41.3, 41.7, 42.3, 42.8, 43.1, 43.5, 43.8,\n",
       "       44. , 44.8, 45.4, 46. , 46.7, 48.3, 48.5, 48.8, 50. ])"
      ]
     },
     "metadata": {},
     "execution_count": 57
    }
   ],
   "metadata": {}
  },
  {
   "cell_type": "code",
   "execution_count": 58,
   "source": [
    "knn = KNeighborsRegressor(n_neighbors=10)\r\n",
    "y_pred = cross_val_predict(knn, X, y, cv=5)\r\n",
    "y_pred"
   ],
   "outputs": [
    {
     "output_type": "execute_result",
     "data": {
      "text/plain": [
       "array([24.  , 26.17, 21.95, 23.09, 21.99, 21.95, 23.72, 22.32, 23.54,\n",
       "       27.12, 24.93, 22.62, 23.56, 22.63, 31.44, 23.75, 27.76, 27.38,\n",
       "       25.43, 24.88, 27.33, 22.32, 22.32, 24.54, 22.32, 29.31, 31.44,\n",
       "       29.31, 26.45, 31.44, 31.52, 28.19, 20.09, 34.18, 20.09, 21.17,\n",
       "       23.19, 23.67, 24.47, 35.55, 33.77, 23.99, 23.99, 23.99, 21.66,\n",
       "       21.65, 21.65, 30.28, 25.19, 21.95, 30.77, 31.98, 30.06, 30.06,\n",
       "       31.11, 39.74, 25.23, 37.2 , 25.35, 25.61, 28.85, 36.17, 29.06,\n",
       "       25.96, 28.66, 26.8 , 26.38, 27.11, 26.43, 26.43, 28.47, 28.32,\n",
       "       30.27, 28.09, 25.67, 20.11, 28.54, 20.11, 20.11, 20.36, 26.85,\n",
       "       32.41, 26.89, 26.01, 22.82, 25.55, 22.88, 22.79, 21.5 , 21.88,\n",
       "       21.35, 21.68, 31.67, 31.17, 37.68, 25.85, 21.91, 21.81, 24.1 ,\n",
       "       22.14, 19.22, 19.68, 13.62, 21.05, 21.05, 21.05, 21.05, 21.05,\n",
       "       21.05, 21.05, 21.29, 20.52, 20.52, 20.52, 20.52, 19.2 , 19.34,\n",
       "       20.52, 19.74, 19.6 , 28.03, 28.82, 23.98, 23.98, 25.38, 25.66,\n",
       "       26.64, 20.52, 20.52, 20.52, 20.52, 20.52, 20.52, 20.52, 17.69,\n",
       "       20.52, 20.52, 20.52, 20.52, 20.52, 20.52, 20.52, 21.05, 21.05,\n",
       "       21.05, 15.84, 15.84, 21.05, 20.52, 20.52, 20.52, 20.52, 21.01,\n",
       "       17.52, 20.61, 14.56, 14.12, 20.52, 20.52, 20.52, 20.54, 20.52,\n",
       "       20.52, 20.52, 21.05, 17.52, 20.52, 17.52, 19.01, 20.54, 18.68,\n",
       "       20.52, 19.76, 22.62, 21.41, 24.47, 22.63, 23.14, 27.03, 27.68,\n",
       "       27.56, 27.68, 26.56, 26.56, 25.66, 30.5 , 29.84, 23.14, 23.04,\n",
       "       23.27, 23.82, 23.27, 23.2 , 30.17, 30.33, 32.71, 21.91, 22.38,\n",
       "       21.91, 24.01, 24.01, 22.99, 22.39, 33.36, 33.36, 26.65, 23.89,\n",
       "       21.7 , 23.26, 20.11, 22.79, 22.57, 22.76, 25.79, 22.84, 25.02,\n",
       "       23.55, 22.5 , 22.79, 22.79, 19.17, 18.24, 20.79, 20.46, 20.95,\n",
       "       20.94, 20.59, 19.37, 23.86, 23.71, 21.1 , 19.73, 21.24, 21.7 ,\n",
       "       18.18, 21.29, 20.56, 21.97, 22.67, 23.45, 23.36, 23.08, 22.33,\n",
       "       22.93, 19.43, 20.16, 21.21, 19.43, 20.9 , 21.87, 21.87, 22.15,\n",
       "       21.92, 21.92, 24.6 , 26.42, 33.36, 22.32, 22.32, 22.32, 22.81,\n",
       "       22.32, 22.32, 22.32, 22.32, 23.53, 20.46, 22.35, 23.85, 26.5 ,\n",
       "       24.04, 24.21, 28.17, 27.15, 26.51, 24.49, 25.28, 25.23, 26.51,\n",
       "       23.19, 28.17, 25.4 , 27.72, 33.75, 32.46, 25.3 , 33.36, 24.29,\n",
       "       23.66, 25.5 , 32.85, 32.85, 32.85, 26.23, 23.58, 25.73, 22.17,\n",
       "       21.68, 26.73, 26.6 , 27.36, 21.21, 21.28, 21.39, 31.6 , 30.14,\n",
       "       29.47, 29.47, 28.95, 25.06, 27.43, 22.78, 20.85, 28.24, 22.74,\n",
       "       24.76, 21.04, 24.74, 26.14, 23.07, 24.16, 23.55, 24.16, 24.52,\n",
       "       26.89, 25.75, 26.88, 23.84, 21.77, 24.15, 21.63, 23.43, 24.7 ,\n",
       "       28.56, 28.56, 27.29, 25.84, 28.69, 27.29, 25.84, 28.69, 22.95,\n",
       "       20.74, 29.09, 30.1 , 22.21, 21.14, 27.54, 30.96, 24.12, 23.77,\n",
       "       31.57, 31.99, 40.24, 26.72, 27.77, 16.3 , 18.07, 20.79, 20.79,\n",
       "       18.27, 16.56, 17.25, 18.12, 19.07, 18.12, 17.09, 14.  , 17.25,\n",
       "       17.25, 16.79, 15.53, 16.77, 14.83, 14.83, 15.74, 15.9 , 15.49,\n",
       "       15.9 , 14.83, 13.54, 15.74, 15.33, 16.05, 15.22, 14.83, 15.36,\n",
       "       16.05, 15.26, 16.46, 16.46, 18.94, 15.33, 17.2 , 15.74, 16.3 ,\n",
       "       16.46, 16.05, 13.54, 17.01, 15.36, 15.74, 16.3 , 15.9 , 16.21,\n",
       "        9.93, 22.13, 23.67, 19.55, 20.47, 14.53, 14.53, 14.53, 20.47,\n",
       "       18.4 , 14.53, 14.53, 20.47, 14.53, 14.53, 19.55, 19.55, 19.55,\n",
       "       14.53, 14.53, 14.53, 14.53, 14.53, 20.47, 14.53, 18.4 , 18.4 ,\n",
       "       20.47, 20.47, 20.47, 20.47, 14.53, 14.53, 18.28, 12.07, 10.09,\n",
       "       13.58, 12.41, 12.01, 20.47, 14.53, 19.55, 12.94, 11.75, 19.55,\n",
       "       14.53, 24.01, 16.91, 26.29, 14.53, 14.53, 14.53, 14.53, 19.55,\n",
       "       15.42, 19.55, 16.35, 15.42, 19.27, 17.67, 20.99, 14.53, 23.67,\n",
       "       23.86, 17.67, 15.42, 15.42, 18.24, 25.22, 24.01, 19.55, 13.35,\n",
       "       22.86, 16.75, 19.34, 21.93, 21.93, 21.93, 19.01, 20.76, 19.01,\n",
       "       16.59, 19.01, 14.45, 23.84, 19.55, 13.31, 15.42, 21.63, 22.  ,\n",
       "       20.93, 21.51, 21.56, 21.89, 21.56, 21.47, 24.98, 24.56, 24.1 ,\n",
       "       24.1 , 24.2 ])"
      ]
     },
     "metadata": {},
     "execution_count": 58
    }
   ],
   "metadata": {}
  },
  {
   "cell_type": "code",
   "execution_count": 59,
   "source": [
    "from math import sqrt"
   ],
   "outputs": [],
   "metadata": {}
  },
  {
   "cell_type": "code",
   "execution_count": 60,
   "source": [
    "print(sqrt(mean_squared_error(y,y_pred)))# actual, predicted\r\n",
    "print(r2_score(y,y_pred))"
   ],
   "outputs": [
    {
     "output_type": "stream",
     "name": "stdout",
     "text": [
      "8.605464138759643\n",
      "0.12278604134701132\n"
     ]
    }
   ],
   "metadata": {}
  },
  {
   "cell_type": "code",
   "execution_count": 61,
   "source": [
    "error = []\r\n",
    "for k in range(1,51):\r\n",
    "    knn = KNeighborsRegressor(n_neighbors=k)\r\n",
    "    y_pred = cross_val_predict(knn, X, y, cv=5)\r\n",
    "    error.append(mean_squared_error(y,y_pred))"
   ],
   "outputs": [],
   "metadata": {}
  },
  {
   "cell_type": "code",
   "execution_count": 62,
   "source": [
    "plt.plot(range(1,51),error)"
   ],
   "outputs": [
    {
     "output_type": "execute_result",
     "data": {
      "text/plain": [
       "[<matplotlib.lines.Line2D at 0x23edc34cc08>]"
      ]
     },
     "metadata": {},
     "execution_count": 62
    },
    {
     "output_type": "display_data",
     "data": {
      "image/png": "[encoded data removed]",
      "text/plain": [
       "<Figure size 432x288 with 1 Axes>"
      ]
     },
     "metadata": {
      "needs_background": "light"
     }
    }
   ],
   "metadata": {}
  },
  {
   "cell_type": "markdown",
   "source": [
    "<h2>Scaling</h2>\r\n",
    "<p>With numeric variables, scaling can help to reduce outliers.\r\n",
    "    <p>A standard scaler, transforms variables into a value related to the min, max of the variable</p>\r\n",
    "    <p>Scaling must be done on the training data, and then applied to the testing, so we need to add this to our classifier pipeline</p>"
   ],
   "metadata": {}
  },
  {
   "cell_type": "code",
   "execution_count": 63,
   "source": [
    "from sklearn.preprocessing import StandardScaler\r\n",
    "from sklearn.pipeline import make_pipeline"
   ],
   "outputs": [],
   "metadata": {}
  },
  {
   "cell_type": "code",
   "execution_count": 64,
   "source": [
    "classifier_pipeline = make_pipeline(StandardScaler(),KNeighborsRegressor(n_neighbors=10))"
   ],
   "outputs": [],
   "metadata": {}
  },
  {
   "cell_type": "code",
   "execution_count": 65,
   "source": [
    "y_pred = cross_val_predict(classifier_pipeline, X, y, cv=5)\r\n",
    "print(sqrt(mean_squared_error(y,y_pred)))\r\n",
    "print(r2_score(y,y_pred))"
   ],
   "outputs": [
    {
     "output_type": "stream",
     "name": "stdout",
     "text": [
      "5.492547106344652\n",
      "0.6426411712043607\n"
     ]
    }
   ],
   "metadata": {}
  },
  {
   "cell_type": "code",
   "execution_count": 66,
   "source": [
    "error = []\r\n",
    "for k in range(1,51):\r\n",
    "    classifier_pipeline = make_pipeline(StandardScaler(), KNeighborsRegressor(n_neighbors=k))\r\n",
    "    y_pred = cross_val_predict(classifier_pipeline, X, y, cv=5)\r\n",
    "    error.append(mean_squared_error(y, y_pred))"
   ],
   "outputs": [],
   "metadata": {}
  },
  {
   "cell_type": "code",
   "execution_count": 67,
   "source": [
    "plt.plot(range(1,51),error)"
   ],
   "outputs": [
    {
     "output_type": "execute_result",
     "data": {
      "text/plain": [
       "[<matplotlib.lines.Line2D at 0x23edc3e8c88>]"
      ]
     },
     "metadata": {},
     "execution_count": 67
    },
    {
     "output_type": "display_data",
     "data": {
      "image/png": "[encoded data removed]",
      "text/plain": [
       "<Figure size 432x288 with 1 Axes>"
      ]
     },
     "metadata": {
      "needs_background": "light"
     }
    }
   ],
   "metadata": {}
  },
  {
   "cell_type": "markdown",
   "source": [
    "<h3>Comparing Models</h3>\r\n",
    "<p>It's important when you compare models that you are comparing on the same data.\r\n",
    "    <p>When the data is split into training and testing using cross-validation, you need to split the same way every time if you want to really compare trials</p>"
   ],
   "metadata": {}
  },
  {
   "cell_type": "code",
   "execution_count": 68,
   "source": [
    "from sklearn.model_selection import KFold"
   ],
   "outputs": [],
   "metadata": {}
  },
  {
   "cell_type": "code",
   "execution_count": 75,
   "source": [
    "cv = KFold(n_splits=5, random_state=0, shuffle=True)"
   ],
   "outputs": [],
   "metadata": {}
  },
  {
   "cell_type": "code",
   "execution_count": 76,
   "source": [
    "classifier_pipeline = make_pipeline(StandardScaler(), KNeighborsRegressor(n_neighbors=10))\r\n",
    "y_pred = cross_val_predict(classifier_pipeline, X, y, cv=cv)\r\n",
    "print(sqrt(mean_squared_error(y,y_pred)))\r\n",
    "print(r2_score(y,y_pred))"
   ],
   "outputs": [
    {
     "output_type": "stream",
     "name": "stdout",
     "text": [
      "4.765172294476605\n",
      "0.7310236154992027\n"
     ]
    }
   ],
   "metadata": {}
  },
  {
   "cell_type": "markdown",
   "source": [
    "<h3>Which is better? kNN or a simple linear regression model?</h3>\r\n",
    "<p>Looking at the difference in RMSE and R2 we might assume that the knn performs significantly better than the Linear Model, however a two-sample t-test shows that they are not significantly different."
   ],
   "metadata": {}
  },
  {
   "cell_type": "code",
   "execution_count": 77,
   "source": [
    "from sklearn.linear_model import LinearRegression"
   ],
   "outputs": [],
   "metadata": {}
  },
  {
   "cell_type": "code",
   "execution_count": 78,
   "source": [
    "classifier_pipeline = make_pipeline(StandardScaler(), LinearRegression())\r\n",
    "y_pred2 = cross_val_predict(classifier_pipeline, X, y, cv=cv)\r\n",
    "print(sqrt(mean_squared_error(y,y_pred2)))\r\n",
    "print(r2_score(y,y_pred2))"
   ],
   "outputs": [
    {
     "output_type": "stream",
     "name": "stdout",
     "text": [
      "4.883312536986396\n",
      "0.7175211240180528\n"
     ]
    }
   ],
   "metadata": {}
  },
  {
   "cell_type": "code",
   "execution_count": 79,
   "source": [
    "diff_knn = [abs(round(y[i]-y_pred[i],2)) for i in range(0,len(y))]\r\n",
    "diff_linear = [abs(round(y[i]-y_pred2[i],2)) for i in range(0,len(y))]"
   ],
   "outputs": [],
   "metadata": {}
  },
  {
   "cell_type": "code",
   "execution_count": 80,
   "source": [
    "from scipy.stats import ttest_ind\r\n",
    "ttest_ind(diff_knn,diff_linear)"
   ],
   "outputs": [
    {
     "output_type": "execute_result",
     "data": {
      "text/plain": [
       "Ttest_indResult(statistic=-1.6210821549130077, pvalue=0.10531214470988091)"
      ]
     },
     "metadata": {},
     "execution_count": 80
    }
   ],
   "metadata": {}
  },
  {
   "cell_type": "markdown",
   "source": [
    "<h3>Feature Selection</h3>\r\n",
    "<p>Sometimes not all input variables are good predictor of the output variables. Sometimes, some of them can actually decrease the accuracy of the model.</p>\r\n",
    "<p>Feature Selection allows you to try out the model with different subsets of input variables to determine which are the best predictors</p>"
   ],
   "metadata": {}
  },
  {
   "cell_type": "markdown",
   "source": [
    "<h3>Evaluation</h3>\r\n",
    "<p>Looking at the mean squared error, and r2 score alone, often we can think we have a great model when in actual fact there are some underlying problems.\r\n",
    "<p>That is why it is always imporant to look at the <b>residuals</b>"
   ],
   "metadata": {}
  }
 ],
 "metadata": {
  "orig_nbformat": 4,
  "language_info": {
   "name": "python",
   "version": "3.7.6",
   "mimetype": "text/x-python",
   "codemirror_mode": {
    "name": "ipython",
    "version": 3
   },
   "pygments_lexer": "ipython3",
   "nbconvert_exporter": "python",
   "file_extension": ".py"
  },
  "kernelspec": {
   "name": "python3",
   "display_name": "Python 3.7.6 64-bit ('base': conda)"
  },
  "interpreter": {
   "hash": "60062bfbbdb55d7c70b884c78dba17d93f7bddb21846b67229a99cf865725014"
  }
 },
 "nbformat": 4,
 "nbformat_minor": 2
}