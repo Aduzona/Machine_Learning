{
 "cells": [
  {
   "cell_type": "markdown",
   "source": [
    "# Exploring data with Python - visualize data\r\n",
    "\r\n",
    "In this notebook, we'll apply basic techniques to analyze data with basic statistics and visualise using graphs. \r\n",
    "\r\n",
    "## Loading our data\r\n",
    "\r\n",
    "Before we being, lets load the same data about study hours that we analysed in the previous notebook. We will also recalculate who passed in the same way as last time\r\n",
    "Run the code in the cell below by clicking the **&#9658; Run** button to see the data."
   ],
   "metadata": {}
  },
  {
   "cell_type": "code",
   "execution_count": 1,
   "source": [
    "import pandas as pd\r\n",
    "\r\n",
    "# Load data from a text file\r\n",
    "#!wget https://raw.githubusercontent.com/MicrosoftDocs/mslearn-introduction-to-machine-learning/main/Data/ml-basics/grades.csv\r\n",
    "df_students = pd.read_csv('grades.csv',delimiter=',',header='infer')\r\n",
    "\r\n",
    "# Remove any rows with missing data\r\n",
    "df_students = df_students.dropna(axis=0, how='any')\r\n",
    "\r\n",
    "# Calculate who passed, assuming '60' is the grade needed to pass\r\n",
    "passes  = pd.Series(df_students['Grade'] >= 60)\r\n",
    "\r\n",
    "# Save who passed to the Pandas dataframe\r\n",
    "df_students = pd.concat([df_students, passes.rename(\"Pass\")], axis=1)\r\n",
    "\r\n",
    "\r\n",
    "# Print the result out into this notebook\r\n",
    "df_students "
   ],
   "outputs": [],
   "metadata": {}
  },
  {
   "cell_type": "markdown",
   "source": [
    "## Visualizing data with Matplotlib\r\n",
    "\r\n",
    "DataFrames provide a great way to explore and analyze tabular data, but sometimes a picture is worth a thousand rows and columns. The **Matplotlib** library provides the foundation for plotting data visualizations that can greatly enhance your ability the analyze the data.\r\n",
    "\r\n",
    "Let's start with a simple bar chart that shows the grade of each student."
   ],
   "metadata": {}
  },
  {
   "cell_type": "code",
   "execution_count": null,
   "source": [
    "# Ensure plots are displayed inline in the notebook\r\n",
    "%matplotlib inline\r\n",
    "\r\n",
    "from matplotlib import pyplot as plt\r\n",
    "\r\n",
    "# Create a bar plot name vs grade\r\n",
    "plt.bar(x=df_students.Name, height=df_students.Grade)\r\n",
    "\r\n",
    "# Display the plot\r\n",
    "plt.show()"
   ],
   "outputs": [],
   "metadata": {}
  }
 ],
 "metadata": {
  "orig_nbformat": 4,
  "language_info": {
   "name": "python",
   "version": "3.7.6",
   "mimetype": "text/x-python",
   "codemirror_mode": {
    "name": "ipython",
    "version": 3
   },
   "pygments_lexer": "ipython3",
   "nbconvert_exporter": "python",
   "file_extension": ".py"
  },
  "kernelspec": {
   "name": "python3",
   "display_name": "Python 3.7.6 64-bit ('base': conda)"
  },
  "interpreter": {
   "hash": "60062bfbbdb55d7c70b884c78dba17d93f7bddb21846b67229a99cf865725014"
  }
 },
 "nbformat": 4,
 "nbformat_minor": 2
}