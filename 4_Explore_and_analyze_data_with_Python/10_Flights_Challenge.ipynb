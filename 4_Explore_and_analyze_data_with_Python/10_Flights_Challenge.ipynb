{
 "cells": [
  {
   "cell_type": "markdown",
   "source": [
    "[Flights Chalenge](https://github.com/MicrosoftDocs/ml-basics/blob/master/challenges/01%20-%20Flights%20Challenge.ipynb)\r\n",
    "\r\n",
    "# Flights Data Exploration Challenge\r\n",
    "\r\n",
    "In this"
   ],
   "metadata": {}
  },
  {
   "cell_type": "code",
   "execution_count": null,
   "source": [],
   "outputs": [],
   "metadata": {}
  }
 ],
 "metadata": {
  "orig_nbformat": 4,
  "language_info": {
   "name": "python"
  }
 },
 "nbformat": 4,
 "nbformat_minor": 2
}