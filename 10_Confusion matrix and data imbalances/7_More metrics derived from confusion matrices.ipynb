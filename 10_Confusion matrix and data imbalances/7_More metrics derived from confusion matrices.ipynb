{
 "cells": [
  {
   "cell_type": "markdown",
   "source": [
    "# Exercise: More metrics derived from confusion matrices\r\n",
    "\r\n",
    "In this exercise we will learn about different metrics, using them to explain the results obtained from the *binary classification model* we built in the previous unit.\r\n",
    "\r\n",
    "## Data visualization\r\n",
    "\r\n",
    "We will use the dataset with different classes of objects found on the mountain one more time:\r\n",
    "\r\n"
   ],
   "metadata": {}
  },
  {
   "cell_type": "code",
   "execution_count": 1,
   "source": [
    "import pandas\r\n",
    "import numpy\r\n",
    "\r\n",
    "#Import the data from the .csv file\r\n",
    "dataset = pandas.read_csv('snow_objects.csv', delimiter=\"\\t\")\r\n",
    "\r\n",
    "#Let's have a look at the data\r\n",
    "dataset"
   ],
   "outputs": [
    {
     "output_type": "execute_result",
     "data": {
      "text/html": [
       "<div>\n",
       "<style scoped>\n",
       "    .dataframe tbody tr th:only-of-type {\n",
       "        vertical-align: middle;\n",
       "    }\n",
       "\n",
       "    .dataframe tbody tr th {\n",
       "        vertical-align: top;\n",
       "    }\n",
       "\n",
       "    .dataframe thead th {\n",
       "        text-align: right;\n",
       "    }\n",
       "</style>\n",
       "<table border=\"1\" class=\"dataframe\">\n",
       "  <thead>\n",
       "    <tr style=\"text-align: right;\">\n",
       "      <th></th>\n",
       "      <th>size</th>\n",
       "      <th>roughness</th>\n",
       "      <th>color</th>\n",
       "      <th>motion</th>\n",
       "      <th>label</th>\n",
       "    </tr>\n",
       "  </thead>\n",
       "  <tbody>\n",
       "    <tr>\n",
       "      <th>0</th>\n",
       "      <td>50.959361</td>\n",
       "      <td>1.318226</td>\n",
       "      <td>green</td>\n",
       "      <td>0.054290</td>\n",
       "      <td>tree</td>\n",
       "    </tr>\n",
       "    <tr>\n",
       "      <th>1</th>\n",
       "      <td>60.008521</td>\n",
       "      <td>0.554291</td>\n",
       "      <td>brown</td>\n",
       "      <td>0.000000</td>\n",
       "      <td>tree</td>\n",
       "    </tr>\n",
       "    <tr>\n",
       "      <th>2</th>\n",
       "      <td>20.530772</td>\n",
       "      <td>1.097752</td>\n",
       "      <td>white</td>\n",
       "      <td>1.380464</td>\n",
       "      <td>tree</td>\n",
       "    </tr>\n",
       "    <tr>\n",
       "      <th>3</th>\n",
       "      <td>28.092138</td>\n",
       "      <td>0.966482</td>\n",
       "      <td>grey</td>\n",
       "      <td>0.650528</td>\n",
       "      <td>tree</td>\n",
       "    </tr>\n",
       "    <tr>\n",
       "      <th>4</th>\n",
       "      <td>48.344211</td>\n",
       "      <td>0.799093</td>\n",
       "      <td>grey</td>\n",
       "      <td>0.000000</td>\n",
       "      <td>tree</td>\n",
       "    </tr>\n",
       "    <tr>\n",
       "      <th>...</th>\n",
       "      <td>...</td>\n",
       "      <td>...</td>\n",
       "      <td>...</td>\n",
       "      <td>...</td>\n",
       "      <td>...</td>\n",
       "    </tr>\n",
       "    <tr>\n",
       "      <th>2195</th>\n",
       "      <td>1.918175</td>\n",
       "      <td>1.182234</td>\n",
       "      <td>white</td>\n",
       "      <td>0.000000</td>\n",
       "      <td>animal</td>\n",
       "    </tr>\n",
       "    <tr>\n",
       "      <th>2196</th>\n",
       "      <td>1.000694</td>\n",
       "      <td>1.332152</td>\n",
       "      <td>black</td>\n",
       "      <td>4.041097</td>\n",
       "      <td>animal</td>\n",
       "    </tr>\n",
       "    <tr>\n",
       "      <th>2197</th>\n",
       "      <td>2.331485</td>\n",
       "      <td>0.734561</td>\n",
       "      <td>brown</td>\n",
       "      <td>0.961486</td>\n",
       "      <td>animal</td>\n",
       "    </tr>\n",
       "    <tr>\n",
       "      <th>2198</th>\n",
       "      <td>1.786560</td>\n",
       "      <td>0.707935</td>\n",
       "      <td>black</td>\n",
       "      <td>0.000000</td>\n",
       "      <td>animal</td>\n",
       "    </tr>\n",
       "    <tr>\n",
       "      <th>2199</th>\n",
       "      <td>1.518813</td>\n",
       "      <td>1.447957</td>\n",
       "      <td>brown</td>\n",
       "      <td>0.000000</td>\n",
       "      <td>animal</td>\n",
       "    </tr>\n",
       "  </tbody>\n",
       "</table>\n",
       "<p>2200 rows × 5 columns</p>\n",
       "</div>"
      ],
      "text/plain": [
       "           size  roughness  color    motion   label\n",
       "0     50.959361   1.318226  green  0.054290    tree\n",
       "1     60.008521   0.554291  brown  0.000000    tree\n",
       "2     20.530772   1.097752  white  1.380464    tree\n",
       "3     28.092138   0.966482   grey  0.650528    tree\n",
       "4     48.344211   0.799093   grey  0.000000    tree\n",
       "...         ...        ...    ...       ...     ...\n",
       "2195   1.918175   1.182234  white  0.000000  animal\n",
       "2196   1.000694   1.332152  black  4.041097  animal\n",
       "2197   2.331485   0.734561  brown  0.961486  animal\n",
       "2198   1.786560   0.707935  black  0.000000  animal\n",
       "2199   1.518813   1.447957  brown  0.000000  animal\n",
       "\n",
       "[2200 rows x 5 columns]"
      ]
     },
     "metadata": {},
     "execution_count": 1
    }
   ],
   "metadata": {}
  },
  {
   "cell_type": "markdown",
   "source": [
    "Recall that to use the dataset above for *binary classification*, we need to add another column to the dataset, and set it to `True` where the original label is `hiker`, and `False` where it's not.\r\n",
    "\r\n",
    "Let's then add that label, split the dataset and train the model again:\r\n"
   ],
   "metadata": {}
  },
  {
   "cell_type": "code",
   "execution_count": 2,
   "source": [
    "from sklearn.ensemble import RandomForestClassifier\r\n",
    "from sklearn.model_selection import train_test_split\r\n",
    "\r\n",
    "# Add a new label with true/false values to our dataset\r\n",
    "dataset[\"is_hiker\"] = dataset.label == \"hiker\"\r\n",
    "\r\n",
    "# Split the dataset in an 70/30 train/test ratio. \r\n",
    "train, test = train_test_split(dataset, test_size=0.3, random_state=1, shuffle=True)\r\n",
    "\r\n",
    "# define a random forest model\r\n",
    "model = RandomForestClassifier(n_estimators=1, random_state=1, verbose=False)\r\n",
    "\r\n",
    "# Define which features are to be used \r\n",
    "features = [\"size\", \"roughness\", \"motion\"]\r\n",
    "\r\n",
    "# Train the model using the binary label\r\n",
    "model.fit(train[features], train.is_hiker)\r\n",
    "\r\n",
    "print(\"Model trained!\")"
   ],
   "outputs": [
    {
     "output_type": "stream",
     "name": "stdout",
     "text": [
      "Model trained!\n"
     ]
    }
   ],
   "metadata": {}
  },
  {
   "cell_type": "markdown",
   "source": [
    "We can now use this model to predict whether objects in the snow are hikers or not.\r\n",
    "\r\n",
    "Let's plot its *confusion matrix*:"
   ],
   "metadata": {}
  },
  {
   "cell_type": "code",
   "execution_count": 3,
   "source": [
    "# sklearn has a very convenient utility to build confusion matrices\r\n",
    "from sklearn.metrics import confusion_matrix\r\n",
    "import plotly.figure_factory as ff\r\n",
    "\r\n",
    "# Calculate the model's accuracy on the TEST set\r\n",
    "actual = test.is_hiker\r\n",
    "predictions = model.predict(test[features])\r\n",
    "\r\n",
    "# Build and print our confusion matrix, using the actual values and predictions \r\n",
    "# from the test set, calculated in previous cells\r\n",
    "cm = confusion_matrix(actual, predictions, normalize=None)\r\n",
    "\r\n",
    "# Create the list of unique labels in the test set, to use in our plot\r\n",
    "# I.e., ['True', 'False',]\r\n",
    "unique_targets = sorted(list(test[\"is_hiker\"].unique()))\r\n",
    "\r\n",
    "# Convert values to lower case so the plot code can count the outcomes\r\n",
    "x = y = [str(s).lower() for s in unique_targets]\r\n",
    "\r\n",
    "# Plot the matrix above as a heatmap with annotations (values) in its cells\r\n",
    "fig = ff.create_annotated_heatmap(cm, x, y)\r\n",
    "\r\n",
    "# Set titles and ordering\r\n",
    "fig.update_layout(  title_text=\"<b>Confusion matrix</b>\", \r\n",
    "                    yaxis = dict(categoryorder = \"category descending\"))\r\n",
    "\r\n",
    "fig.add_annotation(dict(font=dict(color=\"black\",size=14),\r\n",
    "                        x=0.5,\r\n",
    "                        y=-0.15,\r\n",
    "                        showarrow=False,\r\n",
    "                        text=\"Predicted label\",\r\n",
    "                        xref=\"paper\",\r\n",
    "                        yref=\"paper\"))\r\n",
    "\r\n",
    "fig.add_annotation(dict(font=dict(color=\"black\",size=14),\r\n",
    "                        x=-0.15,\r\n",
    "                        y=0.5,\r\n",
    "                        showarrow=False,\r\n",
    "                        text=\"Actual label\",\r\n",
    "                        textangle=-90,\r\n",
    "                        xref=\"paper\",\r\n",
    "                        yref=\"paper\"))\r\n",
    "\r\n",
    "# We need margins so the titles fit\r\n",
    "fig.update_layout(margin=dict(t=80, r=20, l=120, b=50))\r\n",
    "fig['data'][0]['showscale'] = True\r\n",
    "fig.show()"
   ],
   "outputs": [
    {
     "output_type": "display_data",
     "data": {
      "application/vnd.plotly.v1+json": {
       "config": {
        "plotlyServerURL": "https://plot.ly"
       },
       "data": [
        {
         "colorscale": [
          [
           0,
           "#0d0887"
          ],
          [
           0.1111111111111111,
           "#46039f"
          ],
          [
           0.2222222222222222,
           "#7201a8"
          ],
          [
           0.3333333333333333,
           "#9c179e"
          ],
          [
           0.4444444444444444,
           "#bd3786"
          ],
          [
           0.5555555555555556,
           "#d8576b"
          ],
          [
           0.6666666666666666,
           "#ed7953"
          ],
          [
           0.7777777777777778,
           "#fb9f3a"
          ],
          [
           0.8888888888888888,
           "#fdca26"
          ],
          [
           1,
           "#f0f921"
          ]
         ],
         "reversescale": false,
         "showscale": true,
         "type": "heatmap",
         "x": [
          "false",
          "true"
         ],
         "y": [
          "false",
          "true"
         ],
         "z": [
          [
           523,
           33
          ],
          [
           29,
           75
          ]
         ]
        }
       ],
       "layout": {
        "annotations": [
         {
          "font": {
           "color": "#000000"
          },
          "showarrow": false,
          "text": "523",
          "x": "false",
          "xref": "x",
          "y": "false",
          "yref": "y"
         },
         {
          "font": {
           "color": "#FFFFFF"
          },
          "showarrow": false,
          "text": "33",
          "x": "true",
          "xref": "x",
          "y": "false",
          "yref": "y"
         },
         {
          "font": {
           "color": "#FFFFFF"
          },
          "showarrow": false,
          "text": "29",
          "x": "false",
          "xref": "x",
          "y": "true",
          "yref": "y"
         },
         {
          "font": {
           "color": "#FFFFFF"
          },
          "showarrow": false,
          "text": "75",
          "x": "true",
          "xref": "x",
          "y": "true",
          "yref": "y"
         },
         {
          "font": {
           "color": "black",
           "size": 14
          },
          "showarrow": false,
          "text": "Predicted label",
          "x": 0.5,
          "xref": "paper",
          "y": -0.15,
          "yref": "paper"
         },
         {
          "font": {
           "color": "black",
           "size": 14
          },
          "showarrow": false,
          "text": "Actual label",
          "textangle": -90,
          "x": -0.15,
          "xref": "paper",
          "y": 0.5,
          "yref": "paper"
         }
        ],
        "margin": {
         "b": 50,
         "l": 120,
         "r": 20,
         "t": 80
        },
        "template": {
         "data": {
          "bar": [
           {
            "error_x": {
             "color": "#2a3f5f"
            },
            "error_y": {
             "color": "#2a3f5f"
            },
            "marker": {
             "line": {
              "color": "#E5ECF6",
              "width": 0.5
             },
             "pattern": {
              "fillmode": "overlay",
              "size": 10,
              "solidity": 0.2
             }
            },
            "type": "bar"
           }
          ],
          "barpolar": [
           {
            "marker": {
             "line": {
              "color": "#E5ECF6",
              "width": 0.5
             },
             "pattern": {
              "fillmode": "overlay",
              "size": 10,
              "solidity": 0.2
             }
            },
            "type": "barpolar"
           }
          ],
          "carpet": [
           {
            "aaxis": {
             "endlinecolor": "#2a3f5f",
             "gridcolor": "white",
             "linecolor": "white",
             "minorgridcolor": "white",
             "startlinecolor": "#2a3f5f"
            },
            "baxis": {
             "endlinecolor": "#2a3f5f",
             "gridcolor": "white",
             "linecolor": "white",
             "minorgridcolor": "white",
             "startlinecolor": "#2a3f5f"
            },
            "type": "carpet"
           }
          ],
          "choropleth": [
           {
            "colorbar": {
             "outlinewidth": 0,
             "ticks": ""
            },
            "type": "choropleth"
           }
          ],
          "contour": [
           {
            "colorbar": {
             "outlinewidth": 0,
             "ticks": ""
            },
            "colorscale": [
             [
              0,
              "#0d0887"
             ],
             [
              0.1111111111111111,
              "#46039f"
             ],
             [
              0.2222222222222222,
              "#7201a8"
             ],
             [
              0.3333333333333333,
              "#9c179e"
             ],
             [
              0.4444444444444444,
              "#bd3786"
             ],
             [
              0.5555555555555556,
              "#d8576b"
             ],
             [
              0.6666666666666666,
              "#ed7953"
             ],
             [
              0.7777777777777778,
              "#fb9f3a"
             ],
             [
              0.8888888888888888,
              "#fdca26"
             ],
             [
              1,
              "#f0f921"
             ]
            ],
            "type": "contour"
           }
          ],
          "contourcarpet": [
           {
            "colorbar": {
             "outlinewidth": 0,
             "ticks": ""
            },
            "type": "contourcarpet"
           }
          ],
          "heatmap": [
           {
            "colorbar": {
             "outlinewidth": 0,
             "ticks": ""
            },
            "colorscale": [
             [
              0,
              "#0d0887"
             ],
             [
              0.1111111111111111,
              "#46039f"
             ],
             [
              0.2222222222222222,
              "#7201a8"
             ],
             [
              0.3333333333333333,
              "#9c179e"
             ],
             [
              0.4444444444444444,
              "#bd3786"
             ],
             [
              0.5555555555555556,
              "#d8576b"
             ],
             [
              0.6666666666666666,
              "#ed7953"
             ],
             [
              0.7777777777777778,
              "#fb9f3a"
             ],
             [
              0.8888888888888888,
              "#fdca26"
             ],
             [
              1,
              "#f0f921"
             ]
            ],
            "type": "heatmap"
           }
          ],
          "heatmapgl": [
           {
            "colorbar": {
             "outlinewidth": 0,
             "ticks": ""
            },
            "colorscale": [
             [
              0,
              "#0d0887"
             ],
             [
              0.1111111111111111,
              "#46039f"
             ],
             [
              0.2222222222222222,
              "#7201a8"
             ],
             [
              0.3333333333333333,
              "#9c179e"
             ],
             [
              0.4444444444444444,
              "#bd3786"
             ],
             [
              0.5555555555555556,
              "#d8576b"
             ],
             [
              0.6666666666666666,
              "#ed7953"
             ],
             [
              0.7777777777777778,
              "#fb9f3a"
             ],
             [
              0.8888888888888888,
              "#fdca26"
             ],
             [
              1,
              "#f0f921"
             ]
            ],
            "type": "heatmapgl"
           }
          ],
          "histogram": [
           {
            "marker": {
             "pattern": {
              "fillmode": "overlay",
              "size": 10,
              "solidity": 0.2
             }
            },
            "type": "histogram"
           }
          ],
          "histogram2d": [
           {
            "colorbar": {
             "outlinewidth": 0,
             "ticks": ""
            },
            "colorscale": [
             [
              0,
              "#0d0887"
             ],
             [
              0.1111111111111111,
              "#46039f"
             ],
             [
              0.2222222222222222,
              "#7201a8"
             ],
             [
              0.3333333333333333,
              "#9c179e"
             ],
             [
              0.4444444444444444,
              "#bd3786"
             ],
             [
              0.5555555555555556,
              "#d8576b"
             ],
             [
              0.6666666666666666,
              "#ed7953"
             ],
             [
              0.7777777777777778,
              "#fb9f3a"
             ],
             [
              0.8888888888888888,
              "#fdca26"
             ],
             [
              1,
              "#f0f921"
             ]
            ],
            "type": "histogram2d"
           }
          ],
          "histogram2dcontour": [
           {
            "colorbar": {
             "outlinewidth": 0,
             "ticks": ""
            },
            "colorscale": [
             [
              0,
              "#0d0887"
             ],
             [
              0.1111111111111111,
              "#46039f"
             ],
             [
              0.2222222222222222,
              "#7201a8"
             ],
             [
              0.3333333333333333,
              "#9c179e"
             ],
             [
              0.4444444444444444,
              "#bd3786"
             ],
             [
              0.5555555555555556,
              "#d8576b"
             ],
             [
              0.6666666666666666,
              "#ed7953"
             ],
             [
              0.7777777777777778,
              "#fb9f3a"
             ],
             [
              0.8888888888888888,
              "#fdca26"
             ],
             [
              1,
              "#f0f921"
             ]
            ],
            "type": "histogram2dcontour"
           }
          ],
          "mesh3d": [
           {
            "colorbar": {
             "outlinewidth": 0,
             "ticks": ""
            },
            "type": "mesh3d"
           }
          ],
          "parcoords": [
           {
            "line": {
             "colorbar": {
              "outlinewidth": 0,
              "ticks": ""
             }
            },
            "type": "parcoords"
           }
          ],
          "pie": [
           {
            "automargin": true,
            "type": "pie"
           }
          ],
          "scatter": [
           {
            "marker": {
             "colorbar": {
              "outlinewidth": 0,
              "ticks": ""
             }
            },
            "type": "scatter"
           }
          ],
          "scatter3d": [
           {
            "line": {
             "colorbar": {
              "outlinewidth": 0,
              "ticks": ""
             }
            },
            "marker": {
             "colorbar": {
              "outlinewidth": 0,
              "ticks": ""
             }
            },
            "type": "scatter3d"
           }
          ],
          "scattercarpet": [
           {
            "marker": {
             "colorbar": {
              "outlinewidth": 0,
              "ticks": ""
             }
            },
            "type": "scattercarpet"
           }
          ],
          "scattergeo": [
           {
            "marker": {
             "colorbar": {
              "outlinewidth": 0,
              "ticks": ""
             }
            },
            "type": "scattergeo"
           }
          ],
          "scattergl": [
           {
            "marker": {
             "colorbar": {
              "outlinewidth": 0,
              "ticks": ""
             }
            },
            "type": "scattergl"
           }
          ],
          "scattermapbox": [
           {
            "marker": {
             "colorbar": {
              "outlinewidth": 0,
              "ticks": ""
             }
            },
            "type": "scattermapbox"
           }
          ],
          "scatterpolar": [
           {
            "marker": {
             "colorbar": {
              "outlinewidth": 0,
              "ticks": ""
             }
            },
            "type": "scatterpolar"
           }
          ],
          "scatterpolargl": [
           {
            "marker": {
             "colorbar": {
              "outlinewidth": 0,
              "ticks": ""
             }
            },
            "type": "scatterpolargl"
           }
          ],
          "scatterternary": [
           {
            "marker": {
             "colorbar": {
              "outlinewidth": 0,
              "ticks": ""
             }
            },
            "type": "scatterternary"
           }
          ],
          "surface": [
           {
            "colorbar": {
             "outlinewidth": 0,
             "ticks": ""
            },
            "colorscale": [
             [
              0,
              "#0d0887"
             ],
             [
              0.1111111111111111,
              "#46039f"
             ],
             [
              0.2222222222222222,
              "#7201a8"
             ],
             [
              0.3333333333333333,
              "#9c179e"
             ],
             [
              0.4444444444444444,
              "#bd3786"
             ],
             [
              0.5555555555555556,
              "#d8576b"
             ],
             [
              0.6666666666666666,
              "#ed7953"
             ],
             [
              0.7777777777777778,
              "#fb9f3a"
             ],
             [
              0.8888888888888888,
              "#fdca26"
             ],
             [
              1,
              "#f0f921"
             ]
            ],
            "type": "surface"
           }
          ],
          "table": [
           {
            "cells": {
             "fill": {
              "color": "#EBF0F8"
             },
             "line": {
              "color": "white"
             }
            },
            "header": {
             "fill": {
              "color": "#C8D4E3"
             },
             "line": {
              "color": "white"
             }
            },
            "type": "table"
           }
          ]
         },
         "layout": {
          "annotationdefaults": {
           "arrowcolor": "#2a3f5f",
           "arrowhead": 0,
           "arrowwidth": 1
          },
          "autotypenumbers": "strict",
          "coloraxis": {
           "colorbar": {
            "outlinewidth": 0,
            "ticks": ""
           }
          },
          "colorscale": {
           "diverging": [
            [
             0,
             "#8e0152"
            ],
            [
             0.1,
             "#c51b7d"
            ],
            [
             0.2,
             "#de77ae"
            ],
            [
             0.3,
             "#f1b6da"
            ],
            [
             0.4,
             "#fde0ef"
            ],
            [
             0.5,
             "#f7f7f7"
            ],
            [
             0.6,
             "#e6f5d0"
            ],
            [
             0.7,
             "#b8e186"
            ],
            [
             0.8,
             "#7fbc41"
            ],
            [
             0.9,
             "#4d9221"
            ],
            [
             1,
             "#276419"
            ]
           ],
           "sequential": [
            [
             0,
             "#0d0887"
            ],
            [
             0.1111111111111111,
             "#46039f"
            ],
            [
             0.2222222222222222,
             "#7201a8"
            ],
            [
             0.3333333333333333,
             "#9c179e"
            ],
            [
             0.4444444444444444,
             "#bd3786"
            ],
            [
             0.5555555555555556,
             "#d8576b"
            ],
            [
             0.6666666666666666,
             "#ed7953"
            ],
            [
             0.7777777777777778,
             "#fb9f3a"
            ],
            [
             0.8888888888888888,
             "#fdca26"
            ],
            [
             1,
             "#f0f921"
            ]
           ],
           "sequentialminus": [
            [
             0,
             "#0d0887"
            ],
            [
             0.1111111111111111,
             "#46039f"
            ],
            [
             0.2222222222222222,
             "#7201a8"
            ],
            [
             0.3333333333333333,
             "#9c179e"
            ],
            [
             0.4444444444444444,
             "#bd3786"
            ],
            [
             0.5555555555555556,
             "#d8576b"
            ],
            [
             0.6666666666666666,
             "#ed7953"
            ],
            [
             0.7777777777777778,
             "#fb9f3a"
            ],
            [
             0.8888888888888888,
             "#fdca26"
            ],
            [
             1,
             "#f0f921"
            ]
           ]
          },
          "colorway": [
           "#636efa",
           "#EF553B",
           "#00cc96",
           "#ab63fa",
           "#FFA15A",
           "#19d3f3",
           "#FF6692",
           "#B6E880",
           "#FF97FF",
           "#FECB52"
          ],
          "font": {
           "color": "#2a3f5f"
          },
          "geo": {
           "bgcolor": "white",
           "lakecolor": "white",
           "landcolor": "#E5ECF6",
           "showlakes": true,
           "showland": true,
           "subunitcolor": "white"
          },
          "hoverlabel": {
           "align": "left"
          },
          "hovermode": "closest",
          "mapbox": {
           "style": "light"
          },
          "paper_bgcolor": "white",
          "plot_bgcolor": "#E5ECF6",
          "polar": {
           "angularaxis": {
            "gridcolor": "white",
            "linecolor": "white",
            "ticks": ""
           },
           "bgcolor": "#E5ECF6",
           "radialaxis": {
            "gridcolor": "white",
            "linecolor": "white",
            "ticks": ""
           }
          },
          "scene": {
           "xaxis": {
            "backgroundcolor": "#E5ECF6",
            "gridcolor": "white",
            "gridwidth": 2,
            "linecolor": "white",
            "showbackground": true,
            "ticks": "",
            "zerolinecolor": "white"
           },
           "yaxis": {
            "backgroundcolor": "#E5ECF6",
            "gridcolor": "white",
            "gridwidth": 2,
            "linecolor": "white",
            "showbackground": true,
            "ticks": "",
            "zerolinecolor": "white"
           },
           "zaxis": {
            "backgroundcolor": "#E5ECF6",
            "gridcolor": "white",
            "gridwidth": 2,
            "linecolor": "white",
            "showbackground": true,
            "ticks": "",
            "zerolinecolor": "white"
           }
          },
          "shapedefaults": {
           "line": {
            "color": "#2a3f5f"
           }
          },
          "ternary": {
           "aaxis": {
            "gridcolor": "white",
            "linecolor": "white",
            "ticks": ""
           },
           "baxis": {
            "gridcolor": "white",
            "linecolor": "white",
            "ticks": ""
           },
           "bgcolor": "#E5ECF6",
           "caxis": {
            "gridcolor": "white",
            "linecolor": "white",
            "ticks": ""
           }
          },
          "title": {
           "x": 0.05
          },
          "xaxis": {
           "automargin": true,
           "gridcolor": "white",
           "linecolor": "white",
           "ticks": "",
           "title": {
            "standoff": 15
           },
           "zerolinecolor": "white",
           "zerolinewidth": 2
          },
          "yaxis": {
           "automargin": true,
           "gridcolor": "white",
           "linecolor": "white",
           "ticks": "",
           "title": {
            "standoff": 15
           },
           "zerolinecolor": "white",
           "zerolinewidth": 2
          }
         }
        },
        "title": {
         "text": "<b>Confusion matrix</b>"
        },
        "xaxis": {
         "dtick": 1,
         "gridcolor": "rgb(0, 0, 0)",
         "side": "top",
         "ticks": ""
        },
        "yaxis": {
         "categoryorder": "category descending",
         "dtick": 1,
         "ticks": "",
         "ticksuffix": "  "
        }
       }
      }
     },
     "metadata": {}
    }
   ],
   "metadata": {}
  },
  {
   "cell_type": "code",
   "execution_count": 5,
   "source": [
    "# Let's also calculate some values that will be used throughout this exercise\r\n",
    "# We already have actual values and corresponding predictions, defined above\r\n",
    "correct = actual == predictions\r\n",
    "print(correct)"
   ],
   "outputs": [
    {
     "output_type": "stream",
     "name": "stdout",
     "text": [
      "1276     True\n",
      "1446     True\n",
      "335      True\n",
      "1458     True\n",
      "2038    False\n",
      "        ...  \n",
      "1418     True\n",
      "478      True\n",
      "1181     True\n",
      "1000     True\n",
      "1132     True\n",
      "Name: is_hiker, Length: 660, dtype: bool\n"
     ]
    }
   ],
   "metadata": {}
  },
  {
   "cell_type": "code",
   "execution_count": 6,
   "source": [
    "tp = numpy.sum(correct & actual)\r\n",
    "tn = numpy.sum(correct & numpy.logical_not(actual))\r\n",
    "fp = numpy.sum(numpy.logical_not(correct) & actual)\r\n",
    "fn = numpy.sum(numpy.logical_not(correct) & numpy.logical_not(actual))\r\n",
    "\r\n",
    "print(\"TP - True Positives: \", tp)\r\n",
    "print(\"TN - True Negatives: \", tn)\r\n",
    "print(\"FP - False positives: \", fp)\r\n",
    "print(\"FN - False negatives: \", fn)"
   ],
   "outputs": [
    {
     "output_type": "stream",
     "name": "stdout",
     "text": [
      "TP - True Positives:  75\n",
      "TN - True Negatives:  523\n",
      "FP - False positives:  29\n",
      "FN - False negatives:  33\n"
     ]
    }
   ],
   "metadata": {}
  },
  {
   "cell_type": "markdown",
   "source": [
    "We can use the values and matrix above to help us understand other metrics.\r\n",
    "\r\n",
    "\r\n",
    "## Calculating metrics\r\n",
    "\r\n",
    "From here on we will take a closer look at each at the following metrics, how they are calculated and how they can help explain our current model. \r\n",
    "\r\n",
    "* Accuracy\r\n",
    "* Sensitivity/Recall\r\n",
    "* Specificity\r\n",
    "* Precision\r\n",
    "* False positive rate\r\n",
    "\r\n",
    "Let's first recall some useful terms:\r\n",
    "\r\n",
    "* TP = True positives: a positive label is correctly predicted\r\n",
    "* TN = True nositives: a negative label is correctly predicted\r\n",
    "* FP = False positives: a negative label is predicted as a positive\r\n",
    "* FN = False negatives: a positive label is predicted as a negative\r\n",
    "\r\n",
    "\r\n",
    "### Accuracy\r\n",
    "Accuracy is the number of correct predictions divided by the total number of predictions:\r\n",
    "\r\n",
    "```\r\n",
    "    accuracy = (TP+TN) / number of samples\r\n",
    "```\r\n",
    "\r\n",
    "It's possibly the most basic metric used but, as we've seen, it's not the most reliable when *imbalanced datasets* are used.\r\n",
    "\r\n",
    "In code:"
   ],
   "metadata": {}
  },
  {
   "cell_type": "code",
   "execution_count": 7,
   "source": [
    "# Calculate accuracy\r\n",
    "# len(actual) is the number of samples in the set that generated TP and TN\r\n",
    "accuracy = (tp+tn) / len(actual) \r\n",
    "\r\n",
    "# print result as a percentage\r\n",
    "print(f\"Model accuracy is {accuracy:.2f}%\")"
   ],
   "outputs": [
    {
     "output_type": "stream",
     "name": "stdout",
     "text": [
      "Model accuracy is 0.91%\n"
     ]
    }
   ],
   "metadata": {}
  },
  {
   "cell_type": "markdown",
   "source": [
    "### Sensitivity/Recall\r\n",
    "\r\n",
    "*Sensitivity* and *Recall* are interchangeable names for the same metric, which expresses the fraction of samples __correctly__ predicted by a model:\r\n",
    "\r\n",
    "\r\n",
    "```\r\n",
    "    sensitivity = recall = TP / (TP + FN)\r\n",
    "```\r\n",
    "\r\n",
    "This is an important metric, that tells us how out of all the existing __positive__ samples, how many are __correctly__ predicted.\r\n",
    "\r\n",
    "In code:"
   ],
   "metadata": {}
  },
  {
   "cell_type": "code",
   "execution_count": 8,
   "source": [
    "# code for sensitivity/recall\r\n",
    "sensitivity = recall = tp / (tp + fn)\r\n",
    "\r\n",
    "# print result as a percentage\r\n",
    "print(f\"Model sensitivity/recall is {sensitivity:.2f}%\")"
   ],
   "outputs": [
    {
     "output_type": "stream",
     "name": "stdout",
     "text": [
      "Model sensitivity/recall is 0.69%\n"
     ]
    }
   ],
   "metadata": {}
  },
  {
   "cell_type": "markdown",
   "source": [
    "### Specificity\r\n",
    "Specificity expresses the fraction of __negative__ labels correctly predicted over the total number of existing negative samples:\r\n",
    "\r\n",
    "```\r\n",
    "    specificity = TN / (TN + FP)\r\n",
    "```\r\n",
    "\r\n",
    "It can be calculated using the following code:"
   ],
   "metadata": {}
  },
  {
   "cell_type": "code",
   "execution_count": 9,
   "source": [
    "# Code for specificity\r\n",
    "specificity = tn / (tn + fp)\r\n",
    "\r\n",
    "# print result as a percentage\r\n",
    "print(f\"Model specificity is {specificity:.2f}%\")"
   ],
   "outputs": [
    {
     "output_type": "stream",
     "name": "stdout",
     "text": [
      "Model specificity is 0.95%\n"
     ]
    }
   ],
   "metadata": {}
  },
  {
   "cell_type": "markdown",
   "source": [
    "### Precision\r\n",
    "Precision expresses the proportion of __correctly__ predicited positive samples over all positive predictions:\r\n",
    "\r\n",
    "```\r\n",
    "    precision = TP / (TP + FP)\r\n",
    "```\r\n",
    "In other words, it indicates how out of all positive predictions, how many are trully positive labels.\r\n",
    "\r\n",
    "It can be calculated using the following code:"
   ],
   "metadata": {}
  },
  {
   "cell_type": "code",
   "execution_count": 10,
   "source": [
    "# Code for precision\r\n",
    "\r\n",
    "precision = tp / (tp + fp)\r\n",
    "\r\n",
    "# print result as a percentage\r\n",
    "print(f\"Model precision is {precision:.2f}%\")"
   ],
   "outputs": [
    {
     "output_type": "stream",
     "name": "stdout",
     "text": [
      "Model precision is 0.72%\n"
     ]
    }
   ],
   "metadata": {}
  },
  {
   "cell_type": "markdown",
   "source": [
    "### False positive rate\r\n",
    "False positive rate or FPR, is the number of __incorrect__ positive predictions divided by the total number of negative samples:\r\n",
    "\r\n",
    "```\r\n",
    "    false_positive_rate = FP / (FP + TN)\r\n",
    "```\r\n",
    "\r\n",
    "\r\n",
    "In code:"
   ],
   "metadata": {}
  },
  {
   "cell_type": "code",
   "execution_count": 11,
   "source": [
    "# Code for false positive rate\r\n",
    "false_positive_rate = fp / (fp + tn)\r\n",
    "\r\n",
    "# print result as a percentage\r\n",
    "print(f\"Model false positive rate is {false_positive_rate:.2f}%\")\r\n"
   ],
   "outputs": [
    {
     "output_type": "stream",
     "name": "stdout",
     "text": [
      "Model false positive rate is 0.05%\n"
     ]
    }
   ],
   "metadata": {}
  },
  {
   "cell_type": "markdown",
   "source": [
    "Notice that the sum of `specificity` and `false positive rate` should always be equal to `1`.\r\n",
    "\r\n",
    "## Conclusion\r\n",
    "\r\n",
    "There are several different metrics that can help us evaluate the performance of a model, in the context of the quality of its predictions.\r\n",
    "\r\n",
    "The choice of the most adequate metrics, however, is primarily a funciton of the data and the problem we are trying to solve."
   ],
   "metadata": {}
  },
  {
   "cell_type": "markdown",
   "source": [
    "## Summary\r\n",
    "\r\n",
    "We covered the following topics in this unit:\r\n",
    "\r\n",
    "* How to calculate the very basic measurements used in the evaluation of classification models: TP, FP, TN, FN.\r\n",
    "* How to use the measurement aboves to calculate more meaningful metrics, such as:\r\n",
    "    * Accuracy\r\n",
    "    * Sensitivity/Recall\r\n",
    "    * Specificity\r\n",
    "    * Precision\r\n",
    "    * False positive rate\r\n",
    "* How the choice of metrics depends on the dataset and the problem we are trying to solve.\r\n",
    "\r\n"
   ],
   "metadata": {}
  }
 ],
 "metadata": {
  "orig_nbformat": 4,
  "language_info": {
   "name": "python",
   "version": "3.7.6",
   "mimetype": "text/x-python",
   "codemirror_mode": {
    "name": "ipython",
    "version": 3
   },
   "pygments_lexer": "ipython3",
   "nbconvert_exporter": "python",
   "file_extension": ".py"
  },
  "kernelspec": {
   "name": "python3",
   "display_name": "Python 3.7.6 64-bit ('base': conda)"
  },
  "interpreter": {
   "hash": "60062bfbbdb55d7c70b884c78dba17d93f7bddb21846b67229a99cf865725014"
  }
 },
 "nbformat": 4,
 "nbformat_minor": 2
}