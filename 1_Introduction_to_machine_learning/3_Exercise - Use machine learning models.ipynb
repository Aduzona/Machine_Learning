{
 "cells": [
  {
   "cell_type": "markdown",
   "source": [
    "# Exercise: Using a Trained Model on New Data\r\n",
    "\r\n",
    "In Unit 3, we created a basic model that let us find the relationship between a dog's harness size and their boot size. We showed how this model could then be used to make a prediction about a new, previously unseen dog.\r\n",
    "\r\n",
    "It's common to build, train, then use a model while we are just learning about machine learning, but in the real world we don't want to train the model _every time_ we want to make a prediction.\r\n",
    "\r\n",
    "Consider our avalanche dog equipment store scenario:\r\n",
    "* We want to train the model just once, then load that model onto the server that runs our online store. \r\n",
    "* Although the model is _trained_ on a dataset we downloaded from the internet, we actually want to _use_ it to estimate the boot size of our customers' dogs who are not in this dataset! \r\n",
    "\r\n",
    "How can we do this?\r\n",
    "\r\n",
    "Here we will:\r\n",
    "\r\n",
    "1. Create a basic model\r\n",
    "2. Save it to disk\r\n",
    "3. Load it from disk\r\n",
    "4. Use it to make predictions about a dog who were not in the training dataset.\r\n",
    "\r\n",
    "## Load the dataset\r\n",
    "\r\n",
    "Let's begin by opening the dataset from file"
   ],
   "metadata": {}
  },
  {
   "cell_type": "code",
   "execution_count": 1,
   "source": [
    "import pandas\r\n",
    "#!pip install statsmodels\r\n",
    "#!wget https://raw.githubusercontent.com/MicrosoftDocs/mslearn-introduction-to-machine-learning/main/graphing.py\r\n",
    "#!wget https://raw.githubusercontent.com/MicrosoftDocs/mslearn-introduction-to-machine-learning/main/Data/doggy-boot-harness.csv\r\n",
    "\r\n",
    "# Load a file containing dog's boot and harness sizes\r\n",
    "data = pandas.read_csv('doggy-boot-harness.csv')\r\n",
    "\r\n",
    "# Print the first few rows\r\n",
    "data.head()"
   ],
   "outputs": [
    {
     "output_type": "execute_result",
     "data": {
      "text/plain": [
       "   boot_size  harness_size     sex  age_years\n",
       "0         39            58    male       12.0\n",
       "1         38            58    male        9.6\n",
       "2         37            52  female        8.6\n",
       "3         39            58    male       10.2\n",
       "4         38            57    male        7.8"
      ],
      "text/html": [
       "<div>\n",
       "<style scoped>\n",
       "    .dataframe tbody tr th:only-of-type {\n",
       "        vertical-align: middle;\n",
       "    }\n",
       "\n",
       "    .dataframe tbody tr th {\n",
       "        vertical-align: top;\n",
       "    }\n",
       "\n",
       "    .dataframe thead th {\n",
       "        text-align: right;\n",
       "    }\n",
       "</style>\n",
       "<table border=\"1\" class=\"dataframe\">\n",
       "  <thead>\n",
       "    <tr style=\"text-align: right;\">\n",
       "      <th></th>\n",
       "      <th>boot_size</th>\n",
       "      <th>harness_size</th>\n",
       "      <th>sex</th>\n",
       "      <th>age_years</th>\n",
       "    </tr>\n",
       "  </thead>\n",
       "  <tbody>\n",
       "    <tr>\n",
       "      <th>0</th>\n",
       "      <td>39</td>\n",
       "      <td>58</td>\n",
       "      <td>male</td>\n",
       "      <td>12.0</td>\n",
       "    </tr>\n",
       "    <tr>\n",
       "      <th>1</th>\n",
       "      <td>38</td>\n",
       "      <td>58</td>\n",
       "      <td>male</td>\n",
       "      <td>9.6</td>\n",
       "    </tr>\n",
       "    <tr>\n",
       "      <th>2</th>\n",
       "      <td>37</td>\n",
       "      <td>52</td>\n",
       "      <td>female</td>\n",
       "      <td>8.6</td>\n",
       "    </tr>\n",
       "    <tr>\n",
       "      <th>3</th>\n",
       "      <td>39</td>\n",
       "      <td>58</td>\n",
       "      <td>male</td>\n",
       "      <td>10.2</td>\n",
       "    </tr>\n",
       "    <tr>\n",
       "      <th>4</th>\n",
       "      <td>38</td>\n",
       "      <td>57</td>\n",
       "      <td>male</td>\n",
       "      <td>7.8</td>\n",
       "    </tr>\n",
       "  </tbody>\n",
       "</table>\n",
       "</div>"
      ]
     },
     "metadata": {},
     "execution_count": 1
    }
   ],
   "metadata": {}
  },
  {
   "cell_type": "markdown",
   "source": [
    "## Create and train a model\r\n",
    "\r\n",
    "As we have done before, we will create a simple Linear Regression model and train it on our dataset."
   ],
   "metadata": {}
  },
  {
   "cell_type": "code",
   "execution_count": 2,
   "source": [
    "import statsmodels.formula.api as smf\r\n",
    "\r\n",
    "# Fit a simple model that finds a linear relationship\r\n",
    "# between booth size and harness size, which we can use later\r\n",
    "# to predict a dog's boot size, given their harness size\r\n",
    "model = smf.ols(formula= \"boot_size ~ harness_size\",data=data).fit()\r\n",
    "print(\"Model trained!\")"
   ],
   "outputs": [
    {
     "output_type": "stream",
     "name": "stdout",
     "text": [
      "Model trained!\n"
     ]
    }
   ],
   "metadata": {}
  },
  {
   "cell_type": "markdown",
   "source": [
    "## Saving and loading a model\r\n",
    "\r\n",
    "Our model is ready to use, but we don't need it yet. Let's save it to disk."
   ],
   "metadata": {}
  },
  {
   "cell_type": "code",
   "execution_count": 3,
   "source": [
    "import joblib\r\n",
    "\r\n",
    "model_filename ='./avalanche_dog_boot_model.pkl'\r\n",
    "joblib.dump(model, model_filename)\r\n",
    "\r\n",
    "print(\"Model saved!\")"
   ],
   "outputs": [
    {
     "output_type": "stream",
     "name": "stdout",
     "text": [
      "Model saved!\n"
     ]
    }
   ],
   "metadata": {}
  },
  {
   "cell_type": "markdown",
   "source": [
    "Loading our model is just as easy:"
   ],
   "metadata": {}
  },
  {
   "cell_type": "code",
   "execution_count": 4,
   "source": [
    "model_loaded = joblib.load(model_filename)\r\n",
    "\r\n",
    "print(\"We have loaded a model with the following parameters:\")\r\n",
    "print(model_loaded.params)"
   ],
   "outputs": [
    {
     "output_type": "stream",
     "name": "stdout",
     "text": [
      "We have loaded a model with the following parameters:\n",
      "Intercept       5.719110\n",
      "harness_size    0.585925\n",
      "dtype: float64\n"
     ]
    }
   ],
   "metadata": {}
  },
  {
   "cell_type": "markdown",
   "source": [
    "## Putting it together\r\n",
    "\r\n",
    "On our website, we will want to take the harness of our customer's dog, then calculate their dog's boot size using the model that we've already trained.\r\n",
    "\r\n",
    "Let's put everything here together to make a function that loads the model from disk, then uses it to predict our customer's dog's boot size height."
   ],
   "metadata": {}
  },
  {
   "cell_type": "code",
   "execution_count": 5,
   "source": [
    "# Let's write a function that loads and uses our model\r\n",
    "def load_model_and_predict(harness_size):\r\n",
    "    '''\r\n",
    "    This function loads a pretrained model. It uses the model with the customer's \r\n",
    "    dog's harness size to predict the size of boots that will fit that dog.\r\n",
    "\r\n",
    "    harness_size: The dog harness size, in cm\r\n",
    "    '''\r\n",
    "    # Load the model from file and print basic information about it\r\n",
    "    loaded_model = joblib.load(model_filename)\r\n",
    "\r\n",
    "    print('We have loaded a model with the following parameters:')\r\n",
    "    print(loaded_model.params)\r\n",
    "\r\n",
    "    # Prepare data for the model\r\n",
    "    inputs = {\"harness_size\":[harness_size]} \r\n",
    "\r\n",
    "    # Use the model to make a prediction\r\n",
    "    predicted_boot_size= loaded_model.predict(inputs)[0]\r\n",
    "\r\n",
    "    return predicted_boot_size\r\n",
    "\r\n",
    "# Practice using our model\r\n",
    "predicted_boot_size = load_model_and_predict(45)\r\n",
    "\r\n",
    "print(\"Predicted dog boot size:\", predicted_boot_size)\r\n"
   ],
   "outputs": [
    {
     "output_type": "stream",
     "name": "stdout",
     "text": [
      "We have loaded a model with the following parameters:\n",
      "Intercept       5.719110\n",
      "harness_size    0.585925\n",
      "dtype: float64\n",
      "Predicted dog boot size: 32.08575356590478\n"
     ]
    }
   ],
   "metadata": {}
  },
  {
   "cell_type": "markdown",
   "source": [
    "## Real world use \r\n",
    "\r\n",
    "We've done it - we can predict an avalanche dog's boot size, based on the size of their harness. Our last step is to use this to warn people if they might be buying the wrong sized doggy boots. \r\n",
    "\r\n",
    "As an example, we'll make a function that accepts the harness size, the size of the boots selected, and returns a message for the customer. We would integrate this function into our online store."
   ],
   "metadata": {}
  },
  {
   "cell_type": "code",
   "execution_count": 7,
   "source": [
    "def check_size_of_boots(selected_harness_size,selected_boot_size):\r\n",
    "    '''\r\n",
    "    Calculates whether the customer has chosen a pair of doggy boots that \r\n",
    "    are a sensible size. This works by estimating the dog's actual boot \r\n",
    "    size from their harness size.\r\n",
    "\r\n",
    "    This returns a message for the customer that should be shown before\r\n",
    "    they complete their payment \r\n",
    "\r\n",
    "    selected_harness_size: The size of the harness the customer wants to buy\r\n",
    "    selected_boot_size: The size of the doggy boots the customer wants to buy\r\n",
    "    '''\r\n",
    "\r\n",
    "    # Estimate the customer's dog's boot size\r\n",
    "    estimated_boot_size =load_model_and_predict(selected_harness_size)\r\n",
    "\r\n",
    "    # Round to the nearest whole number because we don't sell partial sizes\r\n",
    "    estimated_boot_size = int(round(estimated_boot_size))\r\n",
    "\r\n",
    "    # Check if the boot size selected is appropriate\r\n",
    "    if selected_boot_size == estimated_boot_size:\r\n",
    "        return f\"Great choice! We think these boots will fit your avalanche dog well.\"\r\n",
    "\r\n",
    "    if selected_boot_size < estimated_boot_size:\r\n",
    "        # Selected boots might be too small \r\n",
    "        return f\"The boots you have selected might be TOO SMALL for a dog as \"\\\r\n",
    "            f\"big as yours. We recommend a doggy boots size of {estimated_boot_size}.\"\r\n",
    "\r\n",
    "    if selected_boot_size > estimated_boot_size:\r\n",
    "        # Selected boots might be too big \r\n",
    "        return \"The boots you have selected might be TOO BIG for a dog as \"\\\r\n",
    "               f\"small as yours. We recommend a doggy boots size of {estimated_boot_size}.\"\r\n",
    "\r\n",
    "\r\n",
    "\r\n",
    "# Practice using our new warning system\r\n",
    "check_size_of_boots(selected_harness_size=55, selected_boot_size=39)"
   ],
   "outputs": [
    {
     "output_type": "stream",
     "name": "stdout",
     "text": [
      "We have loaded a model with the following parameters:\n",
      "Intercept       5.719110\n",
      "harness_size    0.585925\n",
      "dtype: float64\n"
     ]
    },
    {
     "output_type": "execute_result",
     "data": {
      "text/plain": [
       "'The boots you have selected might be TOO BIG for a dog as small as yours. We recommend a doggy boots size of 38.'"
      ]
     },
     "metadata": {},
     "execution_count": 7
    }
   ],
   "metadata": {}
  },
  {
   "cell_type": "markdown",
   "source": [
    "Change `selected_harness_size` and `selected_boot_size` in the example above and re-run to see this in action.\r\n"
   ],
   "metadata": {}
  },
  {
   "cell_type": "code",
   "execution_count": 11,
   "source": [
    "check_size_of_boots(selected_harness_size=30, selected_boot_size=23)"
   ],
   "outputs": [
    {
     "output_type": "stream",
     "name": "stdout",
     "text": [
      "We have loaded a model with the following parameters:\n",
      "Intercept       5.719110\n",
      "harness_size    0.585925\n",
      "dtype: float64\n"
     ]
    },
    {
     "output_type": "execute_result",
     "data": {
      "text/plain": [
       "'Great choice! We think these boots will fit your avalanche dog well.'"
      ]
     },
     "metadata": {},
     "execution_count": 11
    }
   ],
   "metadata": {}
  },
  {
   "cell_type": "markdown",
   "source": [
    "\r\n",
    "## Summary\r\n",
    "\r\n",
    "Well done! We've put together a system that can predict if customers are buying doggy boots that may not fit their avalanche dog, based solely on the size of harness they are purchasing. \r\n",
    "\r\n",
    "In this exercise, we practiced:\r\n",
    "\r\n",
    "1. Creating basic models\r\n",
    "2. Training, then saving them to disk\r\n",
    "3. Loading them from disk\r\n",
    "4. Making predictions with them using new data sets"
   ],
   "metadata": {}
  }
 ],
 "metadata": {
  "orig_nbformat": 4,
  "language_info": {
   "name": "python",
   "version": "3.7.6",
   "mimetype": "text/x-python",
   "codemirror_mode": {
    "name": "ipython",
    "version": 3
   },
   "pygments_lexer": "ipython3",
   "nbconvert_exporter": "python",
   "file_extension": ".py"
  },
  "kernelspec": {
   "name": "python3",
   "display_name": "Python 3.7.6 64-bit ('base': conda)"
  },
  "interpreter": {
   "hash": "60062bfbbdb55d7c70b884c78dba17d93f7bddb21846b67229a99cf865725014"
  }
 },
 "nbformat": 4,
 "nbformat_minor": 2
}