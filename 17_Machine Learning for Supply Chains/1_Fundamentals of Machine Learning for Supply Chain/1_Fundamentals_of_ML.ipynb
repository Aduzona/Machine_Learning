{
 "cells": [
  {
   "cell_type": "markdown",
   "metadata": {},
   "source": [
    "## Data Structures for Data Science"
   ]
  },
  {
   "cell_type": "code",
   "execution_count": 1,
   "metadata": {},
   "outputs": [
    {
     "data": {
      "text/plain": [
       "['raindrops', 'roses', 'whiskers', 'kittens']"
      ]
     },
     "execution_count": 1,
     "metadata": {},
     "output_type": "execute_result"
    }
   ],
   "source": [
    "favorites=['raindrops','roses','whiskers','kittens']\n",
    "favorites"
   ]
  },
  {
   "cell_type": "code",
   "execution_count": 2,
   "metadata": {},
   "outputs": [
    {
     "data": {
      "text/plain": [
       "4"
      ]
     },
     "execution_count": 2,
     "metadata": {},
     "output_type": "execute_result"
    }
   ],
   "source": [
    "len(favorites)"
   ]
  },
  {
   "cell_type": "code",
   "execution_count": 3,
   "metadata": {},
   "outputs": [
    {
     "data": {
      "text/plain": [
       "'roses'"
      ]
     },
     "execution_count": 3,
     "metadata": {},
     "output_type": "execute_result"
    }
   ],
   "source": [
    "favorites[1]"
   ]
  },
  {
   "cell_type": "code",
   "execution_count": 4,
   "metadata": {},
   "outputs": [
    {
     "data": {
      "text/plain": [
       "'kittens'"
      ]
     },
     "execution_count": 4,
     "metadata": {},
     "output_type": "execute_result"
    }
   ],
   "source": [
    "favorites[-1]"
   ]
  },
  {
   "cell_type": "code",
   "execution_count": 5,
   "metadata": {},
   "outputs": [
    {
     "data": {
      "text/plain": [
       "'whiskers'"
      ]
     },
     "execution_count": 5,
     "metadata": {},
     "output_type": "execute_result"
    }
   ],
   "source": [
    "favorites[-2]"
   ]
  },
  {
   "cell_type": "code",
   "execution_count": 6,
   "metadata": {},
   "outputs": [],
   "source": [
    "favorites.append('snowflakes')"
   ]
  },
  {
   "cell_type": "code",
   "execution_count": 7,
   "metadata": {},
   "outputs": [
    {
     "data": {
      "text/plain": [
       "['raindrops', 'roses', 'whiskers', 'kittens', 'snowflakes']"
      ]
     },
     "execution_count": 7,
     "metadata": {},
     "output_type": "execute_result"
    }
   ],
   "source": [
    "favorites"
   ]
  },
  {
   "cell_type": "code",
   "execution_count": 10,
   "metadata": {},
   "outputs": [
    {
     "data": {
      "text/plain": [
       "'w'"
      ]
     },
     "execution_count": 10,
     "metadata": {},
     "output_type": "execute_result"
    }
   ],
   "source": [
    "favorites[-1][3]"
   ]
  },
  {
   "cell_type": "code",
   "execution_count": 11,
   "metadata": {},
   "outputs": [
    {
     "data": {
      "text/plain": [
       "['raindrops', 'roses', 'whiskers', 'kittens', 'kettles']"
      ]
     },
     "execution_count": 11,
     "metadata": {},
     "output_type": "execute_result"
    }
   ],
   "source": [
    "favorites[-1]='kettles'\n",
    "favorites"
   ]
  },
  {
   "cell_type": "code",
   "execution_count": 12,
   "metadata": {},
   "outputs": [],
   "source": [
    "more_faves=['mittens','eyelashes']"
   ]
  },
  {
   "cell_type": "code",
   "execution_count": 13,
   "metadata": {},
   "outputs": [
    {
     "data": {
      "text/plain": [
       "['raindrops',\n",
       " 'roses',\n",
       " 'whiskers',\n",
       " 'kittens',\n",
       " 'kettles',\n",
       " 'mittens',\n",
       " 'eyelashes']"
      ]
     },
     "execution_count": 13,
     "metadata": {},
     "output_type": "execute_result"
    }
   ],
   "source": [
    "fave_things=favorites + more_faves\n",
    "fave_things"
   ]
  },
  {
   "cell_type": "markdown",
   "metadata": {},
   "source": [
    "## Assignments\n",
    "\n",
    "**Lists**"
   ]
  },
  {
   "cell_type": "code",
   "execution_count": 14,
   "metadata": {},
   "outputs": [
    {
     "data": {
      "text/plain": [
       "['SHORT HALTER',\n",
       " 'LACE INSET MACI',\n",
       " 'MAXI OMBRE',\n",
       " 'MAXI EMB DRESS',\n",
       " 'SLEEEVELESS DRESS',\n",
       " 'TIE DYE ROMPER',\n",
       " 'ROMPER',\n",
       " 'OMBRE MAXI W/LATICE WORK',\n",
       " 'TIE DYE WIDE LEG PANT']"
      ]
     },
     "execution_count": 14,
     "metadata": {},
     "output_type": "execute_result"
    }
   ],
   "source": [
    "'''\n",
    "a) Create a list called 'products' with the following items: \n",
    "'SHORT HALTER', 'LACE INSET MACI', 'MAXI OMBRE', 'MAXI EMB DRESS', 'SLEEEVELESS DRESS', 'TIE DYE ROMPER', 'ROMPER', 'OMBRE MAXI W/LATICE WORK', 'TIE DYE WIDE LEG PANT'\n",
    "'''\n",
    "\n",
    "# your code here\n",
    "products=['SHORT HALTER', 'LACE INSET MACI', 'MAXI OMBRE', 'MAXI EMB DRESS', 'SLEEEVELESS DRESS', 'TIE DYE ROMPER', 'ROMPER', 'OMBRE MAXI W/LATICE WORK', 'TIE DYE WIDE LEG PANT']\n",
    "products"
   ]
  },
  {
   "cell_type": "code",
   "execution_count": 16,
   "metadata": {},
   "outputs": [
    {
     "data": {
      "text/plain": [
       "['MAXI OMBRE', 'MAXI EMB DRESS', 'SLEEEVELESS DRESS']"
      ]
     },
     "execution_count": 16,
     "metadata": {},
     "output_type": "execute_result"
    }
   ],
   "source": [
    "'''\n",
    "b) Then, store the 3rd-5th items in another list called 'product_subset'.\n",
    "'''\n",
    "# your code here\n",
    "product_subset=products[2:5]\n",
    "product_subset"
   ]
  },
  {
   "cell_type": "code",
   "execution_count": 17,
   "metadata": {},
   "outputs": [],
   "source": [
    "'''\n",
    "c) Append the last element of \"products\" to \"product_subset\"\n",
    "'''\n",
    "\n",
    "# your code here\n",
    "product_subset.append(products[-1])"
   ]
  },
  {
   "cell_type": "code",
   "execution_count": 18,
   "metadata": {},
   "outputs": [
    {
     "data": {
      "text/plain": [
       "['MAXI OMBRE', 'MAXI EMB DRESS', 'SLEEEVELESS DRESS', 'TIE DYE WIDE LEG PANT']"
      ]
     },
     "execution_count": 18,
     "metadata": {},
     "output_type": "execute_result"
    }
   ],
   "source": [
    "product_subset"
   ]
  },
  {
   "cell_type": "markdown",
   "metadata": {},
   "source": [
    "## Dictionary"
   ]
  },
  {
   "cell_type": "code",
   "execution_count": 19,
   "metadata": {},
   "outputs": [],
   "source": [
    "grade_distribution={\"A\":4,\"B\":3,\"C\":1}"
   ]
  },
  {
   "cell_type": "code",
   "execution_count": 20,
   "metadata": {},
   "outputs": [
    {
     "data": {
      "text/plain": [
       "dict_keys(['A', 'B', 'C'])"
      ]
     },
     "execution_count": 20,
     "metadata": {},
     "output_type": "execute_result"
    }
   ],
   "source": [
    "grade_distribution.keys()"
   ]
  },
  {
   "cell_type": "code",
   "execution_count": 21,
   "metadata": {},
   "outputs": [
    {
     "data": {
      "text/plain": [
       "dict_values([4, 3, 1])"
      ]
     },
     "execution_count": 21,
     "metadata": {},
     "output_type": "execute_result"
    }
   ],
   "source": [
    "grade_distribution.values()"
   ]
  },
  {
   "cell_type": "code",
   "execution_count": 22,
   "metadata": {},
   "outputs": [
    {
     "data": {
      "text/plain": [
       "4"
      ]
     },
     "execution_count": 22,
     "metadata": {},
     "output_type": "execute_result"
    }
   ],
   "source": [
    "grade_distribution['A']"
   ]
  },
  {
   "cell_type": "code",
   "execution_count": 23,
   "metadata": {},
   "outputs": [
    {
     "data": {
      "text/plain": [
       "{'A': 4, 'B': 3, 'C': 1, 'D': 1}"
      ]
     },
     "execution_count": 23,
     "metadata": {},
     "output_type": "execute_result"
    }
   ],
   "source": [
    "grade_distribution['D']=1\n",
    "grade_distribution"
   ]
  },
  {
   "cell_type": "code",
   "execution_count": 24,
   "metadata": {},
   "outputs": [
    {
     "data": {
      "text/plain": [
       "['raindrops',\n",
       " 'roses',\n",
       " 'whiskers',\n",
       " 'kittens',\n",
       " 'kettles',\n",
       " 'mittens',\n",
       " 'eyelashes']"
      ]
     },
     "execution_count": 24,
     "metadata": {},
     "output_type": "execute_result"
    }
   ],
   "source": [
    "fave_things"
   ]
  },
  {
   "cell_type": "code",
   "execution_count": 25,
   "metadata": {},
   "outputs": [],
   "source": [
    "import random\n",
    "oft={}\n",
    "\n",
    "for thing in fave_things:\n",
    "    oft[thing]=random.randint(0,1)# random integer in range 0 to 1"
   ]
  },
  {
   "cell_type": "code",
   "execution_count": 26,
   "metadata": {},
   "outputs": [
    {
     "data": {
      "text/plain": [
       "{'raindrops': 0,\n",
       " 'roses': 1,\n",
       " 'whiskers': 1,\n",
       " 'kittens': 1,\n",
       " 'kettles': 0,\n",
       " 'mittens': 1,\n",
       " 'eyelashes': 1}"
      ]
     },
     "execution_count": 26,
     "metadata": {},
     "output_type": "execute_result"
    }
   ],
   "source": [
    "oft"
   ]
  },
  {
   "cell_type": "markdown",
   "metadata": {},
   "source": [
    "## dictionaries_supply_chain\n"
   ]
  },
  {
   "cell_type": "code",
   "execution_count": 30,
   "metadata": {},
   "outputs": [
    {
     "data": {
      "text/plain": [
       "{'Dallas': 900,\n",
       " 'Las Vegas': 500,\n",
       " 'Detroit': 832,\n",
       " 'Nashville': 600,\n",
       " 'Los Angeles': 2400,\n",
       " 'Seattle': 1300,\n",
       " 'Denver': 1800}"
      ]
     },
     "execution_count": 30,
     "metadata": {},
     "output_type": "execute_result"
    }
   ],
   "source": [
    "'''\n",
    "a) Create a dictionary called \"plants\" with information on the following warehouse plants:\n",
    "Locations        Supply\n",
    "Dallas:          900\n",
    "Las Vegas:       500\n",
    "Detroit':        832\n",
    "Nashville:       600\n",
    "Los Angeles:    2400\n",
    "Seattle:        1300\n",
    "Denver:         1800\n",
    "'''\n",
    "\n",
    "# your code here\n",
    "plants={'Dallas':900,'Las Vegas':500,'Detroit':832,'Nashville':600,'Los Angeles':2400,'Seattle':1300,'Denver':1800}\n",
    "plants"
   ]
  },
  {
   "cell_type": "code",
   "execution_count": 31,
   "metadata": {},
   "outputs": [
    {
     "name": "stdout",
     "output_type": "stream",
     "text": [
      "Locations : ['Dallas', 'Las Vegas', 'Detroit', 'Nashville', 'Los Angeles', 'Seattle', 'Denver']\n",
      "supply: [900, 500, 832, 600, 2400, 1300, 1800]\n"
     ]
    }
   ],
   "source": [
    "'''\n",
    "b) Store the keys of the dictionary into a list called 'locations'. Store the values into a list called 'supply'.\n",
    "HINT: Be sure that these variables are stored as lists. You can use list(x) on any list-like object x to convert it into a list.\n",
    "'''\n",
    "# your code here\n",
    "locations=list(plants.keys())\n",
    "supply=list(plants.values())\n",
    "print('Locations :',locations)\n",
    "print('supply:',supply)"
   ]
  },
  {
   "cell_type": "code",
   "execution_count": 32,
   "metadata": {},
   "outputs": [
    {
     "data": {
      "text/plain": [
       "2400"
      ]
     },
     "execution_count": 32,
     "metadata": {},
     "output_type": "execute_result"
    }
   ],
   "source": [
    "'''\n",
    "c) Extract the supply for 'Los Angeles' and store it into a variable called 'la_supply'\n",
    "'''\n",
    "# your code here\n",
    "la_supply=plants['Los Angeles']\n",
    "la_supply"
   ]
  },
  {
   "cell_type": "markdown",
   "metadata": {},
   "source": [
    "## Reading\n",
    "\n",
    "Python Docs: Data Structures\n",
    "R​ead the sections on lists (5.1), tuples (5.3), and dictionaries (5.5) from the Python docs to learn about Python data types and and thier associated methods. \n",
    "\n",
    "L​ink to 5.1: https://docs.python.org/3/tutorial/datastructures.html#more-on-lists\n",
    "\n",
    "L​ink to 5.3: https://docs.python.org/3/tutorial/datastructures.html#tuples-and-sequences\n",
    "\n",
    "L​ink to 5.5: https://docs.python.org/3/tutorial/datastructures.html#dictionaries"
   ]
  },
  {
   "cell_type": "markdown",
   "metadata": {},
   "source": [
    "## Data Structures Practice Quiz\n",
    "\n",
    "\n",
    "1. From the reading on Python data structures, w​hich of the following statements about lists and tuples in Python is true?\n",
    "\n",
    "* T​uples are immutable, while lists are mutable.\n",
    "\n",
    "2. W​hich of the following is a valid initialization of an empty dictionary?\n",
    "\n",
    "* e​mpty_dictionary = {}\n",
    "\n"
   ]
  },
  {
   "cell_type": "markdown",
   "metadata": {},
   "source": [
    "# Loops and Functions\n",
    "## Loops\n",
    "\n"
   ]
  },
  {
   "cell_type": "code",
   "execution_count": 33,
   "metadata": {},
   "outputs": [],
   "source": [
    "notes = ['do','re','mi']"
   ]
  },
  {
   "cell_type": "code",
   "execution_count": 34,
   "metadata": {},
   "outputs": [
    {
     "name": "stdout",
     "output_type": "stream",
     "text": [
      "do\n",
      "re\n",
      "mi\n"
     ]
    }
   ],
   "source": [
    "for note in notes:\n",
    "    print(note)"
   ]
  },
  {
   "cell_type": "code",
   "execution_count": 35,
   "metadata": {},
   "outputs": [
    {
     "name": "stdout",
     "output_type": "stream",
     "text": [
      "0\n",
      "1\n",
      "2\n",
      "3\n",
      "4\n"
     ]
    }
   ],
   "source": [
    "for n in range(5):\n",
    "    print(n)"
   ]
  },
  {
   "cell_type": "code",
   "execution_count": 36,
   "metadata": {},
   "outputs": [
    {
     "name": "stdout",
     "output_type": "stream",
     "text": [
      "3\n",
      "4\n"
     ]
    }
   ],
   "source": [
    "for n in range(3,5):\n",
    "    print(n)"
   ]
  },
  {
   "cell_type": "code",
   "execution_count": 37,
   "metadata": {},
   "outputs": [
    {
     "name": "stdout",
     "output_type": "stream",
     "text": [
      "3\n",
      "6\n",
      "9\n"
     ]
    }
   ],
   "source": [
    "for n in range(3,12,3):\n",
    "    print(n)"
   ]
  },
  {
   "cell_type": "code",
   "execution_count": 38,
   "metadata": {},
   "outputs": [
    {
     "name": "stdout",
     "output_type": "stream",
     "text": [
      "0\n",
      "2\n",
      "4\n",
      "6\n",
      "8\n",
      "10\n",
      "12\n",
      "14\n",
      "16\n",
      "18\n"
     ]
    }
   ],
   "source": [
    "for n in range(0,20,2):\n",
    "    print(n)"
   ]
  },
  {
   "cell_type": "markdown",
   "metadata": {},
   "source": [
    "## While loop"
   ]
  },
  {
   "cell_type": "code",
   "execution_count": 39,
   "metadata": {},
   "outputs": [
    {
     "name": "stdout",
     "output_type": "stream",
     "text": [
      "0\n",
      "1\n",
      "2\n",
      "3\n",
      "4\n"
     ]
    }
   ],
   "source": [
    "i=0\n",
    "while i<5:\n",
    "    print(i)\n",
    "    i=i+1"
   ]
  },
  {
   "cell_type": "code",
   "execution_count": 40,
   "metadata": {},
   "outputs": [
    {
     "name": "stdout",
     "output_type": "stream",
     "text": [
      "a 1\n",
      "a 2\n",
      "a 3\n",
      "a 4\n",
      "b 1\n",
      "b 2\n",
      "b 3\n",
      "b 4\n",
      "c 1\n",
      "c 2\n",
      "c 3\n",
      "c 4\n"
     ]
    }
   ],
   "source": [
    "letters= ['a','b','c']\n",
    "numbers = [1,2,3,4]\n",
    "\n",
    "for letter in letters:\n",
    "    for number in numbers:\n",
    "        print(letter,number)"
   ]
  },
  {
   "cell_type": "markdown",
   "metadata": {},
   "source": [
    "## Loops\n",
    "\n",
    "We have created a dictionary called 'plants' with the values representing annual supply out of that region. Use a for loop to populate a list called 'updated_plants' with only the plant names of the plants with an annual supply of more than 875 units."
   ]
  },
  {
   "cell_type": "code",
   "execution_count": 41,
   "metadata": {},
   "outputs": [
    {
     "data": {
      "text/plain": [
       "{'Dallas': 900,\n",
       " 'Las Vegas': 500,\n",
       " 'Detroit': 832,\n",
       " 'Nashville': 600,\n",
       " 'Los Angeles': 2400,\n",
       " 'Seattle': 1300,\n",
       " 'Denver': 1800}"
      ]
     },
     "execution_count": 41,
     "metadata": {},
     "output_type": "execute_result"
    }
   ],
   "source": [
    "plants"
   ]
  },
  {
   "cell_type": "code",
   "execution_count": 42,
   "metadata": {},
   "outputs": [
    {
     "name": "stdout",
     "output_type": "stream",
     "text": [
      "['Dallas', 'Los Angeles', 'Seattle', 'Denver']\n"
     ]
    }
   ],
   "source": [
    "updated_plants = []\n",
    "\n",
    "'''\n",
    "Populate the list called 'updated_plants' with only the plant names of the \n",
    "plants with an annual supply of more than 875 units.\n",
    "'''\n",
    "\n",
    "# your code here\n",
    "for location,supply in plants.items():\n",
    "    if(supply>875):\n",
    "        updated_plants.append(location)\n",
    "print(updated_plants)"
   ]
  },
  {
   "cell_type": "code",
   "execution_count": 43,
   "metadata": {},
   "outputs": [
    {
     "name": "stdout",
     "output_type": "stream",
     "text": [
      "Dallas\n",
      "Las Vegas\n",
      "Detroit\n",
      "Nashville\n",
      "Los Angeles\n",
      "Seattle\n",
      "Denver\n"
     ]
    }
   ],
   "source": [
    "for plant in plants:\n",
    "    print(plant)"
   ]
  },
  {
   "cell_type": "code",
   "execution_count": 44,
   "metadata": {},
   "outputs": [
    {
     "name": "stdout",
     "output_type": "stream",
     "text": [
      "['Dallas', 'Los Angeles', 'Seattle', 'Denver', 'Dallas', 'Los Angeles', 'Seattle', 'Denver']\n"
     ]
    }
   ],
   "source": [
    "for plant in plants:\n",
    "    temp_val = plants[plant]\n",
    "    if temp_val > 875:\n",
    "        updated_plants.append(plant)\n",
    "\n",
    "print(updated_plants)"
   ]
  },
  {
   "cell_type": "markdown",
   "metadata": {},
   "source": [
    "## Functions"
   ]
  },
  {
   "cell_type": "code",
   "execution_count": 45,
   "metadata": {},
   "outputs": [
    {
     "data": {
      "text/plain": [
       "68"
      ]
     },
     "execution_count": 45,
     "metadata": {},
     "output_type": "execute_result"
    }
   ],
   "source": [
    "def maxval(ls):\n",
    "    mval =ls[0]\n",
    "    for entry in ls:\n",
    "        if entry > mval:\n",
    "            mval = entry\n",
    "    return mval\n",
    "\n",
    "numbers=[1,3,4,6,68,3,2]\n",
    "maxval(numbers)"
   ]
  },
  {
   "cell_type": "code",
   "execution_count": 47,
   "metadata": {},
   "outputs": [
    {
     "data": {
      "text/plain": [
       "68"
      ]
     },
     "execution_count": 47,
     "metadata": {},
     "output_type": "execute_result"
    }
   ],
   "source": [
    "maxval((1,3,4,6,68,3,2))"
   ]
  },
  {
   "cell_type": "markdown",
   "metadata": {},
   "source": [
    "\n",
    "W​hat might happen if we called the maxval function on a data type other than a list (e.g.dictionary)?\n",
    "\n",
    "1. set object is not subscriptable\n",
    "\n",
    "2.  tuple will return the max value because it is subscriptable\n",
    "\n",
    "W​ell, it depends. If we pass in a data type that can't be indexed, such as a integer or float, then the line ls[0] will give us an error. However, if we pass in a data type that is able to be indexed like a list, such as a dicitionary or even a string,  then the function will run without error but may not do what we intend. When writing or using functions, it's important to make note of the data types that are supported.\n"
   ]
  },
  {
   "cell_type": "code",
   "execution_count": 49,
   "metadata": {},
   "outputs": [
    {
     "name": "stdout",
     "output_type": "stream",
     "text": [
      "Wall time: 0 ns\n"
     ]
    },
    {
     "data": {
      "text/plain": [
       "68"
      ]
     },
     "execution_count": 49,
     "metadata": {},
     "output_type": "execute_result"
    }
   ],
   "source": [
    "%time\n",
    "max(numbers)"
   ]
  },
  {
   "cell_type": "code",
   "execution_count": 52,
   "metadata": {},
   "outputs": [
    {
     "name": "stdout",
     "output_type": "stream",
     "text": [
      "Wall time: 0 ns\n"
     ]
    },
    {
     "data": {
      "text/plain": [
       "68"
      ]
     },
     "execution_count": 52,
     "metadata": {},
     "output_type": "execute_result"
    }
   ],
   "source": [
    "%time \n",
    "maxval(numbers)"
   ]
  },
  {
   "cell_type": "code",
   "execution_count": 53,
   "metadata": {},
   "outputs": [
    {
     "data": {
      "text/plain": [
       "'z'"
      ]
     },
     "execution_count": 53,
     "metadata": {},
     "output_type": "execute_result"
    }
   ],
   "source": [
    "maxval('zebra')"
   ]
  },
  {
   "cell_type": "code",
   "execution_count": 54,
   "metadata": {},
   "outputs": [
    {
     "ename": "KeyError",
     "evalue": "0",
     "output_type": "error",
     "traceback": [
      "\u001b[1;31m---------------------------------------------------------------------------\u001b[0m",
      "\u001b[1;31mKeyError\u001b[0m                                  Traceback (most recent call last)",
      "\u001b[1;32m<ipython-input-54-5666a2ee31fd>\u001b[0m in \u001b[0;36m<module>\u001b[1;34m\u001b[0m\n\u001b[0;32m      1\u001b[0m \u001b[0mgrades\u001b[0m\u001b[1;33m=\u001b[0m\u001b[1;33m{\u001b[0m\u001b[1;34m'A'\u001b[0m\u001b[1;33m:\u001b[0m\u001b[1;36m5\u001b[0m\u001b[1;33m,\u001b[0m\u001b[1;34m'B'\u001b[0m\u001b[1;33m:\u001b[0m\u001b[1;36m4\u001b[0m\u001b[1;33m}\u001b[0m\u001b[1;33m\u001b[0m\u001b[1;33m\u001b[0m\u001b[0m\n\u001b[1;32m----> 2\u001b[1;33m \u001b[0mmaxval\u001b[0m\u001b[1;33m(\u001b[0m\u001b[0mgrades\u001b[0m\u001b[1;33m)\u001b[0m\u001b[1;33m\u001b[0m\u001b[1;33m\u001b[0m\u001b[0m\n\u001b[0m",
      "\u001b[1;32m<ipython-input-45-55fd4018d457>\u001b[0m in \u001b[0;36mmaxval\u001b[1;34m(ls)\u001b[0m\n\u001b[0;32m      1\u001b[0m \u001b[1;32mdef\u001b[0m \u001b[0mmaxval\u001b[0m\u001b[1;33m(\u001b[0m\u001b[0mls\u001b[0m\u001b[1;33m)\u001b[0m\u001b[1;33m:\u001b[0m\u001b[1;33m\u001b[0m\u001b[1;33m\u001b[0m\u001b[0m\n\u001b[1;32m----> 2\u001b[1;33m     \u001b[0mmval\u001b[0m \u001b[1;33m=\u001b[0m\u001b[0mls\u001b[0m\u001b[1;33m[\u001b[0m\u001b[1;36m0\u001b[0m\u001b[1;33m]\u001b[0m\u001b[1;33m\u001b[0m\u001b[1;33m\u001b[0m\u001b[0m\n\u001b[0m\u001b[0;32m      3\u001b[0m     \u001b[1;32mfor\u001b[0m \u001b[0mentry\u001b[0m \u001b[1;32min\u001b[0m \u001b[0mls\u001b[0m\u001b[1;33m:\u001b[0m\u001b[1;33m\u001b[0m\u001b[1;33m\u001b[0m\u001b[0m\n\u001b[0;32m      4\u001b[0m         \u001b[1;32mif\u001b[0m \u001b[0mentry\u001b[0m \u001b[1;33m>\u001b[0m \u001b[0mmval\u001b[0m\u001b[1;33m:\u001b[0m\u001b[1;33m\u001b[0m\u001b[1;33m\u001b[0m\u001b[0m\n\u001b[0;32m      5\u001b[0m             \u001b[0mmval\u001b[0m \u001b[1;33m=\u001b[0m \u001b[0mentry\u001b[0m\u001b[1;33m\u001b[0m\u001b[1;33m\u001b[0m\u001b[0m\n",
      "\u001b[1;31mKeyError\u001b[0m: 0"
     ]
    }
   ],
   "source": [
    "grades={'A':5,'B':4}\n",
    "maxval(grades) # gives an error"
   ]
  },
  {
   "cell_type": "code",
   "execution_count": 55,
   "metadata": {},
   "outputs": [
    {
     "name": "stdout",
     "output_type": "stream",
     "text": [
      "prod(3,4)  12\n",
      "prod(3,['a','b','c'])  ['a', 'b', 'c', 'a', 'b', 'c', 'a', 'b', 'c']\n"
     ]
    }
   ],
   "source": [
    "def prod(a,b):\n",
    "    return a*b\n",
    "\n",
    "print(\"prod(3,4) \",prod(3,4))\n",
    "print(\"prod(3,['a','b','c']) \",prod(3,['a','b','c']))"
   ]
  },
  {
   "cell_type": "code",
   "execution_count": 56,
   "metadata": {},
   "outputs": [
    {
     "name": "stdout",
     "output_type": "stream",
     "text": [
      "Sing do\n",
      "Sing re\n",
      "Sing mi\n"
     ]
    }
   ],
   "source": [
    "def sing(notes):\n",
    "    for note in notes:\n",
    "        print(\"Sing \"+note)\n",
    "\n",
    "sing(['do','re','mi'])"
   ]
  },
  {
   "cell_type": "markdown",
   "metadata": {},
   "source": [
    "## Programming Assignment: Functions\n",
    "\n",
    "Define a function called 'dictionary_creator' to take in two lists and return a dictionary with key:value pair list1:list2. If the two lists are not the same size, return the word \"Error\" instead."
   ]
  },
  {
   "cell_type": "code",
   "execution_count": 61,
   "metadata": {},
   "outputs": [
    {
     "data": {
      "text/plain": [
       "{'a': 1, 'b': 2, 'c': 3}"
      ]
     },
     "execution_count": 61,
     "metadata": {},
     "output_type": "execute_result"
    }
   ],
   "source": [
    "def dictionary_creator(list1, list2):\n",
    "    \n",
    "    ### dictionary_creator(['a', 'b', 'c'], [1,2,3]) should return {'a': 1, 'b': 2, 'c': 3}\n",
    "    ### dictionary_creator(['monkeys', 'pirates', 'captains'], [1,2]) should return \"Error\"\n",
    "    \n",
    "    # your code here\n",
    "    if len(list1)!=len(list2):\n",
    "        return \"Error\"\n",
    "    temp_dict={}\n",
    "    for i in range(len(list1)):\n",
    "        temp_dict[list1[i]]=list2[i]\n",
    "        \n",
    "    return temp_dict\n",
    "    \n",
    "dictionary_creator(['a', 'b', 'c'], [1,2,3])"
   ]
  },
  {
   "cell_type": "markdown",
   "metadata": {},
   "source": [
    "## Keyword Arguments\n",
    "\n",
    "W​e've been using keyword arguemtns in our code, such as the 'inplace' paramater. FInd out exactly what they are and how they are useful in this article:\n",
    "\n",
    "https://www.educative.io/edpresso/what-are-keyword-arguments-in-python\n",
    "\n",
    "H​ere's the takeaway:\n",
    "\n",
    "* F​unction inputs can be given in the order they are defined (positional) or by specifying the name of the input (keyword). In addition, we can provide default values in the case that an input is not provided for that argument.\n",
    "\n",
    "* F​or example, consider the following code:\n",
    "\n",
    "d​ef TripleSum(a, b, c = 0):\n",
    "\n",
    " ​    print(a + b + c)\n",
    "\n",
    "* T​he arguments a and b must be given, but if no input for c is provided then the function assumes it is 0\n",
    "\n",
    "* T​he following are all valid inputs for TripleSum:\n",
    "\n",
    "TripleSum(1, 2, 3)\n",
    "\n",
    "TripleSum(1, 2, c = 3)\n",
    "\n",
    "TripleSum(a = 1, b = 2, c = 3)\n",
    "\n",
    "TripleSum(b = 2, c = 3, a = 1)\n",
    "\n",
    "TripleSum(4, 7)\n",
    "\n",
    "TripleSum(4, b = 7)\n",
    "\n",
    "TripleSum(a = 4, b = 7)\n",
    "\n",
    "TripleSum(b = 7, a = 4)\n",
    "\n",
    "H​owever, positional arguments must always come before keywork arguments. As such, the following are invalid:\n",
    "\n",
    "TripleSum(a = 1, 2, 3)\n",
    "\n",
    "TripleSum(b = 7, 4)"
   ]
  },
  {
   "cell_type": "code",
   "execution_count": 62,
   "metadata": {},
   "outputs": [
    {
     "data": {
      "text/plain": [
       "{'a': 1, 'b': 2, 'c': 3}"
      ]
     },
     "execution_count": 62,
     "metadata": {},
     "output_type": "execute_result"
    }
   ],
   "source": [
    "def dictionary_creator(list1, list2):\n",
    "    if len(list1) == len(list2):\n",
    "        return dict(zip(list1, list2))\n",
    "    else:\n",
    "        return \"Error\"\n",
    "\n",
    "dictionary_creator(['a', 'b', 'c'], [1,2,3])"
   ]
  },
  {
   "cell_type": "markdown",
   "metadata": {},
   "source": [
    "## Libraries and Modules"
   ]
  },
  {
   "cell_type": "markdown",
   "metadata": {},
   "source": [
    "#Module - file with defs/statements\n",
    "#library/package - organized collection of modules"
   ]
  },
  {
   "cell_type": "code",
   "execution_count": 63,
   "metadata": {},
   "outputs": [
    {
     "data": {
      "text/plain": [
       "array([0.71469627, 0.27157789, 0.09783078, 0.43224277, 0.46048844,\n",
       "       0.27495568, 0.42781834, 0.59908902, 0.46519293, 0.50566392])"
      ]
     },
     "execution_count": 63,
     "metadata": {},
     "output_type": "execute_result"
    }
   ],
   "source": [
    "# e.g of library\n",
    "\n",
    "import numpy as np\n",
    "nums=np.random.rand(10)\n",
    "nums"
   ]
  },
  {
   "cell_type": "markdown",
   "metadata": {},
   "source": [
    "np --> random ---> rand"
   ]
  },
  {
   "cell_type": "markdown",
   "metadata": {},
   "source": [
    "The library NumPy has a module in it called random which in turn has a function inside of it called rand. When this rand function is passed into number 10, it returns a NumPy array of 10 random numbers between zero and one. Rand can also be passed in two numbers instead."
   ]
  },
  {
   "cell_type": "code",
   "execution_count": null,
   "metadata": {},
   "outputs": [],
   "source": [
    "# return a 3 by 4 matrix of random numbers between 0 and 1"
   ]
  },
  {
   "cell_type": "code",
   "execution_count": 64,
   "metadata": {},
   "outputs": [
    {
     "data": {
      "text/plain": [
       "array([[0.27792823, 0.44784762, 0.05527865, 0.27322839],\n",
       "       [0.70205466, 0.36464   , 0.95416625, 0.70052245],\n",
       "       [0.23244097, 0.33995191, 0.54136172, 0.20139466]])"
      ]
     },
     "execution_count": 64,
     "metadata": {},
     "output_type": "execute_result"
    }
   ],
   "source": [
    "mat= np.random.rand(3,4)\n",
    "mat"
   ]
  },
  {
   "cell_type": "code",
   "execution_count": 65,
   "metadata": {},
   "outputs": [
    {
     "data": {
      "text/plain": [
       "0.166362316999171"
      ]
     },
     "execution_count": 65,
     "metadata": {},
     "output_type": "execute_result"
    }
   ],
   "source": [
    "nums.std()# method that comes with numpy arrays"
   ]
  },
  {
   "cell_type": "code",
   "execution_count": 66,
   "metadata": {},
   "outputs": [
    {
     "data": {
      "text/plain": [
       "array([[0.27792823, 0.72577585, 0.7810545 , 1.05428289],\n",
       "       [0.70205466, 1.06669467, 2.02086092, 2.72138336],\n",
       "       [0.23244097, 0.57239288, 1.1137546 , 1.31514927]])"
      ]
     },
     "execution_count": 66,
     "metadata": {},
     "output_type": "execute_result"
    }
   ],
   "source": [
    "## Find the rowise cummulative sums\n",
    "mat.cumsum(1)"
   ]
  },
  {
   "cell_type": "code",
   "execution_count": 67,
   "metadata": {},
   "outputs": [
    {
     "data": {
      "text/plain": [
       "array([[0.27792823, 0.44784762, 0.05527865, 0.27322839],\n",
       "       [0.9799829 , 0.81248762, 1.0094449 , 0.97375084],\n",
       "       [1.21242387, 1.15243953, 1.55080662, 1.1751455 ]])"
      ]
     },
     "execution_count": 67,
     "metadata": {},
     "output_type": "execute_result"
    }
   ],
   "source": [
    "## Columnwise cummulative sum\n",
    "mat.cumsum(0)"
   ]
  },
  {
   "cell_type": "code",
   "execution_count": 68,
   "metadata": {},
   "outputs": [
    {
     "data": {
      "text/plain": [
       "0.166362316999171"
      ]
     },
     "execution_count": 68,
     "metadata": {},
     "output_type": "execute_result"
    }
   ],
   "source": [
    "## function that comes with numpy library\n",
    "np.std(nums)# another way of standard deviation"
   ]
  },
  {
   "cell_type": "code",
   "execution_count": 69,
   "metadata": {},
   "outputs": [
    {
     "name": "stdout",
     "output_type": "stream",
     "text": [
      "Using license file C:\\gurobi912\\gurobi.lic\n"
     ]
    }
   ],
   "source": [
    "import pulp"
   ]
  },
  {
   "cell_type": "markdown",
   "metadata": {},
   "source": [
    "## Top 10 Python Libraries for Data Science\n",
    "\n",
    "R​ead through some of the most common and useful libraries for data science in Python. In the next module, we'll be going over two of the most common: Pandas and Numpy. Stick around for the rest of the specialization where we'll dive deeper into all 10 covered in the list, including when to use one over the other.\n",
    "\n",
    "https://towardsdatascience.com/top-10-python-libraries-for-data-science-cd82294ec266\n",
    "\n",
    "I​n short, the list of 10 is the following:\n",
    "\n",
    "1. P​andas\n",
    "\n",
    "2. N​umPy\n",
    "\n",
    "3. S​ciPy\n",
    "\n",
    "4. M​atplotlib\n",
    "\n",
    "5. S​eaborn\n",
    "\n",
    "6. S​cikit Learn\n",
    "\n",
    "7. T​ensorflow\n",
    "\n",
    "8. K​eras\n",
    "\n",
    "9. S​tatsmodels\n",
    "\n",
    "10. P​lotly"
   ]
  },
  {
   "cell_type": "markdown",
   "metadata": {},
   "source": [
    "# Linear Programming with Pulp\n",
    "\n",
    "## What is PuLP?\n",
    "\n",
    "PuLP is a Python package that specializes in discrete optimization. For example, suppose we want to maximize x*y given that 2*x + y = 3. If we allow any number as a solution then calculus tells us that we would get x = 3/4 and y = 3/2. However, suppose we are only allowed to have integers for solutions (i.e. no fractions). One might expect the answer to be integers close to these fractions (e.g. x = 1 and y = 1), but it's not always this simple. We would use PuLP in place of caluclus for problems like this.\n",
    "\n",
    "Here's an article discussing PuLP: https://medium.com/ro-data-team-blog/optimization-with-pulp-in-python-getting-started-f6c5b678bf15"
   ]
  },
  {
   "cell_type": "markdown",
   "metadata": {},
   "source": [
    "## Linear Programming with Pulp (I)\n",
    "\n",
    "**Objective:**\n",
    "\n",
    "* Minimize cost while filling product demand.\n",
    "\n",
    "**4 Plant (Supply)**\n",
    "\n",
    "* Dallas\n",
    "* Los Angeles\n",
    "* Seattle\n",
    "* Denver\n",
    "\n",
    "**4 Stores (Demand)**\n",
    "\n",
    "* Austin\n",
    "* Sacramento\n",
    "* Philadephia\n",
    "* Boulder\n",
    "\n",
    "**Costs**\n",
    "\n",
    "* Fixed cost to build plant\n",
    "* Variable cost to ship product per route\n",
    "\n",
    "**Questions:**\n",
    "\n",
    "* Which plants should we build?\n",
    "* Which products should we send on which route?\n",
    "\n"
   ]
  },
  {
   "cell_type": "code",
   "execution_count": 73,
   "metadata": {},
   "outputs": [],
   "source": [
    "import pandas as pd"
   ]
  },
  {
   "cell_type": "code",
   "execution_count": 78,
   "metadata": {},
   "outputs": [
    {
     "data": {
      "text/html": [
       "<div>\n",
       "<style scoped>\n",
       "    .dataframe tbody tr th:only-of-type {\n",
       "        vertical-align: middle;\n",
       "    }\n",
       "\n",
       "    .dataframe tbody tr th {\n",
       "        vertical-align: top;\n",
       "    }\n",
       "\n",
       "    .dataframe thead th {\n",
       "        text-align: right;\n",
       "    }\n",
       "</style>\n",
       "<table border=\"1\" class=\"dataframe\">\n",
       "  <thead>\n",
       "    <tr style=\"text-align: right;\">\n",
       "      <th></th>\n",
       "      <th>0</th>\n",
       "      <th>1</th>\n",
       "      <th>2</th>\n",
       "      <th>3</th>\n",
       "    </tr>\n",
       "  </thead>\n",
       "  <tbody>\n",
       "    <tr>\n",
       "      <th>0</th>\n",
       "      <td>2</td>\n",
       "      <td>7</td>\n",
       "      <td>4</td>\n",
       "      <td>6</td>\n",
       "    </tr>\n",
       "    <tr>\n",
       "      <th>1</th>\n",
       "      <td>6</td>\n",
       "      <td>3</td>\n",
       "      <td>4</td>\n",
       "      <td>5</td>\n",
       "    </tr>\n",
       "    <tr>\n",
       "      <th>2</th>\n",
       "      <td>8</td>\n",
       "      <td>4</td>\n",
       "      <td>6</td>\n",
       "      <td>5</td>\n",
       "    </tr>\n",
       "    <tr>\n",
       "      <th>3</th>\n",
       "      <td>7</td>\n",
       "      <td>6</td>\n",
       "      <td>5</td>\n",
       "      <td>1</td>\n",
       "    </tr>\n",
       "  </tbody>\n",
       "</table>\n",
       "</div>"
      ],
      "text/plain": [
       "   0  1  2  3\n",
       "0  2  7  4  6\n",
       "1  6  3  4  5\n",
       "2  8  4  6  5\n",
       "3  7  6  5  1"
      ]
     },
     "execution_count": 78,
     "metadata": {},
     "output_type": "execute_result"
    }
   ],
   "source": [
    "plants=['Dallas','Los Angeles','Seattle','Denver']\n",
    "stores=['Austin','Sacramento','Philadephia','Boulder']\n",
    "\n",
    "#,index=plants,columns=stores\n",
    "cost_matrix=pd.DataFrame(np.array([[2,7,4,6],[6,3,4,5],[8,4,6,5],[7,6,5,1]]))\n",
    "cost_matrix"
   ]
  },
  {
   "cell_type": "code",
   "execution_count": 79,
   "metadata": {},
   "outputs": [
    {
     "data": {
      "text/plain": [
       "2"
      ]
     },
     "execution_count": 79,
     "metadata": {},
     "output_type": "execute_result"
    }
   ],
   "source": [
    "cost_matrix[0][0]"
   ]
  },
  {
   "cell_type": "markdown",
   "metadata": {},
   "source": [
    "However, we want to convert this list of lists to a dictionary of dictionaries to use with the Pulp library\n",
    "\n",
    "![Pulp Preprocessing](pulp_preprocessing.png)"
   ]
  },
  {
   "cell_type": "code",
   "execution_count": 80,
   "metadata": {},
   "outputs": [],
   "source": [
    "## Costs: Dictionary of Dictionaries\n",
    "costs={}\n",
    "for i in range(len(plants)):\n",
    "    temp_dict={}\n",
    "    for j in range(len(stores)):\n",
    "        temp_dict[stores[j]] = cost_matrix[i][j]\n",
    "    costs[plants[i]]=temp_dict"
   ]
  },
  {
   "cell_type": "code",
   "execution_count": 81,
   "metadata": {},
   "outputs": [
    {
     "data": {
      "text/plain": [
       "{'Dallas': {'Austin': 2, 'Sacramento': 6, 'Philadephia': 8, 'Boulder': 7},\n",
       " 'Los Angeles': {'Austin': 7, 'Sacramento': 3, 'Philadephia': 4, 'Boulder': 6},\n",
       " 'Seattle': {'Austin': 4, 'Sacramento': 4, 'Philadephia': 6, 'Boulder': 5},\n",
       " 'Denver': {'Austin': 6, 'Sacramento': 5, 'Philadephia': 5, 'Boulder': 1}}"
      ]
     },
     "execution_count": 81,
     "metadata": {},
     "output_type": "execute_result"
    }
   ],
   "source": [
    "costs"
   ]
  },
  {
   "cell_type": "markdown",
   "metadata": {},
   "source": [
    "# Routes: List of Tuples\n",
    "\n",
    "We need the list of all the routes we can ship out product on."
   ]
  },
  {
   "cell_type": "code",
   "execution_count": 82,
   "metadata": {},
   "outputs": [],
   "source": [
    "routes=[]\n",
    "for p in plants:\n",
    "    for s in stores:\n",
    "        routes.append((p,s))"
   ]
  },
  {
   "cell_type": "code",
   "execution_count": 83,
   "metadata": {},
   "outputs": [
    {
     "data": {
      "text/plain": [
       "[('Dallas', 'Austin'),\n",
       " ('Dallas', 'Sacramento'),\n",
       " ('Dallas', 'Philadephia'),\n",
       " ('Dallas', 'Boulder'),\n",
       " ('Los Angeles', 'Austin'),\n",
       " ('Los Angeles', 'Sacramento'),\n",
       " ('Los Angeles', 'Philadephia'),\n",
       " ('Los Angeles', 'Boulder'),\n",
       " ('Seattle', 'Austin'),\n",
       " ('Seattle', 'Sacramento'),\n",
       " ('Seattle', 'Philadephia'),\n",
       " ('Seattle', 'Boulder'),\n",
       " ('Denver', 'Austin'),\n",
       " ('Denver', 'Sacramento'),\n",
       " ('Denver', 'Philadephia'),\n",
       " ('Denver', 'Boulder')]"
      ]
     },
     "execution_count": 83,
     "metadata": {},
     "output_type": "execute_result"
    }
   ],
   "source": [
    "routes"
   ]
  },
  {
   "cell_type": "markdown",
   "metadata": {},
   "source": [
    "### Coding with Pulp\n",
    "\n",
    "![Coding with Pulp](Coding_with_pulp.png)"
   ]
  },
  {
   "cell_type": "code",
   "execution_count": 84,
   "metadata": {},
   "outputs": [
    {
     "data": {
      "text/plain": [
       "['Dallas', 'Los Angeles', 'Seattle', 'Denver']"
      ]
     },
     "execution_count": 84,
     "metadata": {},
     "output_type": "execute_result"
    }
   ],
   "source": [
    "plants=['Dallas','Los Angeles','Seattle','Denver']\n",
    "plants"
   ]
  },
  {
   "cell_type": "code",
   "execution_count": 85,
   "metadata": {},
   "outputs": [
    {
     "data": {
      "text/plain": [
       "{'Dallas': 900, 'Los Angeles': 2400, 'Seattle': 1300, 'Denver': 1000}"
      ]
     },
     "execution_count": 85,
     "metadata": {},
     "output_type": "execute_result"
    }
   ],
   "source": [
    "supply = {'Dallas':900,'Los Angeles':2400,'Seattle':1300,'Denver':1000}\n",
    "supply"
   ]
  },
  {
   "cell_type": "code",
   "execution_count": 86,
   "metadata": {},
   "outputs": [
    {
     "data": {
      "text/plain": [
       "{'Dallas': 75000, 'Los Angeles': 72000, 'Seattle': 100000, 'Denver': 74000}"
      ]
     },
     "execution_count": 86,
     "metadata": {},
     "output_type": "execute_result"
    }
   ],
   "source": [
    "fixedCost = {'Dallas':75000,'Los Angeles':72000,'Seattle':100000,'Denver':74000}\n",
    "fixedCost"
   ]
  },
  {
   "cell_type": "code",
   "execution_count": 87,
   "metadata": {},
   "outputs": [
    {
     "data": {
      "text/plain": [
       "['Austin', 'Sacramento', 'Philadephia', 'Boulder']"
      ]
     },
     "execution_count": 87,
     "metadata": {},
     "output_type": "execute_result"
    }
   ],
   "source": [
    "# Demand\n",
    "stores"
   ]
  },
  {
   "cell_type": "code",
   "execution_count": 88,
   "metadata": {},
   "outputs": [
    {
     "data": {
      "text/plain": [
       "{'Austin': 1700, 'Sacramento': 1000, 'Philadephia': 1500, 'Boulder': 1200}"
      ]
     },
     "execution_count": 88,
     "metadata": {},
     "output_type": "execute_result"
    }
   ],
   "source": [
    "demand= {'Austin':1700,'Sacramento':1000, 'Philadephia':1500, 'Boulder':1200}\n",
    "demand"
   ]
  },
  {
   "cell_type": "code",
   "execution_count": 89,
   "metadata": {},
   "outputs": [],
   "source": [
    "cost_matrix =[\n",
    "              #ATX  #SAC  #PHL  #BU \n",
    "              [2,    7,    4,    6], # DAL\n",
    "              [6,    3,    4,    5], # LA\n",
    "              [8,    4,    6,    5], #SEA\n",
    "              [7,    6,    5,    1]  #DEN\n",
    "]"
   ]
  },
  {
   "cell_type": "code",
   "execution_count": 90,
   "metadata": {},
   "outputs": [
    {
     "data": {
      "text/plain": [
       "[[2, 7, 4, 6], [6, 3, 4, 5], [8, 4, 6, 5], [7, 6, 5, 1]]"
      ]
     },
     "execution_count": 90,
     "metadata": {},
     "output_type": "execute_result"
    }
   ],
   "source": [
    "cost_matrix"
   ]
  },
  {
   "cell_type": "code",
   "execution_count": 91,
   "metadata": {},
   "outputs": [],
   "source": [
    "# Pulp requires dictionaries so convert from list of list to dictionary of dictionaries\n",
    "## Costs: Dictionary of Dictionaries\n",
    "costs={}\n",
    "for i in range(len(plants)):\n",
    "    temp_dict={}\n",
    "    for j in range(len(stores)):\n",
    "        temp_dict[stores[j]] = cost_matrix[i][j]\n",
    "    costs[plants[i]]=temp_dict\n"
   ]
  },
  {
   "cell_type": "code",
   "execution_count": 92,
   "metadata": {},
   "outputs": [
    {
     "data": {
      "text/plain": [
       "{'Dallas': {'Austin': 2, 'Sacramento': 7, 'Philadephia': 4, 'Boulder': 6},\n",
       " 'Los Angeles': {'Austin': 6, 'Sacramento': 3, 'Philadephia': 4, 'Boulder': 5},\n",
       " 'Seattle': {'Austin': 8, 'Sacramento': 4, 'Philadephia': 6, 'Boulder': 5},\n",
       " 'Denver': {'Austin': 7, 'Sacramento': 6, 'Philadephia': 5, 'Boulder': 1}}"
      ]
     },
     "execution_count": 92,
     "metadata": {},
     "output_type": "execute_result"
    }
   ],
   "source": [
    "costs"
   ]
  },
  {
   "cell_type": "markdown",
   "metadata": {},
   "source": [
    "# create our routes"
   ]
  },
  {
   "cell_type": "code",
   "execution_count": 93,
   "metadata": {},
   "outputs": [],
   "source": [
    "routes=[]\n",
    "for p in plants:\n",
    "    for s in stores:\n",
    "        routes.append((p,s))"
   ]
  },
  {
   "cell_type": "code",
   "execution_count": 94,
   "metadata": {},
   "outputs": [
    {
     "data": {
      "text/plain": [
       "[('Dallas', 'Austin'),\n",
       " ('Dallas', 'Sacramento'),\n",
       " ('Dallas', 'Philadephia'),\n",
       " ('Dallas', 'Boulder'),\n",
       " ('Los Angeles', 'Austin'),\n",
       " ('Los Angeles', 'Sacramento'),\n",
       " ('Los Angeles', 'Philadephia'),\n",
       " ('Los Angeles', 'Boulder'),\n",
       " ('Seattle', 'Austin'),\n",
       " ('Seattle', 'Sacramento'),\n",
       " ('Seattle', 'Philadephia'),\n",
       " ('Seattle', 'Boulder'),\n",
       " ('Denver', 'Austin'),\n",
       " ('Denver', 'Sacramento'),\n",
       " ('Denver', 'Philadephia'),\n",
       " ('Denver', 'Boulder')]"
      ]
     },
     "execution_count": 94,
     "metadata": {},
     "output_type": "execute_result"
    }
   ],
   "source": [
    "routes"
   ]
  },
  {
   "cell_type": "code",
   "execution_count": 97,
   "metadata": {},
   "outputs": [
    {
     "data": {
      "text/plain": [
       "{'Dallas': {'Austin': Route_Dallas_Austin,\n",
       "  'Sacramento': Route_Dallas_Sacramento,\n",
       "  'Philadephia': Route_Dallas_Philadephia,\n",
       "  'Boulder': Route_Dallas_Boulder},\n",
       " 'Los Angeles': {'Austin': Route_Los_Angeles_Austin,\n",
       "  'Sacramento': Route_Los_Angeles_Sacramento,\n",
       "  'Philadephia': Route_Los_Angeles_Philadephia,\n",
       "  'Boulder': Route_Los_Angeles_Boulder},\n",
       " 'Seattle': {'Austin': Route_Seattle_Austin,\n",
       "  'Sacramento': Route_Seattle_Sacramento,\n",
       "  'Philadephia': Route_Seattle_Philadephia,\n",
       "  'Boulder': Route_Seattle_Boulder},\n",
       " 'Denver': {'Austin': Route_Denver_Austin,\n",
       "  'Sacramento': Route_Denver_Sacramento,\n",
       "  'Philadephia': Route_Denver_Philadephia,\n",
       "  'Boulder': Route_Denver_Boulder}}"
      ]
     },
     "execution_count": 97,
     "metadata": {},
     "output_type": "execute_result"
    }
   ],
   "source": [
    "### Use pulp\n",
    "\n",
    "#Variable definition\n",
    "## Number of products to be shipped each route\n",
    "route= pulp.LpVariable.dicts(\"Route\",(plants,stores),0,None,pulp.LpInteger)\n",
    "route"
   ]
  },
  {
   "cell_type": "code",
   "execution_count": null,
   "metadata": {},
   "outputs": [],
   "source": [
    "### pulp.LpVariable.dicts(name,index,lowBound,upperBound,datatype or Category)"
   ]
  },
  {
   "cell_type": "markdown",
   "metadata": {},
   "source": [
    "Define a variable whether or not to build each plant\n",
    "0 indecating not to buld, 1 means build."
   ]
  },
  {
   "cell_type": "code",
   "execution_count": 98,
   "metadata": {},
   "outputs": [
    {
     "data": {
      "text/plain": [
       "{'Dallas': Build_Plant_Dallas,\n",
       " 'Los Angeles': Build_Plant_Los_Angeles,\n",
       " 'Seattle': Build_Plant_Seattle,\n",
       " 'Denver': Build_Plant_Denver}"
      ]
     },
     "execution_count": 98,
     "metadata": {},
     "output_type": "execute_result"
    }
   ],
   "source": [
    "build = pulp.LpVariable.dicts(\"Build_Plant\",plants,0,1,pulp.LpInteger)\n",
    "build"
   ]
  },
  {
   "cell_type": "markdown",
   "metadata": {},
   "source": [
    "define our objective functions"
   ]
  },
  {
   "cell_type": "code",
   "execution_count": 100,
   "metadata": {},
   "outputs": [
    {
     "data": {
      "text/plain": [
       "2*Route_Dallas_Austin + 6*Route_Dallas_Boulder + 4*Route_Dallas_Philadephia + 7*Route_Dallas_Sacramento + 7*Route_Denver_Austin + 1*Route_Denver_Boulder + 5*Route_Denver_Philadephia + 6*Route_Denver_Sacramento + 6*Route_Los_Angeles_Austin + 5*Route_Los_Angeles_Boulder + 4*Route_Los_Angeles_Philadephia + 3*Route_Los_Angeles_Sacramento + 8*Route_Seattle_Austin + 5*Route_Seattle_Boulder + 6*Route_Seattle_Philadephia + 4*Route_Seattle_Sacramento + 0"
      ]
     },
     "execution_count": 100,
     "metadata": {},
     "output_type": "execute_result"
    }
   ],
   "source": [
    "obj=\"\"\n",
    "\n",
    "for (p,s) in routes:\n",
    "    obj+=route[p][s]*costs[p][s]\n",
    "\n",
    "obj"
   ]
  },
  {
   "cell_type": "markdown",
   "metadata": {},
   "source": [
    "fixed cost to objective function"
   ]
  },
  {
   "cell_type": "code",
   "execution_count": 101,
   "metadata": {},
   "outputs": [
    {
     "data": {
      "text/plain": [
       "75000*Build_Plant_Dallas + 74000*Build_Plant_Denver + 72000*Build_Plant_Los_Angeles + 100000*Build_Plant_Seattle + 2*Route_Dallas_Austin + 6*Route_Dallas_Boulder + 4*Route_Dallas_Philadephia + 7*Route_Dallas_Sacramento + 7*Route_Denver_Austin + 1*Route_Denver_Boulder + 5*Route_Denver_Philadephia + 6*Route_Denver_Sacramento + 6*Route_Los_Angeles_Austin + 5*Route_Los_Angeles_Boulder + 4*Route_Los_Angeles_Philadephia + 3*Route_Los_Angeles_Sacramento + 8*Route_Seattle_Austin + 5*Route_Seattle_Boulder + 6*Route_Seattle_Philadephia + 4*Route_Seattle_Sacramento + 0"
      ]
     },
     "execution_count": 101,
     "metadata": {},
     "output_type": "execute_result"
    }
   ],
   "source": [
    "for p in plants:\n",
    "   obj += fixedCost[p] * build[p]\n",
    "\n",
    "obj"
   ]
  },
  {
   "cell_type": "markdown",
   "metadata": {},
   "source": [
    "Problem Statement"
   ]
  },
  {
   "cell_type": "code",
   "execution_count": 102,
   "metadata": {},
   "outputs": [
    {
     "data": {
      "text/plain": [
       "Supply_Demand:\n",
       "MINIMIZE\n",
       "75000*Build_Plant_Dallas + 74000*Build_Plant_Denver + 72000*Build_Plant_Los_Angeles + 100000*Build_Plant_Seattle + 2*Route_Dallas_Austin + 6*Route_Dallas_Boulder + 4*Route_Dallas_Philadephia + 7*Route_Dallas_Sacramento + 7*Route_Denver_Austin + 1*Route_Denver_Boulder + 5*Route_Denver_Philadephia + 6*Route_Denver_Sacramento + 6*Route_Los_Angeles_Austin + 5*Route_Los_Angeles_Boulder + 4*Route_Los_Angeles_Philadephia + 3*Route_Los_Angeles_Sacramento + 8*Route_Seattle_Austin + 5*Route_Seattle_Boulder + 6*Route_Seattle_Philadephia + 4*Route_Seattle_Sacramento + 0\n",
       "VARIABLES\n",
       "0 <= Build_Plant_Dallas <= 1 Integer\n",
       "0 <= Build_Plant_Denver <= 1 Integer\n",
       "0 <= Build_Plant_Los_Angeles <= 1 Integer\n",
       "0 <= Build_Plant_Seattle <= 1 Integer\n",
       "0 <= Route_Dallas_Austin Integer\n",
       "0 <= Route_Dallas_Boulder Integer\n",
       "0 <= Route_Dallas_Philadephia Integer\n",
       "0 <= Route_Dallas_Sacramento Integer\n",
       "0 <= Route_Denver_Austin Integer\n",
       "0 <= Route_Denver_Boulder Integer\n",
       "0 <= Route_Denver_Philadephia Integer\n",
       "0 <= Route_Denver_Sacramento Integer\n",
       "0 <= Route_Los_Angeles_Austin Integer\n",
       "0 <= Route_Los_Angeles_Boulder Integer\n",
       "0 <= Route_Los_Angeles_Philadephia Integer\n",
       "0 <= Route_Los_Angeles_Sacramento Integer\n",
       "0 <= Route_Seattle_Austin Integer\n",
       "0 <= Route_Seattle_Boulder Integer\n",
       "0 <= Route_Seattle_Philadephia Integer\n",
       "0 <= Route_Seattle_Sacramento Integer"
      ]
     },
     "execution_count": 102,
     "metadata": {},
     "output_type": "execute_result"
    }
   ],
   "source": [
    "prob = pulp.LpProblem(\"Supply_Demand\",pulp.LpMinimize)\n",
    "prob +=obj,\"Total Cost\"\n",
    "prob"
   ]
  },
  {
   "cell_type": "code",
   "execution_count": 114,
   "metadata": {},
   "outputs": [
    {
     "data": {
      "text/plain": [
       "{'Dallas': 900, 'Los Angeles': 2400, 'Seattle': 1300, 'Denver': 1000}"
      ]
     },
     "execution_count": 114,
     "metadata": {},
     "output_type": "execute_result"
    }
   ],
   "source": [
    "supply"
   ]
  },
  {
   "cell_type": "code",
   "execution_count": 104,
   "metadata": {},
   "outputs": [
    {
     "data": {
      "text/plain": [
       "Supply_Demand:\n",
       "MINIMIZE\n",
       "75000*Build_Plant_Dallas + 74000*Build_Plant_Denver + 72000*Build_Plant_Los_Angeles + 100000*Build_Plant_Seattle + 2*Route_Dallas_Austin + 6*Route_Dallas_Boulder + 4*Route_Dallas_Philadephia + 7*Route_Dallas_Sacramento + 7*Route_Denver_Austin + 1*Route_Denver_Boulder + 5*Route_Denver_Philadephia + 6*Route_Denver_Sacramento + 6*Route_Los_Angeles_Austin + 5*Route_Los_Angeles_Boulder + 4*Route_Los_Angeles_Philadephia + 3*Route_Los_Angeles_Sacramento + 8*Route_Seattle_Austin + 5*Route_Seattle_Boulder + 6*Route_Seattle_Philadephia + 4*Route_Seattle_Sacramento + 0\n",
       "SUBJECT TO\n",
       "Total_product_out_of_plant_Dallas: - 900 Build_Plant_Dallas\n",
       " + Route_Dallas_Austin + Route_Dallas_Boulder + Route_Dallas_Philadephia\n",
       " + Route_Dallas_Sacramento <= 0\n",
       "\n",
       "Total_product_out_of_plant_Los_Angeles: - 2400 Build_Plant_Los_Angeles\n",
       " + Route_Los_Angeles_Austin + Route_Los_Angeles_Boulder\n",
       " + Route_Los_Angeles_Philadephia + Route_Los_Angeles_Sacramento <= 0\n",
       "\n",
       "Total_product_out_of_plant_Seattle: - 1300 Build_Plant_Seattle\n",
       " + Route_Seattle_Austin + Route_Seattle_Boulder + Route_Seattle_Philadephia\n",
       " + Route_Seattle_Sacramento <= 0\n",
       "\n",
       "Total_product_out_of_plant_Denver: - 1000 Build_Plant_Denver\n",
       " + Route_Denver_Austin + Route_Denver_Boulder + Route_Denver_Philadephia\n",
       " + Route_Denver_Sacramento <= 0\n",
       "\n",
       "VARIABLES\n",
       "0 <= Build_Plant_Dallas <= 1 Integer\n",
       "0 <= Build_Plant_Denver <= 1 Integer\n",
       "0 <= Build_Plant_Los_Angeles <= 1 Integer\n",
       "0 <= Build_Plant_Seattle <= 1 Integer\n",
       "0 <= Route_Dallas_Austin Integer\n",
       "0 <= Route_Dallas_Boulder Integer\n",
       "0 <= Route_Dallas_Philadephia Integer\n",
       "0 <= Route_Dallas_Sacramento Integer\n",
       "0 <= Route_Denver_Austin Integer\n",
       "0 <= Route_Denver_Boulder Integer\n",
       "0 <= Route_Denver_Philadephia Integer\n",
       "0 <= Route_Denver_Sacramento Integer\n",
       "0 <= Route_Los_Angeles_Austin Integer\n",
       "0 <= Route_Los_Angeles_Boulder Integer\n",
       "0 <= Route_Los_Angeles_Philadephia Integer\n",
       "0 <= Route_Los_Angeles_Sacramento Integer\n",
       "0 <= Route_Seattle_Austin Integer\n",
       "0 <= Route_Seattle_Boulder Integer\n",
       "0 <= Route_Seattle_Philadephia Integer\n",
       "0 <= Route_Seattle_Sacramento Integer"
      ]
     },
     "execution_count": 104,
     "metadata": {},
     "output_type": "execute_result"
    }
   ],
   "source": [
    "### Supply/demand constraints\n",
    "\n",
    "for p in plants:\n",
    "    product_out =\"\"\n",
    "    for s in stores:\n",
    "        product_out += route[p][s]\n",
    "    prob += product_out <= supply[p] * build[p],'Total product out of plant_' + str(p)\n",
    "\n",
    "prob"
   ]
  },
  {
   "cell_type": "code",
   "execution_count": 105,
   "metadata": {},
   "outputs": [
    {
     "data": {
      "text/plain": [
       "Supply_Demand:\n",
       "MINIMIZE\n",
       "75000*Build_Plant_Dallas + 74000*Build_Plant_Denver + 72000*Build_Plant_Los_Angeles + 100000*Build_Plant_Seattle + 2*Route_Dallas_Austin + 6*Route_Dallas_Boulder + 4*Route_Dallas_Philadephia + 7*Route_Dallas_Sacramento + 7*Route_Denver_Austin + 1*Route_Denver_Boulder + 5*Route_Denver_Philadephia + 6*Route_Denver_Sacramento + 6*Route_Los_Angeles_Austin + 5*Route_Los_Angeles_Boulder + 4*Route_Los_Angeles_Philadephia + 3*Route_Los_Angeles_Sacramento + 8*Route_Seattle_Austin + 5*Route_Seattle_Boulder + 6*Route_Seattle_Philadephia + 4*Route_Seattle_Sacramento + 0\n",
       "SUBJECT TO\n",
       "Total_product_out_of_plant_Dallas: - 900 Build_Plant_Dallas\n",
       " + Route_Dallas_Austin + Route_Dallas_Boulder + Route_Dallas_Philadephia\n",
       " + Route_Dallas_Sacramento <= 0\n",
       "\n",
       "Total_product_out_of_plant_Los_Angeles: - 2400 Build_Plant_Los_Angeles\n",
       " + Route_Los_Angeles_Austin + Route_Los_Angeles_Boulder\n",
       " + Route_Los_Angeles_Philadephia + Route_Los_Angeles_Sacramento <= 0\n",
       "\n",
       "Total_product_out_of_plant_Seattle: - 1300 Build_Plant_Seattle\n",
       " + Route_Seattle_Austin + Route_Seattle_Boulder + Route_Seattle_Philadephia\n",
       " + Route_Seattle_Sacramento <= 0\n",
       "\n",
       "Total_product_out_of_plant_Denver: - 1000 Build_Plant_Denver\n",
       " + Route_Denver_Austin + Route_Denver_Boulder + Route_Denver_Philadephia\n",
       " + Route_Denver_Sacramento <= 0\n",
       "\n",
       "Total_product_into_store_Austin: Route_Dallas_Austin + Route_Denver_Austin\n",
       " + Route_Los_Angeles_Austin + Route_Seattle_Austin >= 1700\n",
       "\n",
       "Total_product_into_store_Sacramento: Route_Dallas_Sacramento\n",
       " + Route_Denver_Sacramento + Route_Los_Angeles_Sacramento\n",
       " + Route_Seattle_Sacramento >= 1000\n",
       "\n",
       "Total_product_into_store_Philadephia: Route_Dallas_Philadephia\n",
       " + Route_Denver_Philadephia + Route_Los_Angeles_Philadephia\n",
       " + Route_Seattle_Philadephia >= 1500\n",
       "\n",
       "Total_product_into_store_Boulder: Route_Dallas_Boulder + Route_Denver_Boulder\n",
       " + Route_Los_Angeles_Boulder + Route_Seattle_Boulder >= 1200\n",
       "\n",
       "VARIABLES\n",
       "0 <= Build_Plant_Dallas <= 1 Integer\n",
       "0 <= Build_Plant_Denver <= 1 Integer\n",
       "0 <= Build_Plant_Los_Angeles <= 1 Integer\n",
       "0 <= Build_Plant_Seattle <= 1 Integer\n",
       "0 <= Route_Dallas_Austin Integer\n",
       "0 <= Route_Dallas_Boulder Integer\n",
       "0 <= Route_Dallas_Philadephia Integer\n",
       "0 <= Route_Dallas_Sacramento Integer\n",
       "0 <= Route_Denver_Austin Integer\n",
       "0 <= Route_Denver_Boulder Integer\n",
       "0 <= Route_Denver_Philadephia Integer\n",
       "0 <= Route_Denver_Sacramento Integer\n",
       "0 <= Route_Los_Angeles_Austin Integer\n",
       "0 <= Route_Los_Angeles_Boulder Integer\n",
       "0 <= Route_Los_Angeles_Philadephia Integer\n",
       "0 <= Route_Los_Angeles_Sacramento Integer\n",
       "0 <= Route_Seattle_Austin Integer\n",
       "0 <= Route_Seattle_Boulder Integer\n",
       "0 <= Route_Seattle_Philadephia Integer\n",
       "0 <= Route_Seattle_Sacramento Integer"
      ]
     },
     "execution_count": 105,
     "metadata": {},
     "output_type": "execute_result"
    }
   ],
   "source": [
    "for s in stores:\n",
    "    product_in =\"\"\n",
    "    for p in plants:\n",
    "        product_in +=route[p][s]\n",
    "    prob+=product_in >= demand[s], 'Total product into store_'+str(s)\n",
    "prob"
   ]
  },
  {
   "cell_type": "code",
   "execution_count": 106,
   "metadata": {},
   "outputs": [
    {
     "data": {
      "text/plain": [
       "1"
      ]
     },
     "execution_count": 106,
     "metadata": {},
     "output_type": "execute_result"
    }
   ],
   "source": [
    "### solve!\n",
    "\n",
    "prob.solve()"
   ]
  },
  {
   "cell_type": "code",
   "execution_count": 109,
   "metadata": {},
   "outputs": [
    {
     "name": "stdout",
     "output_type": "stream",
     "text": [
      "Status:  Optimal\n"
     ]
    }
   ],
   "source": [
    "print(\"Status: \",pulp.LpStatus[prob.status])"
   ]
  },
  {
   "cell_type": "code",
   "execution_count": 110,
   "metadata": {},
   "outputs": [
    {
     "data": {
      "text/plain": [
       "{0: 'Not Solved',\n",
       " 1: 'Optimal',\n",
       " -1: 'Infeasible',\n",
       " -2: 'Unbounded',\n",
       " -3: 'Undefined'}"
      ]
     },
     "execution_count": 110,
     "metadata": {},
     "output_type": "execute_result"
    }
   ],
   "source": [
    "pulp.LpStatus"
   ]
  },
  {
   "cell_type": "code",
   "execution_count": 111,
   "metadata": {},
   "outputs": [
    {
     "name": "stdout",
     "output_type": "stream",
     "text": [
      "Build_Plant_Dallas m 1.0\n",
      "Build_Plant_Denver m 1.0\n",
      "Build_Plant_Los_Angeles m 1.0\n",
      "Build_Plant_Seattle m 1.0\n",
      "Route_Dallas_Austin m 900.0\n",
      "Route_Dallas_Boulder m 0.0\n",
      "Route_Dallas_Philadephia m 0.0\n",
      "Route_Dallas_Sacramento m 0.0\n",
      "Route_Denver_Austin m 0.0\n",
      "Route_Denver_Boulder m 1000.0\n",
      "Route_Denver_Philadephia m 0.0\n",
      "Route_Denver_Sacramento m 0.0\n",
      "Route_Los_Angeles_Austin m 800.0\n",
      "Route_Los_Angeles_Boulder m 0.0\n",
      "Route_Los_Angeles_Philadephia m 1500.0\n",
      "Route_Los_Angeles_Sacramento m 100.0\n",
      "Route_Seattle_Austin m 0.0\n",
      "Route_Seattle_Boulder m 200.0\n",
      "Route_Seattle_Philadephia m 0.0\n",
      "Route_Seattle_Sacramento m 900.0\n"
     ]
    }
   ],
   "source": [
    "for v in prob.variables():\n",
    "    print(v.name,'m',v.varValue)"
   ]
  },
  {
   "cell_type": "code",
   "execution_count": 112,
   "metadata": {},
   "outputs": [
    {
     "data": {
      "text/plain": [
       "339500.0"
      ]
     },
     "execution_count": 112,
     "metadata": {},
     "output_type": "execute_result"
    }
   ],
   "source": [
    "pulp.value(prob.objective)"
   ]
  }
 ],
 "metadata": {
  "interpreter": {
   "hash": "60062bfbbdb55d7c70b884c78dba17d93f7bddb21846b67229a99cf865725014"
  },
  "kernelspec": {
   "display_name": "Python 3.7.6 64-bit ('base': conda)",
   "language": "python",
   "name": "python3"
  },
  "language_info": {
   "codemirror_mode": {
    "name": "ipython",
    "version": 3
   },
   "file_extension": ".py",
   "mimetype": "text/x-python",
   "name": "python",
   "nbconvert_exporter": "python",
   "pygments_lexer": "ipython3",
   "version": "3.7.6"
  },
  "orig_nbformat": 4
 },
 "nbformat": 4,
 "nbformat_minor": 2
}
