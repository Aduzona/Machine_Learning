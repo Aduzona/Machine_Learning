{
 "cells": [
  {
   "cell_type": "markdown",
   "metadata": {},
   "source": [
    "# Train and Evaluate Deep learning Models\n",
    "## Exercise - Train a deep neural network\n",
    "\n",
    "[Configure compute instance](1_Configure_compute_instance.png)\n",
    "\n",
    "Mlbasics Deep Neural Networks (PyTorch).ipynb or Deep Neural Networks (Tensorflow).ipynb notebook"
   ]
  },
  {
   "cell_type": "code",
   "execution_count": null,
   "metadata": {},
   "outputs": [],
   "source": []
  }
 ],
 "metadata": {
  "language_info": {
   "name": "python"
  },
  "orig_nbformat": 4
 },
 "nbformat": 4,
 "nbformat_minor": 2
}
