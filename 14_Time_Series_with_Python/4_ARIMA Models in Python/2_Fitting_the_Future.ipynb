{
 "cells": [
  {
   "cell_type": "markdown",
   "metadata": {},
   "source": [
    "# Fitting the Future"
   ]
  },
  {
   "cell_type": "markdown",
   "metadata": {},
   "source": [
    "What lies ahead in this chapter is you predicting what lies ahead in your data. You'll learn how to use the elegant statsmodels package to fit ARMA, ARIMA and ARMAX models. Then you'll use your models to predict the uncertain future of stock prices!"
   ]
  },
  {
   "cell_type": "code",
   "execution_count": 2,
   "metadata": {},
   "outputs": [],
   "source": [
    "import pandas as pd\n",
    "import numpy as np\n",
    "import matplotlib.pyplot as plt\n",
    "import seaborn as sns\n",
    "\n",
    "plt.rcParams['figure.figsize'] = (10, 5)\n",
    "plt.style.use('fivethirtyeight')"
   ]
  },
  {
   "cell_type": "markdown",
   "metadata": {},
   "source": [
    "p= number of autoregressive lags,\n",
    "q= number of moving average lags,"
   ]
  },
  {
   "cell_type": "markdown",
   "metadata": {},
   "source": [
    "## Fitting time series models"
   ]
  },
  {
   "cell_type": "markdown",
   "metadata": {},
   "source": [
    "The ARMAX model means that we model the time series using other independent variables as well as the time series itself. This is like a combination between an ARMA model and a normal linear regression model.\n",
    "\n",
    "ARMA(1,1)model: $$y_t = a_1y_{t-1}+m_1\\epsilon_{t-1}+\\epsilon_{t}$$\n",
    "\n",
    "ARMAX(1,1)model: $$y_t =x_1z_t + a_1y_{t-1}+m_1\\epsilon_{t-1}+\\epsilon_{t}$$\n",
    "$z_t$ is new independent variable, $x_1$ is the coefficient of $z_t$"
   ]
  },
  {
   "cell_type": "markdown",
   "metadata": {},
   "source": [
    "### Fitting AR and MA models\n",
    "\n",
    "In this exercise you will fit an AR and an MA model to some data. The data here has been generated using the arma_generate_sample() function we used before.\n",
    "\n",
    "You know the real AR and MA parameters used to create this data so it is a really good way to gain some confidence with ARMA models and know you are doing it right. In the next exercise you'll move onto some real world data with confidence.\n",
    "\n",
    "There is a pandas DataFrame available in your environment called sample. It has two columns of different time series data."
   ]
  },
  {
   "cell_type": "code",
   "execution_count": 4,
   "metadata": {},
   "outputs": [
    {
     "data": {
      "text/html": [
       "<div>\n",
       "<style scoped>\n",
       "    .dataframe tbody tr th:only-of-type {\n",
       "        vertical-align: middle;\n",
       "    }\n",
       "\n",
       "    .dataframe tbody tr th {\n",
       "        vertical-align: top;\n",
       "    }\n",
       "\n",
       "    .dataframe thead th {\n",
       "        text-align: right;\n",
       "    }\n",
       "</style>\n",
       "<table border=\"1\" class=\"dataframe\">\n",
       "  <thead>\n",
       "    <tr style=\"text-align: right;\">\n",
       "      <th></th>\n",
       "      <th>timeseries_1</th>\n",
       "      <th>timeseries_2</th>\n",
       "    </tr>\n",
       "  </thead>\n",
       "  <tbody>\n",
       "    <tr>\n",
       "      <th>0</th>\n",
       "      <td>-0.183108</td>\n",
       "      <td>-0.183108</td>\n",
       "    </tr>\n",
       "    <tr>\n",
       "      <th>1</th>\n",
       "      <td>-0.245540</td>\n",
       "      <td>-0.117365</td>\n",
       "    </tr>\n",
       "    <tr>\n",
       "      <th>2</th>\n",
       "      <td>-0.258830</td>\n",
       "      <td>-0.218789</td>\n",
       "    </tr>\n",
       "    <tr>\n",
       "      <th>3</th>\n",
       "      <td>-0.279635</td>\n",
       "      <td>-0.169041</td>\n",
       "    </tr>\n",
       "    <tr>\n",
       "      <th>4</th>\n",
       "      <td>-0.384736</td>\n",
       "      <td>-0.282374</td>\n",
       "    </tr>\n",
       "  </tbody>\n",
       "</table>\n",
       "</div>"
      ],
      "text/plain": [
       "   timeseries_1  timeseries_2\n",
       "0     -0.183108     -0.183108\n",
       "1     -0.245540     -0.117365\n",
       "2     -0.258830     -0.218789\n",
       "3     -0.279635     -0.169041\n",
       "4     -0.384736     -0.282374"
      ]
     },
     "execution_count": 4,
     "metadata": {},
     "output_type": "execute_result"
    }
   ],
   "source": [
    "sample = pd.read_csv('sample.csv', index_col=0)\n",
    "sample.head()"
   ]
  },
  {
   "cell_type": "markdown",
   "metadata": {},
   "source": [
    "* Fit an AR(2) model to the 'timeseries_1' column of sample.\n",
    "* Print a summary of the fitted model."
   ]
  },
  {
   "cell_type": "code",
   "execution_count": 5,
   "metadata": {},
   "outputs": [
    {
     "name": "stdout",
     "output_type": "stream",
     "text": [
      "                              ARMA Model Results                              \n",
      "==============================================================================\n",
      "Dep. Variable:           timeseries_1   No. Observations:                 1000\n",
      "Model:                     ARMA(2, 0)   Log Likelihood                 148.855\n",
      "Method:                       css-mle   S.D. of innovations              0.208\n",
      "Date:                Wed, 02 Feb 2022   AIC                           -289.709\n",
      "Time:                        08:40:53   BIC                           -270.078\n",
      "Sample:                             0   HQIC                          -282.248\n",
      "                                                                              \n",
      "======================================================================================\n",
      "                         coef    std err          z      P>|z|      [0.025      0.975]\n",
      "--------------------------------------------------------------------------------------\n",
      "const                 -0.0027      0.018     -0.151      0.880      -0.037       0.032\n",
      "ar.L1.timeseries_1     0.8980      0.030     29.510      0.000       0.838       0.958\n",
      "ar.L2.timeseries_1    -0.2704      0.030     -8.884      0.000      -0.330      -0.211\n",
      "                                    Roots                                    \n",
      "=============================================================================\n",
      "                  Real          Imaginary           Modulus         Frequency\n",
      "-----------------------------------------------------------------------------\n",
      "AR.1            1.6603           -0.9702j            1.9230           -0.0842\n",
      "AR.2            1.6603           +0.9702j            1.9230            0.0842\n",
      "-----------------------------------------------------------------------------\n"
     ]
    }
   ],
   "source": [
    "from statsmodels.tsa.arima_model import ARMA\n",
    "\n",
    "# Instantiate the model\n",
    "model = ARMA(sample['timeseries_1'], order=(2,0))\n",
    "\n",
    "# Fit the model\n",
    "results = model.fit()\n",
    "\n",
    "# Print summary\n",
    "print(results.summary())"
   ]
  },
  {
   "cell_type": "markdown",
   "metadata": {},
   "source": [
    "Using the information in the summary printed, which of the following set of parameters do you think was used to generate the 'timeseries_1' data?\n",
    "* ar_coefs = [1, -0.9, 0.3]  and  ma_coefs = [1]"
   ]
  },
  {
   "cell_type": "markdown",
   "metadata": {},
   "source": [
    "* Fit an MA(3) model to the 'timeseries_2' column of sample."
   ]
  },
  {
   "cell_type": "code",
   "execution_count": 6,
   "metadata": {},
   "outputs": [
    {
     "name": "stdout",
     "output_type": "stream",
     "text": [
      "                              ARMA Model Results                              \n",
      "==============================================================================\n",
      "Dep. Variable:           timeseries_2   No. Observations:                 1000\n",
      "Model:                     ARMA(0, 3)   Log Likelihood                 149.007\n",
      "Method:                       css-mle   S.D. of innovations              0.208\n",
      "Date:                Wed, 02 Feb 2022   AIC                           -288.014\n",
      "Time:                        08:47:35   BIC                           -263.475\n",
      "Sample:                             0   HQIC                          -278.687\n",
      "                                                                              \n",
      "======================================================================================\n",
      "                         coef    std err          z      P>|z|      [0.025      0.975]\n",
      "--------------------------------------------------------------------------------------\n",
      "const                 -0.0018      0.012     -0.159      0.874      -0.024       0.021\n",
      "ma.L1.timeseries_2     0.1995      0.031      6.352      0.000       0.138       0.261\n",
      "ma.L2.timeseries_2     0.6359      0.028     22.718      0.000       0.581       0.691\n",
      "ma.L3.timeseries_2    -0.0833      0.029     -2.872      0.004      -0.140      -0.026\n",
      "                                    Roots                                    \n",
      "=============================================================================\n",
      "                  Real          Imaginary           Modulus         Frequency\n",
      "-----------------------------------------------------------------------------\n",
      "MA.1           -0.2389           -1.1928j            1.2165           -0.2815\n",
      "MA.2           -0.2389           +1.1928j            1.2165            0.2815\n",
      "MA.3            8.1089           -0.0000j            8.1089           -0.0000\n",
      "-----------------------------------------------------------------------------\n"
     ]
    }
   ],
   "source": [
    "# Instantiate the model\n",
    "model = ARMA(sample['timeseries_2'], order=(0,3))\n",
    "\n",
    "# Fit the model\n",
    "results = model.fit()\n",
    "\n",
    "# Print summary\n",
    "print(results.summary())"
   ]
  },
  {
   "cell_type": "markdown",
   "metadata": {},
   "source": [
    "Using the information in the summary printed, which of the following set of parameters do you think was used to generate the 'timeseries_2' data?\n",
    "\n",
    "* ar_coefs = [1]  and  ma_coefs = [1, 0.2, 0.6, -0.1]"
   ]
  },
  {
   "cell_type": "markdown",
   "metadata": {},
   "source": [
    "The fitted models had very similar AR and MA coefficient values to the real ones! You know it works!"
   ]
  },
  {
   "cell_type": "markdown",
   "metadata": {},
   "source": [
    "## Fitting an ARMA model\n",
    "\n",
    "In this exercise you will fit an ARMA model to the earthquakes dataset. You saw before that the earthquakes dataset is stationary so you don't need to transform it at all. It comes ready for modeling straight out the ground. You can remind yourself what it looks like below.\n",
    "\n",
    "![Earthquake](earthquakes.png)\n",
    "\n",
    "The earthquakes dataset is available in your environment as earthquake. The ARMA class is also available in your environment."
   ]
  },
  {
   "cell_type": "code",
   "execution_count": 7,
   "metadata": {},
   "outputs": [
    {
     "data": {
      "text/html": [
       "<div>\n",
       "<style scoped>\n",
       "    .dataframe tbody tr th:only-of-type {\n",
       "        vertical-align: middle;\n",
       "    }\n",
       "\n",
       "    .dataframe tbody tr th {\n",
       "        vertical-align: top;\n",
       "    }\n",
       "\n",
       "    .dataframe thead th {\n",
       "        text-align: right;\n",
       "    }\n",
       "</style>\n",
       "<table border=\"1\" class=\"dataframe\">\n",
       "  <thead>\n",
       "    <tr style=\"text-align: right;\">\n",
       "      <th></th>\n",
       "      <th>earthquakes_per_year</th>\n",
       "    </tr>\n",
       "    <tr>\n",
       "      <th>date</th>\n",
       "      <th></th>\n",
       "    </tr>\n",
       "  </thead>\n",
       "  <tbody>\n",
       "    <tr>\n",
       "      <th>1900-01-01</th>\n",
       "      <td>13.0</td>\n",
       "    </tr>\n",
       "    <tr>\n",
       "      <th>1901-01-01</th>\n",
       "      <td>14.0</td>\n",
       "    </tr>\n",
       "    <tr>\n",
       "      <th>1902-01-01</th>\n",
       "      <td>8.0</td>\n",
       "    </tr>\n",
       "    <tr>\n",
       "      <th>1903-01-01</th>\n",
       "      <td>10.0</td>\n",
       "    </tr>\n",
       "    <tr>\n",
       "      <th>1904-01-01</th>\n",
       "      <td>16.0</td>\n",
       "    </tr>\n",
       "  </tbody>\n",
       "</table>\n",
       "</div>"
      ],
      "text/plain": [
       "            earthquakes_per_year\n",
       "date                            \n",
       "1900-01-01                  13.0\n",
       "1901-01-01                  14.0\n",
       "1902-01-01                   8.0\n",
       "1903-01-01                  10.0\n",
       "1904-01-01                  16.0"
      ]
     },
     "execution_count": 7,
     "metadata": {},
     "output_type": "execute_result"
    }
   ],
   "source": [
    "earthquake = pd.read_csv('earthquakes.csv', index_col='date', parse_dates=True)\n",
    "earthquake.drop(['Year'], axis=1, inplace=True)\n",
    "earthquake.head()"
   ]
  },
  {
   "cell_type": "markdown",
   "metadata": {},
   "source": [
    "**Instructions**\n",
    "\n",
    "* Instantiate an ARMA(3,1) model and pass it the earthquakes dataset.\n",
    "* Fit the model.\n",
    "* Print the summary of the model fit."
   ]
  },
  {
   "cell_type": "code",
   "execution_count": 8,
   "metadata": {},
   "outputs": [
    {
     "name": "stderr",
     "output_type": "stream",
     "text": [
      "C:\\Users\\aduzo\\Anaconda3\\lib\\site-packages\\statsmodels\\tsa\\base\\tsa_model.py:162: ValueWarning: No frequency information was provided, so inferred frequency AS-JAN will be used.\n",
      "  % freq, ValueWarning)\n"
     ]
    },
    {
     "name": "stdout",
     "output_type": "stream",
     "text": [
      "                               ARMA Model Results                               \n",
      "================================================================================\n",
      "Dep. Variable:     earthquakes_per_year   No. Observations:                   99\n",
      "Model:                       ARMA(3, 1)   Log Likelihood                -315.673\n",
      "Method:                         css-mle   S.D. of innovations              5.853\n",
      "Date:                  Wed, 02 Feb 2022   AIC                            643.345\n",
      "Time:                          08:56:21   BIC                            658.916\n",
      "Sample:                      01-01-1900   HQIC                           649.645\n",
      "                           - 01-01-1998                                         \n",
      "==============================================================================================\n",
      "                                 coef    std err          z      P>|z|      [0.025      0.975]\n",
      "----------------------------------------------------------------------------------------------\n",
      "const                         19.6452      1.929     10.183      0.000      15.864      23.426\n",
      "ar.L1.earthquakes_per_year     0.5794      0.416      1.393      0.164      -0.236       1.394\n",
      "ar.L2.earthquakes_per_year     0.0251      0.208      0.121      0.904      -0.382       0.433\n",
      "ar.L3.earthquakes_per_year     0.1519      0.131      1.162      0.245      -0.104       0.408\n",
      "ma.L1.earthquakes_per_year    -0.1720      0.416     -0.413      0.679      -0.988       0.644\n",
      "                                    Roots                                    \n",
      "=============================================================================\n",
      "                  Real          Imaginary           Modulus         Frequency\n",
      "-----------------------------------------------------------------------------\n",
      "AR.1            1.2047           -0.0000j            1.2047           -0.0000\n",
      "AR.2           -0.6850           -2.2352j            2.3378           -0.2973\n",
      "AR.3           -0.6850           +2.2352j            2.3378            0.2973\n",
      "MA.1            5.8138           +0.0000j            5.8138            0.0000\n",
      "-----------------------------------------------------------------------------\n"
     ]
    }
   ],
   "source": [
    "# Instantiate the model\n",
    "model = ARMA(earthquake['earthquakes_per_year'], order=(3,1))\n",
    "\n",
    "# Fit the model\n",
    "results = model.fit()\n",
    "\n",
    "# Print model fit summary\n",
    "print(results.summary())"
   ]
  },
  {
   "cell_type": "markdown",
   "metadata": {},
   "source": [
    "### Fitting an ARMAX model\n",
    "\n",
    "In this exercise you will fit an ARMAX model to a time series which represents the wait times at an accident and emergency room for urgent medical care.\n",
    "\n",
    "The variable you would like to model is the wait times to be seen by a medical professional wait_times_hrs. This may be related to an exogenous variable that you measured nurse_count which is the number of nurses on shift at any given time. These can be seen below.\n",
    "\n",
    "![exogeneous time series](exog_time_series.png)\n",
    "\n",
    "This is a particularly interesting case of time series modeling as, if the number of nurses has an effect, you could change this to affect the wait times.\n",
    "\n",
    "The time series data is available in your environment as hospital and has the two columns mentioned above. The ARMA class is also available for you."
   ]
  },
  {
   "cell_type": "code",
   "execution_count": 10,
   "metadata": {},
   "outputs": [
    {
     "data": {
      "text/html": [
       "<div>\n",
       "<style scoped>\n",
       "    .dataframe tbody tr th:only-of-type {\n",
       "        vertical-align: middle;\n",
       "    }\n",
       "\n",
       "    .dataframe tbody tr th {\n",
       "        vertical-align: top;\n",
       "    }\n",
       "\n",
       "    .dataframe thead th {\n",
       "        text-align: right;\n",
       "    }\n",
       "</style>\n",
       "<table border=\"1\" class=\"dataframe\">\n",
       "  <thead>\n",
       "    <tr style=\"text-align: right;\">\n",
       "      <th></th>\n",
       "      <th>wait_times_hrs</th>\n",
       "      <th>nurse_count</th>\n",
       "    </tr>\n",
       "  </thead>\n",
       "  <tbody>\n",
       "    <tr>\n",
       "      <th>2019-03-04 00:00:00</th>\n",
       "      <td>1.747261</td>\n",
       "      <td>1.0</td>\n",
       "    </tr>\n",
       "    <tr>\n",
       "      <th>2019-03-04 01:00:00</th>\n",
       "      <td>1.664634</td>\n",
       "      <td>1.0</td>\n",
       "    </tr>\n",
       "    <tr>\n",
       "      <th>2019-03-04 02:00:00</th>\n",
       "      <td>1.647047</td>\n",
       "      <td>1.0</td>\n",
       "    </tr>\n",
       "    <tr>\n",
       "      <th>2019-03-04 03:00:00</th>\n",
       "      <td>1.619512</td>\n",
       "      <td>1.0</td>\n",
       "    </tr>\n",
       "    <tr>\n",
       "      <th>2019-03-04 04:00:00</th>\n",
       "      <td>1.480415</td>\n",
       "      <td>1.0</td>\n",
       "    </tr>\n",
       "  </tbody>\n",
       "</table>\n",
       "</div>"
      ],
      "text/plain": [
       "                     wait_times_hrs  nurse_count\n",
       "2019-03-04 00:00:00        1.747261          1.0\n",
       "2019-03-04 01:00:00        1.664634          1.0\n",
       "2019-03-04 02:00:00        1.647047          1.0\n",
       "2019-03-04 03:00:00        1.619512          1.0\n",
       "2019-03-04 04:00:00        1.480415          1.0"
      ]
     },
     "execution_count": 10,
     "metadata": {},
     "output_type": "execute_result"
    }
   ],
   "source": [
    "hospital = pd.read_csv('hospital.csv', index_col=0, parse_dates=True)\n",
    "hospital.head()"
   ]
  },
  {
   "cell_type": "code",
   "execution_count": 12,
   "metadata": {},
   "outputs": [
    {
     "data": {
      "image/png": "[encoded data removed]",
      "text/plain": [
       "<Figure size 720x360 with 2 Axes>"
      ]
     },
     "metadata": {},
     "output_type": "display_data"
    }
   ],
   "source": [
    "hospital.plot(subplots=True);"
   ]
  },
  {
   "cell_type": "markdown",
   "metadata": {},
   "source": [
    "**Instructions**\n",
    "\n",
    "*Instantiate an ARMAX(2,1) model to train on the 'wait_times_hrs' column of hospital using the 'nurse_count' column as an exogenous variable.\n",
    "* Fit the model.\n",
    "* Print the summary of the model fit."
   ]
  },
  {
   "cell_type": "code",
   "execution_count": 11,
   "metadata": {},
   "outputs": [
    {
     "name": "stderr",
     "output_type": "stream",
     "text": [
      "C:\\Users\\aduzo\\Anaconda3\\lib\\site-packages\\statsmodels\\tsa\\base\\tsa_model.py:162: ValueWarning: No frequency information was provided, so inferred frequency H will be used.\n",
      "  % freq, ValueWarning)\n"
     ]
    },
    {
     "name": "stdout",
     "output_type": "stream",
     "text": [
      "                              ARMA Model Results                              \n",
      "==============================================================================\n",
      "Dep. Variable:         wait_times_hrs   No. Observations:                  168\n",
      "Model:                     ARMA(2, 1)   Log Likelihood                 -11.834\n",
      "Method:                       css-mle   S.D. of innovations              0.259\n",
      "Date:                Wed, 02 Feb 2022   AIC                             35.668\n",
      "Time:                        09:03:56   BIC                             54.411\n",
      "Sample:                    03-04-2019   HQIC                            43.275\n",
      "                         - 03-10-2019                                         \n",
      "========================================================================================\n",
      "                           coef    std err          z      P>|z|      [0.025      0.975]\n",
      "----------------------------------------------------------------------------------------\n",
      "const                    2.1000      0.086     24.293      0.000       1.931       2.269\n",
      "nurse_count             -0.1171      0.013     -9.054      0.000      -0.142      -0.092\n",
      "ar.L1.wait_times_hrs     0.5693      0.164      3.468      0.001       0.248       0.891\n",
      "ar.L2.wait_times_hrs    -0.1612      0.131     -1.226      0.220      -0.419       0.096\n",
      "ma.L1.wait_times_hrs     0.3728      0.157      2.375      0.018       0.065       0.680\n",
      "                                    Roots                                    \n",
      "=============================================================================\n",
      "                  Real          Imaginary           Modulus         Frequency\n",
      "-----------------------------------------------------------------------------\n",
      "AR.1            1.7656           -1.7566j            2.4906           -0.1246\n",
      "AR.2            1.7656           +1.7566j            2.4906            0.1246\n",
      "MA.1           -2.6827           +0.0000j            2.6827            0.5000\n",
      "-----------------------------------------------------------------------------\n"
     ]
    }
   ],
   "source": [
    "# Instantiate the model\n",
    "model = ARMA(hospital['wait_times_hrs'],order=(2,1),exog=hospital['nurse_count'])\n",
    "\n",
    "# Fit the model\n",
    "results = model.fit()\n",
    "\n",
    "# Print model fit summary\n",
    "print(results.summary())"
   ]
  },
  {
   "cell_type": "markdown",
   "metadata": {},
   "source": [
    "Look back at the model parameters. What is the relation between the number of nurses on shift and the wait times? If you predicted that tomorrow was going to have long wait times how could you combat this?"
   ]
  },
  {
   "cell_type": "markdown",
   "metadata": {},
   "source": [
    "## Forecasting\n",
    "\n",
    "Take an AR(1)model\n",
    "\n",
    "$$y_t =a_1y_{t-1} + \\epsilon_t$$\n",
    "\n",
    "Predict next value\n",
    "\n",
    "$$y_t =0.6 * 10 + \\epsilon_t$$\n",
    "$$y_t =6.0 + \\epsilon_t$$\n",
    "\n",
    "Uncertainty on prediction\n",
    "\n",
    "$5.0<$y_t<7.0$\n",
    "\n",
    "Take a simple AR(1) model. At any point in the time series we can estimate the next series value. We make this prediction by multiplying the previous value by the lag-one AR coefficient. If the previous value was 10 and coefficient a-one is 0.6, we would estimate the next value as 6. If the shock term had a standard deviation of 1, we would predict our lower and upper uncertainty limits to be 5 and 7.\n",
    "\n",
    "In the time period we have data for, we can make lots of these predictions in-sample; using the previous series value to estimate the next ones. This is called a one-step-ahead prediction. This allows us to evaluate how good our model is at predicting just one value ahead.\n",
    "\n",
    "Using SARIMAX class:\n",
    "\n",
    "p,0,q in SARIMAX is same as p,q in ARMA."
   ]
  },
  {
   "cell_type": "markdown",
   "metadata": {},
   "source": [
    "### Generating one-step-ahead predictions\n",
    "\n",
    "It is very hard to forecast stock prices. Classic economics actually tells us that this should be impossible because of market clearing.\n",
    "\n",
    "Your task in this exercise is to attempt the impossible and predict the Amazon stock price anyway.\n",
    "\n",
    "In this exercise you will generate one-step-ahead predictions for the stock price as well as the uncertainty of these predictions.\n",
    "\n",
    "A model has already been fitted to the Amazon data for you. The results object from this model is available in your environment as results."
   ]
  },
  {
   "cell_type": "code",
   "execution_count": 14,
   "metadata": {},
   "outputs": [
    {
     "data": {
      "text/html": [
       "<div>\n",
       "<style scoped>\n",
       "    .dataframe tbody tr th:only-of-type {\n",
       "        vertical-align: middle;\n",
       "    }\n",
       "\n",
       "    .dataframe tbody tr th {\n",
       "        vertical-align: top;\n",
       "    }\n",
       "\n",
       "    .dataframe thead th {\n",
       "        text-align: right;\n",
       "    }\n",
       "</style>\n",
       "<table border=\"1\" class=\"dataframe\">\n",
       "  <thead>\n",
       "    <tr style=\"text-align: right;\">\n",
       "      <th></th>\n",
       "      <th>close</th>\n",
       "    </tr>\n",
       "    <tr>\n",
       "      <th>date</th>\n",
       "      <th></th>\n",
       "    </tr>\n",
       "  </thead>\n",
       "  <tbody>\n",
       "    <tr>\n",
       "      <th>2019-02-08</th>\n",
       "      <td>1588.22</td>\n",
       "    </tr>\n",
       "    <tr>\n",
       "      <th>2019-02-07</th>\n",
       "      <td>1614.37</td>\n",
       "    </tr>\n",
       "    <tr>\n",
       "      <th>2019-02-06</th>\n",
       "      <td>1640.26</td>\n",
       "    </tr>\n",
       "    <tr>\n",
       "      <th>2019-02-05</th>\n",
       "      <td>1658.81</td>\n",
       "    </tr>\n",
       "    <tr>\n",
       "      <th>2019-02-04</th>\n",
       "      <td>1633.31</td>\n",
       "    </tr>\n",
       "  </tbody>\n",
       "</table>\n",
       "</div>"
      ],
      "text/plain": [
       "              close\n",
       "date               \n",
       "2019-02-08  1588.22\n",
       "2019-02-07  1614.37\n",
       "2019-02-06  1640.26\n",
       "2019-02-05  1658.81\n",
       "2019-02-04  1633.31"
      ]
     },
     "execution_count": 14,
     "metadata": {},
     "output_type": "execute_result"
    }
   ],
   "source": [
    "amazon = pd.read_csv('amazon_close.csv', parse_dates=True, index_col='date')\n",
    "amazon.head()"
   ]
  },
  {
   "cell_type": "code",
   "execution_count": 16,
   "metadata": {},
   "outputs": [
    {
     "data": {
      "text/plain": [
       "(1259, 1)"
      ]
     },
     "execution_count": 16,
     "metadata": {},
     "output_type": "execute_result"
    }
   ],
   "source": [
    "amazon.shape"
   ]
  },
  {
   "cell_type": "code",
   "execution_count": 17,
   "metadata": {},
   "outputs": [
    {
     "data": {
      "text/plain": [
       "(1259, 1)"
      ]
     },
     "execution_count": 17,
     "metadata": {},
     "output_type": "execute_result"
    }
   ],
   "source": [
    "amazon=amazon.iloc[::-1] \n",
    "amazon.shape"
   ]
  },
  {
   "cell_type": "code",
   "execution_count": 19,
   "metadata": {},
   "outputs": [
    {
     "data": {
      "text/html": [
       "<div>\n",
       "<style scoped>\n",
       "    .dataframe tbody tr th:only-of-type {\n",
       "        vertical-align: middle;\n",
       "    }\n",
       "\n",
       "    .dataframe tbody tr th {\n",
       "        vertical-align: top;\n",
       "    }\n",
       "\n",
       "    .dataframe thead th {\n",
       "        text-align: right;\n",
       "    }\n",
       "</style>\n",
       "<table border=\"1\" class=\"dataframe\">\n",
       "  <thead>\n",
       "    <tr style=\"text-align: right;\">\n",
       "      <th></th>\n",
       "      <th>close</th>\n",
       "    </tr>\n",
       "    <tr>\n",
       "      <th>date</th>\n",
       "      <th></th>\n",
       "    </tr>\n",
       "  </thead>\n",
       "  <tbody>\n",
       "    <tr>\n",
       "      <th>2014-02-10</th>\n",
       "      <td>360.87</td>\n",
       "    </tr>\n",
       "    <tr>\n",
       "      <th>2014-02-11</th>\n",
       "      <td>361.79</td>\n",
       "    </tr>\n",
       "    <tr>\n",
       "      <th>2014-02-12</th>\n",
       "      <td>349.25</td>\n",
       "    </tr>\n",
       "    <tr>\n",
       "      <th>2014-02-13</th>\n",
       "      <td>357.20</td>\n",
       "    </tr>\n",
       "    <tr>\n",
       "      <th>2014-02-14</th>\n",
       "      <td>357.35</td>\n",
       "    </tr>\n",
       "    <tr>\n",
       "      <th>...</th>\n",
       "      <td>...</td>\n",
       "    </tr>\n",
       "    <tr>\n",
       "      <th>2019-02-04</th>\n",
       "      <td>1633.31</td>\n",
       "    </tr>\n",
       "    <tr>\n",
       "      <th>2019-02-05</th>\n",
       "      <td>1658.81</td>\n",
       "    </tr>\n",
       "    <tr>\n",
       "      <th>2019-02-06</th>\n",
       "      <td>1640.26</td>\n",
       "    </tr>\n",
       "    <tr>\n",
       "      <th>2019-02-07</th>\n",
       "      <td>1614.37</td>\n",
       "    </tr>\n",
       "    <tr>\n",
       "      <th>2019-02-08</th>\n",
       "      <td>1588.22</td>\n",
       "    </tr>\n",
       "  </tbody>\n",
       "</table>\n",
       "<p>1259 rows × 1 columns</p>\n",
       "</div>"
      ],
      "text/plain": [
       "              close\n",
       "date               \n",
       "2014-02-10   360.87\n",
       "2014-02-11   361.79\n",
       "2014-02-12   349.25\n",
       "2014-02-13   357.20\n",
       "2014-02-14   357.35\n",
       "...             ...\n",
       "2019-02-04  1633.31\n",
       "2019-02-05  1658.81\n",
       "2019-02-06  1640.26\n",
       "2019-02-07  1614.37\n",
       "2019-02-08  1588.22\n",
       "\n",
       "[1259 rows x 1 columns]"
      ]
     },
     "execution_count": 19,
     "metadata": {},
     "output_type": "execute_result"
    }
   ],
   "source": [
    "amazon"
   ]
  },
  {
   "cell_type": "code",
   "execution_count": 20,
   "metadata": {},
   "outputs": [
    {
     "name": "stderr",
     "output_type": "stream",
     "text": [
      "C:\\Users\\aduzo\\Anaconda3\\lib\\site-packages\\statsmodels\\tsa\\base\\tsa_model.py:218: ValueWarning: A date index has been provided, but it has no associated frequency information and so will be ignored when e.g. forecasting.\n",
      "  ' ignored when e.g. forecasting.', ValueWarning)\n",
      "C:\\Users\\aduzo\\Anaconda3\\lib\\site-packages\\statsmodels\\tsa\\base\\tsa_model.py:218: ValueWarning: A date index has been provided, but it has no associated frequency information and so will be ignored when e.g. forecasting.\n",
      "  ' ignored when e.g. forecasting.', ValueWarning)\n",
      "C:\\Users\\aduzo\\Anaconda3\\lib\\site-packages\\statsmodels\\base\\model.py:568: ConvergenceWarning: Maximum Likelihood optimization failed to converge. Check mle_retvals\n",
      "  \"Check mle_retvals\", ConvergenceWarning)\n"
     ]
    }
   ],
   "source": [
    "from statsmodels.tsa.statespace.sarimax import SARIMAX\n",
    "\n",
    "model = SARIMAX(amazon.loc['2018-01-01':'2019-02-08'], order=(3, 1, 3), seasonal_order=(1, 0, 1, 7),\n",
    "                enforce_invertibility=False,\n",
    "                enforce_stationarity=False,\n",
    "                simple_differencing=False, \n",
    "                measurement_error=False,\n",
    "                k_trend=0)\n",
    "results = model.fit()"
   ]
  },
  {
   "cell_type": "code",
   "execution_count": 21,
   "metadata": {},
   "outputs": [
    {
     "data": {
      "text/html": [
       "<table class=\"simpletable\">\n",
       "<caption>SARIMAX Results</caption>\n",
       "<tr>\n",
       "  <th>Dep. Variable:</th>                <td>close</td>              <th>  No. Observations:  </th>    <td>278</td>   \n",
       "</tr>\n",
       "<tr>\n",
       "  <th>Model:</th>           <td>SARIMAX(3, 1, 3)x(1, 0, [1], 7)</td> <th>  Log Likelihood     </th> <td>-1338.384</td>\n",
       "</tr>\n",
       "<tr>\n",
       "  <th>Date:</th>                   <td>Wed, 02 Feb 2022</td>         <th>  AIC                </th> <td>2694.769</td> \n",
       "</tr>\n",
       "<tr>\n",
       "  <th>Time:</th>                       <td>09:37:31</td>             <th>  BIC                </th> <td>2727.020</td> \n",
       "</tr>\n",
       "<tr>\n",
       "  <th>Sample:</th>                         <td>0</td>                <th>  HQIC               </th> <td>2707.725</td> \n",
       "</tr>\n",
       "<tr>\n",
       "  <th></th>                             <td> - 278</td>              <th>                     </th>     <td> </td>    \n",
       "</tr>\n",
       "<tr>\n",
       "  <th>Covariance Type:</th>               <td>opg</td>               <th>                     </th>     <td> </td>    \n",
       "</tr>\n",
       "</table>\n",
       "<table class=\"simpletable\">\n",
       "<tr>\n",
       "     <td></td>        <th>coef</th>     <th>std err</th>      <th>z</th>      <th>P>|z|</th>  <th>[0.025</th>    <th>0.975]</th>  \n",
       "</tr>\n",
       "<tr>\n",
       "  <th>ar.L1</th>   <td>    0.1070</td> <td>    0.048</td> <td>    2.247</td> <td> 0.025</td> <td>    0.014</td> <td>    0.200</td>\n",
       "</tr>\n",
       "<tr>\n",
       "  <th>ar.L2</th>   <td>    0.0524</td> <td>    0.038</td> <td>    1.365</td> <td> 0.172</td> <td>   -0.023</td> <td>    0.128</td>\n",
       "</tr>\n",
       "<tr>\n",
       "  <th>ar.L3</th>   <td>   -0.8977</td> <td>    0.042</td> <td>  -21.594</td> <td> 0.000</td> <td>   -0.979</td> <td>   -0.816</td>\n",
       "</tr>\n",
       "<tr>\n",
       "  <th>ma.L1</th>   <td>   -0.1210</td> <td>    0.036</td> <td>   -3.387</td> <td> 0.001</td> <td>   -0.191</td> <td>   -0.051</td>\n",
       "</tr>\n",
       "<tr>\n",
       "  <th>ma.L2</th>   <td>   -0.1401</td> <td>    0.031</td> <td>   -4.594</td> <td> 0.000</td> <td>   -0.200</td> <td>   -0.080</td>\n",
       "</tr>\n",
       "<tr>\n",
       "  <th>ma.L3</th>   <td>    0.9678</td> <td>    0.042</td> <td>   23.312</td> <td> 0.000</td> <td>    0.886</td> <td>    1.049</td>\n",
       "</tr>\n",
       "<tr>\n",
       "  <th>ar.S.L7</th> <td>    0.1783</td> <td>    0.680</td> <td>    0.262</td> <td> 0.793</td> <td>   -1.155</td> <td>    1.511</td>\n",
       "</tr>\n",
       "<tr>\n",
       "  <th>ma.S.L7</th> <td>   -0.2199</td> <td>    0.671</td> <td>   -0.328</td> <td> 0.743</td> <td>   -1.535</td> <td>    1.096</td>\n",
       "</tr>\n",
       "<tr>\n",
       "  <th>sigma2</th>  <td> 1330.1780</td> <td>  105.735</td> <td>   12.580</td> <td> 0.000</td> <td> 1122.941</td> <td> 1537.415</td>\n",
       "</tr>\n",
       "</table>\n",
       "<table class=\"simpletable\">\n",
       "<tr>\n",
       "  <th>Ljung-Box (Q):</th>          <td>28.88</td> <th>  Jarque-Bera (JB):  </th> <td>22.01</td>\n",
       "</tr>\n",
       "<tr>\n",
       "  <th>Prob(Q):</th>                <td>0.90</td>  <th>  Prob(JB):          </th> <td>0.00</td> \n",
       "</tr>\n",
       "<tr>\n",
       "  <th>Heteroskedasticity (H):</th> <td>3.11</td>  <th>  Skew:              </th> <td>-0.35</td>\n",
       "</tr>\n",
       "<tr>\n",
       "  <th>Prob(H) (two-sided):</th>    <td>0.00</td>  <th>  Kurtosis:          </th> <td>4.23</td> \n",
       "</tr>\n",
       "</table><br/><br/>Warnings:<br/>[1] Covariance matrix calculated using the outer product of gradients (complex-step)."
      ],
      "text/plain": [
       "<class 'statsmodels.iolib.summary.Summary'>\n",
       "\"\"\"\n",
       "                                      SARIMAX Results                                      \n",
       "===========================================================================================\n",
       "Dep. Variable:                               close   No. Observations:                  278\n",
       "Model:             SARIMAX(3, 1, 3)x(1, 0, [1], 7)   Log Likelihood               -1338.384\n",
       "Date:                             Wed, 02 Feb 2022   AIC                           2694.769\n",
       "Time:                                     09:37:31   BIC                           2727.020\n",
       "Sample:                                          0   HQIC                          2707.725\n",
       "                                             - 278                                         \n",
       "Covariance Type:                               opg                                         \n",
       "==============================================================================\n",
       "                 coef    std err          z      P>|z|      [0.025      0.975]\n",
       "------------------------------------------------------------------------------\n",
       "ar.L1          0.1070      0.048      2.247      0.025       0.014       0.200\n",
       "ar.L2          0.0524      0.038      1.365      0.172      -0.023       0.128\n",
       "ar.L3         -0.8977      0.042    -21.594      0.000      -0.979      -0.816\n",
       "ma.L1         -0.1210      0.036     -3.387      0.001      -0.191      -0.051\n",
       "ma.L2         -0.1401      0.031     -4.594      0.000      -0.200      -0.080\n",
       "ma.L3          0.9678      0.042     23.312      0.000       0.886       1.049\n",
       "ar.S.L7        0.1783      0.680      0.262      0.793      -1.155       1.511\n",
       "ma.S.L7       -0.2199      0.671     -0.328      0.743      -1.535       1.096\n",
       "sigma2      1330.1780    105.735     12.580      0.000    1122.941    1537.415\n",
       "===================================================================================\n",
       "Ljung-Box (Q):                       28.88   Jarque-Bera (JB):                22.01\n",
       "Prob(Q):                              0.90   Prob(JB):                         0.00\n",
       "Heteroskedasticity (H):               3.11   Skew:                            -0.35\n",
       "Prob(H) (two-sided):                  0.00   Kurtosis:                         4.23\n",
       "===================================================================================\n",
       "\n",
       "Warnings:\n",
       "[1] Covariance matrix calculated using the outer product of gradients (complex-step).\n",
       "\"\"\""
      ]
     },
     "execution_count": 21,
     "metadata": {},
     "output_type": "execute_result"
    }
   ],
   "source": [
    "results.summary()"
   ]
  },
  {
   "cell_type": "markdown",
   "metadata": {},
   "source": [
    "**Instructions**\n",
    "\n",
    "* Use the results object to make one-step-ahead predictions over the latest 30 days of data and assign the result to one_step_forecast.\n",
    "* Assign your mean predictions to mean_forecast using one of the attributes of the one_step_forecast object.\n",
    "* Extract the confidence intervals of your predictions from the one_step_forecast object and assign them to confidence_intervals.\n",
    "* Print your mean predictions."
   ]
  },
  {
   "cell_type": "code",
   "execution_count": 24,
   "metadata": {},
   "outputs": [
    {
     "name": "stdout",
     "output_type": "stream",
     "text": [
      "[1475.34295889 1462.794442   1470.98706583 1498.09441141 1537.48792595\n",
      " 1508.04963103 1581.18269724 1627.17612325 1650.13735717 1649.55476257\n",
      " 1657.76652558 1648.06912916 1625.84122873 1671.08976642 1672.25534016\n",
      " 1683.42530671 1693.72753522 1642.57179306 1657.21748793 1652.35936637\n",
      " 1661.10214636 1620.92852771 1594.77628932 1679.48061711 1724.91355844\n",
      " 1629.28620649 1638.16455696 1647.51302016 1636.54438533 1606.76479487]\n"
     ]
    }
   ],
   "source": [
    "# Generate predictions\n",
    "one_step_forecast = results.get_prediction(start=-30)\n",
    "\n",
    "# Extract prediction mean\n",
    "mean_forecast = one_step_forecast.predicted_mean\n",
    "\n",
    "# Get confidence intervals of  predictions\n",
    "confidence_intervals = one_step_forecast.conf_int()\n",
    "\n",
    "# Select lower and upper confidence limits\n",
    "lower_limits = confidence_intervals.loc[:,'lower close']\n",
    "upper_limits = confidence_intervals.loc[:,'upper close']\n",
    "\n",
    "# Print best estimate  predictions\n",
    "print(mean_forecast.values)"
   ]
  },
  {
   "cell_type": "code",
   "execution_count": 25,
   "metadata": {},
   "outputs": [
    {
     "data": {
      "text/plain": [
       "30"
      ]
     },
     "execution_count": 25,
     "metadata": {},
     "output_type": "execute_result"
    }
   ],
   "source": [
    "len(mean_forecast)"
   ]
  },
  {
   "cell_type": "markdown",
   "metadata": {},
   "source": [
    "The predictions told me you could do it! You can use theis one-step-ahead forecast to estimate what your error would be, if you were to make a prediction for the Amazon stock price of tomorrow."
   ]
  },
  {
   "cell_type": "markdown",
   "metadata": {},
   "source": [
    "### Plotting one-step-ahead predictions\n",
    "\n",
    "Now that you have your predictions on the Amazon stock, you should plot these predictions to see how you've done.\n",
    "\n",
    "You made predictions over the latest 30 days of data available, always forecasting just one day ahead. By evaluating these predictions you can judge how the model performs in making predictions for just the next day, where you don't know the answer.\n",
    "\n",
    "The lower_limits, upper_limits and amazon DataFrames as well as your mean prediction mean_forecast that you created in the last exercise are available in your environment."
   ]
  },
  {
   "cell_type": "markdown",
   "metadata": {},
   "source": [
    "**Instructions**\n",
    "\n",
    "* Plot the amazon data, using the amazon.index as the x coordinates.\n",
    "* Plot the mean_forecast prediction similarly, using mean_forecast.index as the x-coordinates.\n",
    "* Plot a shaded area between lower_limits and upper_limits of your confidence interval. Use the index of lower_limits as the x coordinates."
   ]
  },
  {
   "cell_type": "code",
   "execution_count": 27,
   "metadata": {},
   "outputs": [
    {
     "data": {
      "image/png": "[encoded data removed]",
      "text/plain": [
       "<Figure size 720x360 with 1 Axes>"
      ]
     },
     "metadata": {},
     "output_type": "display_data"
    }
   ],
   "source": [
    "# plot the amazon data\n",
    "plt.plot(amazon.index, amazon.close, label='observed')\n",
    "\n",
    "# plot your mean predictions\n",
    "plt.plot(mean_forecast.index, mean_forecast, color='r', label='forecast')\n",
    "\n",
    "# shade the area between your confidence limits\n",
    "plt.fill_between(mean_forecast.index, lower_limits,\n",
    "\t\t upper_limits, color='pink')\n",
    "\n",
    "# set labels, legends and show plot\n",
    "plt.xlabel('Date')\n",
    "plt.ylabel('Amazon Stock Price - Close USD')\n",
    "plt.legend()\n",
    "plt.show()"
   ]
  },
  {
   "cell_type": "markdown",
   "metadata": {},
   "source": [
    "Have a look at your plotted forecast. Is the mean prediction close to the observed values? Do the observed values lie between the upper and lower limits of your prediction?"
   ]
  },
  {
   "cell_type": "markdown",
   "metadata": {},
   "source": [
    "### Generating dynamic forecasts\n",
    "\n",
    "Now lets move a little further into the future, to dynamic predictions. What if you wanted to predict the Amazon stock price, not just for tomorrow, but for next week or next month? This is where dynamical predictions come in.\n",
    "\n",
    "Remember that in the video you learned how it is more difficult to make precise long-term forecasts because the shock terms add up. The further into the future the predictions go, the more uncertain. This is especially true with stock data and so you will likely find that your predictions in this exercise are not as precise as those in the last exercise."
   ]
  },
  {
   "cell_type": "markdown",
   "metadata": {},
   "source": [
    "**Instructions**\n",
    "\n",
    "* Use the results object to make a dynamic predictions for the latest 30 days and assign the result to dynamic_forecast.\n",
    "* Assign your predictions to a new variable called mean_forecast using one of the attributes of the dynamic_forecast object.\n",
    "* Extract the confidence intervals of your predictions from the dynamic_forecast object and assign them to a new variable confidence_intervals.\n",
    "* Print your mean predictions."
   ]
  },
  {
   "cell_type": "code",
   "execution_count": 28,
   "metadata": {},
   "outputs": [
    {
     "name": "stdout",
     "output_type": "stream",
     "text": [
      "[1475.34295889 1476.29021874 1468.28203734 1467.0180881  1468.03600139\n",
      " 1477.95070117 1476.73849925 1479.92118575 1472.4536406  1469.69289014\n",
      " 1466.77856602 1473.45717536 1476.97585499 1479.70160398 1474.8434865\n",
      " 1471.51375875 1467.8824888  1471.79239483 1475.08651179 1478.98899742\n",
      " 1475.95966025 1473.00078942 1469.05888895 1471.09891144 1473.78668348\n",
      " 1477.73352789 1476.48087081 1474.12139042 1470.28125326 1470.87750811]\n"
     ]
    }
   ],
   "source": [
    "# Generate predictions\n",
    "dynamic_forecast = results.get_prediction(start=-30, dynamic=True)\n",
    "\n",
    "# Extract prediction mean\n",
    "mean_forecast = dynamic_forecast.predicted_mean\n",
    "\n",
    "# Get confidence intervals of predictions\n",
    "confidence_intervals = dynamic_forecast.conf_int()\n",
    "\n",
    "# Select lower and upper confidence limits\n",
    "lower_limits = confidence_intervals.loc[:,'lower close']\n",
    "upper_limits = confidence_intervals.loc[:,'upper close']\n",
    "\n",
    "# Print best estimate predictions\n",
    "print(mean_forecast.values)"
   ]
  },
  {
   "cell_type": "markdown",
   "metadata": {},
   "source": [
    "Statsmodels makes it super simple to switch between one-step ahead and dynamical predictions"
   ]
  },
  {
   "cell_type": "markdown",
   "metadata": {},
   "source": [
    "### Plotting dynamic forecasts\n",
    "\n",
    "Time to plot your predictions. Remember that making dynamic predictions, means that your model makes predictions with no corrections, unlike the one-step-ahead predictions. This is kind of like making a forecast now for the next 30 days, and then waiting to see what happens before comparing how good your predictions were.\n",
    "\n",
    "The lower_limits, upper_limits and amazon DataFrames as well as your mean predictions mean_forecast that you created in the last exercise are available in your environment."
   ]
  },
  {
   "cell_type": "markdown",
   "metadata": {},
   "source": [
    "**Instructions**\n",
    "\n",
    "* Plot the amazon data using the dates in the index of this DataFrame as the x coordinates and the values as the y coordinates.\n",
    "* Plot the mean_forecast predictions similarly.\n",
    "* Plot a shaded area between lower_limits and upper_limits of your confidence interval. Use the index of one of these DataFrames as the x coordinates."
   ]
  },
  {
   "cell_type": "code",
   "execution_count": 29,
   "metadata": {},
   "outputs": [
    {
     "data": {
      "image/png": "[encoded data removed]",
      "text/plain": [
       "<Figure size 720x360 with 1 Axes>"
      ]
     },
     "metadata": {},
     "output_type": "display_data"
    }
   ],
   "source": [
    "# plot the amazon data\n",
    "plt.plot(amazon.index, amazon.close, label='observed')\n",
    "\n",
    "# plot your mean forecast\n",
    "plt.plot(mean_forecast.index, mean_forecast, color='r', label='forecast')\n",
    "\n",
    "# shade the area between your confidence limits\n",
    "plt.fill_between(mean_forecast.index, lower_limits, \n",
    "         upper_limits, color='pink')\n",
    "\n",
    "# set labels, legends and show plot\n",
    "plt.xlabel('Date')\n",
    "plt.ylabel('Amazon Stock Price - Close USD')\n",
    "plt.legend()\n",
    "plt.show()"
   ]
  },
  {
   "cell_type": "markdown",
   "metadata": {},
   "source": [
    "It is very hard to predict stock market performance and so your predictions have a wide uncertainty. However, note that the real stock data stayed within your uncertainty limits!"
   ]
  },
  {
   "cell_type": "markdown",
   "metadata": {},
   "source": [
    "## Intro to ARIMA models\n",
    "\n",
    "### Differencing and fitting ARMA\n",
    "\n",
    "In this exercise you will fit an ARMA model to the Amazon stocks dataset. As you saw before, this is a non-stationary dataset. You will use differencing to make it stationary so that you can fit an ARMA model.\n",
    "\n",
    "In the next section you'll make a forecast of the differences and use this to forecast the actual values."
   ]
  },
  {
   "cell_type": "markdown",
   "metadata": {},
   "source": [
    "**Instructions**\n",
    "\n",
    "* Use the .diff() method of amazon to make the time series stationary by taking the first difference. Don't forget to drop the NaN values using the .dropna() method.\n",
    "* Create an ARMA(2,2) model using the SARIMAX class, passing it the stationary data.\n",
    "* Fit the model."
   ]
  },
  {
   "cell_type": "code",
   "execution_count": 30,
   "metadata": {},
   "outputs": [
    {
     "name": "stderr",
     "output_type": "stream",
     "text": [
      "C:\\Users\\aduzo\\Anaconda3\\lib\\site-packages\\statsmodels\\tsa\\base\\tsa_model.py:218: ValueWarning: A date index has been provided, but it has no associated frequency information and so will be ignored when e.g. forecasting.\n",
      "  ' ignored when e.g. forecasting.', ValueWarning)\n",
      "C:\\Users\\aduzo\\Anaconda3\\lib\\site-packages\\statsmodels\\tsa\\base\\tsa_model.py:218: ValueWarning: A date index has been provided, but it has no associated frequency information and so will be ignored when e.g. forecasting.\n",
      "  ' ignored when e.g. forecasting.', ValueWarning)\n",
      "C:\\Users\\aduzo\\Anaconda3\\lib\\site-packages\\statsmodels\\base\\model.py:568: ConvergenceWarning: Maximum Likelihood optimization failed to converge. Check mle_retvals\n",
      "  \"Check mle_retvals\", ConvergenceWarning)\n"
     ]
    },
    {
     "name": "stdout",
     "output_type": "stream",
     "text": [
      "                               SARIMAX Results                                \n",
      "==============================================================================\n",
      "Dep. Variable:                  close   No. Observations:                 1258\n",
      "Model:               SARIMAX(2, 0, 2)   Log Likelihood               -5531.151\n",
      "Date:                Wed, 02 Feb 2022   AIC                          11072.302\n",
      "Time:                        14:19:40   BIC                          11097.988\n",
      "Sample:                             0   HQIC                         11081.955\n",
      "                               - 1258                                         \n",
      "Covariance Type:                  opg                                         \n",
      "==============================================================================\n",
      "                 coef    std err          z      P>|z|      [0.025      0.975]\n",
      "------------------------------------------------------------------------------\n",
      "ar.L1          1.0772      0.004    265.829      0.000       1.069       1.085\n",
      "ar.L2         -0.9954      0.003   -284.813      0.000      -1.002      -0.989\n",
      "ma.L1         -1.0915      0.006   -182.598      0.000      -1.103      -1.080\n",
      "ma.L2          0.9951      0.007    147.128      0.000       0.982       1.008\n",
      "sigma2       391.2833      6.805     57.503      0.000     377.947     404.620\n",
      "===================================================================================\n",
      "Ljung-Box (Q):                      104.64   Jarque-Bera (JB):              6863.07\n",
      "Prob(Q):                              0.00   Prob(JB):                         0.00\n",
      "Heteroskedasticity (H):              15.48   Skew:                            -0.20\n",
      "Prob(H) (two-sided):                  0.00   Kurtosis:                        14.44\n",
      "===================================================================================\n",
      "\n",
      "Warnings:\n",
      "[1] Covariance matrix calculated using the outer product of gradients (complex-step).\n"
     ]
    }
   ],
   "source": [
    "# Take the first difference of the data\n",
    "amazon_diff = amazon.diff().dropna()\n",
    "\n",
    "# Create ARMA(2,2) model\n",
    "arma = SARIMAX(amazon_diff,order=(2,0,2))\n",
    "\n",
    "# Fit model\n",
    "arma_results = arma.fit()\n",
    "\n",
    "# Print fit summary\n",
    "print(arma_results.summary())"
   ]
  },
  {
   "cell_type": "markdown",
   "metadata": {},
   "source": [
    "Remember that now you have a model which you can use to predict the difference values, not the absolute value of the amazon dataset."
   ]
  },
  {
   "cell_type": "markdown",
   "metadata": {},
   "source": [
    "### Unrolling ARMA forecast\n",
    "\n",
    "Now you will use the model that you trained in the previous exercise arma in order to forecast the absolute value of the Amazon stocks dataset. Remember that sometimes predicting the difference could be enough; will the stocks go up, or down; but sometimes the absolute value is key.\n",
    "\n",
    "The results object from the model you trained in the last exercise is available in your environment as arma_results. The np.cumsum() function and the original DataFrame amazon are also available."
   ]
  },
  {
   "cell_type": "markdown",
   "metadata": {},
   "source": [
    "**Instructions**\n",
    "\n",
    "* Use the .get_forecast() method of the arma_results object and select the predicted mean of the next 10 differences.\n",
    "* Use the np.cumsum() function to integrate your difference forecast.\n",
    "* Add the last value of the original DataFrame to make your forecast an absolute value."
   ]
  },
  {
   "cell_type": "code",
   "execution_count": 31,
   "metadata": {},
   "outputs": [
    {
     "name": "stderr",
     "output_type": "stream",
     "text": [
      "C:\\Users\\aduzo\\Anaconda3\\lib\\site-packages\\statsmodels\\tsa\\base\\tsa_model.py:583: ValueWarning: No supported index is available. Prediction results will be given with an integer index beginning at `start`.\n",
      "  ValueWarning)\n"
     ]
    },
    {
     "data": {
      "text/plain": [
       "1258    5.365250\n",
       "1259    8.399689\n",
       "1260    3.707170\n",
       "1261   -4.367987\n",
       "1262   -8.395231\n",
       "1263   -4.695063\n",
       "1264    3.299426\n",
       "1265    8.227583\n",
       "1266    5.578146\n",
       "1267   -2.181320\n",
       "dtype: float64"
      ]
     },
     "execution_count": 31,
     "metadata": {},
     "output_type": "execute_result"
    }
   ],
   "source": [
    "# Make arma forecast of next 10 differences\n",
    "arma_diff_forecast = arma_results.get_forecast(steps=10).predicted_mean\n",
    "arma_diff_forecast"
   ]
  },
  {
   "cell_type": "code",
   "execution_count": 32,
   "metadata": {},
   "outputs": [
    {
     "data": {
      "text/plain": [
       "1258     5.365250\n",
       "1259    13.764939\n",
       "1260    17.472109\n",
       "1261    13.104122\n",
       "1262     4.708891\n",
       "1263     0.013828\n",
       "1264     3.313254\n",
       "1265    11.540837\n",
       "1266    17.118983\n",
       "1267    14.937663\n",
       "dtype: float64"
      ]
     },
     "execution_count": 32,
     "metadata": {},
     "output_type": "execute_result"
    }
   ],
   "source": [
    "\n",
    "# Integrate the difference forecast\n",
    "arma_int_forecast = np.cumsum(arma_diff_forecast)\n",
    "arma_int_forecast"
   ]
  },
  {
   "cell_type": "code",
   "execution_count": 34,
   "metadata": {},
   "outputs": [
    {
     "data": {
      "text/plain": [
       "1588.22"
      ]
     },
     "execution_count": 34,
     "metadata": {},
     "output_type": "execute_result"
    }
   ],
   "source": [
    "amazon.iloc[-1,0]"
   ]
  },
  {
   "cell_type": "code",
   "execution_count": 35,
   "metadata": {},
   "outputs": [
    {
     "data": {
      "text/html": [
       "<div>\n",
       "<style scoped>\n",
       "    .dataframe tbody tr th:only-of-type {\n",
       "        vertical-align: middle;\n",
       "    }\n",
       "\n",
       "    .dataframe tbody tr th {\n",
       "        vertical-align: top;\n",
       "    }\n",
       "\n",
       "    .dataframe thead th {\n",
       "        text-align: right;\n",
       "    }\n",
       "</style>\n",
       "<table border=\"1\" class=\"dataframe\">\n",
       "  <thead>\n",
       "    <tr style=\"text-align: right;\">\n",
       "      <th></th>\n",
       "      <th>close</th>\n",
       "    </tr>\n",
       "    <tr>\n",
       "      <th>date</th>\n",
       "      <th></th>\n",
       "    </tr>\n",
       "  </thead>\n",
       "  <tbody>\n",
       "    <tr>\n",
       "      <th>2019-02-04</th>\n",
       "      <td>1633.31</td>\n",
       "    </tr>\n",
       "    <tr>\n",
       "      <th>2019-02-05</th>\n",
       "      <td>1658.81</td>\n",
       "    </tr>\n",
       "    <tr>\n",
       "      <th>2019-02-06</th>\n",
       "      <td>1640.26</td>\n",
       "    </tr>\n",
       "    <tr>\n",
       "      <th>2019-02-07</th>\n",
       "      <td>1614.37</td>\n",
       "    </tr>\n",
       "    <tr>\n",
       "      <th>2019-02-08</th>\n",
       "      <td>1588.22</td>\n",
       "    </tr>\n",
       "  </tbody>\n",
       "</table>\n",
       "</div>"
      ],
      "text/plain": [
       "              close\n",
       "date               \n",
       "2019-02-04  1633.31\n",
       "2019-02-05  1658.81\n",
       "2019-02-06  1640.26\n",
       "2019-02-07  1614.37\n",
       "2019-02-08  1588.22"
      ]
     },
     "execution_count": 35,
     "metadata": {},
     "output_type": "execute_result"
    }
   ],
   "source": [
    "amazon.tail()"
   ]
  },
  {
   "cell_type": "code",
   "execution_count": 36,
   "metadata": {},
   "outputs": [
    {
     "name": "stdout",
     "output_type": "stream",
     "text": [
      "1258    1593.585250\n",
      "1259    1601.984939\n",
      "1260    1605.692109\n",
      "1261    1601.324122\n",
      "1262    1592.928891\n",
      "1263    1588.233828\n",
      "1264    1591.533254\n",
      "1265    1599.760837\n",
      "1266    1605.338983\n",
      "1267    1603.157663\n",
      "dtype: float64\n"
     ]
    }
   ],
   "source": [
    "# Make absolute value forecast\n",
    "arma_value_forecast = arma_int_forecast + amazon.iloc[-1, 0]\n",
    "\n",
    "# Print forecast\n",
    "print(arma_value_forecast)"
   ]
  },
  {
   "cell_type": "markdown",
   "metadata": {},
   "source": [
    "You have just made an ARIMA forecast the hard way. Next you'll use statsmodels to make things easier."
   ]
  },
  {
   "cell_type": "markdown",
   "metadata": {},
   "source": [
    "### Fitting an ARIMA model\n",
    "\n",
    "In this exercise you'll learn how to be lazy in time series modeling. Instead of taking the difference, modeling the difference and then integrating, you're just going to lets statsmodels do the hard work for you.\n",
    "\n",
    "You'll repeat the same exercise that you did before, of forecasting the absolute values of the Amazon stocks dataset, but this time with an ARIMA model.\n",
    "\n",
    "A subset of the stocks dataset is available in your environment as amazon and so is the SARIMAX model class."
   ]
  },
  {
   "cell_type": "markdown",
   "metadata": {},
   "source": [
    "**Instructions**\n",
    "\n",
    "* Create an ARIMA(2,1,2) model, using the SARIMAX class, passing it the Amazon stocks data amazon.\n",
    "* Fit the model.\n",
    "* Make a forecast of mean values of the Amazon data for the next 10 time steps. Assign the result to arima_value_forecast."
   ]
  },
  {
   "cell_type": "code",
   "execution_count": 37,
   "metadata": {},
   "outputs": [
    {
     "name": "stderr",
     "output_type": "stream",
     "text": [
      "C:\\Users\\aduzo\\Anaconda3\\lib\\site-packages\\statsmodels\\tsa\\base\\tsa_model.py:218: ValueWarning: A date index has been provided, but it has no associated frequency information and so will be ignored when e.g. forecasting.\n",
      "  ' ignored when e.g. forecasting.', ValueWarning)\n",
      "C:\\Users\\aduzo\\Anaconda3\\lib\\site-packages\\statsmodels\\tsa\\base\\tsa_model.py:218: ValueWarning: A date index has been provided, but it has no associated frequency information and so will be ignored when e.g. forecasting.\n",
      "  ' ignored when e.g. forecasting.', ValueWarning)\n",
      "C:\\Users\\aduzo\\Anaconda3\\lib\\site-packages\\statsmodels\\base\\model.py:568: ConvergenceWarning: Maximum Likelihood optimization failed to converge. Check mle_retvals\n",
      "  \"Check mle_retvals\", ConvergenceWarning)\n",
      "C:\\Users\\aduzo\\Anaconda3\\lib\\site-packages\\statsmodels\\tsa\\base\\tsa_model.py:583: ValueWarning: No supported index is available. Prediction results will be given with an integer index beginning at `start`.\n",
      "  ValueWarning)\n"
     ]
    },
    {
     "name": "stdout",
     "output_type": "stream",
     "text": [
      "1259    1593.664262\n",
      "1260    1602.046906\n",
      "1261    1605.657696\n",
      "1262    1601.204614\n",
      "1263    1592.814921\n",
      "1264    1588.210142\n",
      "1265    1591.599633\n",
      "1266    1599.832946\n",
      "1267    1605.327749\n",
      "1268    1603.052511\n",
      "dtype: float64\n"
     ]
    }
   ],
   "source": [
    "# Create ARIMA(2,1,2) model\n",
    "arima = SARIMAX(amazon.close,order=(2,1,2))\n",
    "\n",
    "# Fit ARIMA model\n",
    "arima_results = arima.fit()\n",
    "\n",
    "# Make ARIMA forecast of next 10 values\n",
    "arima_value_forecast = arima_results.get_forecast(steps=10).predicted_mean\n",
    "\n",
    "# Print forecast\n",
    "print(arima_value_forecast)"
   ]
  },
  {
   "cell_type": "markdown",
   "metadata": {},
   "source": [
    "ou just made the same forecast you made before, but this time with an ARIMA model. Your two forecasts give the same results, but the ARIMA forecast was a lot easier to code!"
   ]
  },
  {
   "cell_type": "markdown",
   "metadata": {},
   "source": [
    "**Choosing ARIMA model**\n",
    "\n",
    "You are trying to figure out which ARIMA model is the best fit for a dataset after trying different degrees of differencing and applying the Augmented Dicky-Fuller test on the differenced data. The test statistics were these:\n",
    "\n",
    "|Order of difference|\tADF statistic|\tp-value|\n",
    "|---|---|--|\n",
    "|0\t|2.198|\t 0.999|\n",
    "|1\t|-2.598| 0.093|\n",
    "|2\t|-14.448|0.000|\n",
    "|3\t|-17.147|0.000|\n",
    "\n",
    "Which kind of ARIMA model should you fit to this time series data?\n",
    "\n",
    "* ARIMA(p,2,q) because, you want to make sure our data is stationary but don't want to over difference it either. This is the right call!"
   ]
  }
 ],
 "metadata": {
  "interpreter": {
   "hash": "60062bfbbdb55d7c70b884c78dba17d93f7bddb21846b67229a99cf865725014"
  },
  "kernelspec": {
   "display_name": "Python 3.7.6 64-bit ('base': conda)",
   "language": "python",
   "name": "python3"
  },
  "language_info": {
   "codemirror_mode": {
    "name": "ipython",
    "version": 3
   },
   "file_extension": ".py",
   "mimetype": "text/x-python",
   "name": "python",
   "nbconvert_exporter": "python",
   "pygments_lexer": "ipython3",
   "version": "3.7.6"
  },
  "orig_nbformat": 4
 },
 "nbformat": 4,
 "nbformat_minor": 2
}
