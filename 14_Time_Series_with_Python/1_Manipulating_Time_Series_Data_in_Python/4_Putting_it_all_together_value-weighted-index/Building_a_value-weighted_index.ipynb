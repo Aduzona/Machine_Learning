{
 "cells": [
  {
   "cell_type": "markdown",
   "metadata": {},
   "source": [
    "# Putting it all together: Building a value-weighted index\n",
    "\n",
    "This chapter combines the previous concepts by teaching you how to create a value-weighted index. This index uses market-cap data contained in the stock exchange listings to calculate weights and 2016 stock price information. Index performance is then compared against benchmarks to evaluate the performance of the index you created."
   ]
  },
  {
   "cell_type": "markdown",
   "metadata": {},
   "source": [
    "# Putting it all together: Building a value-weighted index\n",
    "\n",
    "This chapter combines the previous concepts by teaching you how to create a value-weighted index. This index uses market-cap data contained in the stock exchange listings to calculate weights and 2016 stock price information. Index performance is then compared against benchmarks to evaluate the performance of the index you created."
   ]
  },
  {
   "cell_type": "code",
   "execution_count": 42,
   "metadata": {},
   "outputs": [],
   "source": [
    "import pandas as pd\n",
    "import numpy as np\n",
    "import matplotlib.pyplot as plt\n",
    "import seaborn as sns\n",
    "\n",
    "plt.rcParams['figure.figsize'] = (10, 5)"
   ]
  },
  {
   "cell_type": "code",
   "execution_count": 20,
   "metadata": {},
   "outputs": [
    {
     "name": "stdout",
     "output_type": "stream",
     "text": [
      "<class 'pandas.core.frame.DataFrame'>\n",
      "RangeIndex: 3147 entries, 0 to 3146\n",
      "Data columns (total 7 columns):\n",
      " #   Column                 Non-Null Count  Dtype  \n",
      "---  ------                 --------------  -----  \n",
      " 0   Stock Symbol           3147 non-null   object \n",
      " 1   Company Name           3147 non-null   object \n",
      " 2   Last Sale              3079 non-null   float64\n",
      " 3   Market Capitalization  3147 non-null   float64\n",
      " 4   IPO Year               1361 non-null   float64\n",
      " 5   Sector                 2177 non-null   object \n",
      " 6   Industry               2177 non-null   object \n",
      "dtypes: float64(3), object(4)\n",
      "memory usage: 172.2+ KB\n"
     ]
    },
    {
     "name": "stderr",
     "output_type": "stream",
     "text": [
      "/Users/diego.uchendu/Documents/2_Personal_Projects/6_ML_github/Machine_learning/venv/lib/python3.9/site-packages/openpyxl/worksheet/_reader.py:329: UserWarning: Unknown extension is not supported and will be removed\n",
      "  warn(msg)\n"
     ]
    }
   ],
   "source": [
    "nyse = pd.read_excel('../stock_data/listings.xlsx',sheet_name='nyse', na_values='n/a')\n",
    "nyse.info()"
   ]
  },
  {
   "cell_type": "code",
   "execution_count": 21,
   "metadata": {},
   "outputs": [
    {
     "data": {
      "text/html": [
       "<div>\n",
       "<style scoped>\n",
       "    .dataframe tbody tr th:only-of-type {\n",
       "        vertical-align: middle;\n",
       "    }\n",
       "\n",
       "    .dataframe tbody tr th {\n",
       "        vertical-align: top;\n",
       "    }\n",
       "\n",
       "    .dataframe thead th {\n",
       "        text-align: right;\n",
       "    }\n",
       "</style>\n",
       "<table border=\"1\" class=\"dataframe\">\n",
       "  <thead>\n",
       "    <tr style=\"text-align: right;\">\n",
       "      <th></th>\n",
       "      <th>Stock Symbol</th>\n",
       "      <th>Company Name</th>\n",
       "      <th>Last Sale</th>\n",
       "      <th>Market Capitalization</th>\n",
       "      <th>IPO Year</th>\n",
       "      <th>Sector</th>\n",
       "      <th>Industry</th>\n",
       "    </tr>\n",
       "  </thead>\n",
       "  <tbody>\n",
       "    <tr>\n",
       "      <th>0</th>\n",
       "      <td>DDD</td>\n",
       "      <td>3D Systems Corporation</td>\n",
       "      <td>14.48</td>\n",
       "      <td>1,647,165,275.84</td>\n",
       "      <td>NaN</td>\n",
       "      <td>Technology</td>\n",
       "      <td>Computer Software: Prepackaged Software</td>\n",
       "    </tr>\n",
       "    <tr>\n",
       "      <th>1</th>\n",
       "      <td>MMM</td>\n",
       "      <td>3M Company</td>\n",
       "      <td>188.65</td>\n",
       "      <td>112,736,642,168.15</td>\n",
       "      <td>NaN</td>\n",
       "      <td>Health Care</td>\n",
       "      <td>Medical/Dental Instruments</td>\n",
       "    </tr>\n",
       "    <tr>\n",
       "      <th>2</th>\n",
       "      <td>WBAI</td>\n",
       "      <td>500.com Limited</td>\n",
       "      <td>13.96</td>\n",
       "      <td>579,312,875.72</td>\n",
       "      <td>2,013.00</td>\n",
       "      <td>Consumer Services</td>\n",
       "      <td>Services-Misc. Amusement &amp; Recreation</td>\n",
       "    </tr>\n",
       "    <tr>\n",
       "      <th>3</th>\n",
       "      <td>WUBA</td>\n",
       "      <td>58.com Inc.</td>\n",
       "      <td>36.11</td>\n",
       "      <td>5,225,238,185.16</td>\n",
       "      <td>2,013.00</td>\n",
       "      <td>Technology</td>\n",
       "      <td>Computer Software: Programming, Data Processing</td>\n",
       "    </tr>\n",
       "    <tr>\n",
       "      <th>4</th>\n",
       "      <td>AHC</td>\n",
       "      <td>A.H. Belo Corporation</td>\n",
       "      <td>6.20</td>\n",
       "      <td>134,735,089.20</td>\n",
       "      <td>NaN</td>\n",
       "      <td>Consumer Services</td>\n",
       "      <td>Newspapers/Magazines</td>\n",
       "    </tr>\n",
       "  </tbody>\n",
       "</table>\n",
       "</div>"
      ],
      "text/plain": [
       "  Stock Symbol            Company Name  Last Sale  Market Capitalization  \\\n",
       "0          DDD  3D Systems Corporation      14.48       1,647,165,275.84   \n",
       "1          MMM              3M Company     188.65     112,736,642,168.15   \n",
       "2         WBAI         500.com Limited      13.96         579,312,875.72   \n",
       "3         WUBA             58.com Inc.      36.11       5,225,238,185.16   \n",
       "4          AHC   A.H. Belo Corporation       6.20         134,735,089.20   \n",
       "\n",
       "   IPO Year             Sector  \\\n",
       "0       NaN         Technology   \n",
       "1       NaN        Health Care   \n",
       "2  2,013.00  Consumer Services   \n",
       "3  2,013.00         Technology   \n",
       "4       NaN  Consumer Services   \n",
       "\n",
       "                                          Industry  \n",
       "0          Computer Software: Prepackaged Software  \n",
       "1                       Medical/Dental Instruments  \n",
       "2            Services-Misc. Amusement & Recreation  \n",
       "3  Computer Software: Programming, Data Processing  \n",
       "4                             Newspapers/Magazines  "
      ]
     },
     "execution_count": 21,
     "metadata": {},
     "output_type": "execute_result"
    }
   ],
   "source": [
    "nyse.head()"
   ]
  },
  {
   "cell_type": "code",
   "execution_count": 22,
   "metadata": {},
   "outputs": [],
   "source": [
    "## Load and prepare listing data\n",
    "\n",
    "nyse.set_index('Stock Symbol', inplace= True)\n",
    "nyse.dropna(subset=['Sector'],inplace=True)\n",
    "nyse['Market Capitalization'] /=1e6 # in Million USD"
   ]
  },
  {
   "cell_type": "code",
   "execution_count": 23,
   "metadata": {},
   "outputs": [
    {
     "data": {
      "text/html": [
       "<div>\n",
       "<style scoped>\n",
       "    .dataframe tbody tr th:only-of-type {\n",
       "        vertical-align: middle;\n",
       "    }\n",
       "\n",
       "    .dataframe tbody tr th {\n",
       "        vertical-align: top;\n",
       "    }\n",
       "\n",
       "    .dataframe thead th {\n",
       "        text-align: right;\n",
       "    }\n",
       "</style>\n",
       "<table border=\"1\" class=\"dataframe\">\n",
       "  <thead>\n",
       "    <tr style=\"text-align: right;\">\n",
       "      <th></th>\n",
       "      <th>Company Name</th>\n",
       "      <th>Last Sale</th>\n",
       "      <th>Market Capitalization</th>\n",
       "      <th>IPO Year</th>\n",
       "      <th>Sector</th>\n",
       "      <th>Industry</th>\n",
       "    </tr>\n",
       "    <tr>\n",
       "      <th>Stock Symbol</th>\n",
       "      <th></th>\n",
       "      <th></th>\n",
       "      <th></th>\n",
       "      <th></th>\n",
       "      <th></th>\n",
       "      <th></th>\n",
       "    </tr>\n",
       "  </thead>\n",
       "  <tbody>\n",
       "    <tr>\n",
       "      <th>DDD</th>\n",
       "      <td>3D Systems Corporation</td>\n",
       "      <td>14.48</td>\n",
       "      <td>1,647.17</td>\n",
       "      <td>NaN</td>\n",
       "      <td>Technology</td>\n",
       "      <td>Computer Software: Prepackaged Software</td>\n",
       "    </tr>\n",
       "    <tr>\n",
       "      <th>MMM</th>\n",
       "      <td>3M Company</td>\n",
       "      <td>188.65</td>\n",
       "      <td>112,736.64</td>\n",
       "      <td>NaN</td>\n",
       "      <td>Health Care</td>\n",
       "      <td>Medical/Dental Instruments</td>\n",
       "    </tr>\n",
       "    <tr>\n",
       "      <th>WBAI</th>\n",
       "      <td>500.com Limited</td>\n",
       "      <td>13.96</td>\n",
       "      <td>579.31</td>\n",
       "      <td>2,013.00</td>\n",
       "      <td>Consumer Services</td>\n",
       "      <td>Services-Misc. Amusement &amp; Recreation</td>\n",
       "    </tr>\n",
       "    <tr>\n",
       "      <th>WUBA</th>\n",
       "      <td>58.com Inc.</td>\n",
       "      <td>36.11</td>\n",
       "      <td>5,225.24</td>\n",
       "      <td>2,013.00</td>\n",
       "      <td>Technology</td>\n",
       "      <td>Computer Software: Programming, Data Processing</td>\n",
       "    </tr>\n",
       "    <tr>\n",
       "      <th>AHC</th>\n",
       "      <td>A.H. Belo Corporation</td>\n",
       "      <td>6.20</td>\n",
       "      <td>134.74</td>\n",
       "      <td>NaN</td>\n",
       "      <td>Consumer Services</td>\n",
       "      <td>Newspapers/Magazines</td>\n",
       "    </tr>\n",
       "  </tbody>\n",
       "</table>\n",
       "</div>"
      ],
      "text/plain": [
       "                        Company Name  Last Sale  Market Capitalization  \\\n",
       "Stock Symbol                                                             \n",
       "DDD           3D Systems Corporation      14.48               1,647.17   \n",
       "MMM                       3M Company     188.65             112,736.64   \n",
       "WBAI                 500.com Limited      13.96                 579.31   \n",
       "WUBA                     58.com Inc.      36.11               5,225.24   \n",
       "AHC            A.H. Belo Corporation       6.20                 134.74   \n",
       "\n",
       "              IPO Year             Sector  \\\n",
       "Stock Symbol                                \n",
       "DDD                NaN         Technology   \n",
       "MMM                NaN        Health Care   \n",
       "WBAI          2,013.00  Consumer Services   \n",
       "WUBA          2,013.00         Technology   \n",
       "AHC                NaN  Consumer Services   \n",
       "\n",
       "                                                     Industry  \n",
       "Stock Symbol                                                   \n",
       "DDD                   Computer Software: Prepackaged Software  \n",
       "MMM                                Medical/Dental Instruments  \n",
       "WBAI                    Services-Misc. Amusement & Recreation  \n",
       "WUBA          Computer Software: Programming, Data Processing  \n",
       "AHC                                      Newspapers/Magazines  "
      ]
     },
     "execution_count": 23,
     "metadata": {},
     "output_type": "execute_result"
    }
   ],
   "source": [
    "nyse.head()"
   ]
  },
  {
   "cell_type": "code",
   "execution_count": 24,
   "metadata": {},
   "outputs": [
    {
     "data": {
      "text/plain": [
       "Sector                 Stock Symbol\n",
       "Health Care            JNJ            338,834.39\n",
       "Energy                 XOM            338,728.71\n",
       "Finance                JPM            300,283.25\n",
       "Miscellaneous          BABA           275,525.00\n",
       "Public Utilities       T              247,339.52\n",
       "Basic Industries       PG             230,159.64\n",
       "Consumer Services      WMT            221,864.61\n",
       "Consumer Non-Durables  KO             183,655.31\n",
       "Technology             ORCL           181,046.10\n",
       "Capital Goods          TM             155,660.25\n",
       "Transportation         UPS             90,180.89\n",
       "Consumer Durables      ABB             48,398.94\n",
       "Name: Market Capitalization, dtype: float64"
      ]
     },
     "execution_count": 24,
     "metadata": {},
     "output_type": "execute_result"
    }
   ],
   "source": [
    "#Select Index components\n",
    "components = nyse.groupby(['Sector'])['Market Capitalization'].nlargest(1)\n",
    "components.sort_values(ascending=False)"
   ]
  },
  {
   "cell_type": "code",
   "execution_count": 25,
   "metadata": {},
   "outputs": [
    {
     "data": {
      "text/plain": [
       "Sector                 Stock Symbol\n",
       "Basic Industries       PG             230,159.64\n",
       "Capital Goods          TM             155,660.25\n",
       "Consumer Durables      ABB             48,398.94\n",
       "Consumer Non-Durables  KO             183,655.31\n",
       "Consumer Services      WMT            221,864.61\n",
       "Energy                 XOM            338,728.71\n",
       "Finance                JPM            300,283.25\n",
       "Health Care            JNJ            338,834.39\n",
       "Miscellaneous          BABA           275,525.00\n",
       "Public Utilities       T              247,339.52\n",
       "Technology             ORCL           181,046.10\n",
       "Transportation         UPS             90,180.89\n",
       "Name: Market Capitalization, dtype: float64"
      ]
     },
     "execution_count": 25,
     "metadata": {},
     "output_type": "execute_result"
    }
   ],
   "source": [
    "components"
   ]
  },
  {
   "cell_type": "code",
   "execution_count": 26,
   "metadata": {},
   "outputs": [
    {
     "data": {
      "text/plain": [
       "Index(['PG', 'TM', 'ABB', 'KO', 'WMT', 'XOM', 'JPM', 'JNJ', 'BABA', 'T',\n",
       "       'ORCL', 'UPS'],\n",
       "      dtype='object', name='Stock Symbol')"
      ]
     },
     "execution_count": 26,
     "metadata": {},
     "output_type": "execute_result"
    }
   ],
   "source": [
    "## Import & prepare listing data\n",
    "tickers = components.index.get_level_values('Stock Symbol')\n",
    "tickers"
   ]
  },
  {
   "cell_type": "code",
   "execution_count": 27,
   "metadata": {},
   "outputs": [
    {
     "data": {
      "text/plain": [
       "['PG',\n",
       " 'TM',\n",
       " 'ABB',\n",
       " 'KO',\n",
       " 'WMT',\n",
       " 'XOM',\n",
       " 'JPM',\n",
       " 'JNJ',\n",
       " 'BABA',\n",
       " 'T',\n",
       " 'ORCL',\n",
       " 'UPS']"
      ]
     },
     "execution_count": 27,
     "metadata": {},
     "output_type": "execute_result"
    }
   ],
   "source": [
    "tickers.tolist()"
   ]
  },
  {
   "cell_type": "code",
   "execution_count": 28,
   "metadata": {},
   "outputs": [],
   "source": [
    "## Stock index components\n",
    "columns = ['Company Name', 'Market Capitalization', 'Last Sale']\n",
    "components_info = nyse.loc[tickers,columns]\n",
    "pd.options.display.float_format = '{:,.2f}'.format"
   ]
  },
  {
   "cell_type": "code",
   "execution_count": 29,
   "metadata": {},
   "outputs": [
    {
     "data": {
      "text/html": [
       "<div>\n",
       "<style scoped>\n",
       "    .dataframe tbody tr th:only-of-type {\n",
       "        vertical-align: middle;\n",
       "    }\n",
       "\n",
       "    .dataframe tbody tr th {\n",
       "        vertical-align: top;\n",
       "    }\n",
       "\n",
       "    .dataframe thead th {\n",
       "        text-align: right;\n",
       "    }\n",
       "</style>\n",
       "<table border=\"1\" class=\"dataframe\">\n",
       "  <thead>\n",
       "    <tr style=\"text-align: right;\">\n",
       "      <th></th>\n",
       "      <th>Company Name</th>\n",
       "      <th>Market Capitalization</th>\n",
       "      <th>Last Sale</th>\n",
       "    </tr>\n",
       "    <tr>\n",
       "      <th>Stock Symbol</th>\n",
       "      <th></th>\n",
       "      <th></th>\n",
       "      <th></th>\n",
       "    </tr>\n",
       "  </thead>\n",
       "  <tbody>\n",
       "    <tr>\n",
       "      <th>PG</th>\n",
       "      <td>Procter &amp; Gamble Company (The)</td>\n",
       "      <td>230,159.64</td>\n",
       "      <td>90.03</td>\n",
       "    </tr>\n",
       "    <tr>\n",
       "      <th>TM</th>\n",
       "      <td>Toyota Motor Corp Ltd Ord</td>\n",
       "      <td>155,660.25</td>\n",
       "      <td>104.18</td>\n",
       "    </tr>\n",
       "    <tr>\n",
       "      <th>ABB</th>\n",
       "      <td>ABB Ltd</td>\n",
       "      <td>48,398.94</td>\n",
       "      <td>22.63</td>\n",
       "    </tr>\n",
       "    <tr>\n",
       "      <th>KO</th>\n",
       "      <td>Coca-Cola Company (The)</td>\n",
       "      <td>183,655.31</td>\n",
       "      <td>42.79</td>\n",
       "    </tr>\n",
       "    <tr>\n",
       "      <th>WMT</th>\n",
       "      <td>Wal-Mart Stores, Inc.</td>\n",
       "      <td>221,864.61</td>\n",
       "      <td>73.15</td>\n",
       "    </tr>\n",
       "    <tr>\n",
       "      <th>XOM</th>\n",
       "      <td>Exxon Mobil Corporation</td>\n",
       "      <td>338,728.71</td>\n",
       "      <td>81.69</td>\n",
       "    </tr>\n",
       "    <tr>\n",
       "      <th>JPM</th>\n",
       "      <td>J P Morgan Chase &amp; Co</td>\n",
       "      <td>300,283.25</td>\n",
       "      <td>84.40</td>\n",
       "    </tr>\n",
       "    <tr>\n",
       "      <th>JNJ</th>\n",
       "      <td>Johnson &amp; Johnson</td>\n",
       "      <td>338,834.39</td>\n",
       "      <td>124.99</td>\n",
       "    </tr>\n",
       "    <tr>\n",
       "      <th>BABA</th>\n",
       "      <td>Alibaba Group Holding Limited</td>\n",
       "      <td>275,525.00</td>\n",
       "      <td>110.21</td>\n",
       "    </tr>\n",
       "    <tr>\n",
       "      <th>T</th>\n",
       "      <td>AT&amp;T Inc.</td>\n",
       "      <td>247,339.52</td>\n",
       "      <td>40.28</td>\n",
       "    </tr>\n",
       "    <tr>\n",
       "      <th>ORCL</th>\n",
       "      <td>Oracle Corporation</td>\n",
       "      <td>181,046.10</td>\n",
       "      <td>44.00</td>\n",
       "    </tr>\n",
       "    <tr>\n",
       "      <th>UPS</th>\n",
       "      <td>United Parcel Service, Inc.</td>\n",
       "      <td>90,180.89</td>\n",
       "      <td>103.74</td>\n",
       "    </tr>\n",
       "  </tbody>\n",
       "</table>\n",
       "</div>"
      ],
      "text/plain": [
       "                                Company Name  Market Capitalization  Last Sale\n",
       "Stock Symbol                                                                  \n",
       "PG            Procter & Gamble Company (The)             230,159.64      90.03\n",
       "TM                 Toyota Motor Corp Ltd Ord             155,660.25     104.18\n",
       "ABB                                  ABB Ltd              48,398.94      22.63\n",
       "KO                   Coca-Cola Company (The)             183,655.31      42.79\n",
       "WMT                    Wal-Mart Stores, Inc.             221,864.61      73.15\n",
       "XOM                  Exxon Mobil Corporation             338,728.71      81.69\n",
       "JPM                    J P Morgan Chase & Co             300,283.25      84.40\n",
       "JNJ                        Johnson & Johnson             338,834.39     124.99\n",
       "BABA           Alibaba Group Holding Limited             275,525.00     110.21\n",
       "T                                  AT&T Inc.             247,339.52      40.28\n",
       "ORCL                      Oracle Corporation             181,046.10      44.00\n",
       "UPS              United Parcel Service, Inc.              90,180.89     103.74"
      ]
     },
     "execution_count": 29,
     "metadata": {},
     "output_type": "execute_result"
    }
   ],
   "source": [
    "components_info"
   ]
  },
  {
   "cell_type": "markdown",
   "metadata": {},
   "source": []
  },
  {
   "cell_type": "markdown",
   "metadata": {},
   "source": [
    "## Explore and clean company listing information\n",
    "\n",
    "To get started with the construction of a market-value based index, you'll work with the combined listing info for the three largest US stock exchanges, the NYSE, the NASDAQ and the AMEX.\n",
    "\n",
    "In this and the next exercise, you will calculate market-cap weights for these stocks.\n",
    "\n",
    "We have already imported `pandas` as `pd`, and loaded the `listings` data set with listings information from the NYSE, NASDAQ, and AMEX. The column `'Market Capitalization'` is already measured in USD mn."
   ]
  },
  {
   "cell_type": "code",
   "execution_count": 30,
   "metadata": {},
   "outputs": [
    {
     "name": "stderr",
     "output_type": "stream",
     "text": [
      "/Users/diego.uchendu/Documents/2_Personal_Projects/6_ML_github/Machine_learning/venv/lib/python3.9/site-packages/openpyxl/worksheet/_reader.py:329: UserWarning: Unknown extension is not supported and will be removed\n",
      "  warn(msg)\n",
      "/Users/diego.uchendu/Documents/2_Personal_Projects/6_ML_github/Machine_learning/venv/lib/python3.9/site-packages/openpyxl/worksheet/_reader.py:329: UserWarning: Unknown extension is not supported and will be removed\n",
      "  warn(msg)\n",
      "/Users/diego.uchendu/Documents/2_Personal_Projects/6_ML_github/Machine_learning/venv/lib/python3.9/site-packages/openpyxl/worksheet/_reader.py:329: UserWarning: Unknown extension is not supported and will be removed\n",
      "  warn(msg)\n"
     ]
    }
   ],
   "source": [
    "listings_nyse = pd.read_excel('../stock_data/listings.xlsx', sheet_name='nyse', na_values='n/a')\n",
    "listings_amex = pd.read_excel('../stock_data/listings.xlsx', sheet_name='amex', na_values='n/a')\n",
    "listings_nasdaq = pd.read_excel('../stock_data/listings.xlsx', sheet_name='nasdaq', na_values='n/a')"
   ]
  },
  {
   "cell_type": "code",
   "execution_count": 31,
   "metadata": {},
   "outputs": [],
   "source": [
    "listings_nyse['Exchange'] = 'nyse'\n",
    "listings_amex['Exchange'] = 'amex'\n",
    "listings_nasdaq['Exchange'] = 'nasdaq'"
   ]
  },
  {
   "cell_type": "code",
   "execution_count": 32,
   "metadata": {},
   "outputs": [],
   "source": [
    "listings = pd.concat([listings_amex, listings_nasdaq, listings_nyse], axis=0)\n",
    "listings.reset_index(inplace=True)\n",
    "listings.drop(['index'], axis=1, inplace=True)\n",
    "listings['Market Capitalization'] /= 1e6"
   ]
  },
  {
   "cell_type": "code",
   "execution_count": 33,
   "metadata": {},
   "outputs": [
    {
     "data": {
      "text/html": [
       "<div>\n",
       "<style scoped>\n",
       "    .dataframe tbody tr th:only-of-type {\n",
       "        vertical-align: middle;\n",
       "    }\n",
       "\n",
       "    .dataframe tbody tr th {\n",
       "        vertical-align: top;\n",
       "    }\n",
       "\n",
       "    .dataframe thead th {\n",
       "        text-align: right;\n",
       "    }\n",
       "</style>\n",
       "<table border=\"1\" class=\"dataframe\">\n",
       "  <thead>\n",
       "    <tr style=\"text-align: right;\">\n",
       "      <th></th>\n",
       "      <th>Stock Symbol</th>\n",
       "      <th>Company Name</th>\n",
       "      <th>Last Sale</th>\n",
       "      <th>Market Capitalization</th>\n",
       "      <th>IPO Year</th>\n",
       "      <th>Sector</th>\n",
       "      <th>Industry</th>\n",
       "      <th>Exchange</th>\n",
       "    </tr>\n",
       "  </thead>\n",
       "  <tbody>\n",
       "    <tr>\n",
       "      <th>0</th>\n",
       "      <td>XXII</td>\n",
       "      <td>22nd Century Group, Inc</td>\n",
       "      <td>1.33</td>\n",
       "      <td>120.63</td>\n",
       "      <td>NaN</td>\n",
       "      <td>Consumer Non-Durables</td>\n",
       "      <td>Farming/Seeds/Milling</td>\n",
       "      <td>amex</td>\n",
       "    </tr>\n",
       "    <tr>\n",
       "      <th>1</th>\n",
       "      <td>FAX</td>\n",
       "      <td>Aberdeen Asia-Pacific Income Fund Inc</td>\n",
       "      <td>5.00</td>\n",
       "      <td>1,266.33</td>\n",
       "      <td>1,986.00</td>\n",
       "      <td>NaN</td>\n",
       "      <td>NaN</td>\n",
       "      <td>amex</td>\n",
       "    </tr>\n",
       "    <tr>\n",
       "      <th>2</th>\n",
       "      <td>IAF</td>\n",
       "      <td>Aberdeen Australia Equity Fund Inc</td>\n",
       "      <td>6.15</td>\n",
       "      <td>139.87</td>\n",
       "      <td>NaN</td>\n",
       "      <td>NaN</td>\n",
       "      <td>NaN</td>\n",
       "      <td>amex</td>\n",
       "    </tr>\n",
       "    <tr>\n",
       "      <th>3</th>\n",
       "      <td>CH</td>\n",
       "      <td>Aberdeen Chile Fund, Inc.</td>\n",
       "      <td>7.22</td>\n",
       "      <td>67.56</td>\n",
       "      <td>NaN</td>\n",
       "      <td>NaN</td>\n",
       "      <td>NaN</td>\n",
       "      <td>amex</td>\n",
       "    </tr>\n",
       "    <tr>\n",
       "      <th>4</th>\n",
       "      <td>ABE</td>\n",
       "      <td>Aberdeen Emerging Markets Smaller Company Oppo...</td>\n",
       "      <td>13.36</td>\n",
       "      <td>128.84</td>\n",
       "      <td>NaN</td>\n",
       "      <td>NaN</td>\n",
       "      <td>NaN</td>\n",
       "      <td>amex</td>\n",
       "    </tr>\n",
       "  </tbody>\n",
       "</table>\n",
       "</div>"
      ],
      "text/plain": [
       "     Stock Symbol                                       Company Name  \\\n",
       "0            XXII                            22nd Century Group, Inc   \n",
       "1             FAX              Aberdeen Asia-Pacific Income Fund Inc   \n",
       "2             IAF                 Aberdeen Australia Equity Fund Inc   \n",
       "3              CH                          Aberdeen Chile Fund, Inc.   \n",
       "4  ABE             Aberdeen Emerging Markets Smaller Company Oppo...   \n",
       "\n",
       "   Last Sale  Market Capitalization  IPO Year                 Sector  \\\n",
       "0       1.33                 120.63       NaN  Consumer Non-Durables   \n",
       "1       5.00               1,266.33  1,986.00                    NaN   \n",
       "2       6.15                 139.87       NaN                    NaN   \n",
       "3       7.22                  67.56       NaN                    NaN   \n",
       "4      13.36                 128.84       NaN                    NaN   \n",
       "\n",
       "                Industry Exchange  \n",
       "0  Farming/Seeds/Milling     amex  \n",
       "1                    NaN     amex  \n",
       "2                    NaN     amex  \n",
       "3                    NaN     amex  \n",
       "4                    NaN     amex  "
      ]
     },
     "execution_count": 33,
     "metadata": {},
     "output_type": "execute_result"
    }
   ],
   "source": [
    "listings.head()"
   ]
  },
  {
   "cell_type": "markdown",
   "metadata": {},
   "source": [
    "* Inspect `listings using `.info()`.\n",
    "* Move the column `'Stock Symbol'` into the index (`inplace`).\n",
    "* Drop all companies with missing `'Sector'` information from `listings`.\n",
    "* Select companies with IPO Year before 2019.\n",
    "* Inspect the result of the changes you just made using `.info()`.\n",
    "* Show the number of companies per `'Sector'` using `.groupby()` and `.size()`. Sort the output in descending order.S"
   ]
  },
  {
   "cell_type": "code",
   "execution_count": 34,
   "metadata": {},
   "outputs": [
    {
     "name": "stdout",
     "output_type": "stream",
     "text": [
      "<class 'pandas.core.frame.DataFrame'>\n",
      "RangeIndex: 6674 entries, 0 to 6673\n",
      "Data columns (total 8 columns):\n",
      " #   Column                 Non-Null Count  Dtype  \n",
      "---  ------                 --------------  -----  \n",
      " 0   Stock Symbol           6674 non-null   object \n",
      " 1   Company Name           6674 non-null   object \n",
      " 2   Last Sale              6590 non-null   float64\n",
      " 3   Market Capitalization  6674 non-null   float64\n",
      " 4   IPO Year               2852 non-null   float64\n",
      " 5   Sector                 5182 non-null   object \n",
      " 6   Industry               5182 non-null   object \n",
      " 7   Exchange               6674 non-null   object \n",
      "dtypes: float64(3), object(5)\n",
      "memory usage: 417.2+ KB\n",
      "None\n",
      "<class 'pandas.core.frame.DataFrame'>\n",
      "Index: 2349 entries, ACU to ZTO\n",
      "Data columns (total 7 columns):\n",
      " #   Column                 Non-Null Count  Dtype  \n",
      "---  ------                 --------------  -----  \n",
      " 0   Company Name           2349 non-null   object \n",
      " 1   Last Sale              2349 non-null   float64\n",
      " 2   Market Capitalization  2349 non-null   float64\n",
      " 3   IPO Year               2349 non-null   float64\n",
      " 4   Sector                 2349 non-null   object \n",
      " 5   Industry               2349 non-null   object \n",
      " 6   Exchange               2349 non-null   object \n",
      "dtypes: float64(3), object(4)\n",
      "memory usage: 146.8+ KB\n",
      "None\n",
      "Sector\n",
      "Health Care              445\n",
      "Consumer Services        402\n",
      "Technology               386\n",
      "Finance                  351\n",
      "Energy                   144\n",
      "Capital Goods            143\n",
      "Basic Industries         104\n",
      "Public Utilities         104\n",
      "Consumer Non-Durables     89\n",
      "Miscellaneous             68\n",
      "Transportation            58\n",
      "Consumer Durables         55\n",
      "dtype: int64\n"
     ]
    }
   ],
   "source": [
    "# Inspect listings\n",
    "print(listings.info())\n",
    "\n",
    "# Move 'stock symbol' into the index\n",
    "listings.set_index('Stock Symbol', inplace=True)\n",
    "\n",
    "# Drop rows with missing 'sector' data\n",
    "listings.dropna(subset=['Sector'], inplace=True)\n",
    "\n",
    "# Select companies with IPO Year before 2019\n",
    "listings = listings[listings['IPO Year'] < 2019]\n",
    "\n",
    "# Inspect the new listings data\n",
    "print(listings.info())\n",
    "\n",
    "# Show the number of companies per sector\n",
    "print(listings.groupby('Sector').size().sort_values(ascending=False))\n"
   ]
  },
  {
   "cell_type": "markdown",
   "metadata": {},
   "source": [
    "## Select and inspect index components\n",
    "\n",
    "Now that you have imported and cleaned the `listings` data, you can proceed to select the `index` components as the largest company for each sector by market capitalization.\n",
    "\n",
    "You'll also have the opportunity to take a closer look at the components, their last market value, and last price"
   ]
  },
  {
   "cell_type": "markdown",
   "metadata": {},
   "source": [
    "* Use `.groupby()` and `.nlargest()` to select the largest company by `'Market Capitalization'` for each `'Sector'`, and assign the result to `components`.\n",
    "* Print `components`, sorted in descending order by market cap.\n",
    "* Select `Stock Symbol` from the `index` of `components`, assign it to `tickers` and print the result.\n",
    "* Create a list `info_cols` that holds the column names `Company Name`, `Market Capitalization`, and `Last Sale`. Next, use `.loc[]` with `tickers` and `info_cols` to `print()` more details about the listings sorted in descending order by `Market Capitalization`)."
   ]
  },
  {
   "cell_type": "code",
   "execution_count": 35,
   "metadata": {},
   "outputs": [
    {
     "name": "stdout",
     "output_type": "stream",
     "text": [
      "Sector                 Stock Symbol\n",
      "Technology             AAPL           740,024.47\n",
      "Consumer Services      AMZN           422,138.53\n",
      "Miscellaneous          BABA           275,525.00\n",
      "Health Care            AMGN           118,927.21\n",
      "Transportation         UPS             90,180.89\n",
      "Finance                GS              88,840.59\n",
      "Consumer Non-Durables  ABEV            88,240.20\n",
      "Basic Industries       RIO             70,431.48\n",
      "Public Utilities       TEF             54,609.81\n",
      "Capital Goods          GM              50,086.34\n",
      "Energy                 PAA             22,223.00\n",
      "Consumer Durables      CPRT            13,620.92\n",
      "Name: Market Capitalization, dtype: float64\n"
     ]
    }
   ],
   "source": [
    "# Select largest company for each sector\n",
    "components = listings.groupby('Sector')['Market Capitalization'].nlargest(1)\n",
    "\n",
    "# Print components, sorted by market cap\n",
    "print(components.sort_values(ascending=False))"
   ]
  },
  {
   "cell_type": "code",
   "execution_count": 36,
   "metadata": {},
   "outputs": [
    {
     "data": {
      "text/plain": [
       "Sector                 Stock Symbol\n",
       "Basic Industries       RIO             70,431.48\n",
       "Capital Goods          GM              50,086.34\n",
       "Consumer Durables      CPRT            13,620.92\n",
       "Consumer Non-Durables  ABEV            88,240.20\n",
       "Consumer Services      AMZN           422,138.53\n",
       "Name: Market Capitalization, dtype: float64"
      ]
     },
     "execution_count": 36,
     "metadata": {},
     "output_type": "execute_result"
    }
   ],
   "source": [
    "components.head()"
   ]
  },
  {
   "cell_type": "code",
   "execution_count": 39,
   "metadata": {},
   "outputs": [
    {
     "name": "stdout",
     "output_type": "stream",
     "text": [
      "Index(['RIO', 'GM', 'CPRT', 'ABEV', 'AMZN', 'PAA', 'GS', 'AMGN', 'BABA', 'TEF',\n",
      "       'AAPL', 'UPS'],\n",
      "      dtype='object', name='Stock Symbol')\n"
     ]
    }
   ],
   "source": [
    "# Select stock symbols and print the result\n",
    "tickers = components.index.get_level_values('Stock Symbol')\n",
    "print(tickers)\n"
   ]
  },
  {
   "cell_type": "code",
   "execution_count": 40,
   "metadata": {},
   "outputs": [
    {
     "name": "stdout",
     "output_type": "stream",
     "text": [
      "                                    Company Name  Market Capitalization  \\\n",
      "Stock Symbol                                                              \n",
      "AAPL                                  Apple Inc.             740,024.47   \n",
      "AMZN                            Amazon.com, Inc.             422,138.53   \n",
      "BABA               Alibaba Group Holding Limited             275,525.00   \n",
      "AMGN                                  Amgen Inc.             118,927.21   \n",
      "UPS                  United Parcel Service, Inc.              90,180.89   \n",
      "GS               Goldman Sachs Group, Inc. (The)              88,840.59   \n",
      "ABEV                                  Ambev S.A.              88,240.20   \n",
      "RIO                                Rio Tinto Plc              70,431.48   \n",
      "TEF                                Telefonica SA              54,609.81   \n",
      "GM                        General Motors Company              50,086.34   \n",
      "PAA           Plains All American Pipeline, L.P.              22,223.00   \n",
      "CPRT                                Copart, Inc.              13,620.92   \n",
      "\n",
      "              Last Sale  \n",
      "Stock Symbol             \n",
      "AAPL             141.05  \n",
      "AMZN             884.67  \n",
      "BABA             110.21  \n",
      "AMGN             161.61  \n",
      "UPS              103.74  \n",
      "GS               223.32  \n",
      "ABEV               5.62  \n",
      "RIO               38.94  \n",
      "TEF               10.84  \n",
      "GM                33.39  \n",
      "PAA               30.72  \n",
      "CPRT              29.65  \n"
     ]
    }
   ],
   "source": [
    "# Print company name, market cap, and last price for each components\n",
    "info_cols = ['Company Name', 'Market Capitalization', 'Last Sale']\n",
    "print(listings.loc[tickers,info_cols].sort_values('Market Capitalization', ascending=False))"
   ]
  },
  {
   "cell_type": "markdown",
   "metadata": {},
   "source": [
    "## Import index component price information\n",
    "\n",
    "Now you'll use the stock symbols for the companies you selected in the last exercise to calculate returns for each company."
   ]
  },
  {
   "cell_type": "code",
   "execution_count": 43,
   "metadata": {},
   "outputs": [],
   "source": [
    "tickers = tickers.tolist()"
   ]
  },
  {
   "cell_type": "code",
   "execution_count": 44,
   "metadata": {},
   "outputs": [
    {
     "name": "stdout",
     "output_type": "stream",
     "text": [
      "['RIO', 'GM', 'CPRT', 'ABEV', 'AMZN', 'PAA', 'GS', 'AMGN', 'BABA', 'TEF', 'AAPL', 'UPS']\n",
      "<class 'pandas.core.frame.DataFrame'>\n",
      "DatetimeIndex: 1762 entries, 2010-01-04 to 2016-12-30\n",
      "Data columns (total 12 columns):\n",
      " #   Column  Non-Null Count  Dtype  \n",
      "---  ------  --------------  -----  \n",
      " 0   AAPL    1761 non-null   float64\n",
      " 1   AMGN    1761 non-null   float64\n",
      " 2   AMZN    1761 non-null   float64\n",
      " 3   CPRT    1761 non-null   float64\n",
      " 4   EL      1762 non-null   float64\n",
      " 5   GS      1762 non-null   float64\n",
      " 6   ILMN    1761 non-null   float64\n",
      " 7   MA      1762 non-null   float64\n",
      " 8   PAA     1762 non-null   float64\n",
      " 9   RIO     1762 non-null   float64\n",
      " 10  TEF     1762 non-null   float64\n",
      " 11  UPS     1762 non-null   float64\n",
      "dtypes: float64(12)\n",
      "memory usage: 179.0 KB\n"
     ]
    }
   ],
   "source": [
    "# Print tickers\n",
    "print(tickers)\n",
    "\n",
    "# Import prices and inspect result\n",
    "stock_prices = pd.read_csv('../stock_data/stocks_4.csv', parse_dates=['Date'], index_col='Date')\n",
    "stock_prices.info()"
   ]
  },
  {
   "cell_type": "code",
   "execution_count": 46,
   "metadata": {},
   "outputs": [
    {
     "data": {
      "text/plain": [
       "AAPL   278.87\n",
       "AMGN   153.31\n",
       "AMZN   460.02\n",
       "CPRT   204.40\n",
       "EL     215.16\n",
       "dtype: float64"
      ]
     },
     "execution_count": 46,
     "metadata": {},
     "output_type": "execute_result"
    }
   ],
   "source": [
    "# Calculate the returns\n",
    "price_return = stock_prices.iloc[-1].div(stock_prices.iloc[0]).sub(1).mul(100)\n",
    "price_return.head()"
   ]
  },
  {
   "cell_type": "code",
   "execution_count": 47,
   "metadata": {},
   "outputs": [
    {
     "data": {
      "image/png": "[encoded data removed]",
      "text/plain": [
       "<Figure size 1000x500 with 1 Axes>"
      ]
     },
     "metadata": {},
     "output_type": "display_data"
    }
   ],
   "source": [
    "# Plot horizontal bar chart of sorted price_return\n",
    "price_return.sort_values().plot(kind='barh', title='Stock Price Returns');"
   ]
  },
  {
   "cell_type": "markdown",
   "metadata": {},
   "source": [
    "**Calculate number of shares outstanding**S\n",
    "\n",
    "The next step towards building a value-weighted index is to calculate the number of shares for each index component.\n",
    "\n",
    "The number of shares will allow you to calculate the total market capitalization for each component given the historical price series in the next exercise."
   ]
  },
  {
   "cell_type": "code",
   "execution_count": 48,
   "metadata": {},
   "outputs": [
    {
     "name": "stdout",
     "output_type": "stream",
     "text": [
      "<class 'pandas.core.frame.DataFrame'>\n",
      "Index: 2349 entries, ACU to ZTO\n",
      "Data columns (total 7 columns):\n",
      " #   Column                 Non-Null Count  Dtype  \n",
      "---  ------                 --------------  -----  \n",
      " 0   Company Name           2349 non-null   object \n",
      " 1   Last Sale              2349 non-null   float64\n",
      " 2   Market Capitalization  2349 non-null   float64\n",
      " 3   IPO Year               2349 non-null   float64\n",
      " 4   Sector                 2349 non-null   object \n",
      " 5   Industry               2349 non-null   object \n",
      " 6   Exchange               2349 non-null   object \n",
      "dtypes: float64(3), object(4)\n",
      "memory usage: 211.4+ KB\n",
      "None\n",
      "['RIO', 'GM', 'CPRT', 'ABEV', 'AMZN', 'PAA', 'GS', 'AMGN', 'BABA', 'TEF', 'AAPL', 'UPS']\n",
      "              Market Capitalization  Last Sale\n",
      "Stock Symbol                                  \n",
      "RIO                       70,431.48      38.94\n",
      "GM                        50,086.34      33.39\n",
      "CPRT                      13,620.92      29.65\n",
      "ABEV                      88,240.20       5.62\n",
      "AMZN                     422,138.53     884.67\n",
      "Stock Symbol\n",
      "ABEV   15,701.10\n",
      "AAPL    5,246.54\n",
      "TEF     5,037.80\n",
      "BABA    2,500.00\n",
      "RIO     1,808.72\n",
      "GM      1,500.04\n",
      "UPS       869.30\n",
      "AMGN      735.89\n",
      "PAA       723.40\n",
      "AMZN      477.17\n",
      "CPRT      459.39\n",
      "GS        397.82\n",
      "dtype: float64\n"
     ]
    }
   ],
   "source": [
    "# Inspect listings and print tickers\n",
    "print(listings.info())\n",
    "print(tickers)\n",
    "\n",
    "# Select components and relevant columns from listings\n",
    "components = listings[['Market Capitalization', 'Last Sale']].loc[tickers]\n",
    "\n",
    "# Print the first rows of components\n",
    "print(components.head(5))\n",
    "\n",
    "# Calculate the number of shares here\n",
    "no_shares = components['Market Capitalization'].div(components['Last Sale'])\n",
    "\n",
    "# Print the sorted no_shares\n",
    "print(no_shares.sort_values(ascending=False))"
   ]
  },
  {
   "cell_type": "markdown",
   "metadata": {},
   "source": []
  }
 ],
 "metadata": {
  "kernelspec": {
   "display_name": "venv",
   "language": "python",
   "name": "python3"
  },
  "language_info": {
   "codemirror_mode": {
    "name": "ipython",
    "version": 3
   },
   "file_extension": ".py",
   "mimetype": "text/x-python",
   "name": "python",
   "nbconvert_exporter": "python",
   "pygments_lexer": "ipython3",
   "version": "3.9.13"
  },
  "orig_nbformat": 4
 },
 "nbformat": 4,
 "nbformat_minor": 2
}
