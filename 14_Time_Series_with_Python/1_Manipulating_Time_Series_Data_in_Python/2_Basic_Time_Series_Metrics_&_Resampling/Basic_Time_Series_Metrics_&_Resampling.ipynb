{
 "cells": [
  {
   "cell_type": "markdown",
   "metadata": {},
   "source": [
    "This chapter dives deeper into the essential time series functionality made available through the pandas DataTimeIndex. It introduces resampling and how to compare different time series by normalizing their start points.\n",
    "\n",
    "# Compare time series growth rates\n",
    "## Compare the performance of several asset classes\n",
    "\n",
    "You have seen in the video how you can easily compare several time series by normalizing their starting points to 100, and plot the result.\n",
    "\n",
    "To broaden your perspective on financial markets, let's compare four key assets: stocks, bonds, gold, and oil.\n"
   ]
  },
  {
   "cell_type": "code",
   "execution_count": 1,
   "metadata": {},
   "outputs": [],
   "source": [
    "import pandas as pd\n",
    "import numpy as np\n",
    "import matplotlib.pyplot as plt\n",
    "import seaborn as sns\n",
    "\n",
    "plt.rcParams['figure.figsize'] = (10, 5)"
   ]
  },
  {
   "cell_type": "markdown",
   "metadata": {},
   "source": [
    "**Instructions**\n",
    "\n",
    "* Import 'asset_classes.csv', using .read_csv() to parse dates in the 'DATE' column and set this column as the index, then assign the result to prices.\n",
    "* Select the first price for each series using .iloc[0] on prices and assign the result to first_prices.\n",
    "* Divide prices by first_prices, multiply by 100 and assign the result to normalized.\n",
    "* Plot normalized."
   ]
  },
  {
   "cell_type": "code",
   "execution_count": null,
   "metadata": {},
   "outputs": [],
   "source": [
    "# Import data here\n",
    "prices = pd.read_csv('../stock_data/asset_classes.csv', parse_dates=['DATE'], index_col='DATE')\n"
   ]
  }
 ],
 "metadata": {
  "interpreter": {
   "hash": "60062bfbbdb55d7c70b884c78dba17d93f7bddb21846b67229a99cf865725014"
  },
  "kernelspec": {
   "display_name": "Python 3.7.6 64-bit ('base': conda)",
   "language": "python",
   "name": "python3"
  },
  "language_info": {
   "codemirror_mode": {
    "name": "ipython",
    "version": 3
   },
   "file_extension": ".py",
   "mimetype": "text/x-python",
   "name": "python",
   "nbconvert_exporter": "python",
   "pygments_lexer": "ipython3",
   "version": "3.7.6"
  },
  "orig_nbformat": 4
 },
 "nbformat": 4,
 "nbformat_minor": 2
}
