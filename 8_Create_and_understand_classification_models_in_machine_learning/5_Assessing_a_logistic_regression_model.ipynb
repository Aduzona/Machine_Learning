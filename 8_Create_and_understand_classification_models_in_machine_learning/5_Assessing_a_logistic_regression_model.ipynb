{
 "cells": [
  {
   "cell_type": "code",
   "execution_count": 4,
   "source": [
    "#!pip install matplotlib"
   ],
   "outputs": [
    {
     "output_type": "stream",
     "name": "stdout",
     "text": [
      "Collecting matplotlib\n",
      "  Downloading matplotlib-3.4.3-cp38-cp38-win_amd64.whl (7.1 MB)\n",
      "Requirement already satisfied: numpy>=1.16 in c:\\users\\aduzo\\anaconda3\\envs\\gmsjupyter\\lib\\site-packages (from matplotlib) (1.19.2)\n",
      "Requirement already satisfied: python-dateutil>=2.7 in c:\\users\\aduzo\\anaconda3\\envs\\gmsjupyter\\lib\\site-packages (from matplotlib) (2.8.1)\n",
      "Requirement already satisfied: pyparsing>=2.2.1 in c:\\users\\aduzo\\anaconda3\\envs\\gmsjupyter\\lib\\site-packages (from matplotlib) (2.4.7)\n",
      "Collecting cycler>=0.10\n",
      "  Downloading cycler-0.10.0-py2.py3-none-any.whl (6.5 kB)\n",
      "Requirement already satisfied: six in c:\\users\\aduzo\\anaconda3\\envs\\gmsjupyter\\lib\\site-packages (from cycler>=0.10->matplotlib) (1.15.0)\n",
      "Collecting kiwisolver>=1.0.1\n",
      "  Downloading kiwisolver-1.3.2-cp38-cp38-win_amd64.whl (52 kB)\n",
      "Collecting pillow>=6.2.0\n",
      "  Downloading Pillow-8.3.2-cp38-cp38-win_amd64.whl (3.2 MB)\n",
      "Requirement already satisfied: six in c:\\users\\aduzo\\anaconda3\\envs\\gmsjupyter\\lib\\site-packages (from cycler>=0.10->matplotlib) (1.15.0)\n",
      "Installing collected packages: pillow, kiwisolver, cycler, matplotlib\n",
      "Successfully installed cycler-0.10.0 kiwisolver-1.3.2 matplotlib-3.4.3 pillow-8.3.2\n"
     ]
    }
   ],
   "metadata": {}
  },
  {
   "cell_type": "code",
   "execution_count": 7,
   "source": [
    "#!pip install seaborn"
   ],
   "outputs": [
    {
     "output_type": "stream",
     "name": "stdout",
     "text": [
      "Collecting seaborn\n",
      "  Downloading seaborn-0.11.2-py3-none-any.whl (292 kB)\n",
      "Requirement already satisfied: pandas>=0.23 in c:\\users\\aduzo\\anaconda3\\envs\\gmsjupyter\\lib\\site-packages (from seaborn) (1.1.3)\n",
      "Requirement already satisfied: numpy>=1.15 in c:\\users\\aduzo\\anaconda3\\envs\\gmsjupyter\\lib\\site-packages (from seaborn) (1.19.2)\n",
      "Requirement already satisfied: matplotlib>=2.2 in c:\\users\\aduzo\\anaconda3\\envs\\gmsjupyter\\lib\\site-packages (from seaborn) (3.4.3)\n",
      "Requirement already satisfied: pyparsing>=2.2.1 in c:\\users\\aduzo\\anaconda3\\envs\\gmsjupyter\\lib\\site-packages (from matplotlib>=2.2->seaborn) (2.4.7)\n",
      "Requirement already satisfied: numpy>=1.15 in c:\\users\\aduzo\\anaconda3\\envs\\gmsjupyter\\lib\\site-packages (from seaborn) (1.19.2)\n",
      "Requirement already satisfied: kiwisolver>=1.0.1 in c:\\users\\aduzo\\anaconda3\\envs\\gmsjupyter\\lib\\site-packages (from matplotlib>=2.2->seaborn) (1.3.2)\n",
      "Requirement already satisfied: cycler>=0.10 in c:\\users\\aduzo\\anaconda3\\envs\\gmsjupyter\\lib\\site-packages (from matplotlib>=2.2->seaborn) (0.10.0)\n",
      "Requirement already satisfied: pillow>=6.2.0 in c:\\users\\aduzo\\anaconda3\\envs\\gmsjupyter\\lib\\site-packages (from matplotlib>=2.2->seaborn) (8.3.2)\n",
      "Requirement already satisfied: python-dateutil>=2.7 in c:\\users\\aduzo\\anaconda3\\envs\\gmsjupyter\\lib\\site-packages (from matplotlib>=2.2->seaborn) (2.8.1)\n",
      "Requirement already satisfied: six in c:\\users\\aduzo\\anaconda3\\envs\\gmsjupyter\\lib\\site-packages (from cycler>=0.10->matplotlib>=2.2->seaborn) (1.15.0)\n",
      "Requirement already satisfied: pytz>=2017.2 in c:\\users\\aduzo\\anaconda3\\envs\\gmsjupyter\\lib\\site-packages (from pandas>=0.23->seaborn) (2020.4)\n",
      "Requirement already satisfied: numpy>=1.15 in c:\\users\\aduzo\\anaconda3\\envs\\gmsjupyter\\lib\\site-packages (from seaborn) (1.19.2)\n",
      "Requirement already satisfied: python-dateutil>=2.7 in c:\\users\\aduzo\\anaconda3\\envs\\gmsjupyter\\lib\\site-packages (from matplotlib>=2.2->seaborn) (2.8.1)\n",
      "Requirement already satisfied: six in c:\\users\\aduzo\\anaconda3\\envs\\gmsjupyter\\lib\\site-packages (from cycler>=0.10->matplotlib>=2.2->seaborn) (1.15.0)\n",
      "Collecting scipy>=1.0\n",
      "  Downloading scipy-1.7.1-cp38-cp38-win_amd64.whl (33.7 MB)\n",
      "Requirement already satisfied: numpy>=1.15 in c:\\users\\aduzo\\anaconda3\\envs\\gmsjupyter\\lib\\site-packages (from seaborn) (1.19.2)\n",
      "Installing collected packages: scipy, seaborn\n",
      "Successfully installed scipy-1.7.1 seaborn-0.11.2\n"
     ]
    }
   ],
   "metadata": {}
  },
  {
   "cell_type": "code",
   "execution_count": 9,
   "source": [
    "#!pip install sklearn"
   ],
   "outputs": [
    {
     "output_type": "stream",
     "name": "stdout",
     "text": [
      "Collecting sklearn\n",
      "  Using cached sklearn-0.0.tar.gz (1.1 kB)\n",
      "Collecting scikit-learn\n",
      "  Downloading scikit_learn-1.0-cp38-cp38-win_amd64.whl (7.2 MB)\n",
      "Requirement already satisfied: numpy>=1.14.6 in c:\\users\\aduzo\\anaconda3\\envs\\gmsjupyter\\lib\\site-packages (from scikit-learn->sklearn) (1.19.2)\n",
      "Requirement already satisfied: scipy>=1.1.0 in c:\\users\\aduzo\\anaconda3\\envs\\gmsjupyter\\lib\\site-packages (from scikit-learn->sklearn) (1.7.1)\n",
      "Collecting joblib>=0.11\n",
      "  Downloading joblib-1.0.1-py3-none-any.whl (303 kB)\n",
      "Requirement already satisfied: numpy>=1.14.6 in c:\\users\\aduzo\\anaconda3\\envs\\gmsjupyter\\lib\\site-packages (from scikit-learn->sklearn) (1.19.2)\n",
      "Collecting threadpoolctl>=2.0.0\n",
      "  Downloading threadpoolctl-3.0.0-py3-none-any.whl (14 kB)\n",
      "Building wheels for collected packages: sklearn\n",
      "  Building wheel for sklearn (setup.py): started\n",
      "  Building wheel for sklearn (setup.py): finished with status 'done'\n",
      "  Created wheel for sklearn: filename=sklearn-0.0-py2.py3-none-any.whl size=1315 sha256=161eaed44ed05286961ccb49ccff6260f9cb9cf75e868421dd8cca7d43373e57\n",
      "  Stored in directory: c:\\users\\aduzo\\appdata\\local\\pip\\cache\\wheels\\22\\0b\\40\\fd3f795caaa1fb4c6cb738bc1f56100be1e57da95849bfc897\n",
      "Successfully built sklearn\n",
      "Installing collected packages: threadpoolctl, joblib, scikit-learn, sklearn\n",
      "Successfully installed joblib-1.0.1 scikit-learn-1.0 sklearn-0.0 threadpoolctl-3.0.0\n"
     ]
    }
   ],
   "metadata": {}
  },
  {
   "cell_type": "code",
   "execution_count": 1,
   "source": [
    "import pandas as pd\r\n",
    "import matplotlib.pyplot as plt\r\n",
    "import seaborn as sns\r\n",
    "import numpy as np\r\n",
    "import numpy.random as nr\r\n",
    "import math\r\n",
    "from sklearn import preprocessing\r\n",
    "import sklearn.model_selection as ms\r\n",
    "from sklearn import linear_model\r\n",
    "import sklearn.metrics as sklm\r\n",
    "\r\n",
    "%matplotlib inline"
   ],
   "outputs": [],
   "metadata": {}
  },
  {
   "cell_type": "markdown",
   "source": [
    "## sigmoid function or logistic function\r\n",
    "\r\n",
    "$\\kappa$ is normalized to 1\r\n",
    "\r\n",
    "$$f(x) = \\frac{1}{1 + e^{-\\kappa(x - x_0)}} \\kappa = steepness$$\r\n"
   ],
   "metadata": {}
  },
  {
   "cell_type": "code",
   "execution_count": 2,
   "source": [
    "xseq = np.arange(-7, 7, 0.1)\r\n",
    "xseq"
   ],
   "outputs": [
    {
     "output_type": "execute_result",
     "data": {
      "text/plain": [
       "array([-7.00000000e+00, -6.90000000e+00, -6.80000000e+00, -6.70000000e+00,\n",
       "       -6.60000000e+00, -6.50000000e+00, -6.40000000e+00, -6.30000000e+00,\n",
       "       -6.20000000e+00, -6.10000000e+00, -6.00000000e+00, -5.90000000e+00,\n",
       "       -5.80000000e+00, -5.70000000e+00, -5.60000000e+00, -5.50000000e+00,\n",
       "       -5.40000000e+00, -5.30000000e+00, -5.20000000e+00, -5.10000000e+00,\n",
       "       -5.00000000e+00, -4.90000000e+00, -4.80000000e+00, -4.70000000e+00,\n",
       "       -4.60000000e+00, -4.50000000e+00, -4.40000000e+00, -4.30000000e+00,\n",
       "       -4.20000000e+00, -4.10000000e+00, -4.00000000e+00, -3.90000000e+00,\n",
       "       -3.80000000e+00, -3.70000000e+00, -3.60000000e+00, -3.50000000e+00,\n",
       "       -3.40000000e+00, -3.30000000e+00, -3.20000000e+00, -3.10000000e+00,\n",
       "       -3.00000000e+00, -2.90000000e+00, -2.80000000e+00, -2.70000000e+00,\n",
       "       -2.60000000e+00, -2.50000000e+00, -2.40000000e+00, -2.30000000e+00,\n",
       "       -2.20000000e+00, -2.10000000e+00, -2.00000000e+00, -1.90000000e+00,\n",
       "       -1.80000000e+00, -1.70000000e+00, -1.60000000e+00, -1.50000000e+00,\n",
       "       -1.40000000e+00, -1.30000000e+00, -1.20000000e+00, -1.10000000e+00,\n",
       "       -1.00000000e+00, -9.00000000e-01, -8.00000000e-01, -7.00000000e-01,\n",
       "       -6.00000000e-01, -5.00000000e-01, -4.00000000e-01, -3.00000000e-01,\n",
       "       -2.00000000e-01, -1.00000000e-01, -2.48689958e-14,  1.00000000e-01,\n",
       "        2.00000000e-01,  3.00000000e-01,  4.00000000e-01,  5.00000000e-01,\n",
       "        6.00000000e-01,  7.00000000e-01,  8.00000000e-01,  9.00000000e-01,\n",
       "        1.00000000e+00,  1.10000000e+00,  1.20000000e+00,  1.30000000e+00,\n",
       "        1.40000000e+00,  1.50000000e+00,  1.60000000e+00,  1.70000000e+00,\n",
       "        1.80000000e+00,  1.90000000e+00,  2.00000000e+00,  2.10000000e+00,\n",
       "        2.20000000e+00,  2.30000000e+00,  2.40000000e+00,  2.50000000e+00,\n",
       "        2.60000000e+00,  2.70000000e+00,  2.80000000e+00,  2.90000000e+00,\n",
       "        3.00000000e+00,  3.10000000e+00,  3.20000000e+00,  3.30000000e+00,\n",
       "        3.40000000e+00,  3.50000000e+00,  3.60000000e+00,  3.70000000e+00,\n",
       "        3.80000000e+00,  3.90000000e+00,  4.00000000e+00,  4.10000000e+00,\n",
       "        4.20000000e+00,  4.30000000e+00,  4.40000000e+00,  4.50000000e+00,\n",
       "        4.60000000e+00,  4.70000000e+00,  4.80000000e+00,  4.90000000e+00,\n",
       "        5.00000000e+00,  5.10000000e+00,  5.20000000e+00,  5.30000000e+00,\n",
       "        5.40000000e+00,  5.50000000e+00,  5.60000000e+00,  5.70000000e+00,\n",
       "        5.80000000e+00,  5.90000000e+00,  6.00000000e+00,  6.10000000e+00,\n",
       "        6.20000000e+00,  6.30000000e+00,  6.40000000e+00,  6.50000000e+00,\n",
       "        6.60000000e+00,  6.70000000e+00,  6.80000000e+00,  6.90000000e+00])"
      ]
     },
     "metadata": {},
     "execution_count": 2
    }
   ],
   "metadata": {}
  },
  {
   "cell_type": "code",
   "execution_count": 3,
   "source": [
    "logistic = [math.exp(v)/(1 + math.exp(v)) for v in xseq]"
   ],
   "outputs": [],
   "metadata": {}
  },
  {
   "cell_type": "code",
   "execution_count": 4,
   "source": [
    "len(logistic)"
   ],
   "outputs": [
    {
     "output_type": "execute_result",
     "data": {
      "text/plain": [
       "140"
      ]
     },
     "metadata": {},
     "execution_count": 4
    }
   ],
   "metadata": {}
  },
  {
   "cell_type": "code",
   "execution_count": 5,
   "source": [
    "logistic[0]"
   ],
   "outputs": [
    {
     "output_type": "execute_result",
     "data": {
      "text/plain": [
       "0.0009110511944006454"
      ]
     },
     "metadata": {},
     "execution_count": 5
    }
   ],
   "metadata": {}
  },
  {
   "cell_type": "code",
   "execution_count": 7,
   "source": [
    "plt.plot(xseq, logistic, color = 'red')\r\n",
    "plt.plot([-7,7], [0.5,0.5], color = 'blue')\r\n",
    "plt.plot([0,0], [0,1], color = 'blue')\r\n",
    "plt.title('Logistic function for two-class classification')\r\n",
    "plt.ylabel('log likelihood')\r\n",
    "plt.xlabel('Value of output from linear regression')"
   ],
   "outputs": [
    {
     "output_type": "execute_result",
     "data": {
      "text/plain": [
       "Text(0.5, 0, 'Value of output from linear regression')"
      ]
     },
     "metadata": {},
     "execution_count": 7
    },
    {
     "output_type": "display_data",
     "data": {
      "image/png": "[encoded data removed]",
      "text/plain": [
       "<Figure size 432x288 with 1 Axes>"
      ]
     },
     "metadata": {
      "needs_background": "light"
     }
    }
   ],
   "metadata": {}
  },
  {
   "cell_type": "markdown",
   "source": [
    "$\\hat y=\\beta_0 +\\beta_1 x$\r\n",
    "$$F(\\hat y)=\\frac{1}{1+\\exp^{-k(\\beta_0 +\\beta_1 x)}}$$ "
   ],
   "metadata": {}
  },
  {
   "cell_type": "code",
   "execution_count": 8,
   "source": [
    "logistic2 = [1/(1 + math.exp(v)) for v in xseq]\r\n",
    "\r\n",
    "plt.plot(xseq, logistic2, color = 'red')\r\n",
    "plt.plot([-7,7], [0.5,0.5], color = 'blue')\r\n",
    "plt.plot([0,0], [0,1], color = 'blue')\r\n",
    "plt.title('Logistic function for two-class classification')\r\n",
    "plt.ylabel('log likelihood')\r\n",
    "plt.xlabel('Value of output from linear regression')"
   ],
   "outputs": [
    {
     "output_type": "execute_result",
     "data": {
      "text/plain": [
       "Text(0.5, 0, 'Value of output from linear regression')"
      ]
     },
     "metadata": {},
     "execution_count": 8
    },
    {
     "output_type": "display_data",
     "data": {
      "image/png": "[encoded data removed]",
      "text/plain": [
       "<Figure size 432x288 with 1 Axes>"
      ]
     },
     "metadata": {
      "needs_background": "light"
     }
    }
   ],
   "metadata": {}
  },
  {
   "cell_type": "code",
   "execution_count": 10,
   "source": [
    "#!pip install plotly"
   ],
   "outputs": [
    {
     "output_type": "stream",
     "name": "stdout",
     "text": [
      "Collecting plotly\n",
      "  Downloading plotly-5.3.1-py2.py3-none-any.whl (23.9 MB)\n",
      "Requirement already satisfied: six in c:\\users\\aduzo\\anaconda3\\envs\\gmsjupyter\\lib\\site-packages (from plotly) (1.15.0)\n",
      "Collecting tenacity>=6.2.0\n",
      "  Downloading tenacity-8.0.1-py3-none-any.whl (24 kB)\n",
      "Installing collected packages: tenacity, plotly\n",
      "Successfully installed plotly-5.3.1 tenacity-8.0.1\n"
     ]
    }
   ],
   "metadata": {}
  },
  {
   "cell_type": "code",
   "execution_count": 11,
   "source": [
    "import graphings # custom graphing code. See our GitHub repo for details\r\n",
    "\r\n",
    "#Import the data from the .csv file\r\n",
    "dataset = pd.read_csv('avalanche.csv', delimiter=\"\\t\")\r\n",
    "\r\n",
    "#Let's have a look at the data and the relationship we're going to model\r\n",
    "print(dataset.head())\r\n",
    "\r\n",
    "graphings.box_and_whisker(dataset, label_x=\"avalanche\", label_y=\"weak_layers\")"
   ],
   "outputs": [
    {
     "output_type": "stream",
     "name": "stdout",
     "text": [
      "   Unnamed: 0  avalanche  no_visitors  surface_hoar  fresh_thickness  wind  \\\n",
      "0           0          0            4      3.900508         8.715485     6   \n",
      "1           1          0            9      1.477586         6.801417    30   \n",
      "2           2          1            3      3.236594         5.632457     8   \n",
      "3           3          0            0      3.244283         9.348871    12   \n",
      "4           4          1            2      5.196741         3.782315     4   \n",
      "\n",
      "   weak_layers  tracked_out  \n",
      "0            9            0  \n",
      "1            0            0  \n",
      "2            8            1  \n",
      "3           10            0  \n",
      "4            9            1  \n"
     ]
    },
    {
     "output_type": "display_data",
     "data": {
      "application/vnd.plotly.v1+json": {
       "config": {
        "plotlyServerURL": "https://plot.ly"
       },
       "data": [
        {
         "alignmentgroup": "True",
         "hovertemplate": "avalanche=%{x}<br>weak layers=%{y}<extra></extra>",
         "legendgroup": "",
         "marker": {
          "color": "#636efa"
         },
         "name": "",
         "notched": false,
         "offsetgroup": "",
         "orientation": "v",
         "showlegend": false,
         "type": "box",
         "x": [
          0,
          0,
          1,
          0,
          1,
          0,
          0,
          0,
          1,
          1,
          1,
          1,
          1,
          1,
          1,
          1,
          1,
          0,
          0,
          1,
          1,
          1,
          1,
          0,
          1,
          0,
          1,
          1,
          0,
          1,
          0,
          1,
          0,
          0,
          0,
          1,
          1,
          1,
          0,
          1,
          0,
          1,
          1,
          1,
          1,
          1,
          1,
          1,
          1,
          1,
          1,
          1,
          0,
          1,
          1,
          1,
          0,
          0,
          0,
          1,
          0,
          1,
          1,
          1,
          0,
          1,
          1,
          1,
          1,
          1,
          0,
          1,
          1,
          1,
          1,
          0,
          0,
          0,
          0,
          0,
          1,
          1,
          0,
          1,
          1,
          1,
          1,
          1,
          1,
          0,
          1,
          1,
          0,
          0,
          1,
          0,
          1,
          1,
          0,
          1,
          0,
          1,
          1,
          1,
          1,
          1,
          1,
          1,
          0,
          0,
          0,
          0,
          0,
          0,
          1,
          1,
          1,
          1,
          0,
          0,
          1,
          1,
          0,
          1,
          1,
          1,
          1,
          0,
          1,
          1,
          0,
          1,
          0,
          1,
          0,
          1,
          1,
          1,
          1,
          0,
          0,
          1,
          0,
          0,
          0,
          0,
          1,
          0,
          0,
          0,
          1,
          0,
          0,
          1,
          1,
          1,
          0,
          1,
          1,
          1,
          0,
          1,
          1,
          0,
          0,
          1,
          0,
          1,
          0,
          1,
          1,
          0,
          0,
          1,
          1,
          1,
          0,
          1,
          1,
          1,
          0,
          1,
          1,
          1,
          1,
          1,
          0,
          0,
          1,
          1,
          1,
          1,
          1,
          0,
          0,
          0,
          0,
          1,
          1,
          0,
          0,
          0,
          1,
          0,
          0,
          1,
          1,
          0,
          1,
          0,
          0,
          1,
          0,
          1,
          0,
          1,
          0,
          1,
          0,
          1,
          1,
          0,
          0,
          0,
          0,
          1,
          0,
          1,
          0,
          0,
          1,
          0,
          0,
          0,
          1,
          1,
          1,
          1,
          1,
          0,
          1,
          0,
          0,
          0,
          1,
          0,
          0,
          1,
          1,
          1,
          0,
          1,
          0,
          1,
          1,
          1,
          1,
          1,
          1,
          1,
          0,
          0,
          1,
          0,
          1,
          1,
          1,
          1,
          0,
          1,
          1,
          1,
          0,
          0,
          0,
          0,
          0,
          1,
          0,
          0,
          1,
          1,
          1,
          0,
          0,
          0,
          0,
          1,
          1,
          0,
          0,
          0,
          0,
          1,
          0,
          1,
          0,
          0,
          0,
          1,
          1,
          1,
          0,
          1,
          1,
          1,
          0,
          1,
          0,
          0,
          1,
          1,
          0,
          1,
          0,
          0,
          1,
          1,
          0,
          0,
          0,
          0,
          1,
          1,
          0,
          0,
          1,
          0,
          0,
          0,
          1,
          0,
          0,
          1,
          1,
          0,
          0,
          0,
          1,
          1,
          1,
          0,
          1,
          0,
          1,
          0,
          1,
          1,
          0,
          1,
          0,
          1,
          1,
          0,
          0,
          0,
          0,
          0,
          0,
          1,
          0,
          1,
          1,
          1,
          1,
          1,
          1,
          1,
          1,
          0,
          0,
          0,
          0,
          0,
          0,
          0,
          1,
          1,
          0,
          0,
          1,
          1,
          1,
          1,
          1,
          0,
          1,
          1,
          0,
          0,
          0,
          1,
          0,
          0,
          0,
          1,
          0,
          0,
          1,
          0,
          1,
          0,
          1,
          1,
          1,
          0,
          1,
          1,
          1,
          0,
          0,
          0,
          0,
          1,
          0,
          0,
          0,
          0,
          1,
          0,
          1,
          0,
          1,
          1,
          1,
          1,
          0,
          0,
          1,
          0,
          1,
          0,
          1,
          1,
          1,
          0,
          1,
          0,
          0,
          0,
          1,
          0,
          1,
          0,
          1,
          0,
          1,
          1,
          0,
          0,
          0,
          1,
          0,
          0,
          0,
          1,
          1,
          1,
          1,
          1,
          0,
          0,
          0,
          0,
          0,
          0,
          0,
          0,
          1,
          0,
          1,
          0,
          1,
          0,
          1,
          0,
          0,
          0,
          0,
          0,
          0,
          0,
          1,
          1,
          1,
          1,
          1,
          1,
          0,
          0,
          1,
          0,
          0,
          0,
          1,
          1,
          0,
          1,
          0,
          1,
          1,
          1,
          1,
          0,
          1,
          1,
          0,
          1,
          1,
          1,
          1,
          1,
          1,
          0,
          1,
          1,
          0,
          1,
          0,
          1,
          1,
          0,
          1,
          1,
          0,
          1,
          0,
          1,
          0,
          1,
          1,
          0,
          0,
          0,
          1,
          0,
          0,
          1,
          1,
          0,
          0,
          0,
          0,
          1,
          1,
          1,
          1,
          0,
          1,
          1,
          0,
          1,
          1,
          0,
          0,
          1,
          1,
          1,
          1,
          1,
          0,
          1,
          1,
          0,
          1,
          1,
          0,
          1,
          0,
          0,
          1,
          1,
          0,
          1,
          0,
          1,
          1,
          0,
          1,
          1,
          1,
          0,
          1,
          1,
          0,
          1,
          0,
          1,
          0,
          1,
          1,
          0,
          1,
          0,
          1,
          1,
          0,
          1,
          1,
          1,
          1,
          1,
          1,
          0,
          1,
          1,
          0,
          0,
          1,
          0,
          1,
          1,
          0,
          1,
          1,
          1,
          0,
          0,
          1,
          0,
          1,
          0,
          1,
          1,
          1,
          0,
          0,
          1,
          1,
          1,
          1,
          0,
          0,
          0,
          0,
          0,
          1,
          1,
          1,
          0,
          0,
          1,
          1,
          1,
          1,
          1,
          0,
          1,
          1,
          0,
          1,
          1,
          0,
          0,
          0,
          1,
          0,
          1,
          1,
          0,
          1,
          0,
          1,
          1,
          1,
          0,
          1,
          0,
          1,
          1,
          0,
          0,
          1,
          0,
          1,
          1,
          1,
          1,
          0,
          1,
          0,
          1,
          0,
          1,
          1,
          1,
          0,
          0,
          1,
          0,
          1,
          1,
          0,
          0,
          0,
          0,
          1,
          0,
          1,
          1,
          0,
          1,
          1,
          1,
          1,
          1,
          1,
          1,
          1,
          1,
          1,
          0,
          1,
          0,
          1,
          1,
          0,
          0,
          0,
          0,
          1,
          1,
          1,
          0,
          1,
          0,
          1,
          0,
          1,
          1,
          1,
          0,
          0,
          0,
          1,
          1,
          1,
          1,
          0,
          1,
          0,
          1,
          1,
          1,
          0,
          1,
          1,
          0,
          1,
          0,
          1,
          0,
          1,
          0,
          1,
          0,
          1,
          1,
          1,
          0,
          0,
          0,
          1,
          0,
          1,
          1,
          1,
          1,
          0,
          1,
          0,
          0,
          1,
          1,
          0,
          1,
          0,
          1,
          0,
          0,
          0,
          0,
          1,
          0,
          1,
          1,
          1,
          0,
          1,
          1,
          1,
          1,
          1,
          1,
          0,
          1,
          0,
          0,
          1,
          0,
          1,
          1,
          1,
          1,
          1,
          0,
          1,
          1,
          1,
          1,
          0,
          1,
          0,
          0,
          1,
          1,
          1,
          0,
          0,
          1,
          1,
          0,
          0,
          1,
          1,
          1,
          1,
          0,
          0,
          0,
          1,
          0,
          1,
          1,
          0,
          0,
          1,
          0,
          0,
          0,
          1,
          1,
          0,
          1,
          1,
          1,
          0,
          0,
          0,
          1,
          1,
          0,
          1,
          1,
          1,
          0,
          1,
          0,
          1,
          0,
          1,
          1,
          0,
          0,
          0,
          1,
          1,
          1,
          0,
          0,
          0,
          1,
          0,
          1,
          1,
          1,
          0,
          1,
          1,
          0,
          1,
          0,
          1,
          1,
          1,
          0,
          1,
          1,
          1,
          0,
          1,
          0,
          0,
          0,
          1,
          1,
          0,
          1,
          0,
          1,
          1,
          0,
          0,
          1,
          0,
          0,
          1,
          1,
          0,
          0,
          1,
          0,
          1,
          1,
          1,
          0,
          0,
          0,
          0,
          0,
          0,
          1,
          0,
          0,
          0,
          1,
          1,
          1,
          0,
          1,
          1,
          1,
          0,
          0,
          0,
          1,
          0,
          0,
          1,
          1,
          1,
          1,
          1,
          1,
          1,
          1,
          0,
          1,
          1,
          0,
          1,
          1,
          0,
          0,
          1,
          0,
          1,
          0,
          1,
          1,
          0,
          1,
          1,
          1,
          0,
          0,
          1,
          0,
          0,
          0,
          1,
          1,
          0,
          0,
          0,
          0,
          0,
          0,
          1,
          1,
          0,
          1,
          1,
          0,
          0,
          0,
          1,
          0,
          1,
          1,
          1,
          0,
          1,
          1,
          0,
          0,
          1,
          1,
          1,
          1,
          0,
          1,
          0,
          1,
          0,
          0,
          0,
          1,
          1,
          1,
          1,
          1,
          0,
          1,
          0,
          0,
          0,
          1,
          1,
          1,
          0,
          0,
          1,
          1,
          1,
          1,
          0,
          0,
          1,
          1,
          1,
          1,
          1,
          0,
          0,
          1,
          1,
          1,
          1,
          1,
          0,
          1,
          0,
          0,
          0,
          0,
          1,
          1,
          0,
          1,
          0,
          1,
          1,
          0,
          1,
          0,
          0,
          1,
          1,
          1,
          0,
          1,
          1,
          0,
          0,
          0,
          0,
          1,
          1,
          1,
          0,
          1,
          0,
          0,
          1,
          1,
          0,
          1,
          0,
          0,
          1,
          1,
          0,
          1,
          0,
          1,
          0,
          1,
          1,
          0,
          1,
          0,
          1,
          0,
          1
         ],
         "x0": " ",
         "xaxis": "x",
         "y": [
          9,
          0,
          8,
          10,
          9,
          4,
          7,
          1,
          6,
          7,
          7,
          2,
          6,
          5,
          5,
          8,
          5,
          4,
          2,
          9,
          3,
          3,
          0,
          3,
          0,
          4,
          7,
          8,
          2,
          10,
          4,
          6,
          3,
          3,
          3,
          8,
          6,
          10,
          4,
          8,
          1,
          7,
          9,
          4,
          3,
          6,
          5,
          9,
          5,
          6,
          7,
          6,
          2,
          3,
          1,
          0,
          4,
          3,
          4,
          7,
          5,
          3,
          0,
          9,
          1,
          2,
          9,
          0,
          9,
          4,
          1,
          10,
          9,
          10,
          9,
          0,
          1,
          4,
          1,
          1,
          5,
          6,
          2,
          3,
          10,
          7,
          9,
          10,
          7,
          2,
          8,
          4,
          1,
          10,
          10,
          8,
          2,
          3,
          4,
          3,
          0,
          8,
          7,
          8,
          7,
          9,
          5,
          7,
          2,
          9,
          8,
          2,
          10,
          0,
          7,
          9,
          10,
          9,
          4,
          4,
          7,
          10,
          7,
          10,
          0,
          3,
          8,
          0,
          3,
          4,
          7,
          7,
          10,
          9,
          3,
          7,
          5,
          10,
          8,
          4,
          1,
          10,
          2,
          9,
          8,
          2,
          5,
          4,
          6,
          9,
          8,
          6,
          3,
          1,
          10,
          4,
          0,
          2,
          5,
          4,
          4,
          4,
          5,
          3,
          1,
          10,
          5,
          7,
          3,
          8,
          10,
          9,
          7,
          10,
          8,
          3,
          8,
          8,
          6,
          0,
          4,
          5,
          6,
          2,
          8,
          1,
          9,
          2,
          0,
          1,
          5,
          7,
          9,
          0,
          4,
          8,
          2,
          4,
          7,
          9,
          0,
          2,
          8,
          2,
          0,
          5,
          2,
          3,
          0,
          2,
          5,
          0,
          5,
          4,
          0,
          6,
          0,
          2,
          1,
          6,
          6,
          8,
          10,
          2,
          0,
          1,
          1,
          9,
          7,
          6,
          9,
          2,
          6,
          9,
          7,
          3,
          2,
          6,
          3,
          2,
          10,
          5,
          6,
          3,
          10,
          3,
          7,
          10,
          7,
          5,
          4,
          10,
          0,
          7,
          3,
          7,
          7,
          7,
          10,
          5,
          8,
          5,
          1,
          3,
          2,
          10,
          5,
          3,
          3,
          6,
          8,
          5,
          6,
          5,
          10,
          3,
          3,
          0,
          8,
          2,
          2,
          8,
          9,
          5,
          3,
          5,
          0,
          7,
          5,
          2,
          5,
          6,
          0,
          10,
          2,
          8,
          5,
          9,
          1,
          0,
          10,
          9,
          2,
          7,
          9,
          8,
          0,
          0,
          0,
          1,
          10,
          10,
          7,
          6,
          5,
          8,
          10,
          2,
          1,
          3,
          0,
          2,
          10,
          6,
          0,
          6,
          6,
          2,
          8,
          1,
          4,
          10,
          3,
          7,
          4,
          10,
          5,
          5,
          9,
          4,
          8,
          7,
          7,
          7,
          6,
          5,
          5,
          10,
          3,
          3,
          3,
          8,
          5,
          9,
          1,
          1,
          0,
          1,
          7,
          7,
          3,
          6,
          3,
          9,
          1,
          1,
          6,
          7,
          1,
          3,
          7,
          3,
          2,
          0,
          4,
          1,
          4,
          9,
          3,
          3,
          8,
          5,
          3,
          9,
          4,
          2,
          8,
          1,
          4,
          2,
          4,
          7,
          2,
          6,
          6,
          10,
          3,
          3,
          9,
          1,
          9,
          6,
          8,
          0,
          3,
          6,
          5,
          4,
          9,
          0,
          4,
          4,
          2,
          9,
          7,
          3,
          3,
          2,
          6,
          3,
          8,
          4,
          2,
          6,
          8,
          6,
          5,
          2,
          5,
          2,
          9,
          0,
          9,
          8,
          10,
          8,
          2,
          3,
          5,
          5,
          5,
          2,
          10,
          1,
          10,
          3,
          5,
          3,
          9,
          5,
          5,
          9,
          6,
          9,
          0,
          7,
          2,
          5,
          4,
          8,
          5,
          7,
          1,
          1,
          6,
          0,
          1,
          6,
          8,
          2,
          3,
          1,
          7,
          9,
          0,
          4,
          5,
          7,
          4,
          4,
          4,
          2,
          6,
          9,
          9,
          10,
          6,
          10,
          2,
          5,
          6,
          0,
          2,
          2,
          10,
          10,
          2,
          9,
          7,
          2,
          10,
          5,
          2,
          2,
          0,
          8,
          3,
          8,
          4,
          6,
          0,
          4,
          4,
          4,
          8,
          10,
          5,
          10,
          5,
          4,
          3,
          10,
          0,
          7,
          2,
          8,
          7,
          2,
          5,
          3,
          9,
          5,
          5,
          6,
          0,
          0,
          5,
          1,
          6,
          0,
          8,
          1,
          10,
          10,
          3,
          7,
          7,
          5,
          6,
          0,
          0,
          3,
          5,
          5,
          6,
          8,
          8,
          5,
          4,
          2,
          0,
          4,
          4,
          1,
          4,
          2,
          9,
          2,
          6,
          3,
          10,
          7,
          3,
          9,
          4,
          4,
          5,
          4,
          6,
          4,
          10,
          4,
          1,
          5,
          2,
          9,
          1,
          10,
          5,
          8,
          9,
          1,
          7,
          2,
          7,
          0,
          9,
          7,
          2,
          0,
          7,
          3,
          0,
          1,
          6,
          8,
          5,
          0,
          4,
          8,
          8,
          7,
          2,
          6,
          5,
          4,
          4,
          6,
          9,
          9,
          6,
          6,
          2,
          7,
          0,
          5,
          2,
          1,
          7,
          1,
          10,
          8,
          9,
          2,
          10,
          3,
          9,
          8,
          6,
          3,
          7,
          5,
          8,
          6,
          7,
          2,
          6,
          1,
          1,
          10,
          8,
          5,
          5,
          9,
          9,
          8,
          4,
          9,
          9,
          8,
          5,
          4,
          9,
          10,
          9,
          3,
          10,
          2,
          4,
          1,
          7,
          6,
          3,
          7,
          3,
          9,
          6,
          6,
          4,
          1,
          7,
          7,
          7,
          6,
          9,
          5,
          9,
          3,
          10,
          9,
          6,
          4,
          5,
          0,
          2,
          0,
          7,
          4,
          6,
          1,
          8,
          0,
          4,
          7,
          6,
          9,
          4,
          7,
          2,
          8,
          10,
          3,
          9,
          5,
          8,
          2,
          6,
          2,
          6,
          4,
          10,
          10,
          0,
          2,
          7,
          3,
          2,
          2,
          4,
          5,
          1,
          9,
          1,
          3,
          6,
          6,
          6,
          3,
          3,
          3,
          1,
          10,
          9,
          10,
          0,
          9,
          1,
          5,
          10,
          1,
          9,
          2,
          6,
          0,
          6,
          0,
          10,
          5,
          8,
          7,
          2,
          3,
          9,
          2,
          6,
          7,
          7,
          3,
          6,
          8,
          6,
          2,
          7,
          7,
          0,
          6,
          1,
          0,
          2,
          4,
          0,
          3,
          7,
          5,
          3,
          7,
          2,
          4,
          7,
          10,
          1,
          9,
          0,
          5,
          0,
          9,
          7,
          2,
          6,
          8,
          8,
          5,
          8,
          4,
          9,
          4,
          4,
          3,
          8,
          7,
          10,
          10,
          5,
          0,
          6,
          6,
          3,
          0,
          3,
          5,
          9,
          5,
          8,
          7,
          5,
          6,
          8,
          10,
          0,
          3,
          10,
          1,
          7,
          7,
          5,
          10,
          7,
          5,
          3,
          5,
          9,
          10,
          5,
          2,
          6,
          10,
          2,
          0,
          7,
          10,
          9,
          0,
          5,
          0,
          7,
          10,
          9,
          3,
          9,
          2,
          3,
          6,
          5,
          2,
          8,
          10,
          9,
          8,
          4,
          8,
          0,
          10,
          0,
          9,
          4,
          3,
          6,
          6,
          9,
          0,
          5,
          0,
          5,
          8,
          9,
          6,
          9,
          3,
          8,
          7,
          9,
          1,
          3,
          5,
          6,
          9,
          1,
          7,
          6,
          6,
          8,
          2,
          5,
          7,
          2,
          1,
          7,
          0,
          1,
          3,
          0,
          3,
          0,
          0,
          8,
          8,
          1,
          4,
          1,
          0,
          0,
          2,
          2,
          0,
          1,
          4,
          6,
          0,
          4,
          6,
          8,
          4,
          9,
          1,
          1,
          5,
          3,
          4,
          10,
          5,
          1,
          6,
          2,
          8,
          2,
          6,
          2,
          3,
          6,
          5,
          6,
          9,
          1,
          1,
          5,
          1,
          8,
          10,
          10,
          7,
          6,
          1,
          5,
          4,
          7,
          10,
          7,
          5,
          6,
          1,
          3,
          4,
          3,
          5,
          2,
          0,
          5,
          1,
          9,
          1,
          3,
          2,
          8,
          2,
          3,
          5,
          2,
          7,
          2,
          7,
          8,
          4,
          2,
          8,
          5,
          6,
          6,
          1,
          1,
          5,
          4,
          6,
          4,
          10,
          1,
          1,
          3,
          7,
          9,
          0,
          4,
          5,
          4,
          10,
          3,
          9,
          4,
          7,
          9,
          5,
          2,
          2,
          7,
          6,
          8,
          8,
          2,
          2,
          6,
          5,
          8,
          9,
          0,
          8,
          0,
          10,
          9,
          7,
          2,
          8,
          0,
          3,
          5,
          4,
          4,
          4,
          4,
          9,
          1,
          5,
          4,
          10,
          4,
          2,
          7,
          4,
          1,
          1,
          9,
          4,
          2,
          6,
          10,
          2,
          5,
          1,
          4,
          7,
          2,
          0,
          1,
          0,
          0,
          4,
          6,
          3,
          2,
          0,
          2,
          1,
          8,
          5,
          6,
          8,
          3,
          7,
          7,
          3,
          7,
          5,
          9,
          0,
          3,
          10,
          7
         ],
         "y0": " ",
         "yaxis": "y"
        }
       ],
       "layout": {
        "boxmode": "group",
        "legend": {
         "tracegroupgap": 0
        },
        "template": {
         "data": {
          "bar": [
           {
            "error_x": {
             "color": "#2a3f5f"
            },
            "error_y": {
             "color": "#2a3f5f"
            },
            "marker": {
             "line": {
              "color": "white",
              "width": 0.5
             },
             "pattern": {
              "fillmode": "overlay",
              "size": 10,
              "solidity": 0.2
             }
            },
            "type": "bar"
           }
          ],
          "barpolar": [
           {
            "marker": {
             "line": {
              "color": "white",
              "width": 0.5
             },
             "pattern": {
              "fillmode": "overlay",
              "size": 10,
              "solidity": 0.2
             }
            },
            "type": "barpolar"
           }
          ],
          "box": [
           {
            "boxpoints": "outliers",
            "notched": false,
            "type": "box"
           }
          ],
          "carpet": [
           {
            "aaxis": {
             "endlinecolor": "#2a3f5f",
             "gridcolor": "#C8D4E3",
             "linecolor": "#C8D4E3",
             "minorgridcolor": "#C8D4E3",
             "startlinecolor": "#2a3f5f"
            },
            "baxis": {
             "endlinecolor": "#2a3f5f",
             "gridcolor": "#C8D4E3",
             "linecolor": "#C8D4E3",
             "minorgridcolor": "#C8D4E3",
             "startlinecolor": "#2a3f5f"
            },
            "type": "carpet"
           }
          ],
          "choropleth": [
           {
            "colorbar": {
             "outlinewidth": 0,
             "ticks": ""
            },
            "type": "choropleth"
           }
          ],
          "contour": [
           {
            "colorbar": {
             "outlinewidth": 0,
             "ticks": ""
            },
            "colorscale": [
             [
              0,
              "#0d0887"
             ],
             [
              0.1111111111111111,
              "#46039f"
             ],
             [
              0.2222222222222222,
              "#7201a8"
             ],
             [
              0.3333333333333333,
              "#9c179e"
             ],
             [
              0.4444444444444444,
              "#bd3786"
             ],
             [
              0.5555555555555556,
              "#d8576b"
             ],
             [
              0.6666666666666666,
              "#ed7953"
             ],
             [
              0.7777777777777778,
              "#fb9f3a"
             ],
             [
              0.8888888888888888,
              "#fdca26"
             ],
             [
              1,
              "#f0f921"
             ]
            ],
            "type": "contour"
           }
          ],
          "contourcarpet": [
           {
            "colorbar": {
             "outlinewidth": 0,
             "ticks": ""
            },
            "type": "contourcarpet"
           }
          ],
          "heatmap": [
           {
            "colorbar": {
             "outlinewidth": 0,
             "ticks": ""
            },
            "colorscale": [
             [
              0,
              "#0d0887"
             ],
             [
              0.1111111111111111,
              "#46039f"
             ],
             [
              0.2222222222222222,
              "#7201a8"
             ],
             [
              0.3333333333333333,
              "#9c179e"
             ],
             [
              0.4444444444444444,
              "#bd3786"
             ],
             [
              0.5555555555555556,
              "#d8576b"
             ],
             [
              0.6666666666666666,
              "#ed7953"
             ],
             [
              0.7777777777777778,
              "#fb9f3a"
             ],
             [
              0.8888888888888888,
              "#fdca26"
             ],
             [
              1,
              "#f0f921"
             ]
            ],
            "type": "heatmap"
           }
          ],
          "heatmapgl": [
           {
            "colorbar": {
             "outlinewidth": 0,
             "ticks": ""
            },
            "colorscale": [
             [
              0,
              "#0d0887"
             ],
             [
              0.1111111111111111,
              "#46039f"
             ],
             [
              0.2222222222222222,
              "#7201a8"
             ],
             [
              0.3333333333333333,
              "#9c179e"
             ],
             [
              0.4444444444444444,
              "#bd3786"
             ],
             [
              0.5555555555555556,
              "#d8576b"
             ],
             [
              0.6666666666666666,
              "#ed7953"
             ],
             [
              0.7777777777777778,
              "#fb9f3a"
             ],
             [
              0.8888888888888888,
              "#fdca26"
             ],
             [
              1,
              "#f0f921"
             ]
            ],
            "type": "heatmapgl"
           }
          ],
          "histogram": [
           {
            "marker": {
             "line": {
              "width": 1
             },
             "pattern": {
              "fillmode": "overlay",
              "size": 10,
              "solidity": 0.2
             }
            },
            "type": "histogram"
           }
          ],
          "histogram2d": [
           {
            "colorbar": {
             "outlinewidth": 0,
             "ticks": ""
            },
            "colorscale": [
             [
              0,
              "#0d0887"
             ],
             [
              0.1111111111111111,
              "#46039f"
             ],
             [
              0.2222222222222222,
              "#7201a8"
             ],
             [
              0.3333333333333333,
              "#9c179e"
             ],
             [
              0.4444444444444444,
              "#bd3786"
             ],
             [
              0.5555555555555556,
              "#d8576b"
             ],
             [
              0.6666666666666666,
              "#ed7953"
             ],
             [
              0.7777777777777778,
              "#fb9f3a"
             ],
             [
              0.8888888888888888,
              "#fdca26"
             ],
             [
              1,
              "#f0f921"
             ]
            ],
            "type": "histogram2d"
           }
          ],
          "histogram2dcontour": [
           {
            "colorbar": {
             "outlinewidth": 0,
             "ticks": ""
            },
            "colorscale": [
             [
              0,
              "#0d0887"
             ],
             [
              0.1111111111111111,
              "#46039f"
             ],
             [
              0.2222222222222222,
              "#7201a8"
             ],
             [
              0.3333333333333333,
              "#9c179e"
             ],
             [
              0.4444444444444444,
              "#bd3786"
             ],
             [
              0.5555555555555556,
              "#d8576b"
             ],
             [
              0.6666666666666666,
              "#ed7953"
             ],
             [
              0.7777777777777778,
              "#fb9f3a"
             ],
             [
              0.8888888888888888,
              "#fdca26"
             ],
             [
              1,
              "#f0f921"
             ]
            ],
            "type": "histogram2dcontour"
           }
          ],
          "mesh3d": [
           {
            "colorbar": {
             "outlinewidth": 0,
             "ticks": ""
            },
            "type": "mesh3d"
           }
          ],
          "parcoords": [
           {
            "line": {
             "colorbar": {
              "outlinewidth": 0,
              "ticks": ""
             }
            },
            "type": "parcoords"
           }
          ],
          "pie": [
           {
            "automargin": true,
            "type": "pie"
           }
          ],
          "scatter": [
           {
            "marker": {
             "colorbar": {
              "outlinewidth": 0,
              "ticks": ""
             },
             "opacity": 0.8
            },
            "type": "scatter"
           }
          ],
          "scatter3d": [
           {
            "line": {
             "colorbar": {
              "outlinewidth": 0,
              "ticks": ""
             }
            },
            "marker": {
             "colorbar": {
              "outlinewidth": 0,
              "ticks": ""
             },
             "opacity": 0.8
            },
            "type": "scatter3d"
           }
          ],
          "scattercarpet": [
           {
            "marker": {
             "colorbar": {
              "outlinewidth": 0,
              "ticks": ""
             }
            },
            "type": "scattercarpet"
           }
          ],
          "scattergeo": [
           {
            "marker": {
             "colorbar": {
              "outlinewidth": 0,
              "ticks": ""
             }
            },
            "type": "scattergeo"
           }
          ],
          "scattergl": [
           {
            "marker": {
             "colorbar": {
              "outlinewidth": 0,
              "ticks": ""
             }
            },
            "type": "scattergl"
           }
          ],
          "scattermapbox": [
           {
            "marker": {
             "colorbar": {
              "outlinewidth": 0,
              "ticks": ""
             }
            },
            "type": "scattermapbox"
           }
          ],
          "scatterpolar": [
           {
            "marker": {
             "colorbar": {
              "outlinewidth": 0,
              "ticks": ""
             }
            },
            "type": "scatterpolar"
           }
          ],
          "scatterpolargl": [
           {
            "marker": {
             "colorbar": {
              "outlinewidth": 0,
              "ticks": ""
             }
            },
            "type": "scatterpolargl"
           }
          ],
          "scatterternary": [
           {
            "marker": {
             "colorbar": {
              "outlinewidth": 0,
              "ticks": ""
             }
            },
            "type": "scatterternary"
           }
          ],
          "surface": [
           {
            "colorbar": {
             "outlinewidth": 0,
             "ticks": ""
            },
            "colorscale": [
             [
              0,
              "#0d0887"
             ],
             [
              0.1111111111111111,
              "#46039f"
             ],
             [
              0.2222222222222222,
              "#7201a8"
             ],
             [
              0.3333333333333333,
              "#9c179e"
             ],
             [
              0.4444444444444444,
              "#bd3786"
             ],
             [
              0.5555555555555556,
              "#d8576b"
             ],
             [
              0.6666666666666666,
              "#ed7953"
             ],
             [
              0.7777777777777778,
              "#fb9f3a"
             ],
             [
              0.8888888888888888,
              "#fdca26"
             ],
             [
              1,
              "#f0f921"
             ]
            ],
            "type": "surface"
           }
          ],
          "table": [
           {
            "cells": {
             "fill": {
              "color": "#EBF0F8"
             },
             "line": {
              "color": "white"
             }
            },
            "header": {
             "fill": {
              "color": "#C8D4E3"
             },
             "line": {
              "color": "white"
             }
            },
            "type": "table"
           }
          ]
         },
         "layout": {
          "annotationdefaults": {
           "arrowcolor": "#2a3f5f",
           "arrowhead": 0,
           "arrowwidth": 1
          },
          "autotypenumbers": "strict",
          "coloraxis": {
           "colorbar": {
            "outlinewidth": 0,
            "ticks": ""
           }
          },
          "colorscale": {
           "diverging": [
            [
             0,
             "#8e0152"
            ],
            [
             0.1,
             "#c51b7d"
            ],
            [
             0.2,
             "#de77ae"
            ],
            [
             0.3,
             "#f1b6da"
            ],
            [
             0.4,
             "#fde0ef"
            ],
            [
             0.5,
             "#f7f7f7"
            ],
            [
             0.6,
             "#e6f5d0"
            ],
            [
             0.7,
             "#b8e186"
            ],
            [
             0.8,
             "#7fbc41"
            ],
            [
             0.9,
             "#4d9221"
            ],
            [
             1,
             "#276419"
            ]
           ],
           "sequential": [
            [
             0,
             "#0d0887"
            ],
            [
             0.1111111111111111,
             "#46039f"
            ],
            [
             0.2222222222222222,
             "#7201a8"
            ],
            [
             0.3333333333333333,
             "#9c179e"
            ],
            [
             0.4444444444444444,
             "#bd3786"
            ],
            [
             0.5555555555555556,
             "#d8576b"
            ],
            [
             0.6666666666666666,
             "#ed7953"
            ],
            [
             0.7777777777777778,
             "#fb9f3a"
            ],
            [
             0.8888888888888888,
             "#fdca26"
            ],
            [
             1,
             "#f0f921"
            ]
           ],
           "sequentialminus": [
            [
             0,
             "#0d0887"
            ],
            [
             0.1111111111111111,
             "#46039f"
            ],
            [
             0.2222222222222222,
             "#7201a8"
            ],
            [
             0.3333333333333333,
             "#9c179e"
            ],
            [
             0.4444444444444444,
             "#bd3786"
            ],
            [
             0.5555555555555556,
             "#d8576b"
            ],
            [
             0.6666666666666666,
             "#ed7953"
            ],
            [
             0.7777777777777778,
             "#fb9f3a"
            ],
            [
             0.8888888888888888,
             "#fdca26"
            ],
            [
             1,
             "#f0f921"
            ]
           ]
          },
          "colorway": [
           "#636efa",
           "#EF553B",
           "#00cc96",
           "#ab63fa",
           "#FFA15A",
           "#19d3f3",
           "#FF6692",
           "#B6E880",
           "#FF97FF",
           "#FECB52"
          ],
          "font": {
           "color": "#2a3f5f"
          },
          "geo": {
           "bgcolor": "white",
           "lakecolor": "white",
           "landcolor": "white",
           "showlakes": true,
           "showland": true,
           "subunitcolor": "#C8D4E3"
          },
          "height": 400,
          "hoverlabel": {
           "align": "left"
          },
          "hovermode": "closest",
          "mapbox": {
           "style": "light"
          },
          "margin": {
           "b": 2,
           "l": 2,
           "r": 2,
           "t": 30
          },
          "paper_bgcolor": "white",
          "plot_bgcolor": "white",
          "polar": {
           "angularaxis": {
            "gridcolor": "#EBF0F8",
            "linecolor": "#EBF0F8",
            "ticks": ""
           },
           "bgcolor": "white",
           "radialaxis": {
            "gridcolor": "#EBF0F8",
            "linecolor": "#EBF0F8",
            "ticks": ""
           }
          },
          "scene": {
           "camera": {
            "eye": {
             "x": 1.5,
             "y": 1.5,
             "z": 0.1
            }
           },
           "xaxis": {
            "backgroundcolor": "white",
            "gridcolor": "#DFE8F3",
            "gridwidth": 2,
            "linecolor": "#EBF0F8",
            "showbackground": true,
            "ticks": "",
            "zerolinecolor": "#EBF0F8"
           },
           "yaxis": {
            "backgroundcolor": "white",
            "gridcolor": "#DFE8F3",
            "gridwidth": 2,
            "linecolor": "#EBF0F8",
            "showbackground": true,
            "ticks": "",
            "zerolinecolor": "#EBF0F8"
           },
           "zaxis": {
            "backgroundcolor": "white",
            "gridcolor": "#DFE8F3",
            "gridwidth": 2,
            "linecolor": "#EBF0F8",
            "showbackground": true,
            "ticks": "",
            "zerolinecolor": "#EBF0F8"
           }
          },
          "shapedefaults": {
           "line": {
            "color": "#2a3f5f"
           }
          },
          "ternary": {
           "aaxis": {
            "gridcolor": "#DFE8F3",
            "linecolor": "#A2B1C6",
            "ticks": ""
           },
           "baxis": {
            "gridcolor": "#DFE8F3",
            "linecolor": "#A2B1C6",
            "ticks": ""
           },
           "bgcolor": "white",
           "caxis": {
            "gridcolor": "#DFE8F3",
            "linecolor": "#A2B1C6",
            "ticks": ""
           }
          },
          "title": {
           "x": 0.5
          },
          "xaxis": {
           "automargin": true,
           "gridcolor": "#EBF0F8",
           "linecolor": "#EBF0F8",
           "linewidth": 2,
           "showline": true,
           "ticks": "",
           "title": {
            "standoff": 15
           },
           "zerolinecolor": "#EBF0F8",
           "zerolinewidth": 2
          },
          "yaxis": {
           "automargin": true,
           "gridcolor": "#EBF0F8",
           "linecolor": "#EBF0F8",
           "linewidth": 2,
           "showline": true,
           "ticks": "",
           "title": {
            "standoff": 15
           },
           "zerolinecolor": "#EBF0F8",
           "zerolinewidth": 2
          }
         }
        },
        "xaxis": {
         "anchor": "y",
         "domain": [
          0,
          1
         ],
         "title": {
          "text": "avalanche"
         }
        },
        "yaxis": {
         "anchor": "x",
         "domain": [
          0,
          1
         ],
         "title": {
          "text": "weak layers"
         }
        }
       }
      }
     },
     "metadata": {}
    }
   ],
   "metadata": {}
  },
  {
   "cell_type": "markdown",
   "source": [
    "It seems that avalanches are associated with having more weak layers of snow. That said, some days many weak layers have been recorded, but no avalanche occurred. This means our model will have difficulty being extremely accurate using only this feature. Let's continue though, and come back to this in a future exercise.  \r\n",
    "\r\n",
    "Before we begin, we need to split our dataset into training and test sets. We will train on the _training_ set, and test on (you guessed it) the _test_ set."
   ],
   "metadata": {}
  },
  {
   "cell_type": "code",
   "execution_count": 12,
   "source": [
    "from sklearn.model_selection import train_test_split\r\n",
    "\r\n",
    "# Split the dataset in an 75/25 train/test ratio. \r\n",
    "train, test = train_test_split(dataset, test_size=0.25, random_state=10)\r\n",
    "\r\n",
    "print(\"Train size:\", train.shape[0])\r\n",
    "print(\"Test size:\", test.shape[0])"
   ],
   "outputs": [
    {
     "output_type": "stream",
     "name": "stdout",
     "text": [
      "Train size: 821\n",
      "Test size: 274\n"
     ]
    }
   ],
   "metadata": {}
  },
  {
   "cell_type": "markdown",
   "source": [
    "## Fitting a model\r\n",
    "\r\n",
    "Let's fit a simple logistic regression model using *log-loss* as a cost function. This is a very standard way to fit a classification model - so standard, in fact that we don't need to specify it at all."
   ],
   "metadata": {}
  },
  {
   "cell_type": "code",
   "execution_count": 14,
   "source": [
    "#!pip install statsmodels"
   ],
   "outputs": [
    {
     "output_type": "stream",
     "name": "stdout",
     "text": [
      "Collecting statsmodels\n",
      "  Downloading statsmodels-0.13.0-cp38-none-win_amd64.whl (9.4 MB)\n",
      "Requirement already satisfied: scipy>=1.3 in c:\\users\\aduzo\\anaconda3\\envs\\gmsjupyter\\lib\\site-packages (from statsmodels) (1.7.1)\n",
      "Requirement already satisfied: pandas>=0.25 in c:\\users\\aduzo\\anaconda3\\envs\\gmsjupyter\\lib\\site-packages (from statsmodels) (1.1.3)\n",
      "Requirement already satisfied: numpy>=1.17 in c:\\users\\aduzo\\anaconda3\\envs\\gmsjupyter\\lib\\site-packages (from statsmodels) (1.19.2)\n",
      "Requirement already satisfied: pytz>=2017.2 in c:\\users\\aduzo\\anaconda3\\envs\\gmsjupyter\\lib\\site-packages (from pandas>=0.25->statsmodels) (2020.4)\n",
      "Requirement already satisfied: python-dateutil>=2.7.3 in c:\\users\\aduzo\\anaconda3\\envs\\gmsjupyter\\lib\\site-packages (from pandas>=0.25->statsmodels) (2.8.1)\n",
      "Requirement already satisfied: numpy>=1.17 in c:\\users\\aduzo\\anaconda3\\envs\\gmsjupyter\\lib\\site-packages (from statsmodels) (1.19.2)\n",
      "Collecting patsy>=0.5.2\n",
      "  Downloading patsy-0.5.2-py2.py3-none-any.whl (233 kB)\n",
      "Requirement already satisfied: six in c:\\users\\aduzo\\anaconda3\\envs\\gmsjupyter\\lib\\site-packages (from patsy>=0.5.2->statsmodels) (1.15.0)\n",
      "Requirement already satisfied: numpy>=1.17 in c:\\users\\aduzo\\anaconda3\\envs\\gmsjupyter\\lib\\site-packages (from statsmodels) (1.19.2)\n",
      "Requirement already satisfied: six in c:\\users\\aduzo\\anaconda3\\envs\\gmsjupyter\\lib\\site-packages (from patsy>=0.5.2->statsmodels) (1.15.0)\n",
      "Requirement already satisfied: numpy>=1.17 in c:\\users\\aduzo\\anaconda3\\envs\\gmsjupyter\\lib\\site-packages (from statsmodels) (1.19.2)\n",
      "Installing collected packages: patsy, statsmodels\n",
      "Successfully installed patsy-0.5.2 statsmodels-0.13.0\n"
     ]
    }
   ],
   "metadata": {}
  },
  {
   "cell_type": "code",
   "execution_count": 15,
   "source": [
    "import statsmodels.formula.api as smf\r\n",
    "\r\n",
    "# Perform logistic regression.\r\n",
    "model =smf.logit(\"avalanche ~ weak_layers\", train).fit()\r\n",
    "\r\n",
    "print(\"Model trained\")\r\n"
   ],
   "outputs": [
    {
     "output_type": "stream",
     "name": "stdout",
     "text": [
      "Optimization terminated successfully.\n",
      "         Current function value: 0.616312\n",
      "         Iterations 5\n",
      "Model trained\n"
     ]
    }
   ],
   "metadata": {}
  },
  {
   "cell_type": "markdown",
   "source": [
    "## Assessing the model with summary information\r\n",
    "\r\n",
    "If we use `statsmodels`, we can get a detailed summary about the model by simply calling `summary()`"
   ],
   "metadata": {}
  },
  {
   "cell_type": "code",
   "execution_count": 16,
   "source": [
    "model.summary()"
   ],
   "outputs": [
    {
     "output_type": "execute_result",
     "data": {
      "text/html": [
       "<table class=\"simpletable\">\n",
       "<caption>Logit Regression Results</caption>\n",
       "<tr>\n",
       "  <th>Dep. Variable:</th>       <td>avalanche</td>    <th>  No. Observations:  </th>  <td>   821</td>  \n",
       "</tr>\n",
       "<tr>\n",
       "  <th>Model:</th>                 <td>Logit</td>      <th>  Df Residuals:      </th>  <td>   819</td>  \n",
       "</tr>\n",
       "<tr>\n",
       "  <th>Method:</th>                 <td>MLE</td>       <th>  Df Model:          </th>  <td>     1</td>  \n",
       "</tr>\n",
       "<tr>\n",
       "  <th>Date:</th>            <td>Mon, 04 Oct 2021</td> <th>  Pseudo R-squ.:     </th>  <td>0.1018</td>  \n",
       "</tr>\n",
       "<tr>\n",
       "  <th>Time:</th>                <td>23:24:48</td>     <th>  Log-Likelihood:    </th> <td> -505.99</td> \n",
       "</tr>\n",
       "<tr>\n",
       "  <th>converged:</th>             <td>True</td>       <th>  LL-Null:           </th> <td> -563.33</td> \n",
       "</tr>\n",
       "<tr>\n",
       "  <th>Covariance Type:</th>     <td>nonrobust</td>    <th>  LLR p-value:       </th> <td>9.269e-27</td>\n",
       "</tr>\n",
       "</table>\n",
       "<table class=\"simpletable\">\n",
       "<tr>\n",
       "       <td></td>          <th>coef</th>     <th>std err</th>      <th>z</th>      <th>P>|z|</th>  <th>[0.025</th>    <th>0.975]</th>  \n",
       "</tr>\n",
       "<tr>\n",
       "  <th>Intercept</th>   <td>   -1.0656</td> <td>    0.148</td> <td>   -7.207</td> <td> 0.000</td> <td>   -1.355</td> <td>   -0.776</td>\n",
       "</tr>\n",
       "<tr>\n",
       "  <th>weak_layers</th> <td>    0.2643</td> <td>    0.026</td> <td>    9.985</td> <td> 0.000</td> <td>    0.212</td> <td>    0.316</td>\n",
       "</tr>\n",
       "</table>"
      ],
      "text/plain": [
       "<class 'statsmodels.iolib.summary.Summary'>\n",
       "\"\"\"\n",
       "                           Logit Regression Results                           \n",
       "==============================================================================\n",
       "Dep. Variable:              avalanche   No. Observations:                  821\n",
       "Model:                          Logit   Df Residuals:                      819\n",
       "Method:                           MLE   Df Model:                            1\n",
       "Date:                Mon, 04 Oct 2021   Pseudo R-squ.:                  0.1018\n",
       "Time:                        23:24:48   Log-Likelihood:                -505.99\n",
       "converged:                       True   LL-Null:                       -563.33\n",
       "Covariance Type:            nonrobust   LLR p-value:                 9.269e-27\n",
       "===============================================================================\n",
       "                  coef    std err          z      P>|z|      [0.025      0.975]\n",
       "-------------------------------------------------------------------------------\n",
       "Intercept      -1.0656      0.148     -7.207      0.000      -1.355      -0.776\n",
       "weak_layers     0.2643      0.026      9.985      0.000       0.212       0.316\n",
       "===============================================================================\n",
       "\"\"\""
      ]
     },
     "metadata": {},
     "execution_count": 16
    }
   ],
   "metadata": {}
  },
  {
   "cell_type": "markdown",
   "source": [
    "This summary provides some detailed information. \r\n",
    "\r\n",
    "Two useful pieces of information are in the bottom row. The coef for `weak_layers` is positive, which means that as `weak_layers` increases, so does the probability of an avalanche. The the `P` value column is less than 0.05, which means the model is confident that `weak_layers` is a useful predictor of avalanches. \r\n",
    "\r\n",
    "The rest of this table, however, is difficult to understand for beginners and so it's not clear how well our model is working. Let's try another way. \r\n",
    "\r\n",
    "## Assessing model visually\r\n",
    "\r\n",
    "Sometimes, but not always, we can visually assess a logistic regression mode. Let's plot our model against the actual data in the test dataset."
   ],
   "metadata": {}
  },
  {
   "cell_type": "code",
   "execution_count": 17,
   "source": [
    "def predict(weak_layers):\r\n",
    "    return model.predict(dict(weak_layers=weak_layers))\r\n",
    "\r\n",
    "graphings.scatter_2D(test, label_x=\"weak_layers\", label_y=\"avalanche\", trendline=predict)"
   ],
   "outputs": [
    {
     "output_type": "display_data",
     "data": {
      "application/vnd.plotly.v1+json": {
       "config": {
        "plotlyServerURL": "https://plot.ly"
       },
       "data": [
        {
         "hovertemplate": "weak layers=%{x}<br>avalanche=%{y}<extra></extra>",
         "legendgroup": "",
         "marker": {
          "color": "#636efa",
          "size": 9,
          "symbol": "circle"
         },
         "mode": "markers",
         "name": "",
         "orientation": "v",
         "showlegend": false,
         "type": "scatter",
         "x": [
          9,
          7,
          5,
          5,
          7,
          0,
          10,
          7,
          2,
          3,
          1,
          1,
          8,
          6,
          5,
          3,
          7,
          6,
          4,
          4,
          9,
          0,
          2,
          0,
          7,
          5,
          2,
          2,
          5,
          2,
          3,
          5,
          8,
          4,
          7,
          9,
          1,
          9,
          5,
          7,
          10,
          5,
          9,
          9,
          0,
          2,
          7,
          1,
          0,
          3,
          3,
          2,
          8,
          2,
          0,
          9,
          5,
          2,
          1,
          3,
          4,
          8,
          4,
          6,
          7,
          9,
          2,
          6,
          1,
          7,
          5,
          3,
          5,
          1,
          7,
          0,
          1,
          9,
          7,
          2,
          5,
          1,
          2,
          6,
          9,
          2,
          1,
          6,
          4,
          10,
          1,
          9,
          1,
          7,
          8,
          10,
          5,
          0,
          4,
          4,
          6,
          1,
          9,
          4,
          5,
          7,
          3,
          8,
          9,
          8,
          0,
          4,
          3,
          7,
          2,
          4,
          7,
          0,
          10,
          3,
          10,
          5,
          1,
          0,
          0,
          0,
          6,
          3,
          7,
          0,
          0,
          1,
          1,
          5,
          6,
          10,
          4,
          2,
          5,
          2,
          9,
          7,
          9,
          0,
          10,
          10,
          5,
          4,
          7,
          6,
          3,
          9,
          6,
          6,
          9,
          9,
          3,
          1,
          4,
          1,
          6,
          4,
          9,
          7,
          3,
          6,
          0,
          1,
          9,
          2,
          1,
          9,
          4,
          8,
          0,
          1,
          0,
          1,
          2,
          7,
          7,
          2,
          6,
          2,
          0,
          9,
          9,
          4,
          4,
          7,
          7,
          0,
          8,
          6,
          1,
          10,
          9,
          8,
          3,
          6,
          0,
          7,
          4,
          2,
          1,
          6,
          5,
          7,
          0,
          4,
          0,
          2,
          0,
          4,
          7,
          9,
          5,
          4,
          10,
          4,
          10,
          1,
          3,
          5,
          2,
          8,
          2,
          8,
          4,
          10,
          5,
          7,
          9,
          0,
          2,
          4,
          1,
          10,
          9,
          6,
          9,
          10,
          1,
          4,
          4,
          2,
          1,
          6,
          3,
          6,
          10,
          2,
          3,
          9,
          6,
          8,
          4,
          7,
          8,
          0,
          5,
          1,
          6,
          4,
          6,
          7,
          8,
          9,
          1,
          10,
          1,
          3,
          2,
          0
         ],
         "xaxis": "x",
         "y": [
          0,
          0,
          0,
          0,
          1,
          1,
          1,
          1,
          1,
          1,
          0,
          0,
          1,
          1,
          0,
          0,
          0,
          0,
          0,
          0,
          0,
          1,
          0,
          1,
          1,
          1,
          0,
          1,
          1,
          0,
          0,
          1,
          0,
          1,
          1,
          1,
          1,
          1,
          1,
          0,
          1,
          1,
          1,
          1,
          0,
          1,
          1,
          0,
          1,
          1,
          1,
          0,
          1,
          0,
          0,
          0,
          0,
          0,
          0,
          0,
          1,
          1,
          0,
          0,
          1,
          1,
          0,
          0,
          1,
          1,
          0,
          0,
          0,
          0,
          1,
          0,
          1,
          1,
          1,
          0,
          1,
          0,
          1,
          1,
          1,
          0,
          0,
          1,
          0,
          1,
          0,
          0,
          0,
          0,
          0,
          1,
          1,
          1,
          1,
          0,
          0,
          1,
          1,
          0,
          0,
          0,
          0,
          1,
          0,
          1,
          1,
          1,
          0,
          1,
          0,
          0,
          0,
          0,
          0,
          1,
          0,
          0,
          1,
          1,
          1,
          1,
          1,
          0,
          1,
          1,
          0,
          0,
          0,
          1,
          1,
          1,
          0,
          0,
          1,
          0,
          1,
          0,
          1,
          0,
          1,
          1,
          0,
          1,
          1,
          1,
          1,
          1,
          1,
          0,
          0,
          1,
          1,
          1,
          0,
          1,
          1,
          1,
          1,
          1,
          0,
          0,
          1,
          0,
          1,
          1,
          1,
          0,
          1,
          1,
          0,
          1,
          0,
          1,
          1,
          1,
          0,
          0,
          1,
          1,
          0,
          1,
          0,
          1,
          1,
          0,
          1,
          1,
          0,
          1,
          1,
          1,
          1,
          1,
          0,
          1,
          0,
          1,
          1,
          0,
          0,
          1,
          1,
          1,
          1,
          0,
          1,
          0,
          1,
          1,
          1,
          0,
          1,
          0,
          1,
          1,
          1,
          0,
          0,
          0,
          0,
          1,
          0,
          0,
          1,
          0,
          0,
          1,
          0,
          0,
          1,
          0,
          1,
          0,
          1,
          1,
          0,
          1,
          0,
          0,
          1,
          0,
          0,
          1,
          0,
          1,
          1,
          1,
          1,
          1,
          0,
          1,
          0,
          0,
          1,
          0,
          1,
          0,
          1,
          0,
          1,
          1,
          1,
          1,
          1,
          1,
          0,
          0,
          0,
          0
         ],
         "yaxis": "y"
        }
       ],
       "layout": {
        "legend": {
         "tracegroupgap": 0
        },
        "shapes": [
         {
          "line": {
           "color": "rgb(228,26,28)"
          },
          "path": "M0.0 0.25623327327418355 L 0.05025125628140704 0.25877255215764555 L 0.10050251256281408 0.26132815368689 L 0.15075376884422112 0.26390000819525866 L 0.20100502512562815 0.26648804224225037 L 0.2512562814070352 0.2690921785887635 L 0.30150753768844224 0.27171233617381235 L 0.35175879396984927 0.2743484300927606 L 0.4020100502512563 0.27700037157711177 L 0.45226130653266333 0.2796680679758988 L 0.5025125628140704 0.2823514227387113 L 0.5527638190954774 0.2850503354004009 L 0.6030150753768845 0.2877647015675029 L 0.6532663316582915 0.29049441290641087 L 0.7035175879396985 0.29323935713334215 L 0.7537688442211056 0.2959994180061297 L 0.8040201005025126 0.2987744753178738 L 0.8542713567839196 0.30156440489248876 L 0.9045226130653267 0.30436907858217527 L 0.9547738693467337 0.3071883642668516 L 1.0050251256281408 0.3100221258555709 L 1.0552763819095479 0.31287022328995495 L 1.105527638190955 0.3157325125496714 L 1.155778894472362 0.31860884565997744 L 1.206030150753769 0.3214990707013582 L 1.256281407035176 0.3244030318212779 L 1.306532663316583 0.3273205692480675 L 1.35678391959799 0.33025151930696633 L 1.407035175879397 0.33319571443833523 L 1.4572864321608041 0.33615298321805753 L 1.5075376884422111 0.3391231503801395 L 1.5577889447236182 0.3421060368415247 L 1.6080402010050252 0.3451014597291281 L 1.6582914572864322 0.34810923240910246 L 1.7085427135678393 0.35112916451833776 L 1.7587939698492463 0.35416106199820113 L 1.8090452261306533 0.35720472713051604 L 1.8592964824120604 0.3602599585757821 L 1.9095477386934674 0.36332655141363057 L 1.9597989949748744 0.36640429718551265 L 2.0100502512562817 0.36949298393961094 L 2.0603015075376887 0.3725923962779671 L 2.1105527638190957 0.375702315405811 L 2.1608040201005028 0.37882251918307974 L 2.21105527638191 0.38195278217810824 L 2.261306532663317 0.3850928757234744 L 2.311557788944724 0.3882425679739756 L 2.361809045226131 0.39140162396671585 L 2.412060301507538 0.3945698056832748 L 2.462311557788945 0.39774687211393406 L 2.512562814070352 0.40093257932392745 L 2.562814070351759 0.4041266805216846 L 2.613065326633166 0.4073289261290323 L 2.663316582914573 0.41053906385331695 L 2.71356783919598 0.4137568387614084 L 2.763819095477387 0.41698199335554376 L 2.814070351758794 0.4202142676509682 L 2.864321608040201 0.4234533992553264 L 2.9145728643216082 0.4266991234497566 L 2.9648241206030153 0.42995117327163856 L 3.0150753768844223 0.43320927959894234 L 3.0653266331658293 0.43647317123612495 L 3.1155778894472363 0.4397425750015189 L 3.1658291457286434 0.4430172158161551 L 3.2160804020100504 0.4462968167939615 L 3.2663316582914574 0.4495810993332758 L 3.3165829145728645 0.4528697832096101 L 3.3668341708542715 0.45616258666960346 L 3.4170854271356785 0.45945922652609666 L 3.4673366834170856 0.46275941825426165 L 3.5175879396984926 0.46606287608871916 L 3.5678391959798996 0.4693693131215724 L 3.6180904522613067 0.4726784414012879 L 3.6683417085427137 0.47598997203235205 L 3.7185929648241207 0.47930361527562804 L 3.7688442211055277 0.482619080649343 L 3.819095477386935 0.4859360770306282 L 3.869346733668342 0.4892543127575384 L 3.919597989949749 0.49257349573147385 L 3.969849246231156 0.49589333351992954 L 4.020100502512563 0.4992135334594944 L 4.07035175879397 0.5025338027590234 L 4.120603015075377 0.5058538486029048 L 4.170854271356784 0.5091733782543474 L 4.2211055276381915 0.5124920991586059 L 4.2713567839195985 0.5158097190460736 L 4.3216080402010055 0.5191259460351578 L 4.371859296482413 0.5224404887348671 L 4.42211055276382 0.5257530563470316 L 4.472361809045227 0.5290633587680784 L 4.522613065326634 0.5323711066902908 L 4.572864321608041 0.5356760117024724 L 4.623115577889448 0.5389777863899456 L 4.673366834170855 0.542276144433808 L 4.723618090452262 0.5455708007093764 L 4.773869346733669 0.5488614713837477 L 4.824120603015076 0.5521478740124045 L 4.874371859296483 0.555429727634798 L 4.92462311557789 0.5587067528688408 L 4.974874371859297 0.561978672004242 L 5.025125628140704 0.5652452090946213 L 5.075376884422111 0.5685060900483374 L 5.125628140703518 0.5717610427179702 L 5.175879396984925 0.5750097969883967 L 5.226130653266332 0.5782520848634006 L 5.276381909547739 0.5814876405507615 L 5.326633165829146 0.5847162005457684 L 5.376884422110553 0.5879375037131027 L 5.42713567839196 0.5911512913670427 L 5.477386934673367 0.5943573073499396 L 5.527638190954774 0.5975552981089183 L 5.577889447236181 0.6007450127707578 L 5.628140703517588 0.6039262032149102 L 5.678391959798995 0.6070986241446173 L 5.728643216080402 0.6102620331560852 L 5.778894472361809 0.6134161908056838 L 5.8291457286432165 0.6165608606751356 L 5.8793969849246235 0.6196958094346628 L 5.9296482412060305 0.6228208069040647 L 5.9798994974874375 0.625935626111696 L 6.030150753768845 0.6290400433513257 L 6.080402010050252 0.6321338382368495 L 6.130653266331659 0.6352167937548414 L 6.180904522613066 0.6382886963149206 L 6.231155778894473 0.6413493357979242 L 6.28140703517588 0.6443985056018706 L 6.331658291457287 0.6474360026857012 L 6.381909547738694 0.6504616276107945 L 6.432160804020101 0.6534751845802459 L 6.482412060301508 0.6564764814759084 L 6.532663316582915 0.6594653298931932 L 6.582914572864322 0.6624415451736302 L 6.633165829145729 0.665404946435192 L 6.683417085427136 0.6683553566003839 L 6.733668341708543 0.6712926024221101 L 6.78391959798995 0.6742165145073201 L 6.834170854271357 0.6771269273384511 L 6.884422110552764 0.6800236792926752 L 6.934673366834171 0.6829066126589681 L 6.984924623115578 0.6857755736530149 L 7.035175879396985 0.6886304124299705 L 7.085427135678392 0.6914709830950966 L 7.135678391959799 0.6942971437122945 L 7.185929648241206 0.6971087563105588 L 7.236180904522613 0.699905686888375 L 7.28643216080402 0.7026878054160892 L 7.336683417085427 0.7054549858362769 L 7.386934673366834 0.7082071060621384 L 7.437185929648241 0.710944047973955 L 7.4874371859296485 0.7136656974136338 L 7.5376884422110555 0.7163719441773762 L 7.5879396984924625 0.7190626820065041 L 7.63819095477387 0.7217378085764794 L 7.688442211055277 0.7243972254841503 L 7.738693467336684 0.7270408382332653 L 7.788944723618091 0.7296685562182912 L 7.839195979899498 0.7322802927065726 L 7.889447236180905 0.7348759648188753 L 7.939698492462312 0.7374554935083528 L 7.989949748743719 0.7400188035379753 L 8.040201005025127 0.7425658234564658 L 8.090452261306533 0.7450964855727823 L 8.14070351758794 0.7476107259291923 L 8.190954773869347 0.7501084842729782 L 8.241206030150755 0.7525897040268207 L 8.291457286432161 0.755054332257902 L 8.341708542713569 0.7575023196457725 L 8.391959798994975 0.7599336204490253 L 8.442211055276383 0.7623481924708246 L 8.492462311557789 0.7647459970233275 L 8.542713567839197 0.7671269988910485 L 8.592964824120603 0.7694911662932075 L 8.643216080402011 0.7718384708451078 L 8.693467336683417 0.7741688875185846 L 8.743718592964825 0.7764823946015732 L 8.793969849246231 0.778778973656834 L 8.84422110552764 0.781058609479884 L 8.894472361809045 0.7833212900561716 L 8.944723618090453 0.7855670065175437 L 8.99497487437186 0.7877957530980425 L 9.045226130653267 0.7900075270890747 L 9.095477386934673 0.7922023287939979 L 9.145728643216081 0.7943801614821608 L 9.195979899497488 0.7965410313424403 L 9.246231155778895 0.798684947436314 L 9.296482412060302 0.8008119216505084 L 9.34673366834171 0.8029219686492618 L 9.396984924623116 0.8050151058262376 L 9.447236180904524 0.8070913532561291 L 9.49748743718593 0.8091507336459888 L 9.547738693467338 0.8111932722863212 L 9.597989949748744 0.8132189970019735 L 9.648241206030152 0.8152279381028581 L 9.698492462311558 0.8172201283345408 L 9.748743718592966 0.8191956028287308 L 9.798994974874372 0.8211543990536992 L 9.84924623115578 0.8230965567646644 L 9.899497487437186 0.8250221179541682 L 9.949748743718594 0.8269311268024795 L 10.0 0.8288236296280486",
          "type": "path"
         }
        ],
        "template": {
         "data": {
          "bar": [
           {
            "error_x": {
             "color": "#2a3f5f"
            },
            "error_y": {
             "color": "#2a3f5f"
            },
            "marker": {
             "line": {
              "color": "white",
              "width": 0.5
             },
             "pattern": {
              "fillmode": "overlay",
              "size": 10,
              "solidity": 0.2
             }
            },
            "type": "bar"
           }
          ],
          "barpolar": [
           {
            "marker": {
             "line": {
              "color": "white",
              "width": 0.5
             },
             "pattern": {
              "fillmode": "overlay",
              "size": 10,
              "solidity": 0.2
             }
            },
            "type": "barpolar"
           }
          ],
          "box": [
           {
            "boxpoints": "outliers",
            "notched": false,
            "type": "box"
           }
          ],
          "carpet": [
           {
            "aaxis": {
             "endlinecolor": "#2a3f5f",
             "gridcolor": "#C8D4E3",
             "linecolor": "#C8D4E3",
             "minorgridcolor": "#C8D4E3",
             "startlinecolor": "#2a3f5f"
            },
            "baxis": {
             "endlinecolor": "#2a3f5f",
             "gridcolor": "#C8D4E3",
             "linecolor": "#C8D4E3",
             "minorgridcolor": "#C8D4E3",
             "startlinecolor": "#2a3f5f"
            },
            "type": "carpet"
           }
          ],
          "choropleth": [
           {
            "colorbar": {
             "outlinewidth": 0,
             "ticks": ""
            },
            "type": "choropleth"
           }
          ],
          "contour": [
           {
            "colorbar": {
             "outlinewidth": 0,
             "ticks": ""
            },
            "colorscale": [
             [
              0,
              "#0d0887"
             ],
             [
              0.1111111111111111,
              "#46039f"
             ],
             [
              0.2222222222222222,
              "#7201a8"
             ],
             [
              0.3333333333333333,
              "#9c179e"
             ],
             [
              0.4444444444444444,
              "#bd3786"
             ],
             [
              0.5555555555555556,
              "#d8576b"
             ],
             [
              0.6666666666666666,
              "#ed7953"
             ],
             [
              0.7777777777777778,
              "#fb9f3a"
             ],
             [
              0.8888888888888888,
              "#fdca26"
             ],
             [
              1,
              "#f0f921"
             ]
            ],
            "type": "contour"
           }
          ],
          "contourcarpet": [
           {
            "colorbar": {
             "outlinewidth": 0,
             "ticks": ""
            },
            "type": "contourcarpet"
           }
          ],
          "heatmap": [
           {
            "colorbar": {
             "outlinewidth": 0,
             "ticks": ""
            },
            "colorscale": [
             [
              0,
              "#0d0887"
             ],
             [
              0.1111111111111111,
              "#46039f"
             ],
             [
              0.2222222222222222,
              "#7201a8"
             ],
             [
              0.3333333333333333,
              "#9c179e"
             ],
             [
              0.4444444444444444,
              "#bd3786"
             ],
             [
              0.5555555555555556,
              "#d8576b"
             ],
             [
              0.6666666666666666,
              "#ed7953"
             ],
             [
              0.7777777777777778,
              "#fb9f3a"
             ],
             [
              0.8888888888888888,
              "#fdca26"
             ],
             [
              1,
              "#f0f921"
             ]
            ],
            "type": "heatmap"
           }
          ],
          "heatmapgl": [
           {
            "colorbar": {
             "outlinewidth": 0,
             "ticks": ""
            },
            "colorscale": [
             [
              0,
              "#0d0887"
             ],
             [
              0.1111111111111111,
              "#46039f"
             ],
             [
              0.2222222222222222,
              "#7201a8"
             ],
             [
              0.3333333333333333,
              "#9c179e"
             ],
             [
              0.4444444444444444,
              "#bd3786"
             ],
             [
              0.5555555555555556,
              "#d8576b"
             ],
             [
              0.6666666666666666,
              "#ed7953"
             ],
             [
              0.7777777777777778,
              "#fb9f3a"
             ],
             [
              0.8888888888888888,
              "#fdca26"
             ],
             [
              1,
              "#f0f921"
             ]
            ],
            "type": "heatmapgl"
           }
          ],
          "histogram": [
           {
            "marker": {
             "line": {
              "width": 1
             },
             "pattern": {
              "fillmode": "overlay",
              "size": 10,
              "solidity": 0.2
             }
            },
            "type": "histogram"
           }
          ],
          "histogram2d": [
           {
            "colorbar": {
             "outlinewidth": 0,
             "ticks": ""
            },
            "colorscale": [
             [
              0,
              "#0d0887"
             ],
             [
              0.1111111111111111,
              "#46039f"
             ],
             [
              0.2222222222222222,
              "#7201a8"
             ],
             [
              0.3333333333333333,
              "#9c179e"
             ],
             [
              0.4444444444444444,
              "#bd3786"
             ],
             [
              0.5555555555555556,
              "#d8576b"
             ],
             [
              0.6666666666666666,
              "#ed7953"
             ],
             [
              0.7777777777777778,
              "#fb9f3a"
             ],
             [
              0.8888888888888888,
              "#fdca26"
             ],
             [
              1,
              "#f0f921"
             ]
            ],
            "type": "histogram2d"
           }
          ],
          "histogram2dcontour": [
           {
            "colorbar": {
             "outlinewidth": 0,
             "ticks": ""
            },
            "colorscale": [
             [
              0,
              "#0d0887"
             ],
             [
              0.1111111111111111,
              "#46039f"
             ],
             [
              0.2222222222222222,
              "#7201a8"
             ],
             [
              0.3333333333333333,
              "#9c179e"
             ],
             [
              0.4444444444444444,
              "#bd3786"
             ],
             [
              0.5555555555555556,
              "#d8576b"
             ],
             [
              0.6666666666666666,
              "#ed7953"
             ],
             [
              0.7777777777777778,
              "#fb9f3a"
             ],
             [
              0.8888888888888888,
              "#fdca26"
             ],
             [
              1,
              "#f0f921"
             ]
            ],
            "type": "histogram2dcontour"
           }
          ],
          "mesh3d": [
           {
            "colorbar": {
             "outlinewidth": 0,
             "ticks": ""
            },
            "type": "mesh3d"
           }
          ],
          "parcoords": [
           {
            "line": {
             "colorbar": {
              "outlinewidth": 0,
              "ticks": ""
             }
            },
            "type": "parcoords"
           }
          ],
          "pie": [
           {
            "automargin": true,
            "type": "pie"
           }
          ],
          "scatter": [
           {
            "marker": {
             "colorbar": {
              "outlinewidth": 0,
              "ticks": ""
             },
             "opacity": 0.8
            },
            "type": "scatter"
           }
          ],
          "scatter3d": [
           {
            "line": {
             "colorbar": {
              "outlinewidth": 0,
              "ticks": ""
             }
            },
            "marker": {
             "colorbar": {
              "outlinewidth": 0,
              "ticks": ""
             },
             "opacity": 0.8
            },
            "type": "scatter3d"
           }
          ],
          "scattercarpet": [
           {
            "marker": {
             "colorbar": {
              "outlinewidth": 0,
              "ticks": ""
             }
            },
            "type": "scattercarpet"
           }
          ],
          "scattergeo": [
           {
            "marker": {
             "colorbar": {
              "outlinewidth": 0,
              "ticks": ""
             }
            },
            "type": "scattergeo"
           }
          ],
          "scattergl": [
           {
            "marker": {
             "colorbar": {
              "outlinewidth": 0,
              "ticks": ""
             }
            },
            "type": "scattergl"
           }
          ],
          "scattermapbox": [
           {
            "marker": {
             "colorbar": {
              "outlinewidth": 0,
              "ticks": ""
             }
            },
            "type": "scattermapbox"
           }
          ],
          "scatterpolar": [
           {
            "marker": {
             "colorbar": {
              "outlinewidth": 0,
              "ticks": ""
             }
            },
            "type": "scatterpolar"
           }
          ],
          "scatterpolargl": [
           {
            "marker": {
             "colorbar": {
              "outlinewidth": 0,
              "ticks": ""
             }
            },
            "type": "scatterpolargl"
           }
          ],
          "scatterternary": [
           {
            "marker": {
             "colorbar": {
              "outlinewidth": 0,
              "ticks": ""
             }
            },
            "type": "scatterternary"
           }
          ],
          "surface": [
           {
            "colorbar": {
             "outlinewidth": 0,
             "ticks": ""
            },
            "colorscale": [
             [
              0,
              "#0d0887"
             ],
             [
              0.1111111111111111,
              "#46039f"
             ],
             [
              0.2222222222222222,
              "#7201a8"
             ],
             [
              0.3333333333333333,
              "#9c179e"
             ],
             [
              0.4444444444444444,
              "#bd3786"
             ],
             [
              0.5555555555555556,
              "#d8576b"
             ],
             [
              0.6666666666666666,
              "#ed7953"
             ],
             [
              0.7777777777777778,
              "#fb9f3a"
             ],
             [
              0.8888888888888888,
              "#fdca26"
             ],
             [
              1,
              "#f0f921"
             ]
            ],
            "type": "surface"
           }
          ],
          "table": [
           {
            "cells": {
             "fill": {
              "color": "#EBF0F8"
             },
             "line": {
              "color": "white"
             }
            },
            "header": {
             "fill": {
              "color": "#C8D4E3"
             },
             "line": {
              "color": "white"
             }
            },
            "type": "table"
           }
          ]
         },
         "layout": {
          "annotationdefaults": {
           "arrowcolor": "#2a3f5f",
           "arrowhead": 0,
           "arrowwidth": 1
          },
          "autotypenumbers": "strict",
          "coloraxis": {
           "colorbar": {
            "outlinewidth": 0,
            "ticks": ""
           }
          },
          "colorscale": {
           "diverging": [
            [
             0,
             "#8e0152"
            ],
            [
             0.1,
             "#c51b7d"
            ],
            [
             0.2,
             "#de77ae"
            ],
            [
             0.3,
             "#f1b6da"
            ],
            [
             0.4,
             "#fde0ef"
            ],
            [
             0.5,
             "#f7f7f7"
            ],
            [
             0.6,
             "#e6f5d0"
            ],
            [
             0.7,
             "#b8e186"
            ],
            [
             0.8,
             "#7fbc41"
            ],
            [
             0.9,
             "#4d9221"
            ],
            [
             1,
             "#276419"
            ]
           ],
           "sequential": [
            [
             0,
             "#0d0887"
            ],
            [
             0.1111111111111111,
             "#46039f"
            ],
            [
             0.2222222222222222,
             "#7201a8"
            ],
            [
             0.3333333333333333,
             "#9c179e"
            ],
            [
             0.4444444444444444,
             "#bd3786"
            ],
            [
             0.5555555555555556,
             "#d8576b"
            ],
            [
             0.6666666666666666,
             "#ed7953"
            ],
            [
             0.7777777777777778,
             "#fb9f3a"
            ],
            [
             0.8888888888888888,
             "#fdca26"
            ],
            [
             1,
             "#f0f921"
            ]
           ],
           "sequentialminus": [
            [
             0,
             "#0d0887"
            ],
            [
             0.1111111111111111,
             "#46039f"
            ],
            [
             0.2222222222222222,
             "#7201a8"
            ],
            [
             0.3333333333333333,
             "#9c179e"
            ],
            [
             0.4444444444444444,
             "#bd3786"
            ],
            [
             0.5555555555555556,
             "#d8576b"
            ],
            [
             0.6666666666666666,
             "#ed7953"
            ],
            [
             0.7777777777777778,
             "#fb9f3a"
            ],
            [
             0.8888888888888888,
             "#fdca26"
            ],
            [
             1,
             "#f0f921"
            ]
           ]
          },
          "colorway": [
           "#636efa",
           "#EF553B",
           "#00cc96",
           "#ab63fa",
           "#FFA15A",
           "#19d3f3",
           "#FF6692",
           "#B6E880",
           "#FF97FF",
           "#FECB52"
          ],
          "font": {
           "color": "#2a3f5f"
          },
          "geo": {
           "bgcolor": "white",
           "lakecolor": "white",
           "landcolor": "white",
           "showlakes": true,
           "showland": true,
           "subunitcolor": "#C8D4E3"
          },
          "height": 400,
          "hoverlabel": {
           "align": "left"
          },
          "hovermode": "closest",
          "mapbox": {
           "style": "light"
          },
          "margin": {
           "b": 2,
           "l": 2,
           "r": 2,
           "t": 30
          },
          "paper_bgcolor": "white",
          "plot_bgcolor": "white",
          "polar": {
           "angularaxis": {
            "gridcolor": "#EBF0F8",
            "linecolor": "#EBF0F8",
            "ticks": ""
           },
           "bgcolor": "white",
           "radialaxis": {
            "gridcolor": "#EBF0F8",
            "linecolor": "#EBF0F8",
            "ticks": ""
           }
          },
          "scene": {
           "camera": {
            "eye": {
             "x": 1.5,
             "y": 1.5,
             "z": 0.1
            }
           },
           "xaxis": {
            "backgroundcolor": "white",
            "gridcolor": "#DFE8F3",
            "gridwidth": 2,
            "linecolor": "#EBF0F8",
            "showbackground": true,
            "ticks": "",
            "zerolinecolor": "#EBF0F8"
           },
           "yaxis": {
            "backgroundcolor": "white",
            "gridcolor": "#DFE8F3",
            "gridwidth": 2,
            "linecolor": "#EBF0F8",
            "showbackground": true,
            "ticks": "",
            "zerolinecolor": "#EBF0F8"
           },
           "zaxis": {
            "backgroundcolor": "white",
            "gridcolor": "#DFE8F3",
            "gridwidth": 2,
            "linecolor": "#EBF0F8",
            "showbackground": true,
            "ticks": "",
            "zerolinecolor": "#EBF0F8"
           }
          },
          "shapedefaults": {
           "line": {
            "color": "#2a3f5f"
           }
          },
          "ternary": {
           "aaxis": {
            "gridcolor": "#DFE8F3",
            "linecolor": "#A2B1C6",
            "ticks": ""
           },
           "baxis": {
            "gridcolor": "#DFE8F3",
            "linecolor": "#A2B1C6",
            "ticks": ""
           },
           "bgcolor": "white",
           "caxis": {
            "gridcolor": "#DFE8F3",
            "linecolor": "#A2B1C6",
            "ticks": ""
           }
          },
          "title": {
           "x": 0.5
          },
          "xaxis": {
           "automargin": true,
           "gridcolor": "#EBF0F8",
           "linecolor": "#EBF0F8",
           "linewidth": 2,
           "showline": true,
           "ticks": "",
           "title": {
            "standoff": 15
           },
           "zerolinecolor": "#EBF0F8",
           "zerolinewidth": 2
          },
          "yaxis": {
           "automargin": true,
           "gridcolor": "#EBF0F8",
           "linecolor": "#EBF0F8",
           "linewidth": 2,
           "showline": true,
           "ticks": "",
           "title": {
            "standoff": 15
           },
           "zerolinecolor": "#EBF0F8",
           "zerolinewidth": 2
          }
         }
        },
        "xaxis": {
         "anchor": "y",
         "domain": [
          0,
          1
         ],
         "title": {
          "text": "weak layers"
         }
        },
        "yaxis": {
         "anchor": "x",
         "domain": [
          0,
          1
         ],
         "title": {
          "text": "avalanche"
         }
        }
       }
      }
     },
     "metadata": {}
    }
   ],
   "metadata": {}
  },
  {
   "cell_type": "markdown",
   "source": [
    "It's hard to see the s-shape of the trendline, because the number of weak layers of snow, and the likelihood of an avalanche, are only weakly related. If we zoom out, we can get a slightly better view:"
   ],
   "metadata": {}
  },
  {
   "cell_type": "code",
   "execution_count": 18,
   "source": [
    "graphings.scatter_2D(test, label_x = \"weak_layers\", label_y=\"avalanche\", x_range=[-20,20], trendline=predict)"
   ],
   "outputs": [
    {
     "output_type": "display_data",
     "data": {
      "application/vnd.plotly.v1+json": {
       "config": {
        "plotlyServerURL": "https://plot.ly"
       },
       "data": [
        {
         "hovertemplate": "weak layers=%{x}<br>avalanche=%{y}<extra></extra>",
         "legendgroup": "",
         "marker": {
          "color": "#636efa",
          "size": 9,
          "symbol": "circle"
         },
         "mode": "markers",
         "name": "",
         "orientation": "v",
         "showlegend": false,
         "type": "scatter",
         "x": [
          9,
          7,
          5,
          5,
          7,
          0,
          10,
          7,
          2,
          3,
          1,
          1,
          8,
          6,
          5,
          3,
          7,
          6,
          4,
          4,
          9,
          0,
          2,
          0,
          7,
          5,
          2,
          2,
          5,
          2,
          3,
          5,
          8,
          4,
          7,
          9,
          1,
          9,
          5,
          7,
          10,
          5,
          9,
          9,
          0,
          2,
          7,
          1,
          0,
          3,
          3,
          2,
          8,
          2,
          0,
          9,
          5,
          2,
          1,
          3,
          4,
          8,
          4,
          6,
          7,
          9,
          2,
          6,
          1,
          7,
          5,
          3,
          5,
          1,
          7,
          0,
          1,
          9,
          7,
          2,
          5,
          1,
          2,
          6,
          9,
          2,
          1,
          6,
          4,
          10,
          1,
          9,
          1,
          7,
          8,
          10,
          5,
          0,
          4,
          4,
          6,
          1,
          9,
          4,
          5,
          7,
          3,
          8,
          9,
          8,
          0,
          4,
          3,
          7,
          2,
          4,
          7,
          0,
          10,
          3,
          10,
          5,
          1,
          0,
          0,
          0,
          6,
          3,
          7,
          0,
          0,
          1,
          1,
          5,
          6,
          10,
          4,
          2,
          5,
          2,
          9,
          7,
          9,
          0,
          10,
          10,
          5,
          4,
          7,
          6,
          3,
          9,
          6,
          6,
          9,
          9,
          3,
          1,
          4,
          1,
          6,
          4,
          9,
          7,
          3,
          6,
          0,
          1,
          9,
          2,
          1,
          9,
          4,
          8,
          0,
          1,
          0,
          1,
          2,
          7,
          7,
          2,
          6,
          2,
          0,
          9,
          9,
          4,
          4,
          7,
          7,
          0,
          8,
          6,
          1,
          10,
          9,
          8,
          3,
          6,
          0,
          7,
          4,
          2,
          1,
          6,
          5,
          7,
          0,
          4,
          0,
          2,
          0,
          4,
          7,
          9,
          5,
          4,
          10,
          4,
          10,
          1,
          3,
          5,
          2,
          8,
          2,
          8,
          4,
          10,
          5,
          7,
          9,
          0,
          2,
          4,
          1,
          10,
          9,
          6,
          9,
          10,
          1,
          4,
          4,
          2,
          1,
          6,
          3,
          6,
          10,
          2,
          3,
          9,
          6,
          8,
          4,
          7,
          8,
          0,
          5,
          1,
          6,
          4,
          6,
          7,
          8,
          9,
          1,
          10,
          1,
          3,
          2,
          0
         ],
         "xaxis": "x",
         "y": [
          0,
          0,
          0,
          0,
          1,
          1,
          1,
          1,
          1,
          1,
          0,
          0,
          1,
          1,
          0,
          0,
          0,
          0,
          0,
          0,
          0,
          1,
          0,
          1,
          1,
          1,
          0,
          1,
          1,
          0,
          0,
          1,
          0,
          1,
          1,
          1,
          1,
          1,
          1,
          0,
          1,
          1,
          1,
          1,
          0,
          1,
          1,
          0,
          1,
          1,
          1,
          0,
          1,
          0,
          0,
          0,
          0,
          0,
          0,
          0,
          1,
          1,
          0,
          0,
          1,
          1,
          0,
          0,
          1,
          1,
          0,
          0,
          0,
          0,
          1,
          0,
          1,
          1,
          1,
          0,
          1,
          0,
          1,
          1,
          1,
          0,
          0,
          1,
          0,
          1,
          0,
          0,
          0,
          0,
          0,
          1,
          1,
          1,
          1,
          0,
          0,
          1,
          1,
          0,
          0,
          0,
          0,
          1,
          0,
          1,
          1,
          1,
          0,
          1,
          0,
          0,
          0,
          0,
          0,
          1,
          0,
          0,
          1,
          1,
          1,
          1,
          1,
          0,
          1,
          1,
          0,
          0,
          0,
          1,
          1,
          1,
          0,
          0,
          1,
          0,
          1,
          0,
          1,
          0,
          1,
          1,
          0,
          1,
          1,
          1,
          1,
          1,
          1,
          0,
          0,
          1,
          1,
          1,
          0,
          1,
          1,
          1,
          1,
          1,
          0,
          0,
          1,
          0,
          1,
          1,
          1,
          0,
          1,
          1,
          0,
          1,
          0,
          1,
          1,
          1,
          0,
          0,
          1,
          1,
          0,
          1,
          0,
          1,
          1,
          0,
          1,
          1,
          0,
          1,
          1,
          1,
          1,
          1,
          0,
          1,
          0,
          1,
          1,
          0,
          0,
          1,
          1,
          1,
          1,
          0,
          1,
          0,
          1,
          1,
          1,
          0,
          1,
          0,
          1,
          1,
          1,
          0,
          0,
          0,
          0,
          1,
          0,
          0,
          1,
          0,
          0,
          1,
          0,
          0,
          1,
          0,
          1,
          0,
          1,
          1,
          0,
          1,
          0,
          0,
          1,
          0,
          0,
          1,
          0,
          1,
          1,
          1,
          1,
          1,
          0,
          1,
          0,
          0,
          1,
          0,
          1,
          0,
          1,
          0,
          1,
          1,
          1,
          1,
          1,
          1,
          0,
          0,
          0,
          0
         ],
         "yaxis": "y"
        }
       ],
       "layout": {
        "legend": {
         "tracegroupgap": 0
        },
        "shapes": [
         {
          "line": {
           "color": "rgb(228,26,28)"
          },
          "path": "M-20.0 0.0017410167186745274 L -19.798994974874372 0.0018358341256007951 L -19.597989949748744 0.001935805363996685 L -19.396984924623116 0.002041209451957933 L -19.195979899497488 0.002152340387791786 L -18.99497487437186 0.0022695079402709575 L -18.79396984924623 0.0023930384790020057 L -18.592964824120603 0.0025232758467659223 L -18.391959798994975 0.0026605822757539304 L -18.190954773869347 0.002805339349686513 L -17.98994974874372 0.0029579490138677287 L -17.78894472361809 0.0031188346352899673 L -17.587939698492463 0.0032884421149652864 L -17.386934673366834 0.0034672410547183174 L -17.185929648241206 0.0036557259807311884 L -16.984924623115578 0.003854417626182468 L -16.78391959798995 0.004063864275368875 L -16.582914572864322 0.004284643171738989 L -16.381909547738694 0.0045173619923019265 L -16.180904522613066 0.004762660390898743 L -15.979899497487438 0.005021211612839602 L -15.77889447236181 0.0052937241834129685 L -15.577889447236181 0.005580943672763229 L -15.376884422110553 0.0058836545396073955 L -15.175879396984925 0.0062026820562181475 L -14.974874371859297 0.006538894317036838 L -14.773869346733669 0.006893204333192852 L -14.57286432160804 0.00726657221509291 L -14.371859296482413 0.007660007445100667 L -14.170854271356784 0.008074571242151126 L -13.969849246231156 0.008511379019930498 L -13.768844221105528 0.008971602939996534 L -13.5678391959799 0.009456474560912049 L -13.366834170854272 0.009967287584109703 L -13.165829145728644 0.010505400696793642 L -12.964824120603016 0.011072240511707106 L -12.763819095477388 0.011669304603047511 L -12.56281407035176 0.012298164637185142 L -12.361809045226131 0.012960469596130154 L -12.160804020100503 0.013657949090887094 L -11.959798994974873 0.014392416760927541 L -11.758793969849245 0.015165773754991263 L -11.557788944723617 0.01598001228728317 L -11.356783919597989 0.016837219261858452 L -11.15577889447236 0.017739579956570682 L -10.954773869346733 0.018689381756385542 L -10.753768844221105 0.019689017924125706 L -10.552763819095476 0.02074099139479916 L -10.351758793969848 0.021847918577561538 L -10.15075376884422 0.023012533147062433 L -9.949748743718592 0.024237689803415407 L -9.748743718592964 0.025526367977301134 L -9.547738693467336 0.0268816754537539 L -9.346733668341708 0.028306851884985954 L -9.14572864321608 0.02980527215916582 L -8.944723618090451 0.03138044958838202 L -8.743718592964823 0.03303603887509269 L -8.542713567839195 0.034775838812185336 L -8.341708542713567 0.03660379466735894 L -8.140703517587939 0.03852400019790225 L -7.939698492462311 0.04054069923709775 L -7.738693467336683 0.04265828678845342 L -7.537688442211055 0.044881309558788746 L -7.3366834170854265 0.047214465855918444 L -7.135678391959798 0.049662604771340185 L -6.93467336683417 0.0522307245630056 L -6.733668341708542 0.05492397014801344 L -6.532663316582914 0.057747629610002474 L -6.331658291457286 0.06070712962124539 L -6.130653266331658 0.06380802967507691 L -5.92964824120603 0.06705601502047269 L -5.7286432160804015 0.07045688818748441 L -5.527638190954773 0.07401655899001738 L -5.326633165829145 0.07774103289129543 L -5.125628140703517 0.08163639761752046 L -4.924623115577889 0.08570880790692398 L -4.723618090452261 0.08996446828487699 L -4.522613065326633 0.09440961376123302 L -4.321608040201005 0.09905048835388994 L -4.1206030150753765 0.10389332135295137 L -3.9195979899497466 0.10894430125310325 L -3.7185929648241185 0.11420954729816937 L -3.5175879396984904 0.11969507860149682 L -3.3165829145728623 0.12540678082906523 L -3.115577889447234 0.1313503704591757 L -2.914572864321606 0.1375313566633663 L -2.713567839195978 0.14395500088785862 L -2.5125628140703498 0.1506262742533215 L -2.3115577889447216 0.15754981293288978 L -2.1105527638190935 0.16472987171393344 L -1.9095477386934654 0.1721702759976375 L -1.7085427135678373 0.17987437254147476 L -1.5075376884422091 0.18784497930243524 L -1.306532663316581 0.19608433479254805 L -1.105527638190953 0.2045940474117593 L -0.9045226130653248 0.21337504527542384 L -0.7035175879396967 0.22242752710317207 L -0.5025125628140685 0.23175091478125398 L -0.3015075376884404 0.2413438082500442 L -0.10050251256281229 0.2512039434005573 L 0.10050251256281584 0.26132815368689005 L 0.30150753768844396 0.27171233617381246 L 0.5025125628140721 0.28235142273871133 L 0.7035175879397002 0.2932393571333422 L 0.9045226130653283 0.3043690785821754 L 1.1055276381909565 0.3157325125496714 L 1.3065326633165846 0.3273205692480676 L 1.5075376884422127 0.3391231503801396 L 1.7085427135678408 0.3511291645183378 L 1.909547738693469 0.3633265514136307 L 2.110552763819097 0.3757023154058111 L 2.311557788944725 0.38824256797397577 L 2.5125628140703533 0.40093257932392756 L 2.7135678391959814 0.41375683876140845 L 2.9145728643216096 0.42669912344975663 L 3.1155778894472377 0.439742575001519 L 3.316582914572866 0.45286978320961024 L 3.517587939698494 0.46606287608871927 L 3.718592964824122 0.47930361527562815 L 3.91959798994975 0.49257349573147396 L 4.120603015075378 0.5058538486029049 L 4.321608040201006 0.5191259460351578 L 4.5226130653266345 0.5323711066902908 L 4.723618090452263 0.5455708007093766 L 4.924623115577891 0.5587067528688408 L 5.125628140703519 0.5717610427179705 L 5.326633165829147 0.5847162005457686 L 5.527638190954775 0.5975552981089183 L 5.728643216080403 0.6102620331560853 L 5.929648241206031 0.6228208069040647 L 6.1306532663316595 0.6352167937548415 L 6.331658291457288 0.6474360026857012 L 6.532663316582916 0.6594653298931933 L 6.733668341708544 0.6712926024221102 L 6.934673366834172 0.6829066126589681 L 7.1356783919598 0.6942971437122946 L 7.336683417085428 0.705454985836277 L 7.537688442211056 0.7163719441773763 L 7.7386934673366845 0.7270408382332654 L 7.939698492462313 0.7374554935083529 L 8.14070351758794 0.7476107259291923 L 8.341708542713569 0.7575023196457725 L 8.542713567839197 0.7671269988910485 L 8.743718592964825 0.7764823946015732 L 8.944723618090453 0.7855670065175437 L 9.145728643216081 0.7943801614821608 L 9.34673366834171 0.8029219686492618 L 9.547738693467338 0.8111932722863212 L 9.748743718592966 0.8191956028287308 L 9.949748743718594 0.8269311268024795 L 10.150753768844222 0.8344025961876135 L 10.35175879396985 0.8416132977457663 L 10.552763819095478 0.8485670027830959 L 10.753768844221106 0.8552679177665351 L 10.954773869346734 0.861720636157547 L 11.155778894472363 0.8679300917746438 L 11.35678391959799 0.8739015139446527 L 11.557788944723619 0.8796403846538328 L 11.758793969849247 0.8851523978639991 L 11.959798994974875 0.8904434211162516 L 12.160804020100507 0.8955194595059668 L 12.361809045226131 0.9003866220776056 L 12.562814070351763 0.9050510906566392 L 12.763819095477388 0.9095190911084783 L 12.96482412060302 0.9137968669906271 L 13.165829145728644 0.9178906555441722 L 13.366834170854275 0.9218066659539956 L 13.5678391959799 0.9255510597935034 L 13.768844221105532 0.9291299335589498 L 13.969849246231156 0.9325493031903264 L 14.170854271356788 0.9358150904700299 L 14.371859296482413 0.9389331111868126 L 14.572864321608044 0.9419090649506429 L 14.773869346733669 0.9447485265437645 L 14.9748743718593 0.9474569386942494 L 15.175879396984925 0.9500396061604308 L 15.376884422110557 0.95250169101763 L 15.577889447236181 0.9548482090423226 L 15.778894472361813 0.9570840270932063 L 15.979899497487438 0.9592138613933643 L 16.18090452261307 0.961242276622752 L 16.381909547738694 0.9631736857354609 L 16.582914572864325 0.9650123504215317 L 16.78391959798995 0.9667623821384291 L 16.98492462311558 0.9684277436425887 L 17.185929648241206 0.9700122509566229 L 17.386934673366838 0.9715195757128392 L 17.587939698492463 0.9729532478185733 L 17.788944723618094 0.9743166583935161 L 17.98994974874372 0.9756130629336467 L 18.19095477386935 0.9768455846605887 L 18.391959798994975 0.9780172180191731 L 18.592964824120607 0.9791308322896943 L 18.79396984924623 0.9801891752848227 L 18.994974874371863 0.9811948771043608 L 19.195979899497488 0.9821504539240051 L 19.39698492462312 0.9830583117970537 L 19.597989949748744 0.9839207504505123 L 19.798994974874375 0.9847399670593958 L 20.0 0.9855180599851319",
          "type": "path"
         }
        ],
        "template": {
         "data": {
          "bar": [
           {
            "error_x": {
             "color": "#2a3f5f"
            },
            "error_y": {
             "color": "#2a3f5f"
            },
            "marker": {
             "line": {
              "color": "white",
              "width": 0.5
             },
             "pattern": {
              "fillmode": "overlay",
              "size": 10,
              "solidity": 0.2
             }
            },
            "type": "bar"
           }
          ],
          "barpolar": [
           {
            "marker": {
             "line": {
              "color": "white",
              "width": 0.5
             },
             "pattern": {
              "fillmode": "overlay",
              "size": 10,
              "solidity": 0.2
             }
            },
            "type": "barpolar"
           }
          ],
          "box": [
           {
            "boxpoints": "outliers",
            "notched": false,
            "type": "box"
           }
          ],
          "carpet": [
           {
            "aaxis": {
             "endlinecolor": "#2a3f5f",
             "gridcolor": "#C8D4E3",
             "linecolor": "#C8D4E3",
             "minorgridcolor": "#C8D4E3",
             "startlinecolor": "#2a3f5f"
            },
            "baxis": {
             "endlinecolor": "#2a3f5f",
             "gridcolor": "#C8D4E3",
             "linecolor": "#C8D4E3",
             "minorgridcolor": "#C8D4E3",
             "startlinecolor": "#2a3f5f"
            },
            "type": "carpet"
           }
          ],
          "choropleth": [
           {
            "colorbar": {
             "outlinewidth": 0,
             "ticks": ""
            },
            "type": "choropleth"
           }
          ],
          "contour": [
           {
            "colorbar": {
             "outlinewidth": 0,
             "ticks": ""
            },
            "colorscale": [
             [
              0,
              "#0d0887"
             ],
             [
              0.1111111111111111,
              "#46039f"
             ],
             [
              0.2222222222222222,
              "#7201a8"
             ],
             [
              0.3333333333333333,
              "#9c179e"
             ],
             [
              0.4444444444444444,
              "#bd3786"
             ],
             [
              0.5555555555555556,
              "#d8576b"
             ],
             [
              0.6666666666666666,
              "#ed7953"
             ],
             [
              0.7777777777777778,
              "#fb9f3a"
             ],
             [
              0.8888888888888888,
              "#fdca26"
             ],
             [
              1,
              "#f0f921"
             ]
            ],
            "type": "contour"
           }
          ],
          "contourcarpet": [
           {
            "colorbar": {
             "outlinewidth": 0,
             "ticks": ""
            },
            "type": "contourcarpet"
           }
          ],
          "heatmap": [
           {
            "colorbar": {
             "outlinewidth": 0,
             "ticks": ""
            },
            "colorscale": [
             [
              0,
              "#0d0887"
             ],
             [
              0.1111111111111111,
              "#46039f"
             ],
             [
              0.2222222222222222,
              "#7201a8"
             ],
             [
              0.3333333333333333,
              "#9c179e"
             ],
             [
              0.4444444444444444,
              "#bd3786"
             ],
             [
              0.5555555555555556,
              "#d8576b"
             ],
             [
              0.6666666666666666,
              "#ed7953"
             ],
             [
              0.7777777777777778,
              "#fb9f3a"
             ],
             [
              0.8888888888888888,
              "#fdca26"
             ],
             [
              1,
              "#f0f921"
             ]
            ],
            "type": "heatmap"
           }
          ],
          "heatmapgl": [
           {
            "colorbar": {
             "outlinewidth": 0,
             "ticks": ""
            },
            "colorscale": [
             [
              0,
              "#0d0887"
             ],
             [
              0.1111111111111111,
              "#46039f"
             ],
             [
              0.2222222222222222,
              "#7201a8"
             ],
             [
              0.3333333333333333,
              "#9c179e"
             ],
             [
              0.4444444444444444,
              "#bd3786"
             ],
             [
              0.5555555555555556,
              "#d8576b"
             ],
             [
              0.6666666666666666,
              "#ed7953"
             ],
             [
              0.7777777777777778,
              "#fb9f3a"
             ],
             [
              0.8888888888888888,
              "#fdca26"
             ],
             [
              1,
              "#f0f921"
             ]
            ],
            "type": "heatmapgl"
           }
          ],
          "histogram": [
           {
            "marker": {
             "line": {
              "width": 1
             },
             "pattern": {
              "fillmode": "overlay",
              "size": 10,
              "solidity": 0.2
             }
            },
            "type": "histogram"
           }
          ],
          "histogram2d": [
           {
            "colorbar": {
             "outlinewidth": 0,
             "ticks": ""
            },
            "colorscale": [
             [
              0,
              "#0d0887"
             ],
             [
              0.1111111111111111,
              "#46039f"
             ],
             [
              0.2222222222222222,
              "#7201a8"
             ],
             [
              0.3333333333333333,
              "#9c179e"
             ],
             [
              0.4444444444444444,
              "#bd3786"
             ],
             [
              0.5555555555555556,
              "#d8576b"
             ],
             [
              0.6666666666666666,
              "#ed7953"
             ],
             [
              0.7777777777777778,
              "#fb9f3a"
             ],
             [
              0.8888888888888888,
              "#fdca26"
             ],
             [
              1,
              "#f0f921"
             ]
            ],
            "type": "histogram2d"
           }
          ],
          "histogram2dcontour": [
           {
            "colorbar": {
             "outlinewidth": 0,
             "ticks": ""
            },
            "colorscale": [
             [
              0,
              "#0d0887"
             ],
             [
              0.1111111111111111,
              "#46039f"
             ],
             [
              0.2222222222222222,
              "#7201a8"
             ],
             [
              0.3333333333333333,
              "#9c179e"
             ],
             [
              0.4444444444444444,
              "#bd3786"
             ],
             [
              0.5555555555555556,
              "#d8576b"
             ],
             [
              0.6666666666666666,
              "#ed7953"
             ],
             [
              0.7777777777777778,
              "#fb9f3a"
             ],
             [
              0.8888888888888888,
              "#fdca26"
             ],
             [
              1,
              "#f0f921"
             ]
            ],
            "type": "histogram2dcontour"
           }
          ],
          "mesh3d": [
           {
            "colorbar": {
             "outlinewidth": 0,
             "ticks": ""
            },
            "type": "mesh3d"
           }
          ],
          "parcoords": [
           {
            "line": {
             "colorbar": {
              "outlinewidth": 0,
              "ticks": ""
             }
            },
            "type": "parcoords"
           }
          ],
          "pie": [
           {
            "automargin": true,
            "type": "pie"
           }
          ],
          "scatter": [
           {
            "marker": {
             "colorbar": {
              "outlinewidth": 0,
              "ticks": ""
             },
             "opacity": 0.8
            },
            "type": "scatter"
           }
          ],
          "scatter3d": [
           {
            "line": {
             "colorbar": {
              "outlinewidth": 0,
              "ticks": ""
             }
            },
            "marker": {
             "colorbar": {
              "outlinewidth": 0,
              "ticks": ""
             },
             "opacity": 0.8
            },
            "type": "scatter3d"
           }
          ],
          "scattercarpet": [
           {
            "marker": {
             "colorbar": {
              "outlinewidth": 0,
              "ticks": ""
             }
            },
            "type": "scattercarpet"
           }
          ],
          "scattergeo": [
           {
            "marker": {
             "colorbar": {
              "outlinewidth": 0,
              "ticks": ""
             }
            },
            "type": "scattergeo"
           }
          ],
          "scattergl": [
           {
            "marker": {
             "colorbar": {
              "outlinewidth": 0,
              "ticks": ""
             }
            },
            "type": "scattergl"
           }
          ],
          "scattermapbox": [
           {
            "marker": {
             "colorbar": {
              "outlinewidth": 0,
              "ticks": ""
             }
            },
            "type": "scattermapbox"
           }
          ],
          "scatterpolar": [
           {
            "marker": {
             "colorbar": {
              "outlinewidth": 0,
              "ticks": ""
             }
            },
            "type": "scatterpolar"
           }
          ],
          "scatterpolargl": [
           {
            "marker": {
             "colorbar": {
              "outlinewidth": 0,
              "ticks": ""
             }
            },
            "type": "scatterpolargl"
           }
          ],
          "scatterternary": [
           {
            "marker": {
             "colorbar": {
              "outlinewidth": 0,
              "ticks": ""
             }
            },
            "type": "scatterternary"
           }
          ],
          "surface": [
           {
            "colorbar": {
             "outlinewidth": 0,
             "ticks": ""
            },
            "colorscale": [
             [
              0,
              "#0d0887"
             ],
             [
              0.1111111111111111,
              "#46039f"
             ],
             [
              0.2222222222222222,
              "#7201a8"
             ],
             [
              0.3333333333333333,
              "#9c179e"
             ],
             [
              0.4444444444444444,
              "#bd3786"
             ],
             [
              0.5555555555555556,
              "#d8576b"
             ],
             [
              0.6666666666666666,
              "#ed7953"
             ],
             [
              0.7777777777777778,
              "#fb9f3a"
             ],
             [
              0.8888888888888888,
              "#fdca26"
             ],
             [
              1,
              "#f0f921"
             ]
            ],
            "type": "surface"
           }
          ],
          "table": [
           {
            "cells": {
             "fill": {
              "color": "#EBF0F8"
             },
             "line": {
              "color": "white"
             }
            },
            "header": {
             "fill": {
              "color": "#C8D4E3"
             },
             "line": {
              "color": "white"
             }
            },
            "type": "table"
           }
          ]
         },
         "layout": {
          "annotationdefaults": {
           "arrowcolor": "#2a3f5f",
           "arrowhead": 0,
           "arrowwidth": 1
          },
          "autotypenumbers": "strict",
          "coloraxis": {
           "colorbar": {
            "outlinewidth": 0,
            "ticks": ""
           }
          },
          "colorscale": {
           "diverging": [
            [
             0,
             "#8e0152"
            ],
            [
             0.1,
             "#c51b7d"
            ],
            [
             0.2,
             "#de77ae"
            ],
            [
             0.3,
             "#f1b6da"
            ],
            [
             0.4,
             "#fde0ef"
            ],
            [
             0.5,
             "#f7f7f7"
            ],
            [
             0.6,
             "#e6f5d0"
            ],
            [
             0.7,
             "#b8e186"
            ],
            [
             0.8,
             "#7fbc41"
            ],
            [
             0.9,
             "#4d9221"
            ],
            [
             1,
             "#276419"
            ]
           ],
           "sequential": [
            [
             0,
             "#0d0887"
            ],
            [
             0.1111111111111111,
             "#46039f"
            ],
            [
             0.2222222222222222,
             "#7201a8"
            ],
            [
             0.3333333333333333,
             "#9c179e"
            ],
            [
             0.4444444444444444,
             "#bd3786"
            ],
            [
             0.5555555555555556,
             "#d8576b"
            ],
            [
             0.6666666666666666,
             "#ed7953"
            ],
            [
             0.7777777777777778,
             "#fb9f3a"
            ],
            [
             0.8888888888888888,
             "#fdca26"
            ],
            [
             1,
             "#f0f921"
            ]
           ],
           "sequentialminus": [
            [
             0,
             "#0d0887"
            ],
            [
             0.1111111111111111,
             "#46039f"
            ],
            [
             0.2222222222222222,
             "#7201a8"
            ],
            [
             0.3333333333333333,
             "#9c179e"
            ],
            [
             0.4444444444444444,
             "#bd3786"
            ],
            [
             0.5555555555555556,
             "#d8576b"
            ],
            [
             0.6666666666666666,
             "#ed7953"
            ],
            [
             0.7777777777777778,
             "#fb9f3a"
            ],
            [
             0.8888888888888888,
             "#fdca26"
            ],
            [
             1,
             "#f0f921"
            ]
           ]
          },
          "colorway": [
           "#636efa",
           "#EF553B",
           "#00cc96",
           "#ab63fa",
           "#FFA15A",
           "#19d3f3",
           "#FF6692",
           "#B6E880",
           "#FF97FF",
           "#FECB52"
          ],
          "font": {
           "color": "#2a3f5f"
          },
          "geo": {
           "bgcolor": "white",
           "lakecolor": "white",
           "landcolor": "white",
           "showlakes": true,
           "showland": true,
           "subunitcolor": "#C8D4E3"
          },
          "height": 400,
          "hoverlabel": {
           "align": "left"
          },
          "hovermode": "closest",
          "mapbox": {
           "style": "light"
          },
          "margin": {
           "b": 2,
           "l": 2,
           "r": 2,
           "t": 30
          },
          "paper_bgcolor": "white",
          "plot_bgcolor": "white",
          "polar": {
           "angularaxis": {
            "gridcolor": "#EBF0F8",
            "linecolor": "#EBF0F8",
            "ticks": ""
           },
           "bgcolor": "white",
           "radialaxis": {
            "gridcolor": "#EBF0F8",
            "linecolor": "#EBF0F8",
            "ticks": ""
           }
          },
          "scene": {
           "camera": {
            "eye": {
             "x": 1.5,
             "y": 1.5,
             "z": 0.1
            }
           },
           "xaxis": {
            "backgroundcolor": "white",
            "gridcolor": "#DFE8F3",
            "gridwidth": 2,
            "linecolor": "#EBF0F8",
            "showbackground": true,
            "ticks": "",
            "zerolinecolor": "#EBF0F8"
           },
           "yaxis": {
            "backgroundcolor": "white",
            "gridcolor": "#DFE8F3",
            "gridwidth": 2,
            "linecolor": "#EBF0F8",
            "showbackground": true,
            "ticks": "",
            "zerolinecolor": "#EBF0F8"
           },
           "zaxis": {
            "backgroundcolor": "white",
            "gridcolor": "#DFE8F3",
            "gridwidth": 2,
            "linecolor": "#EBF0F8",
            "showbackground": true,
            "ticks": "",
            "zerolinecolor": "#EBF0F8"
           }
          },
          "shapedefaults": {
           "line": {
            "color": "#2a3f5f"
           }
          },
          "ternary": {
           "aaxis": {
            "gridcolor": "#DFE8F3",
            "linecolor": "#A2B1C6",
            "ticks": ""
           },
           "baxis": {
            "gridcolor": "#DFE8F3",
            "linecolor": "#A2B1C6",
            "ticks": ""
           },
           "bgcolor": "white",
           "caxis": {
            "gridcolor": "#DFE8F3",
            "linecolor": "#A2B1C6",
            "ticks": ""
           }
          },
          "title": {
           "x": 0.5
          },
          "xaxis": {
           "automargin": true,
           "gridcolor": "#EBF0F8",
           "linecolor": "#EBF0F8",
           "linewidth": 2,
           "showline": true,
           "ticks": "",
           "title": {
            "standoff": 15
           },
           "zerolinecolor": "#EBF0F8",
           "zerolinewidth": 2
          },
          "yaxis": {
           "automargin": true,
           "gridcolor": "#EBF0F8",
           "linecolor": "#EBF0F8",
           "linewidth": 2,
           "showline": true,
           "ticks": "",
           "title": {
            "standoff": 15
           },
           "zerolinecolor": "#EBF0F8",
           "zerolinewidth": 2
          }
         }
        },
        "xaxis": {
         "anchor": "y",
         "domain": [
          0,
          1
         ],
         "range": [
          -20,
          20
         ],
         "title": {
          "text": "weak layers"
         }
        },
        "yaxis": {
         "anchor": "x",
         "domain": [
          0,
          1
         ],
         "title": {
          "text": "avalanche"
         }
        }
       }
      }
     },
     "metadata": {}
    }
   ],
   "metadata": {}
  },
  {
   "cell_type": "markdown",
   "source": [
    "Checking the earlier graph, we can see that our model will predict an avalanche when the number of weak layers of snow is greater than 5. We can tell this because the value of the line is `0.5` at `x=5` (remember that in the previous unit we defined a *classifier threshold*, so that probabilities over `0.5` would be classified as `True`).\r\n",
    "\r\n",
    "How this relates with points is hard to tell - the points overlap and so it is difficult to see how many points are at 0 or at 1. How else can we assess the model?\r\n",
    "\r\n",
    "## Assess with cost function\r\n",
    "\r\n",
    "Let's assess our model with a log-loss cost function.\r\n"
   ],
   "metadata": {}
  },
  {
   "cell_type": "code",
   "execution_count": 19,
   "source": [
    "from sklearn.metrics import log_loss\r\n",
    "\r\n",
    "# Make predictions fro test set\r\n",
    "predictions = model.predict(test)\r\n",
    "\r\n",
    "# Calculate log loss\r\n",
    "print(\"Log loss\", log_loss(test.avalanche,predictions))"
   ],
   "outputs": [
    {
     "output_type": "stream",
     "name": "stdout",
     "text": [
      "Log loss 0.6803588691541006\n"
     ]
    }
   ],
   "metadata": {}
  },
  {
   "cell_type": "markdown",
   "source": [
    "0.66 - what does that mean? This could be useful to compare two different models, but it's hard to get a grasp on exactly what this means for real-world performance. \r\n",
    "\r\n",
    "## Assess accuracy\r\n",
    "\r\n",
    "Let's instead assess _accuracy_. Accuracy refers to the _proportion of predictions the model got correct_, after predictions are converted from probabilities to `avalanche` or `no-avalanche`.\r\n",
    "\r\n",
    "The first thing to do is convert probabilities to hard predictions:"
   ],
   "metadata": {}
  },
  {
   "cell_type": "code",
   "execution_count": 20,
   "source": [
    "predictions"
   ],
   "outputs": [
    {
     "output_type": "execute_result",
     "data": {
      "text/plain": [
       "596     0.788018\n",
       "341     0.686634\n",
       "1089    0.563613\n",
       "547     0.563613\n",
       "131     0.686634\n",
       "          ...   \n",
       "748     0.828824\n",
       "443     0.309738\n",
       "378     0.432231\n",
       "983     0.368874\n",
       "216     0.256233\n",
       "Length: 274, dtype: float64"
      ]
     },
     "metadata": {},
     "execution_count": 20
    }
   ],
   "metadata": {}
  },
  {
   "cell_type": "code",
   "execution_count": 21,
   "source": [
    "import numpy\r\n",
    "\r\n",
    "# Print a few predictions before we convert them to categories\r\n",
    "print(f\"First three predictions (probabilities): {predictions.iloc[0]}, {predictions.iloc[1]}, {predictions.iloc[2]}\")\r\n",
    "\r\n",
    "# convert to absolute values\r\n",
    "avalanche_predicted = predictions >= 0.5\r\n",
    "print('prediction conditions true or false', avalanche_predicted)"
   ],
   "outputs": [
    {
     "output_type": "stream",
     "name": "stdout",
     "text": [
      "First three predictions (probabilities): 0.788017694282122, 0.6866335148335762, 0.5636126304803127\n",
      "prediction conditions true or false 596      True\n",
      "341      True\n",
      "1089     True\n",
      "547      True\n",
      "131      True\n",
      "        ...  \n",
      "748      True\n",
      "443     False\n",
      "378     False\n",
      "983     False\n",
      "216     False\n",
      "Length: 274, dtype: bool\n"
     ]
    }
   ],
   "metadata": {}
  },
  {
   "cell_type": "code",
   "execution_count": 22,
   "source": [
    "\r\n",
    "# Print a few predictions converted into categories\r\n",
    "print(f\"First three predictions (categories): {avalanche_predicted.iloc[0]}, {avalanche_predicted.iloc[1]}, {avalanche_predicted.iloc[2]}\")"
   ],
   "outputs": [
    {
     "output_type": "stream",
     "name": "stdout",
     "text": [
      "First three predictions (categories): True, True, True\n"
     ]
    }
   ],
   "metadata": {}
  },
  {
   "cell_type": "markdown",
   "source": [
    "Now we can calculate accuracy:"
   ],
   "metadata": {}
  },
  {
   "cell_type": "code",
   "execution_count": 23,
   "source": [
    "# Calculate what proportion were predicted correctly\r\n",
    "guess_was_correct = test.avalanche == avalanche_predicted\r\n",
    "accuracy = numpy.average(guess_was_correct)\r\n",
    "\r\n",
    "# Print the accuracy\r\n",
    "print(\"Accuracy for whole test dataset:\", accuracy)"
   ],
   "outputs": [
    {
     "output_type": "stream",
     "name": "stdout",
     "text": [
      "Accuracy for whole test dataset: 0.6167883211678832\n"
     ]
    }
   ],
   "metadata": {}
  },
  {
   "cell_type": "markdown",
   "source": [
    "It looks like it's predicting the correct answer 61% of the time. This is helpful information. What kind of mistakes is it making, though? Let's take a look at whether it is guessing avalanche when there are none (false positives), or failing to guess 'avalanche' when one actually occurs (false negative):"
   ],
   "metadata": {}
  },
  {
   "cell_type": "code",
   "execution_count": 24,
   "source": [
    "# False Positive: calculate how often it guessed avalanche when none actually occurred\r\n",
    "false_positive = numpy.average(numpy.logical_not(guess_was_correct) & test.avalanche)\r\n",
    "\r\n",
    "# False negative: calculate how often it guessed no avalanche, when one actually happened\r\n",
    "false_negative = numpy.average(numpy.logical_not(guess_was_correct) & numpy.logical_not(test.avalanche))\r\n",
    "\r\n",
    "\r\n",
    "print(f\"Wrongly predicted an avalanche {false_positive * 100}% of the time\")\r\n",
    "print(f\"Failed to predict avalanches {false_negative * 100}% of the time\")"
   ],
   "outputs": [
    {
     "output_type": "stream",
     "name": "stdout",
     "text": [
      "Wrongly predicted an avalanche 21.16788321167883% of the time\n",
      "Failed to predict avalanches 17.153284671532848% of the time\n"
     ]
    }
   ],
   "metadata": {}
  },
  {
   "cell_type": "markdown",
   "source": [
    "I think we can agree that's a lot more understandable than what the cost function or the graph!\r\n",
    "\r\n",
    "## Summary\r\n",
    "\r\n",
    "We've walked through different ways to assess a logistic regression model. We've seen that detailed summaries can provide rich information, but this can be difficult to digest. Metrics for these kinds of models also aren't necessarily intuitive or detailed enough to understand the model. With a little extra work, we can look at actual predictions versus actual outcomes and get an intuition for how the model might work in the real world."
   ],
   "metadata": {}
  }
 ],
 "metadata": {
  "orig_nbformat": 4,
  "language_info": {
   "name": "python",
   "version": "3.8.5",
   "mimetype": "text/x-python",
   "codemirror_mode": {
    "name": "ipython",
    "version": 3
   },
   "pygments_lexer": "ipython3",
   "nbconvert_exporter": "python",
   "file_extension": ".py"
  },
  "kernelspec": {
   "name": "python3",
   "display_name": "Python 3.8.5 64-bit ('gmsjupyter': conda)"
  },
  "interpreter": {
   "hash": "ee5b1961b968851897d385777546a8460e60e68665b80c1d435d77c6dd7fed66"
  }
 },
 "nbformat": 4,
 "nbformat_minor": 2
}