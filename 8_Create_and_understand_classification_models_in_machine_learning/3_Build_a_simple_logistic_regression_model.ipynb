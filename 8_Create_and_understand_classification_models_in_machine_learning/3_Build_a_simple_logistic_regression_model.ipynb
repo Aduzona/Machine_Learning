{
 "cells": [
  {
   "cell_type": "markdown",
   "source": [
    "# Exercise: Build a simple logistic regression model\r\n",
    "\r\n",
    "In this exercise, we'll fit a simple logistic regression model that will try to predict the chance of an avalanche. \r\n",
    "\r\n",
    "Recall that logistic regression fits an s-shaped curve to data, rather than a straight line, and we can use this to calculate a probability of a binary outcome.\r\n",
    "\r\n",
    "## Data visualization\r\n",
    "\r\n",
    "Let's start this exercise by loading in and having a look at our data:"
   ],
   "metadata": {}
  },
  {
   "cell_type": "code",
   "execution_count": 1,
   "source": [
    "import pandas\r\n",
    "\r\n",
    "#Import the data from the .csv file\r\n",
    "dataset = pandas.read_csv('avalanche.csv', delimiter=\"\\t\")\r\n",
    "\r\n",
    "#Let's have a look at the data\r\n",
    "dataset"
   ],
   "outputs": [
    {
     "output_type": "execute_result",
     "data": {
      "text/html": [
       "<div>\n",
       "<style scoped>\n",
       "    .dataframe tbody tr th:only-of-type {\n",
       "        vertical-align: middle;\n",
       "    }\n",
       "\n",
       "    .dataframe tbody tr th {\n",
       "        vertical-align: top;\n",
       "    }\n",
       "\n",
       "    .dataframe thead th {\n",
       "        text-align: right;\n",
       "    }\n",
       "</style>\n",
       "<table border=\"1\" class=\"dataframe\">\n",
       "  <thead>\n",
       "    <tr style=\"text-align: right;\">\n",
       "      <th></th>\n",
       "      <th>Unnamed: 0</th>\n",
       "      <th>avalanche</th>\n",
       "      <th>no_visitors</th>\n",
       "      <th>surface_hoar</th>\n",
       "      <th>fresh_thickness</th>\n",
       "      <th>wind</th>\n",
       "      <th>weak_layers</th>\n",
       "      <th>tracked_out</th>\n",
       "    </tr>\n",
       "  </thead>\n",
       "  <tbody>\n",
       "    <tr>\n",
       "      <th>0</th>\n",
       "      <td>0</td>\n",
       "      <td>0</td>\n",
       "      <td>4</td>\n",
       "      <td>3.900508</td>\n",
       "      <td>8.715485</td>\n",
       "      <td>6</td>\n",
       "      <td>9</td>\n",
       "      <td>0</td>\n",
       "    </tr>\n",
       "    <tr>\n",
       "      <th>1</th>\n",
       "      <td>1</td>\n",
       "      <td>0</td>\n",
       "      <td>9</td>\n",
       "      <td>1.477586</td>\n",
       "      <td>6.801417</td>\n",
       "      <td>30</td>\n",
       "      <td>0</td>\n",
       "      <td>0</td>\n",
       "    </tr>\n",
       "    <tr>\n",
       "      <th>2</th>\n",
       "      <td>2</td>\n",
       "      <td>1</td>\n",
       "      <td>3</td>\n",
       "      <td>3.236594</td>\n",
       "      <td>5.632457</td>\n",
       "      <td>8</td>\n",
       "      <td>8</td>\n",
       "      <td>1</td>\n",
       "    </tr>\n",
       "    <tr>\n",
       "      <th>3</th>\n",
       "      <td>3</td>\n",
       "      <td>0</td>\n",
       "      <td>0</td>\n",
       "      <td>3.244283</td>\n",
       "      <td>9.348871</td>\n",
       "      <td>12</td>\n",
       "      <td>10</td>\n",
       "      <td>0</td>\n",
       "    </tr>\n",
       "    <tr>\n",
       "      <th>4</th>\n",
       "      <td>4</td>\n",
       "      <td>1</td>\n",
       "      <td>2</td>\n",
       "      <td>5.196741</td>\n",
       "      <td>3.782315</td>\n",
       "      <td>4</td>\n",
       "      <td>9</td>\n",
       "      <td>1</td>\n",
       "    </tr>\n",
       "    <tr>\n",
       "      <th>...</th>\n",
       "      <td>...</td>\n",
       "      <td>...</td>\n",
       "      <td>...</td>\n",
       "      <td>...</td>\n",
       "      <td>...</td>\n",
       "      <td>...</td>\n",
       "      <td>...</td>\n",
       "      <td>...</td>\n",
       "    </tr>\n",
       "    <tr>\n",
       "      <th>1090</th>\n",
       "      <td>1090</td>\n",
       "      <td>1</td>\n",
       "      <td>1</td>\n",
       "      <td>2.182905</td>\n",
       "      <td>6.109184</td>\n",
       "      <td>3</td>\n",
       "      <td>9</td>\n",
       "      <td>0</td>\n",
       "    </tr>\n",
       "    <tr>\n",
       "      <th>1091</th>\n",
       "      <td>1091</td>\n",
       "      <td>0</td>\n",
       "      <td>2</td>\n",
       "      <td>3.718231</td>\n",
       "      <td>10.426100</td>\n",
       "      <td>28</td>\n",
       "      <td>0</td>\n",
       "      <td>0</td>\n",
       "    </tr>\n",
       "    <tr>\n",
       "      <th>1092</th>\n",
       "      <td>1092</td>\n",
       "      <td>1</td>\n",
       "      <td>8</td>\n",
       "      <td>7.037647</td>\n",
       "      <td>9.741006</td>\n",
       "      <td>34</td>\n",
       "      <td>3</td>\n",
       "      <td>0</td>\n",
       "    </tr>\n",
       "    <tr>\n",
       "      <th>1093</th>\n",
       "      <td>1093</td>\n",
       "      <td>0</td>\n",
       "      <td>2</td>\n",
       "      <td>2.449889</td>\n",
       "      <td>7.337579</td>\n",
       "      <td>37</td>\n",
       "      <td>10</td>\n",
       "      <td>1</td>\n",
       "    </tr>\n",
       "    <tr>\n",
       "      <th>1094</th>\n",
       "      <td>1094</td>\n",
       "      <td>1</td>\n",
       "      <td>3</td>\n",
       "      <td>4.881081</td>\n",
       "      <td>10.457047</td>\n",
       "      <td>9</td>\n",
       "      <td>7</td>\n",
       "      <td>0</td>\n",
       "    </tr>\n",
       "  </tbody>\n",
       "</table>\n",
       "<p>1095 rows × 8 columns</p>\n",
       "</div>"
      ],
      "text/plain": [
       "      Unnamed: 0  avalanche  no_visitors  surface_hoar  fresh_thickness  wind  \\\n",
       "0              0          0            4      3.900508         8.715485     6   \n",
       "1              1          0            9      1.477586         6.801417    30   \n",
       "2              2          1            3      3.236594         5.632457     8   \n",
       "3              3          0            0      3.244283         9.348871    12   \n",
       "4              4          1            2      5.196741         3.782315     4   \n",
       "...          ...        ...          ...           ...              ...   ...   \n",
       "1090        1090          1            1      2.182905         6.109184     3   \n",
       "1091        1091          0            2      3.718231        10.426100    28   \n",
       "1092        1092          1            8      7.037647         9.741006    34   \n",
       "1093        1093          0            2      2.449889         7.337579    37   \n",
       "1094        1094          1            3      4.881081        10.457047     9   \n",
       "\n",
       "      weak_layers  tracked_out  \n",
       "0               9            0  \n",
       "1               0            0  \n",
       "2               8            1  \n",
       "3              10            0  \n",
       "4               9            1  \n",
       "...           ...          ...  \n",
       "1090            9            0  \n",
       "1091            0            0  \n",
       "1092            3            0  \n",
       "1093           10            1  \n",
       "1094            7            0  \n",
       "\n",
       "[1095 rows x 8 columns]"
      ]
     },
     "metadata": {},
     "execution_count": 1
    }
   ],
   "metadata": {}
  },
  {
   "cell_type": "markdown",
   "source": [
    "We can notice that:\r\n",
    "\r\n",
    "- For `fresh_thickness` the outcomes are very similar. This means that variations in their values aren't strongly correlated with the results.\r\n",
    "\r\n",
    "- Variations in values for `weak_layers` and `no_visitors`, seem to correlate with a larger number of `avalanche` results, and thus we should assign more importance to these features.\r\n",
    "\r\n",
    "The differences between avalanche and non-avalanche days are small and there isn't one clear driver of issues. Weak layers looks like a good starting point as it is related to the widest variation in results.\r\n",
    "\r\n",
    "## Building a simple logistic regression model\r\n",
    "\r\n",
    "We will now built and train a model to predict the chance of an avalanche happening based __solely__ on the number of weak layers of snow:"
   ],
   "metadata": {}
  },
  {
   "cell_type": "code",
   "execution_count": 2,
   "source": [
    "# Here we import a function that splits datasets according to a given ratio\r\n",
    "from sklearn.model_selection import train_test_split\r\n",
    "\r\n",
    "# Split the dataset in an 70/30 train/test ratio.\r\n",
    "train, test = train_test_split(dataset, test_size=0.3, random_state=2)\r\n",
    "print(train.shape)\r\n",
    "print(test.shape)"
   ],
   "outputs": [
    {
     "output_type": "stream",
     "name": "stdout",
     "text": [
      "(766, 8)\n",
      "(329, 8)\n"
     ]
    }
   ],
   "metadata": {}
  },
  {
   "cell_type": "markdown",
   "source": [
    "OK, lets train our model, using the `train` dataset we've just created (notice that `weak_layers` will be the only feature used to determine the outcome):"
   ],
   "metadata": {}
  },
  {
   "cell_type": "code",
   "execution_count": 3,
   "source": [
    "import statsmodels.formula.api as smf\r\n",
    "import graphings\r\n",
    "\r\n",
    "# Perform logistic regression.\r\n",
    "model = smf.logit(\"avalanche ~ weak_layers\",train).fit()\r\n",
    "\r\n",
    "print(\"Model trained\")"
   ],
   "outputs": [
    {
     "output_type": "stream",
     "name": "stdout",
     "text": [
      "Optimization terminated successfully.\n",
      "         Current function value: 0.631451\n",
      "         Iterations 5\n",
      "Model trained\n"
     ]
    }
   ],
   "metadata": {}
  },
  {
   "cell_type": "markdown",
   "source": [
    "After training, we can print a model summary with very detailed information:"
   ],
   "metadata": {}
  },
  {
   "cell_type": "code",
   "execution_count": 4,
   "source": [
    "print(model.summary())"
   ],
   "outputs": [
    {
     "output_type": "stream",
     "name": "stdout",
     "text": [
      "                           Logit Regression Results                           \n",
      "==============================================================================\n",
      "Dep. Variable:              avalanche   No. Observations:                  766\n",
      "Model:                          Logit   Df Residuals:                      764\n",
      "Method:                           MLE   Df Model:                            1\n",
      "Date:                Mon, 20 Sep 2021   Pseudo R-squ.:                 0.07898\n",
      "Time:                        18:26:10   Log-Likelihood:                -483.69\n",
      "converged:                       True   LL-Null:                       -525.17\n",
      "Covariance Type:            nonrobust   LLR p-value:                 8.395e-20\n",
      "===============================================================================\n",
      "                  coef    std err          z      P>|z|      [0.025      0.975]\n",
      "-------------------------------------------------------------------------------\n",
      "Intercept      -0.8586      0.147     -5.856      0.000      -1.146      -0.571\n",
      "weak_layers     0.2241      0.026      8.648      0.000       0.173       0.275\n",
      "===============================================================================\n"
     ]
    }
   ],
   "metadata": {}
  },
  {
   "cell_type": "markdown",
   "source": [
    "Notice that the positive coefficient for `weak_layers` means that a higher value means a higher likelihood for an avalanche."
   ],
   "metadata": {}
  },
  {
   "cell_type": "markdown",
   "source": [
    "## Using our model\r\n",
    "\r\n",
    "We can now use our trained model to make predictions and estimate probabilities.\r\n",
    "\r\n",
    "Let's pick the first four occurrences in our `test` set and print the probability of an avalanche for each one of them:"
   ],
   "metadata": {}
  },
  {
   "cell_type": "code",
   "execution_count": 5,
   "source": [
    "# predict to get a probability\r\n",
    "\r\n",
    "# get first 3 samples from dataset\r\n",
    "samples = test[\"weak_layers\"][:4]\r\n",
    "\r\n",
    "# use the model to get predictions as possibilities\r\n",
    "estimated_probabilities=model.predict(samples)\r\n",
    "\r\n",
    "# Print the results for each sample\r\n",
    "for sample, pred in zip(samples, estimated_probabilities):\r\n",
    "    print(f\"A weak_layer with value {sample} yields a {pred * 100:.2f}% chance of an avalanche.\")"
   ],
   "outputs": [
    {
     "output_type": "stream",
     "name": "stdout",
     "text": [
      "A weak_layer with value 5 yields a 56.51% chance of an avalanche.\n",
      "A weak_layer with value 4 yields a 50.95% chance of an avalanche.\n",
      "A weak_layer with value 7 yields a 67.05% chance of an avalanche.\n",
      "A weak_layer with value 0 yields a 29.76% chance of an avalanche.\n"
     ]
    }
   ],
   "metadata": {}
  },
  {
   "cell_type": "markdown",
   "source": [
    "Let's plot out model to understand this:"
   ],
   "metadata": {}
  },
  {
   "cell_type": "code",
   "execution_count": 8,
   "source": [
    "# plot the model\r\n",
    "# Show a graph of the result\r\n",
    "predict=lambda x: model.predict(pandas.DataFrame({\"weak_layers\": x}))\r\n",
    "\r\n",
    "graphings.line_2D([(\"Model\", predict)],\r\n",
    "                 x_range=[-20,40],\r\n",
    "                 label_x=\"weak_layers\", \r\n",
    "                 label_y=\"estimated probability of an avalanche\")"
   ],
   "outputs": [
    {
     "output_type": "display_data",
     "data": {
      "application/vnd.plotly.v1+json": {
       "config": {
        "plotlyServerURL": "https://plot.ly"
       },
       "data": [
        {
         "hovertemplate": "Line=Model<br>weak layers=%{x}<br>estimated probability of an avalanche=%{y}<extra></extra>",
         "legendgroup": "Model",
         "marker": {
          "color": "#636efa",
          "size": 12,
          "symbol": "circle"
         },
         "mode": "lines",
         "name": "Model",
         "orientation": "v",
         "showlegend": true,
         "type": "scatter",
         "x": [
          -20,
          -19.698492462311556,
          -19.396984924623116,
          -19.095477386934675,
          -18.79396984924623,
          -18.492462311557787,
          -18.190954773869347,
          -17.889447236180906,
          -17.587939698492463,
          -17.28643216080402,
          -16.984924623115578,
          -16.683417085427138,
          -16.381909547738694,
          -16.08040201005025,
          -15.77889447236181,
          -15.477386934673367,
          -15.175879396984925,
          -14.874371859296483,
          -14.57286432160804,
          -14.271356783919598,
          -13.969849246231156,
          -13.668341708542714,
          -13.366834170854272,
          -13.06532663316583,
          -12.763819095477388,
          -12.462311557788945,
          -12.160804020100503,
          -11.859296482412061,
          -11.557788944723619,
          -11.256281407035177,
          -10.954773869346734,
          -10.653266331658292,
          -10.35175879396985,
          -10.050251256281408,
          -9.748743718592966,
          -9.447236180904524,
          -9.145728643216081,
          -8.84422110552764,
          -8.542713567839197,
          -8.241206030150755,
          -7.939698492462313,
          -7.6381909547738704,
          -7.336683417085428,
          -7.035175879396986,
          -6.733668341708544,
          -6.432160804020102,
          -6.1306532663316595,
          -5.829145728643217,
          -5.527638190954775,
          -5.226130653266333,
          -4.924623115577891,
          -4.623115577889449,
          -4.321608040201006,
          -4.020100502512564,
          -3.718592964824122,
          -3.4170854271356816,
          -3.1155778894472377,
          -2.8140703517587937,
          -2.5125628140703533,
          -2.211055276381913,
          -1.909547738693469,
          -1.608040201005025,
          -1.3065326633165846,
          -1.0050251256281442,
          -0.7035175879397002,
          -0.40201005025125625,
          -0.10050251256281584,
          0.20100502512562457,
          0.5025125628140685,
          0.8040201005025125,
          1.105527638190953,
          1.4070351758793933,
          1.7085427135678373,
          2.0100502512562812,
          2.3115577889447216,
          2.613065326633162,
          2.914572864321606,
          3.21608040201005,
          3.5175879396984904,
          3.819095477386931,
          4.120603015075375,
          4.422110552763819,
          4.723618090452259,
          5.0251256281406995,
          5.3266331658291435,
          5.628140703517587,
          5.929648241206028,
          6.231155778894468,
          6.532663316582912,
          6.834170854271356,
          7.135678391959797,
          7.437185929648237,
          7.738693467336681,
          8.040201005025125,
          8.341708542713565,
          8.643216080402006,
          8.94472361809045,
          9.246231155778894,
          9.547738693467334,
          9.849246231155774,
          10.150753768844218,
          10.452261306532662,
          10.753768844221103,
          11.055276381909543,
          11.356783919597987,
          11.658291457286431,
          11.959798994974872,
          12.261306532663312,
          12.562814070351756,
          12.8643216080402,
          13.165829145728637,
          13.46733668341708,
          13.768844221105525,
          14.070351758793969,
          14.371859296482413,
          14.67336683417085,
          14.974874371859293,
          15.276381909547737,
          15.577889447236174,
          15.879396984924618,
          16.180904522613062,
          16.482412060301506,
          16.78391959798995,
          17.085427135678387,
          17.38693467336683,
          17.688442211055275,
          17.98994974874371,
          18.291457286432156,
          18.5929648241206,
          18.894472361809044,
          19.195979899497488,
          19.497487437185924,
          19.79899497487437,
          20.100502512562812,
          20.40201005025125,
          20.703517587939693,
          21.005025125628137,
          21.30653266331658,
          21.608040201005025,
          21.909547738693462,
          22.211055276381906,
          22.51256281407035,
          22.814070351758787,
          23.11557788944723,
          23.417085427135675,
          23.71859296482412,
          24.020100502512562,
          24.321608040201,
          24.623115577889443,
          24.924623115577887,
          25.226130653266324,
          25.527638190954768,
          25.829145728643212,
          26.130653266331656,
          26.4321608040201,
          26.733668341708537,
          27.03517587939698,
          27.336683417085425,
          27.63819095477386,
          27.939698492462306,
          28.24120603015075,
          28.542713567839193,
          28.844221105527637,
          29.145728643216074,
          29.447236180904518,
          29.748743718592962,
          30.0502512562814,
          30.351758793969843,
          30.653266331658287,
          30.95477386934673,
          31.256281407035175,
          31.55778894472361,
          31.859296482412056,
          32.1608040201005,
          32.46231155778894,
          32.76381909547738,
          33.065326633165824,
          33.36683417085427,
          33.66834170854271,
          33.96984924623115,
          34.27135678391959,
          34.57286432160804,
          34.874371859296474,
          35.17587939698492,
          35.47738693467336,
          35.778894472361806,
          36.08040201005025,
          36.38190954773869,
          36.68341708542713,
          36.984924623115575,
          37.28643216080401,
          37.587939698492455,
          37.8894472361809,
          38.19095477386934,
          38.49246231155779,
          38.793969849246224,
          39.09547738693467,
          39.39698492462311,
          39.69849246231155,
          40
         ],
         "xaxis": "x",
         "y": [
          0.004767253067320999,
          0.005098844175268207,
          0.005453373058122092,
          0.005832408258059351,
          0.006237622966096139,
          0.006670801627917511,
          0.007133846912013671,
          0.007628787051773315,
          0.008157783572176601,
          0.008723139410422902,
          0.009327307438173523,
          0.009972899391035253,
          0.010662695208397507,
          0.011399652783699876,
          0.012186918121575605,
          0.013027835894011486,
          0.013925960382599537,
          0.014885066788037672,
          0.015909162881163955,
          0.017002500961875024,
          0.0181695900831689,
          0.019415208487147274,
          0.020744416187988033,
          0.0221625676235296,
          0.02367532428207038,
          0.025288667194156834,
          0.027008909160399726,
          0.028842706565621146,
          0.030797070606814643,
          0.03287937773744699,
          0.03509737910353067,
          0.03745920871768613,
          0.03997339008619299,
          0.04264884097097706,
          0.045494875933866585,
          0.048521206274664386,
          0.05173793693814492,
          0.05515555992867373,
          0.058784943735621896,
          0.06263731823917221,
          0.06672425453576943,
          0.07105763909688617,
          0.07564964165574177,
          0.08051267620617147,
          0.08565935449830675,
          0.09110243142964612,
          0.09685474176022943,
          0.10292912762989496,
          0.10933835642699499,
          0.11609502865442912,
          0.12321147556322608,
          0.1306996464786148,
          0.1385709859304796,
          0.1468363009204172,
          0.1555056189113819,
          0.16458803741187172,
          0.17409156634191672,
          0.18402296470805546,
          0.19438757347220229,
          0.20518914686571949,
          0.21642968476371433,
          0.22810926908191076,
          0.2402259074736963,
          0.2527753878708116,
          0.2657511476093109,
          0.2791441609943838,
          0.29294284916573254,
          0.30713301601376414,
          0.3216978136534996,
          0.3366177405799444,
          0.35187067510359105,
          0.367431946002323,
          0.3832744415382854,
          0.3993687570949314,
          0.41568338071753225,
          0.4321849148235734,
          0.4488383313265092,
          0.4656072564294205,
          0.48245428043730143,
          0.49934128714948955,
          0.5162297967644247,
          0.5330813157880514,
          0.5498576872066224,
          0.5665214341759219,
          0.58303609069247,
          0.599366513137398,
          0.6154791671993163,
          0.6313423854586614,
          0.6469265918158779,
          0.6622044899280922,
          0.677151213840625,
          0.6917444400184708,
          0.7059644609595916,
          0.7197942214724183,
          0.733219319496703,
          0.7462279740195654,
          0.758810963174619,
          0.77096153600629,
          0.7826753016354913,
          0.7939500996841335,
          0.8047858558166471,
          0.8151844261522104,
          0.8251494341092793,
          0.8346861029827585,
          0.8438010872421138,
          0.8525023051933126,
          0.8607987752845289,
          0.8687004579689084,
          0.8762181046789367,
          0.8833631151253728,
          0.8901474038162783,
          0.8965832764033015,
          0.9026833162060238,
          0.9084602810422409,
          0.9139270103025153,
          0.9190963420501779,
          0.9239810398013,
          0.9285937285405949,
          0.9329468394559616,
          0.9370525628235005,
          0.9409228084433089,
          0.9445691730112846,
          0.9480029138107483,
          0.9512349281173712,
          0.9542757377293332,
          0.9571354780597768,
          0.9598238912586561,
          0.9623503228644439,
          0.9647237215215865,
          0.9669526413359595,
          0.9690452464770494,
          0.9710093176714367,
          0.9728522602668835,
          0.9745811135795077,
          0.976202561267899,
          0.977722942507406,
          0.9791482637650816,
          0.9804842110009048,
          0.9817361621438748,
          0.9829091997124757,
          0.9840081234678903,
          0.9850374630053254,
          0.9860014902039717,
          0.9869042314696326,
          0.9877494797159795,
          0.9885408060409144,
          0.9892815710637253,
          0.9899749358967346,
          0.9906238727321033,
          0.9912311750304331,
          0.991799467302941,
          0.9923312144833436,
          0.9928287308892623,
          0.9932941887760527,
          0.9937296264884965,
          0.994136956217898,
          0.994517971373802,
          0.9948743535808825,
          0.9952076793125894,
          0.9955194261738951,
          0.9958109788460439,
          0.9960836347065407,
          0.9963386091378283,
          0.9965770405381414,
          0.9967999950479836,
          0.9970084710055103,
          0.9972034031438877,
          0.9973856665433963,
          0.9975560803507251,
          0.9977154112775156,
          0.9978643768898192,
          0.9980036486997106,
          0.9981338550698556,
          0.9982555839413959,
          0.9983693853950603,
          0.9984757740549726,
          0.9985752313441772,
          0.9986682076004765,
          0.9987551240607445,
          0.9988363747214688,
          0.9989123280828729,
          0.9989833287835754,
          0.999049699132383,
          0.9991117405434333,
          0.9991697348805808,
          0.9992239457165689,
          0.9992746195122314,
          0.9993219867206562,
          0.999366262820961,
          0.9994076492860599,
          0.99944633448854,
          0.9994824945485219,
          0.9995162941271465,
          0.999547887169114,
          0.9995774175974882,
          0.9996050199637864,
          0.9996308200561916,
          0.9996549354685474,
          0.9996774761326299,
          0.9996985448160411
         ],
         "yaxis": "y"
        }
       ],
       "layout": {
        "legend": {
         "title": {
          "text": "Line"
         },
         "tracegroupgap": 0
        },
        "showlegend": false,
        "template": {
         "data": {
          "bar": [
           {
            "error_x": {
             "color": "#2a3f5f"
            },
            "error_y": {
             "color": "#2a3f5f"
            },
            "marker": {
             "line": {
              "color": "white",
              "width": 0.5
             },
             "pattern": {
              "fillmode": "overlay",
              "size": 10,
              "solidity": 0.2
             }
            },
            "type": "bar"
           }
          ],
          "barpolar": [
           {
            "marker": {
             "line": {
              "color": "white",
              "width": 0.5
             },
             "pattern": {
              "fillmode": "overlay",
              "size": 10,
              "solidity": 0.2
             }
            },
            "type": "barpolar"
           }
          ],
          "box": [
           {
            "boxpoints": "outliers",
            "notched": false,
            "type": "box"
           }
          ],
          "carpet": [
           {
            "aaxis": {
             "endlinecolor": "#2a3f5f",
             "gridcolor": "#C8D4E3",
             "linecolor": "#C8D4E3",
             "minorgridcolor": "#C8D4E3",
             "startlinecolor": "#2a3f5f"
            },
            "baxis": {
             "endlinecolor": "#2a3f5f",
             "gridcolor": "#C8D4E3",
             "linecolor": "#C8D4E3",
             "minorgridcolor": "#C8D4E3",
             "startlinecolor": "#2a3f5f"
            },
            "type": "carpet"
           }
          ],
          "choropleth": [
           {
            "colorbar": {
             "outlinewidth": 0,
             "ticks": ""
            },
            "type": "choropleth"
           }
          ],
          "contour": [
           {
            "colorbar": {
             "outlinewidth": 0,
             "ticks": ""
            },
            "colorscale": [
             [
              0,
              "#0d0887"
             ],
             [
              0.1111111111111111,
              "#46039f"
             ],
             [
              0.2222222222222222,
              "#7201a8"
             ],
             [
              0.3333333333333333,
              "#9c179e"
             ],
             [
              0.4444444444444444,
              "#bd3786"
             ],
             [
              0.5555555555555556,
              "#d8576b"
             ],
             [
              0.6666666666666666,
              "#ed7953"
             ],
             [
              0.7777777777777778,
              "#fb9f3a"
             ],
             [
              0.8888888888888888,
              "#fdca26"
             ],
             [
              1,
              "#f0f921"
             ]
            ],
            "type": "contour"
           }
          ],
          "contourcarpet": [
           {
            "colorbar": {
             "outlinewidth": 0,
             "ticks": ""
            },
            "type": "contourcarpet"
           }
          ],
          "heatmap": [
           {
            "colorbar": {
             "outlinewidth": 0,
             "ticks": ""
            },
            "colorscale": [
             [
              0,
              "#0d0887"
             ],
             [
              0.1111111111111111,
              "#46039f"
             ],
             [
              0.2222222222222222,
              "#7201a8"
             ],
             [
              0.3333333333333333,
              "#9c179e"
             ],
             [
              0.4444444444444444,
              "#bd3786"
             ],
             [
              0.5555555555555556,
              "#d8576b"
             ],
             [
              0.6666666666666666,
              "#ed7953"
             ],
             [
              0.7777777777777778,
              "#fb9f3a"
             ],
             [
              0.8888888888888888,
              "#fdca26"
             ],
             [
              1,
              "#f0f921"
             ]
            ],
            "type": "heatmap"
           }
          ],
          "heatmapgl": [
           {
            "colorbar": {
             "outlinewidth": 0,
             "ticks": ""
            },
            "colorscale": [
             [
              0,
              "#0d0887"
             ],
             [
              0.1111111111111111,
              "#46039f"
             ],
             [
              0.2222222222222222,
              "#7201a8"
             ],
             [
              0.3333333333333333,
              "#9c179e"
             ],
             [
              0.4444444444444444,
              "#bd3786"
             ],
             [
              0.5555555555555556,
              "#d8576b"
             ],
             [
              0.6666666666666666,
              "#ed7953"
             ],
             [
              0.7777777777777778,
              "#fb9f3a"
             ],
             [
              0.8888888888888888,
              "#fdca26"
             ],
             [
              1,
              "#f0f921"
             ]
            ],
            "type": "heatmapgl"
           }
          ],
          "histogram": [
           {
            "marker": {
             "line": {
              "width": 1
             },
             "pattern": {
              "fillmode": "overlay",
              "size": 10,
              "solidity": 0.2
             }
            },
            "type": "histogram"
           }
          ],
          "histogram2d": [
           {
            "colorbar": {
             "outlinewidth": 0,
             "ticks": ""
            },
            "colorscale": [
             [
              0,
              "#0d0887"
             ],
             [
              0.1111111111111111,
              "#46039f"
             ],
             [
              0.2222222222222222,
              "#7201a8"
             ],
             [
              0.3333333333333333,
              "#9c179e"
             ],
             [
              0.4444444444444444,
              "#bd3786"
             ],
             [
              0.5555555555555556,
              "#d8576b"
             ],
             [
              0.6666666666666666,
              "#ed7953"
             ],
             [
              0.7777777777777778,
              "#fb9f3a"
             ],
             [
              0.8888888888888888,
              "#fdca26"
             ],
             [
              1,
              "#f0f921"
             ]
            ],
            "type": "histogram2d"
           }
          ],
          "histogram2dcontour": [
           {
            "colorbar": {
             "outlinewidth": 0,
             "ticks": ""
            },
            "colorscale": [
             [
              0,
              "#0d0887"
             ],
             [
              0.1111111111111111,
              "#46039f"
             ],
             [
              0.2222222222222222,
              "#7201a8"
             ],
             [
              0.3333333333333333,
              "#9c179e"
             ],
             [
              0.4444444444444444,
              "#bd3786"
             ],
             [
              0.5555555555555556,
              "#d8576b"
             ],
             [
              0.6666666666666666,
              "#ed7953"
             ],
             [
              0.7777777777777778,
              "#fb9f3a"
             ],
             [
              0.8888888888888888,
              "#fdca26"
             ],
             [
              1,
              "#f0f921"
             ]
            ],
            "type": "histogram2dcontour"
           }
          ],
          "mesh3d": [
           {
            "colorbar": {
             "outlinewidth": 0,
             "ticks": ""
            },
            "type": "mesh3d"
           }
          ],
          "parcoords": [
           {
            "line": {
             "colorbar": {
              "outlinewidth": 0,
              "ticks": ""
             }
            },
            "type": "parcoords"
           }
          ],
          "pie": [
           {
            "automargin": true,
            "type": "pie"
           }
          ],
          "scatter": [
           {
            "marker": {
             "colorbar": {
              "outlinewidth": 0,
              "ticks": ""
             },
             "opacity": 0.8
            },
            "type": "scatter"
           }
          ],
          "scatter3d": [
           {
            "line": {
             "colorbar": {
              "outlinewidth": 0,
              "ticks": ""
             }
            },
            "marker": {
             "colorbar": {
              "outlinewidth": 0,
              "ticks": ""
             },
             "opacity": 0.8
            },
            "type": "scatter3d"
           }
          ],
          "scattercarpet": [
           {
            "marker": {
             "colorbar": {
              "outlinewidth": 0,
              "ticks": ""
             }
            },
            "type": "scattercarpet"
           }
          ],
          "scattergeo": [
           {
            "marker": {
             "colorbar": {
              "outlinewidth": 0,
              "ticks": ""
             }
            },
            "type": "scattergeo"
           }
          ],
          "scattergl": [
           {
            "marker": {
             "colorbar": {
              "outlinewidth": 0,
              "ticks": ""
             }
            },
            "type": "scattergl"
           }
          ],
          "scattermapbox": [
           {
            "marker": {
             "colorbar": {
              "outlinewidth": 0,
              "ticks": ""
             }
            },
            "type": "scattermapbox"
           }
          ],
          "scatterpolar": [
           {
            "marker": {
             "colorbar": {
              "outlinewidth": 0,
              "ticks": ""
             }
            },
            "type": "scatterpolar"
           }
          ],
          "scatterpolargl": [
           {
            "marker": {
             "colorbar": {
              "outlinewidth": 0,
              "ticks": ""
             }
            },
            "type": "scatterpolargl"
           }
          ],
          "scatterternary": [
           {
            "marker": {
             "colorbar": {
              "outlinewidth": 0,
              "ticks": ""
             }
            },
            "type": "scatterternary"
           }
          ],
          "surface": [
           {
            "colorbar": {
             "outlinewidth": 0,
             "ticks": ""
            },
            "colorscale": [
             [
              0,
              "#0d0887"
             ],
             [
              0.1111111111111111,
              "#46039f"
             ],
             [
              0.2222222222222222,
              "#7201a8"
             ],
             [
              0.3333333333333333,
              "#9c179e"
             ],
             [
              0.4444444444444444,
              "#bd3786"
             ],
             [
              0.5555555555555556,
              "#d8576b"
             ],
             [
              0.6666666666666666,
              "#ed7953"
             ],
             [
              0.7777777777777778,
              "#fb9f3a"
             ],
             [
              0.8888888888888888,
              "#fdca26"
             ],
             [
              1,
              "#f0f921"
             ]
            ],
            "type": "surface"
           }
          ],
          "table": [
           {
            "cells": {
             "fill": {
              "color": "#EBF0F8"
             },
             "line": {
              "color": "white"
             }
            },
            "header": {
             "fill": {
              "color": "#C8D4E3"
             },
             "line": {
              "color": "white"
             }
            },
            "type": "table"
           }
          ]
         },
         "layout": {
          "annotationdefaults": {
           "arrowcolor": "#2a3f5f",
           "arrowhead": 0,
           "arrowwidth": 1
          },
          "autotypenumbers": "strict",
          "coloraxis": {
           "colorbar": {
            "outlinewidth": 0,
            "ticks": ""
           }
          },
          "colorscale": {
           "diverging": [
            [
             0,
             "#8e0152"
            ],
            [
             0.1,
             "#c51b7d"
            ],
            [
             0.2,
             "#de77ae"
            ],
            [
             0.3,
             "#f1b6da"
            ],
            [
             0.4,
             "#fde0ef"
            ],
            [
             0.5,
             "#f7f7f7"
            ],
            [
             0.6,
             "#e6f5d0"
            ],
            [
             0.7,
             "#b8e186"
            ],
            [
             0.8,
             "#7fbc41"
            ],
            [
             0.9,
             "#4d9221"
            ],
            [
             1,
             "#276419"
            ]
           ],
           "sequential": [
            [
             0,
             "#0d0887"
            ],
            [
             0.1111111111111111,
             "#46039f"
            ],
            [
             0.2222222222222222,
             "#7201a8"
            ],
            [
             0.3333333333333333,
             "#9c179e"
            ],
            [
             0.4444444444444444,
             "#bd3786"
            ],
            [
             0.5555555555555556,
             "#d8576b"
            ],
            [
             0.6666666666666666,
             "#ed7953"
            ],
            [
             0.7777777777777778,
             "#fb9f3a"
            ],
            [
             0.8888888888888888,
             "#fdca26"
            ],
            [
             1,
             "#f0f921"
            ]
           ],
           "sequentialminus": [
            [
             0,
             "#0d0887"
            ],
            [
             0.1111111111111111,
             "#46039f"
            ],
            [
             0.2222222222222222,
             "#7201a8"
            ],
            [
             0.3333333333333333,
             "#9c179e"
            ],
            [
             0.4444444444444444,
             "#bd3786"
            ],
            [
             0.5555555555555556,
             "#d8576b"
            ],
            [
             0.6666666666666666,
             "#ed7953"
            ],
            [
             0.7777777777777778,
             "#fb9f3a"
            ],
            [
             0.8888888888888888,
             "#fdca26"
            ],
            [
             1,
             "#f0f921"
            ]
           ]
          },
          "colorway": [
           "#636efa",
           "#EF553B",
           "#00cc96",
           "#ab63fa",
           "#FFA15A",
           "#19d3f3",
           "#FF6692",
           "#B6E880",
           "#FF97FF",
           "#FECB52"
          ],
          "font": {
           "color": "#2a3f5f"
          },
          "geo": {
           "bgcolor": "white",
           "lakecolor": "white",
           "landcolor": "white",
           "showlakes": true,
           "showland": true,
           "subunitcolor": "#C8D4E3"
          },
          "height": 400,
          "hoverlabel": {
           "align": "left"
          },
          "hovermode": "closest",
          "mapbox": {
           "style": "light"
          },
          "margin": {
           "b": 2,
           "l": 2,
           "r": 2,
           "t": 30
          },
          "paper_bgcolor": "white",
          "plot_bgcolor": "white",
          "polar": {
           "angularaxis": {
            "gridcolor": "#EBF0F8",
            "linecolor": "#EBF0F8",
            "ticks": ""
           },
           "bgcolor": "white",
           "radialaxis": {
            "gridcolor": "#EBF0F8",
            "linecolor": "#EBF0F8",
            "ticks": ""
           }
          },
          "scene": {
           "camera": {
            "eye": {
             "x": 1.5,
             "y": 1.5,
             "z": 0.1
            }
           },
           "xaxis": {
            "backgroundcolor": "white",
            "gridcolor": "#DFE8F3",
            "gridwidth": 2,
            "linecolor": "#EBF0F8",
            "showbackground": true,
            "ticks": "",
            "zerolinecolor": "#EBF0F8"
           },
           "yaxis": {
            "backgroundcolor": "white",
            "gridcolor": "#DFE8F3",
            "gridwidth": 2,
            "linecolor": "#EBF0F8",
            "showbackground": true,
            "ticks": "",
            "zerolinecolor": "#EBF0F8"
           },
           "zaxis": {
            "backgroundcolor": "white",
            "gridcolor": "#DFE8F3",
            "gridwidth": 2,
            "linecolor": "#EBF0F8",
            "showbackground": true,
            "ticks": "",
            "zerolinecolor": "#EBF0F8"
           }
          },
          "shapedefaults": {
           "line": {
            "color": "#2a3f5f"
           }
          },
          "ternary": {
           "aaxis": {
            "gridcolor": "#DFE8F3",
            "linecolor": "#A2B1C6",
            "ticks": ""
           },
           "baxis": {
            "gridcolor": "#DFE8F3",
            "linecolor": "#A2B1C6",
            "ticks": ""
           },
           "bgcolor": "white",
           "caxis": {
            "gridcolor": "#DFE8F3",
            "linecolor": "#A2B1C6",
            "ticks": ""
           }
          },
          "title": {
           "x": 0.5
          },
          "xaxis": {
           "automargin": true,
           "gridcolor": "#EBF0F8",
           "linecolor": "#EBF0F8",
           "linewidth": 2,
           "showline": true,
           "ticks": "",
           "title": {
            "standoff": 15
           },
           "zerolinecolor": "#EBF0F8",
           "zerolinewidth": 2
          },
          "yaxis": {
           "automargin": true,
           "gridcolor": "#EBF0F8",
           "linecolor": "#EBF0F8",
           "linewidth": 2,
           "showline": true,
           "ticks": "",
           "title": {
            "standoff": 15
           },
           "zerolinecolor": "#EBF0F8",
           "zerolinewidth": 2
          }
         }
        },
        "title": {
         "text": "Model"
        },
        "xaxis": {
         "anchor": "y",
         "domain": [
          0,
          1
         ],
         "range": [
          -20,
          40
         ],
         "title": {
          "text": "weak layers"
         }
        },
        "yaxis": {
         "anchor": "x",
         "domain": [
          0,
          1
         ],
         "title": {
          "text": "estimated probability of an avalanche"
         }
        }
       }
      }
     },
     "metadata": {}
    }
   ],
   "metadata": {}
  },
  {
   "cell_type": "markdown",
   "source": [
    "The line plots the function of the __probability__ of an avalanche over the number of weak layers; Notice that the more weak layers, the more likely an avalanche will happen. This plot can look a bit confusing for two reasons.\r\n",
    "\r\n",
    "Firstly, the curve can make predictions from negative to positive infinity, but we only have data for 0 - 10 layers:"
   ],
   "metadata": {}
  },
  {
   "cell_type": "code",
   "execution_count": 9,
   "source": [
    "print(\"Minimum number of weak layers:\", min(train.weak_layers))\r\n",
    "print(\"Maximum number of weak layers:\", max(train.weak_layers))"
   ],
   "outputs": [
    {
     "output_type": "stream",
     "name": "stdout",
     "text": [
      "Minimum number of weak layers: 0\n",
      "Maximum number of weak layers: 10\n"
     ]
    }
   ],
   "metadata": {}
  },
  {
   "cell_type": "markdown",
   "source": [
    "This is because logistic regression models allow predictions outside the range of values they have seen, and sometimes do so quite well.\r\n",
    "\r\n",
    "The second reason the plot is confusing is that at 0 layers, there's still _some_ risk of an avalanche. Similarly, at 10 layers, there isn't a 100% risk of an avalanche. This is actually in line with the data:"
   ],
   "metadata": {}
  },
  {
   "cell_type": "code",
   "execution_count": 10,
   "source": [
    "import numpy as np\r\n",
    "\r\n",
    "# Get actual rates of avalanches at 0 years\r\n",
    "avalanche_outcomes_for_0_layers = train[train.weak_layers == 0].avalanche\r\n",
    "print(\"Average rate of avalanches for 0 weak layers of snow\", np.average(avalanche_outcomes_for_0_layers))\r\n",
    "\r\n",
    "# Get actual rates of avalanches at 10 years\r\n",
    "avalanche_outcomes_for_10_layers = train[train.weak_layers == 10].avalanche\r\n",
    "print(\"Average rate of avalanches for 10 weak layers of snow\", np.average(avalanche_outcomes_for_10_layers))"
   ],
   "outputs": [
    {
     "output_type": "stream",
     "name": "stdout",
     "text": [
      "Average rate of avalanches for 0 weak layers of snow 0.3880597014925373\n",
      "Average rate of avalanches for 10 weak layers of snow 0.7761194029850746\n"
     ]
    }
   ],
   "metadata": {}
  },
  {
   "cell_type": "markdown",
   "source": [
    "Our model is actually doing a good job! It's just that avalanches aren't _only_ caused by weak layers of snow. If we want to do better, we probably need to think about including other information in the model."
   ],
   "metadata": {}
  },
  {
   "cell_type": "markdown",
   "source": [
    "## Classification or decision thresholds\r\n",
    "To return a binary category (`True` = \"avalanche\", `False` = \"no avalanche\") we need to define a *Classification Threshold* value. Any probability above that threshold is returned as the positive category, whereas values below it will be returned as the negative category.\r\n",
    "\r\n",
    "Let's see what happens if set our threshold to `0.5` (meaning that our model will return `True` whenever it calculates a chance above 50% of an avalanche happening):"
   ],
   "metadata": {}
  },
  {
   "cell_type": "code",
   "execution_count": 11,
   "source": [
    "# threshold to get an absolute value\r\n",
    "threshold = 0.5\r\n",
    "\r\n",
    "# Add classification to the samples we used before\r\n",
    "for sample, pred in list(zip(samples,estimated_probabilities)):\r\n",
    "    print(f\"A weak_layer with value {sample} yields a chance of {pred * 100:.2f}% of an avalanche. Classification = {pred > threshold}\")\r\n",
    "\r\n"
   ],
   "outputs": [
    {
     "output_type": "stream",
     "name": "stdout",
     "text": [
      "A weak_layer with value 5 yields a chance of 56.51% of an avalanche. Classification = True\n",
      "A weak_layer with value 4 yields a chance of 50.95% of an avalanche. Classification = True\n",
      "A weak_layer with value 7 yields a chance of 67.05% of an avalanche. Classification = True\n",
      "A weak_layer with value 0 yields a chance of 29.76% of an avalanche. Classification = False\n"
     ]
    }
   ],
   "metadata": {}
  },
  {
   "cell_type": "markdown",
   "source": [
    "Note that a `0.5` threshold is just a starting point that needs to be tuned depending on the data we're trying to classify.\r\n",
    "\r\n",
    "## Performance on test set\r\n",
    "Now let's use our `test` dataset to perform a quick evaluation on how the model did. For now, we'll just look at how often we correctly predicted if there would be an avalanche or not"
   ],
   "metadata": {}
  },
  {
   "cell_type": "code",
   "execution_count": 12,
   "source": [
    "# Classify the mdel predictions using the threshold\r\n",
    "predictions = model.predict(test) > threshold\r\n",
    "\r\n",
    "# Compare the predictions to the actual outcomes in the dataset\r\n",
    "accuracy = np.average(predictions == test.avalanche)\r\n",
    "\r\n",
    "# Print the evaluation\r\n",
    "print(f\"The model correctly predicted outcomes {accuracy * 100:.2f}% of time.\")"
   ],
   "outputs": [
    {
     "output_type": "stream",
     "name": "stdout",
     "text": [
      "The model correctly predicted outcomes 65.05% of time.\n"
     ]
    }
   ],
   "metadata": {}
  },
  {
   "cell_type": "markdown",
   "source": [
    "Avalanches are hard to pick but we're doing ok. It's hard to tell exactly what kind of mistakes our model is making, though. We'll focus on this in the next exercise.\r\n",
    "\r\n",
    "## Summary\r\n",
    "\r\n",
    "In this unit we covered the following topics:\r\n",
    " - Using Data Exploration to understand which features have a stronger correlation to the outcomes\r\n",
    " - Building a simple Logistic Regression model\r\n",
    " - Using the trained model to predict _probabilities_\r\n",
    " - Using *thresholds* to map probabilities to binary classes\r\n",
    " - How to use a test set to measure the model's performance\r\n"
   ],
   "metadata": {}
  }
 ],
 "metadata": {
  "orig_nbformat": 4,
  "language_info": {
   "name": "python",
   "version": "3.7.6",
   "mimetype": "text/x-python",
   "codemirror_mode": {
    "name": "ipython",
    "version": 3
   },
   "pygments_lexer": "ipython3",
   "nbconvert_exporter": "python",
   "file_extension": ".py"
  },
  "kernelspec": {
   "name": "python3",
   "display_name": "Python 3.7.6 64-bit ('base': conda)"
  },
  "interpreter": {
   "hash": "60062bfbbdb55d7c70b884c78dba17d93f7bddb21846b67229a99cf865725014"
  }
 },
 "nbformat": 4,
 "nbformat_minor": 2
}