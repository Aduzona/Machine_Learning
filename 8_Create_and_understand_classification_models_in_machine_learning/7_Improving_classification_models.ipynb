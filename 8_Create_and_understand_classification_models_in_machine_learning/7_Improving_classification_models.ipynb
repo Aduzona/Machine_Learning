{
 "cells": [
  {
   "cell_type": "markdown",
   "source": [
    "# Exercise: Improving a logistic regression model\r\n",
    "\r\n",
    "In the previous exercise, we fit a simple logistic regression model to predict the chance of an avalanche. This time, we'll improve its performance by using multiple features intelligently.\r\n",
    "\r\n",
    "## Data visualisation\r\n",
    "\r\n",
    "Let's load our data."
   ],
   "metadata": {}
  },
  {
   "cell_type": "code",
   "execution_count": 1,
   "source": [
    "import pandas\r\n",
    "import graphings\r\n",
    "\r\n",
    "#Import the data from the .csv file\r\n",
    "dataset = pandas.read_csv('avalanche.csv', delimiter=\"\\t\", index_col=0)\r\n",
    "\r\n",
    "# Split our data into training and test\r\n",
    "import sklearn.model_selection\r\n",
    "train, test = sklearn.model_selection.train_test_split(dataset, test_size=0.25, random_state=10)\r\n",
    "\r\n",
    "print(\"Train size:\", train.shap[0])\r\n",
    "print(\"Test size:\", test.shape[0])\r\n",
    "\r\n",
    "#Let's have a look at the data\r\n",
    "print(train.head())"
   ],
   "outputs": [
    {
     "output_type": "error",
     "ename": "AttributeError",
     "evalue": "'DataFrame' object has no attribute 'shap'",
     "traceback": [
      "\u001b[1;31m---------------------------------------------------------------------------\u001b[0m",
      "\u001b[1;31mAttributeError\u001b[0m                            Traceback (most recent call last)",
      "\u001b[1;32m<ipython-input-1-96a90fa61285>\u001b[0m in \u001b[0;36m<module>\u001b[1;34m\u001b[0m\n\u001b[0;32m      9\u001b[0m \u001b[0mtrain\u001b[0m\u001b[1;33m,\u001b[0m \u001b[0mtest\u001b[0m \u001b[1;33m=\u001b[0m \u001b[0msklearn\u001b[0m\u001b[1;33m.\u001b[0m\u001b[0mmodel_selection\u001b[0m\u001b[1;33m.\u001b[0m\u001b[0mtrain_test_split\u001b[0m\u001b[1;33m(\u001b[0m\u001b[0mdataset\u001b[0m\u001b[1;33m,\u001b[0m \u001b[0mtest_size\u001b[0m\u001b[1;33m=\u001b[0m\u001b[1;36m0.25\u001b[0m\u001b[1;33m,\u001b[0m \u001b[0mrandom_state\u001b[0m\u001b[1;33m=\u001b[0m\u001b[1;36m10\u001b[0m\u001b[1;33m)\u001b[0m\u001b[1;33m\u001b[0m\u001b[1;33m\u001b[0m\u001b[0m\n\u001b[0;32m     10\u001b[0m \u001b[1;33m\u001b[0m\u001b[0m\n\u001b[1;32m---> 11\u001b[1;33m \u001b[0mprint\u001b[0m\u001b[1;33m(\u001b[0m\u001b[1;34m\"Train size:\"\u001b[0m\u001b[1;33m,\u001b[0m \u001b[0mtrain\u001b[0m\u001b[1;33m.\u001b[0m\u001b[0mshap\u001b[0m\u001b[1;33m[\u001b[0m\u001b[1;36m0\u001b[0m\u001b[1;33m]\u001b[0m\u001b[1;33m)\u001b[0m\u001b[1;33m\u001b[0m\u001b[1;33m\u001b[0m\u001b[0m\n\u001b[0m\u001b[0;32m     12\u001b[0m \u001b[0mprint\u001b[0m\u001b[1;33m(\u001b[0m\u001b[1;34m\"Test size:\"\u001b[0m\u001b[1;33m,\u001b[0m \u001b[0mtest\u001b[0m\u001b[1;33m.\u001b[0m\u001b[0mshape\u001b[0m\u001b[1;33m[\u001b[0m\u001b[1;36m0\u001b[0m\u001b[1;33m]\u001b[0m\u001b[1;33m)\u001b[0m\u001b[1;33m\u001b[0m\u001b[1;33m\u001b[0m\u001b[0m\n\u001b[0;32m     13\u001b[0m \u001b[1;33m\u001b[0m\u001b[0m\n",
      "\u001b[1;32m~\\anaconda3\\lib\\site-packages\\pandas\\core\\generic.py\u001b[0m in \u001b[0;36m__getattr__\u001b[1;34m(self, name)\u001b[0m\n\u001b[0;32m   5463\u001b[0m             \u001b[1;32mif\u001b[0m \u001b[0mself\u001b[0m\u001b[1;33m.\u001b[0m\u001b[0m_info_axis\u001b[0m\u001b[1;33m.\u001b[0m\u001b[0m_can_hold_identifiers_and_holds_name\u001b[0m\u001b[1;33m(\u001b[0m\u001b[0mname\u001b[0m\u001b[1;33m)\u001b[0m\u001b[1;33m:\u001b[0m\u001b[1;33m\u001b[0m\u001b[1;33m\u001b[0m\u001b[0m\n\u001b[0;32m   5464\u001b[0m                 \u001b[1;32mreturn\u001b[0m \u001b[0mself\u001b[0m\u001b[1;33m[\u001b[0m\u001b[0mname\u001b[0m\u001b[1;33m]\u001b[0m\u001b[1;33m\u001b[0m\u001b[1;33m\u001b[0m\u001b[0m\n\u001b[1;32m-> 5465\u001b[1;33m             \u001b[1;32mreturn\u001b[0m \u001b[0mobject\u001b[0m\u001b[1;33m.\u001b[0m\u001b[0m__getattribute__\u001b[0m\u001b[1;33m(\u001b[0m\u001b[0mself\u001b[0m\u001b[1;33m,\u001b[0m \u001b[0mname\u001b[0m\u001b[1;33m)\u001b[0m\u001b[1;33m\u001b[0m\u001b[1;33m\u001b[0m\u001b[0m\n\u001b[0m\u001b[0;32m   5466\u001b[0m \u001b[1;33m\u001b[0m\u001b[0m\n\u001b[0;32m   5467\u001b[0m     \u001b[1;32mdef\u001b[0m \u001b[0m__setattr__\u001b[0m\u001b[1;33m(\u001b[0m\u001b[0mself\u001b[0m\u001b[1;33m,\u001b[0m \u001b[0mname\u001b[0m\u001b[1;33m:\u001b[0m \u001b[0mstr\u001b[0m\u001b[1;33m,\u001b[0m \u001b[0mvalue\u001b[0m\u001b[1;33m)\u001b[0m \u001b[1;33m->\u001b[0m \u001b[1;32mNone\u001b[0m\u001b[1;33m:\u001b[0m\u001b[1;33m\u001b[0m\u001b[1;33m\u001b[0m\u001b[0m\n",
      "\u001b[1;31mAttributeError\u001b[0m: 'DataFrame' object has no attribute 'shap'"
     ]
    }
   ],
   "metadata": {}
  },
  {
   "cell_type": "markdown",
   "source": [
    "We have numerous features available:\r\n",
    "\r\n",
    "* `surface_hoar` is how disturbed the surface of the snow is\r\n",
    "* `fresh_thickness` is how thick the top layer of snow is, or 0 if there's no fresh snow on top\r\n",
    "* `wind` is the top wind speed that day, in km/h\r\n",
    "* `weak_layers` is the number of layers of snow that aren't well-bound to other layers\r\n",
    "* `no_visitors` is the number of hikers who were on the trail that day\r\n",
    "* `tracked_out` is a `1` or `0`. A `1` means that the snow has been trampled heavily by hikers \r\n",
    "\r\n",
    "## Simple logistic regression\r\n",
    "\r\n",
    "Let's make a simple logistic regression model and assess its performance with accuracy."
   ],
   "metadata": {}
  },
  {
   "cell_type": "code",
   "execution_count": 2,
   "source": [
    "import sklearn\r\n",
    "from sklearn.metrics import accuracy_score\r\n",
    "import statsmodels.formula.api as smf\r\n",
    "\r\n",
    "# Perform logistic regression.\r\n",
    "model = smf.logit(\"avalanche ~weak_layers\",train).fit()\r\n",
    "\r\n",
    "# Calculate accuracy\r\n",
    "def calculate_accuracy(model):\r\n",
    "    '''\r\n",
    "    Calculates accuracy\r\n",
    "    '''\r\n",
    "\r\n",
    "    # Make estimations and convert to categories\r\n",
    "    avalanche_predicted = model.predict(test)> 0.5\r\n",
    "\r\n",
    "    # Calculate what proportion were predicted correctly\r\n",
    "    # We can use skearn to calculate accuracy for us\r\n",
    "    print(\"Accuracy:\", accuracy_score(test.avalanche,avalanche_predicted))\r\n",
    "\r\n",
    "calculate_accuracy(model)"
   ],
   "outputs": [
    {
     "output_type": "stream",
     "name": "stdout",
     "text": [
      "Optimization terminated successfully.\n",
      "         Current function value: 0.616312\n",
      "         Iterations 5\n",
      "Accuracy: 0.6167883211678832\n"
     ]
    }
   ],
   "metadata": {}
  },
  {
   "cell_type": "markdown",
   "source": [
    "Let's see how we can improve our model\r\n",
    "\r\n",
    "## Utilizing multiple features\r\n",
    "\r\n",
    "Most of our features seem like they could be useful, least in theory. Let's try a model with all features we've available."
   ],
   "metadata": {}
  },
  {
   "cell_type": "code",
   "execution_count": 5,
   "source": [
    "# Perform logistic regression.\r\n",
    "model_all_features= smf.logit(\"avalanche ~ weak_layers + fresh_thickness + wind + surface_hoar + no_visitors + tracked_out\",train).fit()\r\n",
    "calculate_accuracy(model_all_features)"
   ],
   "outputs": [
    {
     "output_type": "stream",
     "name": "stdout",
     "text": [
      "Optimization terminated successfully.\n",
      "         Current function value: 0.459347\n",
      "         Iterations 7\n",
      "Accuracy: 0.7846715328467153\n"
     ]
    }
   ],
   "metadata": {}
  },
  {
   "cell_type": "markdown",
   "source": [
    "That's a big improvement on the simpler model we've been working with. \r\n",
    "\r\n",
    "To understand why, we can look at the summary information"
   ],
   "metadata": {}
  },
  {
   "cell_type": "code",
   "execution_count": 6,
   "source": [
    "model_all_features.summary()"
   ],
   "outputs": [
    {
     "output_type": "execute_result",
     "data": {
      "text/html": [
       "<table class=\"simpletable\">\n",
       "<caption>Logit Regression Results</caption>\n",
       "<tr>\n",
       "  <th>Dep. Variable:</th>       <td>avalanche</td>    <th>  No. Observations:  </th>  <td>   821</td>  \n",
       "</tr>\n",
       "<tr>\n",
       "  <th>Model:</th>                 <td>Logit</td>      <th>  Df Residuals:      </th>  <td>   814</td>  \n",
       "</tr>\n",
       "<tr>\n",
       "  <th>Method:</th>                 <td>MLE</td>       <th>  Df Model:          </th>  <td>     6</td>  \n",
       "</tr>\n",
       "<tr>\n",
       "  <th>Date:</th>            <td>Tue, 05 Oct 2021</td> <th>  Pseudo R-squ.:     </th>  <td>0.3305</td>  \n",
       "</tr>\n",
       "<tr>\n",
       "  <th>Time:</th>                <td>10:59:23</td>     <th>  Log-Likelihood:    </th> <td> -377.12</td> \n",
       "</tr>\n",
       "<tr>\n",
       "  <th>converged:</th>             <td>True</td>       <th>  LL-Null:           </th> <td> -563.33</td> \n",
       "</tr>\n",
       "<tr>\n",
       "  <th>Covariance Type:</th>     <td>nonrobust</td>    <th>  LLR p-value:       </th> <td>2.372e-77</td>\n",
       "</tr>\n",
       "</table>\n",
       "<table class=\"simpletable\">\n",
       "<tr>\n",
       "         <td></td>            <th>coef</th>     <th>std err</th>      <th>z</th>      <th>P>|z|</th>  <th>[0.025</th>    <th>0.975]</th>  \n",
       "</tr>\n",
       "<tr>\n",
       "  <th>Intercept</th>       <td>   -4.0107</td> <td>    0.443</td> <td>   -9.043</td> <td> 0.000</td> <td>   -4.880</td> <td>   -3.141</td>\n",
       "</tr>\n",
       "<tr>\n",
       "  <th>weak_layers</th>     <td>    0.3733</td> <td>    0.034</td> <td>   10.871</td> <td> 0.000</td> <td>    0.306</td> <td>    0.441</td>\n",
       "</tr>\n",
       "<tr>\n",
       "  <th>fresh_thickness</th> <td>   -0.0220</td> <td>    0.030</td> <td>   -0.732</td> <td> 0.464</td> <td>   -0.081</td> <td>    0.037</td>\n",
       "</tr>\n",
       "<tr>\n",
       "  <th>wind</th>            <td>    0.1009</td> <td>    0.009</td> <td>   11.149</td> <td> 0.000</td> <td>    0.083</td> <td>    0.119</td>\n",
       "</tr>\n",
       "<tr>\n",
       "  <th>surface_hoar</th>    <td>    0.3306</td> <td>    0.035</td> <td>    9.424</td> <td> 0.000</td> <td>    0.262</td> <td>    0.399</td>\n",
       "</tr>\n",
       "<tr>\n",
       "  <th>no_visitors</th>     <td>   -0.1060</td> <td>    0.032</td> <td>   -3.262</td> <td> 0.001</td> <td>   -0.170</td> <td>   -0.042</td>\n",
       "</tr>\n",
       "<tr>\n",
       "  <th>tracked_out</th>     <td>   -0.0664</td> <td>    0.181</td> <td>   -0.367</td> <td> 0.713</td> <td>   -0.420</td> <td>    0.288</td>\n",
       "</tr>\n",
       "</table>"
      ],
      "text/plain": [
       "<class 'statsmodels.iolib.summary.Summary'>\n",
       "\"\"\"\n",
       "                           Logit Regression Results                           \n",
       "==============================================================================\n",
       "Dep. Variable:              avalanche   No. Observations:                  821\n",
       "Model:                          Logit   Df Residuals:                      814\n",
       "Method:                           MLE   Df Model:                            6\n",
       "Date:                Tue, 05 Oct 2021   Pseudo R-squ.:                  0.3305\n",
       "Time:                        10:59:23   Log-Likelihood:                -377.12\n",
       "converged:                       True   LL-Null:                       -563.33\n",
       "Covariance Type:            nonrobust   LLR p-value:                 2.372e-77\n",
       "===================================================================================\n",
       "                      coef    std err          z      P>|z|      [0.025      0.975]\n",
       "-----------------------------------------------------------------------------------\n",
       "Intercept          -4.0107      0.443     -9.043      0.000      -4.880      -3.141\n",
       "weak_layers         0.3733      0.034     10.871      0.000       0.306       0.441\n",
       "fresh_thickness    -0.0220      0.030     -0.732      0.464      -0.081       0.037\n",
       "wind                0.1009      0.009     11.149      0.000       0.083       0.119\n",
       "surface_hoar        0.3306      0.035      9.424      0.000       0.262       0.399\n",
       "no_visitors        -0.1060      0.032     -3.262      0.001      -0.170      -0.042\n",
       "tracked_out        -0.0664      0.181     -0.367      0.713      -0.420       0.288\n",
       "===================================================================================\n",
       "\"\"\""
      ]
     },
     "metadata": {},
     "execution_count": 6
    }
   ],
   "metadata": {}
  },
  {
   "cell_type": "markdown",
   "source": [
    "Take a look at the P column, recalling that values less than 0.05 mean we can be confident that this parameter is helping the model make better predictions.\r\n",
    "\r\n",
    "Both `surface_hoar` and `wind` have very small values here, meaning they're useful predictors and probably explain why our model is working better. If we look at the `coef` (which states _parameters_) column we see that these have positive values. This means that higher winds, and greater amounts of surface hoar result in higher avalanche risk.\r\n",
    "\r\n",
    "## Simplifying our model\r\n",
    "\r\n",
    "Looking at the summary again, we can see that `tracked_out` (how trampled the snow is), and `fresh_thickness` have large p-values. This means they aren't useful predictors. Let's see what happens if we remove them from our model:"
   ],
   "metadata": {}
  },
  {
   "cell_type": "code",
   "execution_count": 7,
   "source": [
    "# Perform logistic regression.\r\n",
    "model_simplified = smf.logit(\"avalanche ~ weak_layers + surface_hoar + wind + no_visitors\", train).fit()\r\n",
    "calculate_accuracy(model_simplified)"
   ],
   "outputs": [
    {
     "output_type": "stream",
     "name": "stdout",
     "text": [
      "Optimization terminated successfully.\n",
      "         Current function value: 0.459760\n",
      "         Iterations 7\n",
      "Accuracy: 0.781021897810219\n"
     ]
    }
   ],
   "metadata": {}
  },
  {
   "cell_type": "markdown",
   "source": [
    "Our new model works very similarly to the old one! In some circumstances simplifying a model like this can even improve it, as it becomes less likely to overfit.\r\n",
    "\r\n",
    "## Careful feature selection\r\n",
    "\r\n",
    "Usually, we don't just pick features blindly. Let's think about what we've just done - we removed how much fresh snow was in a model, trying to predict avalanches. Something seems off. Surely avalanches are much _more_ likely after it has snowed? Similarly, the number of people on the track seems unrelated to how many avalanches there were, but we know that people often can trigger avalanches.\r\n",
    "\r\n",
    "Let's review our earlier model again:"
   ],
   "metadata": {}
  },
  {
   "cell_type": "code",
   "execution_count": 8,
   "source": [
    "model_all_features.summary()"
   ],
   "outputs": [
    {
     "output_type": "execute_result",
     "data": {
      "text/html": [
       "<table class=\"simpletable\">\n",
       "<caption>Logit Regression Results</caption>\n",
       "<tr>\n",
       "  <th>Dep. Variable:</th>       <td>avalanche</td>    <th>  No. Observations:  </th>  <td>   821</td>  \n",
       "</tr>\n",
       "<tr>\n",
       "  <th>Model:</th>                 <td>Logit</td>      <th>  Df Residuals:      </th>  <td>   814</td>  \n",
       "</tr>\n",
       "<tr>\n",
       "  <th>Method:</th>                 <td>MLE</td>       <th>  Df Model:          </th>  <td>     6</td>  \n",
       "</tr>\n",
       "<tr>\n",
       "  <th>Date:</th>            <td>Tue, 05 Oct 2021</td> <th>  Pseudo R-squ.:     </th>  <td>0.3305</td>  \n",
       "</tr>\n",
       "<tr>\n",
       "  <th>Time:</th>                <td>11:04:19</td>     <th>  Log-Likelihood:    </th> <td> -377.12</td> \n",
       "</tr>\n",
       "<tr>\n",
       "  <th>converged:</th>             <td>True</td>       <th>  LL-Null:           </th> <td> -563.33</td> \n",
       "</tr>\n",
       "<tr>\n",
       "  <th>Covariance Type:</th>     <td>nonrobust</td>    <th>  LLR p-value:       </th> <td>2.372e-77</td>\n",
       "</tr>\n",
       "</table>\n",
       "<table class=\"simpletable\">\n",
       "<tr>\n",
       "         <td></td>            <th>coef</th>     <th>std err</th>      <th>z</th>      <th>P>|z|</th>  <th>[0.025</th>    <th>0.975]</th>  \n",
       "</tr>\n",
       "<tr>\n",
       "  <th>Intercept</th>       <td>   -4.0107</td> <td>    0.443</td> <td>   -9.043</td> <td> 0.000</td> <td>   -4.880</td> <td>   -3.141</td>\n",
       "</tr>\n",
       "<tr>\n",
       "  <th>weak_layers</th>     <td>    0.3733</td> <td>    0.034</td> <td>   10.871</td> <td> 0.000</td> <td>    0.306</td> <td>    0.441</td>\n",
       "</tr>\n",
       "<tr>\n",
       "  <th>fresh_thickness</th> <td>   -0.0220</td> <td>    0.030</td> <td>   -0.732</td> <td> 0.464</td> <td>   -0.081</td> <td>    0.037</td>\n",
       "</tr>\n",
       "<tr>\n",
       "  <th>wind</th>            <td>    0.1009</td> <td>    0.009</td> <td>   11.149</td> <td> 0.000</td> <td>    0.083</td> <td>    0.119</td>\n",
       "</tr>\n",
       "<tr>\n",
       "  <th>surface_hoar</th>    <td>    0.3306</td> <td>    0.035</td> <td>    9.424</td> <td> 0.000</td> <td>    0.262</td> <td>    0.399</td>\n",
       "</tr>\n",
       "<tr>\n",
       "  <th>no_visitors</th>     <td>   -0.1060</td> <td>    0.032</td> <td>   -3.262</td> <td> 0.001</td> <td>   -0.170</td> <td>   -0.042</td>\n",
       "</tr>\n",
       "<tr>\n",
       "  <th>tracked_out</th>     <td>   -0.0664</td> <td>    0.181</td> <td>   -0.367</td> <td> 0.713</td> <td>   -0.420</td> <td>    0.288</td>\n",
       "</tr>\n",
       "</table>"
      ],
      "text/plain": [
       "<class 'statsmodels.iolib.summary.Summary'>\n",
       "\"\"\"\n",
       "                           Logit Regression Results                           \n",
       "==============================================================================\n",
       "Dep. Variable:              avalanche   No. Observations:                  821\n",
       "Model:                          Logit   Df Residuals:                      814\n",
       "Method:                           MLE   Df Model:                            6\n",
       "Date:                Tue, 05 Oct 2021   Pseudo R-squ.:                  0.3305\n",
       "Time:                        11:04:19   Log-Likelihood:                -377.12\n",
       "converged:                       True   LL-Null:                       -563.33\n",
       "Covariance Type:            nonrobust   LLR p-value:                 2.372e-77\n",
       "===================================================================================\n",
       "                      coef    std err          z      P>|z|      [0.025      0.975]\n",
       "-----------------------------------------------------------------------------------\n",
       "Intercept          -4.0107      0.443     -9.043      0.000      -4.880      -3.141\n",
       "weak_layers         0.3733      0.034     10.871      0.000       0.306       0.441\n",
       "fresh_thickness    -0.0220      0.030     -0.732      0.464      -0.081       0.037\n",
       "wind                0.1009      0.009     11.149      0.000       0.083       0.119\n",
       "surface_hoar        0.3306      0.035      9.424      0.000       0.262       0.399\n",
       "no_visitors        -0.1060      0.032     -3.262      0.001      -0.170      -0.042\n",
       "tracked_out        -0.0664      0.181     -0.367      0.713      -0.420       0.288\n",
       "===================================================================================\n",
       "\"\"\""
      ]
     },
     "metadata": {},
     "execution_count": 8
    }
   ],
   "metadata": {}
  },
  {
   "cell_type": "markdown",
   "source": [
    "Look at the `fresh_thickness` row. We're told that it has a negative coefficient. This means that as thickness increases, avalanches decrease.\r\n",
    "\r\n",
    "Similarly, `no_visitors` has a negative coefficient, meaning that fewer hikers means more avalanches.\r\n",
    "\r\n",
    "How can this bes? Well, while visitors can cause avalanches if there's a lot of fresh snow, presumably they cannot do so easily if there's no fresh snow. This means that our features aren't fully independent.\r\n",
    "\r\n",
    "We can tell the model to try to take into account that these features interact, using a multiply sign. Let's try that now."
   ],
   "metadata": {}
  },
  {
   "cell_type": "code",
   "execution_count": 9,
   "source": [
    "# Create a model with an interaction. Notice the end of the string where\r\n",
    "# we've a multiply sign between no_visitors and fresh_thickness\r\n",
    "formula = \"avalanche ~ weak_layers + surface_hoar + wind + no_visitors * fresh_thickness\"\r\n",
    "model_with_interaction = smf.logit(formula, train).fit()\r\n",
    "calculate_accuracy(model_with_interaction)"
   ],
   "outputs": [
    {
     "output_type": "stream",
     "name": "stdout",
     "text": [
      "Optimization terminated successfully.\n",
      "         Current function value: 0.413538\n",
      "         Iterations 7\n",
      "Accuracy: 0.8357664233576643\n"
     ]
    }
   ],
   "metadata": {}
  },
  {
   "cell_type": "markdown",
   "source": [
    "The model has improved to 84% accuracy! Let's look at the summary information:"
   ],
   "metadata": {}
  },
  {
   "cell_type": "code",
   "execution_count": 10,
   "source": [
    "model_with_interaction.summary()"
   ],
   "outputs": [
    {
     "output_type": "execute_result",
     "data": {
      "text/html": [
       "<table class=\"simpletable\">\n",
       "<caption>Logit Regression Results</caption>\n",
       "<tr>\n",
       "  <th>Dep. Variable:</th>       <td>avalanche</td>    <th>  No. Observations:  </th>  <td>   821</td>  \n",
       "</tr>\n",
       "<tr>\n",
       "  <th>Model:</th>                 <td>Logit</td>      <th>  Df Residuals:      </th>  <td>   814</td>  \n",
       "</tr>\n",
       "<tr>\n",
       "  <th>Method:</th>                 <td>MLE</td>       <th>  Df Model:          </th>  <td>     6</td>  \n",
       "</tr>\n",
       "<tr>\n",
       "  <th>Date:</th>            <td>Tue, 05 Oct 2021</td> <th>  Pseudo R-squ.:     </th>  <td>0.3973</td>  \n",
       "</tr>\n",
       "<tr>\n",
       "  <th>Time:</th>                <td>11:08:37</td>     <th>  Log-Likelihood:    </th> <td> -339.51</td> \n",
       "</tr>\n",
       "<tr>\n",
       "  <th>converged:</th>             <td>True</td>       <th>  LL-Null:           </th> <td> -563.33</td> \n",
       "</tr>\n",
       "<tr>\n",
       "  <th>Covariance Type:</th>     <td>nonrobust</td>    <th>  LLR p-value:       </th> <td>1.587e-93</td>\n",
       "</tr>\n",
       "</table>\n",
       "<table class=\"simpletable\">\n",
       "<tr>\n",
       "               <td></td>                  <th>coef</th>     <th>std err</th>      <th>z</th>      <th>P>|z|</th>  <th>[0.025</th>    <th>0.975]</th>  \n",
       "</tr>\n",
       "<tr>\n",
       "  <th>Intercept</th>                   <td>   -0.9606</td> <td>    0.587</td> <td>   -1.636</td> <td> 0.102</td> <td>   -2.111</td> <td>    0.190</td>\n",
       "</tr>\n",
       "<tr>\n",
       "  <th>weak_layers</th>                 <td>    0.4327</td> <td>    0.039</td> <td>   11.193</td> <td> 0.000</td> <td>    0.357</td> <td>    0.508</td>\n",
       "</tr>\n",
       "<tr>\n",
       "  <th>surface_hoar</th>                <td>    0.3887</td> <td>    0.039</td> <td>   10.035</td> <td> 0.000</td> <td>    0.313</td> <td>    0.465</td>\n",
       "</tr>\n",
       "<tr>\n",
       "  <th>wind</th>                        <td>    0.1204</td> <td>    0.010</td> <td>   11.607</td> <td> 0.000</td> <td>    0.100</td> <td>    0.141</td>\n",
       "</tr>\n",
       "<tr>\n",
       "  <th>no_visitors</th>                 <td>   -0.9430</td> <td>    0.114</td> <td>   -8.237</td> <td> 0.000</td> <td>   -1.167</td> <td>   -0.719</td>\n",
       "</tr>\n",
       "<tr>\n",
       "  <th>fresh_thickness</th>             <td>   -0.4962</td> <td>    0.069</td> <td>   -7.191</td> <td> 0.000</td> <td>   -0.631</td> <td>   -0.361</td>\n",
       "</tr>\n",
       "<tr>\n",
       "  <th>no_visitors:fresh_thickness</th> <td>    0.1015</td> <td>    0.013</td> <td>    7.835</td> <td> 0.000</td> <td>    0.076</td> <td>    0.127</td>\n",
       "</tr>\n",
       "</table>"
      ],
      "text/plain": [
       "<class 'statsmodels.iolib.summary.Summary'>\n",
       "\"\"\"\n",
       "                           Logit Regression Results                           \n",
       "==============================================================================\n",
       "Dep. Variable:              avalanche   No. Observations:                  821\n",
       "Model:                          Logit   Df Residuals:                      814\n",
       "Method:                           MLE   Df Model:                            6\n",
       "Date:                Tue, 05 Oct 2021   Pseudo R-squ.:                  0.3973\n",
       "Time:                        11:08:37   Log-Likelihood:                -339.51\n",
       "converged:                       True   LL-Null:                       -563.33\n",
       "Covariance Type:            nonrobust   LLR p-value:                 1.587e-93\n",
       "===============================================================================================\n",
       "                                  coef    std err          z      P>|z|      [0.025      0.975]\n",
       "-----------------------------------------------------------------------------------------------\n",
       "Intercept                      -0.9606      0.587     -1.636      0.102      -2.111       0.190\n",
       "weak_layers                     0.4327      0.039     11.193      0.000       0.357       0.508\n",
       "surface_hoar                    0.3887      0.039     10.035      0.000       0.313       0.465\n",
       "wind                            0.1204      0.010     11.607      0.000       0.100       0.141\n",
       "no_visitors                    -0.9430      0.114     -8.237      0.000      -1.167      -0.719\n",
       "fresh_thickness                -0.4962      0.069     -7.191      0.000      -0.631      -0.361\n",
       "no_visitors:fresh_thickness     0.1015      0.013      7.835      0.000       0.076       0.127\n",
       "===============================================================================================\n",
       "\"\"\""
      ]
     },
     "metadata": {},
     "execution_count": 10
    }
   ],
   "metadata": {}
  },
  {
   "cell_type": "markdown",
   "source": [
    "We can see that the interaction term is helpful - the p-value is less than 0.05. The model is also performing better than our previous attempts.\r\n",
    "\r\n",
    "## Making predictions with multiple features\r\n",
    "\r\n",
    "Very quickly, lets explore what this interaction means by looking at model predictions. \r\n",
    "\r\n",
    "We will first graph two independent features in 3D. Let's start with `weak_layers` and `wind`:"
   ],
   "metadata": {}
  },
  {
   "cell_type": "code",
   "execution_count": 11,
   "source": [
    "graphings.model_to_surface_plot(model_with_interaction, [\"weak_layers\", \"wind\"], test)"
   ],
   "outputs": [
    {
     "output_type": "stream",
     "name": "stdout",
     "text": [
      "Creating plot...\n"
     ]
    },
    {
     "output_type": "display_data",
     "data": {
      "application/vnd.plotly.v1+json": {
       "config": {
        "plotlyServerURL": "https://plot.ly"
       },
       "data": [
        {
         "colorbar": {
          "title": {
           "text": "Probability"
          }
         },
         "type": "surface",
         "x": [
          0,
          0.5263157894736842,
          1.0526315789473684,
          1.5789473684210527,
          2.1052631578947367,
          2.631578947368421,
          3.1578947368421053,
          3.6842105263157894,
          4.2105263157894735,
          4.7368421052631575,
          5.263157894736842,
          5.789473684210526,
          6.315789473684211,
          6.842105263157895,
          7.368421052631579,
          7.894736842105263,
          8.421052631578947,
          8.947368421052632,
          9.473684210526315,
          10
         ],
         "y": [
          0,
          2.1052631578947367,
          4.2105263157894735,
          6.315789473684211,
          8.421052631578947,
          10.526315789473683,
          12.631578947368421,
          14.736842105263158,
          16.842105263157894,
          18.94736842105263,
          21.052631578947366,
          23.157894736842103,
          25.263157894736842,
          27.36842105263158,
          29.473684210526315,
          31.57894736842105,
          33.68421052631579,
          35.78947368421053,
          37.89473684210526,
          40
         ],
         "z": [
          [
           0.016645957693825056,
           0.020814840607851434,
           0.026000190304536885,
           0.032434515151245825,
           0.04039511781818845,
           0.0502081541005343,
           0.062250392880744104,
           0.07694692468937195,
           0.09476250165120635,
           0.11618374094289896,
           0.14168936410604593,
           0.17170638939602179,
           0.206552225613091,
           0.24636626991052749,
           0.29103969552726155,
           0.3401574636647384,
           0.3929699130776829,
           0.44840975304477515,
           0.5051621313818825,
           0.561781795733499
          ],
          [
           0.021346250874046374,
           0.02666037995986032,
           0.033252505636058784,
           0.041405281377053564,
           0.05145055573832163,
           0.06377077263590873,
           0.07879608612711328,
           0.096994811879487,
           0.11885441453560684,
           0.1448502383425717,
           0.17540005473580317,
           0.21080470437300486,
           0.2511789509343638,
           0.2963818573936385,
           0.34596124808260137,
           0.3991297299872238,
           0.45478751969294656,
           0.5115984217991136,
           0.5681112654228486,
           0.6229049297479148
          ],
          [
           0.02733686247835094,
           0.03409039879613439,
           0.0424395889613053,
           0.05272199409901776,
           0.06532569878550094,
           0.08068580151860122,
           0.09927394146533038,
           0.1215780331348539,
           0.14806946226643555,
           0.17915599039593855,
           0.21512099616532934,
           0.2560537039268286,
           0.3017803371457658,
           0.35181125964278304,
           0.40532163102136826,
           0.4611801546828428,
           0.5180308686491492,
           0.5744185707699186,
           0.6289346881541373,
           0.6803534544597578
          ],
          [
           0.03494864184455917,
           0.04349856121946089,
           0.054023062601541064,
           0.06691582893685813,
           0.08261677228887308,
           0.10160059922327566,
           0.12435525671790339,
           0.15134756941626784,
           0.1829745073928463,
           0.21950108471615473,
           0.2609900899184283,
           0.30723421187014754,
           0.35770609018974536,
           0.4115437987197175,
           0.46758558341843826,
           0.5244573448590969,
           0.5807017480046245,
           0.6349245385796637,
           0.6859277746666798,
           0.7328041649648124
          ],
          [
           0.044582727178960016,
           0.0553543625361696,
           0.06854182693460956,
           0.08458970286525117,
           0.10397549166090793,
           0.12718673524693097,
           0.15468507326418132,
           0.18685588500277073,
           0.2239449103386658,
           0.265987617387046,
           0.31274250251158303,
           0.3636442799674187,
           0.4177943776476821,
           0.47400171449337203,
           0.5308757312572931,
           0.5869588642866026,
           0.6408729098191847,
           0.6914489707921982,
           0.7378162846035232,
           0.7794384064287007
          ],
          [
           0.056716502944610885,
           0.0702043625843675,
           0.08660530018906312,
           0.10639932223085995,
           0.13007310764345892,
           0.1580824659554316,
           0.19080036940203474,
           0.22845236871818472,
           0.27104574151765154,
           0.31830417394258315,
           0.3696243187094079,
           0.4240714764669754,
           0.48042644240012156,
           0.5372839193601385,
           0.5931880199809338,
           0.6467782796614671,
           0.6969159942763314,
           0.7427673886102318,
           0.7838337961072348,
           0.8199334554749756
          ],
          [
           0.07190411135523353,
           0.08866427320006466,
           0.1088727905514873,
           0.13301500073263556,
           0.16154021702806456,
           0.1948081723094288,
           0.2330233097333141,
           0.2761638635378255,
           0.32391813514133727,
           0.37564464684767673,
           0.4303731701007746,
           0.48685765027855027,
           0.5436798141289763,
           0.59938735084531,
           0.6526391761263506,
           0.7023278525986818,
           0.7476569727396455,
           0.7881653993443138,
           0.8237043806463827,
           0.8543826343307096
          ],
          [
           0.09076733229295485,
           0.11139659159602473,
           0.136013028157985,
           0.1650587721144213,
           0.19887946963403833,
           0.23765753631757003,
           0.2813413301334391,
           0.3295832394807804,
           0.3817036568388128,
           0.4366975019886717,
           0.49329321269626086,
           0.5500613366893952,
           0.605555030123668,
           0.6584541785834419,
           0.7076836093736509,
           0.7524845854834107,
           0.7924331895614498,
           0.8274129580459252,
           0.857557460180735,
           0.883180210148344
          ],
          [
           0.11397141485009529,
           0.13906778926737623,
           0.16863855162652047,
           0.20301440013196362,
           0.24235480336595153,
           0.28657743294872146,
           0.3352982851309856,
           0.3877996946065134,
           0.4430424864261316,
           0.49973099845301244,
           0.5564264270055195,
           0.611689270541727,
           0.6642219187519384,
           0.7129823843392428,
           0.757249827275156,
           0.7966371826481412,
           0.8310595219050165,
           0.8606743545154303,
           0.8858110901652295,
           0.9069032764599655
          ],
          [
           0.1421798679710843,
           0.1722799494275142,
           0.2072130640755323,
           0.24711481669095198,
           0.2918714081748174,
           0.34106201557677496,
           0.39393106109847703,
           0.4494061109827989,
           0.5061688734013625,
           0.5627730465020614,
           0.6177883262003095,
           0.6699410815814569,
           0.7182233532425084,
           0.7619523496275621,
           0.8007774356937654,
           0.8346444358063171,
           0.8637338831971929,
           0.8883902080802186,
           0.9090549085911789,
           0.9262113037878474
          ],
          [
           0.1759833314915643,
           0.21147552193875374,
           0.25193723203254437,
           0.29722243623078215,
           0.3468731202520748,
           0.40009601395542227,
           0.4557863389936233,
           0.5126047032756061,
           0.569099180627159,
           0.6238504943627533,
           0.6756104060141771,
           0.7234057476249415,
           0.7665918542059719,
           0.8048540456950111,
           0.8381680913339092,
           0.8667366287937117,
           0.8909182464449444,
           0.9111616839040712,
           0.9279521440586539,
           0.9417720006578866
          ],
          [
           0.2158017931028902,
           0.25682165412669644,
           0.30262964154077293,
           0.3527302352921665,
           0.40629276928949815,
           0.46218111211644264,
           0.5190363565210501,
           0.5754028413493045,
           0.6298741171331825,
           0.6812286856290082,
           0.7285288545113713,
           0.7711680918430945,
           0.8088671482428635,
           0.8416309067323197,
           0.8696831894069273,
           0.8933958942473216,
           0.9132243137232933,
           0.9296550332720764,
           0.9431682550481993,
           0.954213445875353
          ],
          [
           0.2617676358369627,
           0.3080920924110045,
           0.35863194440457963,
           0.4125195035688893,
           0.46858835294935075,
           0.5254617071156503,
           0.5816820695819706,
           0.6358575830228643,
           0.6867947691689025,
           0.7335920160060941,
           0.775680861499352,
           0.8128169161930289,
           0.8450333255769138,
           0.8725741775288057,
           0.895823846034714,
           0.9152435085396288,
           0.9313206526727138,
           0.9445330004356005,
           0.955325517723023,
           0.9640978962737138
          ],
          [
           0.3136088010097929,
           0.36457677985897063,
           0.41877435560496246,
           0.4750059677008963,
           0.5318786373760886,
           0.5879349375298792,
           0.6417993284023283,
           0.6923075609528091,
           0.7385946288001815,
           0.7801300091734071,
           0.8167035583235576,
           0.8483758154580293,
           0.8754102189249392,
           0.8982028010687955,
           0.9172199774356153,
           0.9329496781887815,
           0.9458668541081955,
           0.956411813192564,
           0.9649787040389304,
           0.9719112944640012
          ],
          [
           0.37056322359589994,
           0.4250554286378744,
           0.4814318489059053,
           0.5382850407404353,
           0.5941595509512243,
           0.6476978388374044,
           0.6977660211741307,
           0.7435361435940515,
           0.7845154267673812,
           0.8205273179832825,
           0.8516588666810543,
           0.8781919515468614,
           0.9005334625120657,
           0.9191544275397019,
           0.9345427801108466,
           0.9471704257495396,
           0.9574728703739548,
           0.9658386681162755,
           0.9726058582162337,
           0.9780629493614907
          ],
          [
           0.43136079251610376,
           0.487863878179508,
           0.544678824519643,
           0.6003540513305252,
           0.6535516503077707,
           0.7031691660878785,
           0.7484160644395241,
           0.7888370509112101,
           0.8242884717345301,
           0.8548829909844836,
           0.8809200244738327,
           0.9028165366458967,
           0.9210475635083619,
           0.9361006227925329,
           0.9484443173024492,
           0.958509218994293,
           0.9666782445653918,
           0.9732837192447673,
           0.9786087459777619,
           0.9828910582158095
          ],
          [
           0.4942999290017695,
           0.5510579126103022,
           0.6065166179572106,
           0.659359350307088,
           0.7085160680890584,
           0.7532339480057016,
           0.7930948617505401,
           0.8279873279934331,
           0.8580487202778405,
           0.8835950968847349,
           0.9050527321199291,
           0.9229000870355565,
           0.9376238643724679,
           0.9496891228478452,
           0.9595213804025993,
           0.9674978812793721,
           0.9739452561140353,
           0.9791412527088453,
           0.9833187796263508,
           0.9866710334833123
          ],
          [
           0.5574202481612276,
           0.6126454699054307,
           0.6651195788242044,
           0.7138058556851001,
           0.7579894027730834,
           0.7972888817024618,
           0.8316242256709866,
           0.8611566054011814,
           0.886217837060591,
           0.9072427592325494,
           0.924712696388919,
           0.9391131565167516,
           0.9509054284979732,
           0.9605098675638244,
           0.9682980180398959,
           0.9745908399409995,
           0.9796607789064213,
           0.9837359849930212,
           0.9870055053241357,
           0.9896246930062356
          ],
          [
           0.6187388679110466,
           0.6708310292053968,
           0.7190377133654293,
           0.7626820881604133,
           0.8014191741833101,
           0.8351995328178564,
           0.8642072149077569,
           0.8887889214181258,
           0.9093873292421425,
           0.926486085972001,
           0.9405691441812263,
           0.9520938123033512,
           0.9614751850615483,
           0.9690790865772716,
           0.975220834484881,
           0.9801676274236324,
           0.9841429241199448,
           0.9873316918230046,
           0.9898858066476875,
           0.9919291842124516
          ],
          [
           0.6764924488980052,
           0.7242108813715351,
           0.7673117135887766,
           0.8054858423126379,
           0.8387136452757651,
           0.867201133871246,
           0.8913090335746722,
           0.9114871537087417,
           0.9282209459119151,
           0.9419924653928231,
           0.9532548441728244,
           0.9624178291088816,
           0.9698415106350348,
           0.9758355962389341,
           0.9806620947164298,
           0.9845398413099923,
           0.9876497928747765,
           0.9901404143557498,
           0.9921327621613009,
           0.9937250633679068
          ]
         ]
        }
       ],
       "layout": {
        "scene": {
         "xaxis": {
          "title": {
           "text": "weak_layers"
          }
         },
         "yaxis": {
          "title": {
           "text": "wind"
          }
         },
         "zaxis": {
          "title": {
           "text": "Probability"
          }
         }
        },
        "template": {
         "data": {
          "bar": [
           {
            "error_x": {
             "color": "#2a3f5f"
            },
            "error_y": {
             "color": "#2a3f5f"
            },
            "marker": {
             "line": {
              "color": "white",
              "width": 0.5
             },
             "pattern": {
              "fillmode": "overlay",
              "size": 10,
              "solidity": 0.2
             }
            },
            "type": "bar"
           }
          ],
          "barpolar": [
           {
            "marker": {
             "line": {
              "color": "white",
              "width": 0.5
             },
             "pattern": {
              "fillmode": "overlay",
              "size": 10,
              "solidity": 0.2
             }
            },
            "type": "barpolar"
           }
          ],
          "box": [
           {
            "boxpoints": "outliers",
            "notched": false,
            "type": "box"
           }
          ],
          "carpet": [
           {
            "aaxis": {
             "endlinecolor": "#2a3f5f",
             "gridcolor": "#C8D4E3",
             "linecolor": "#C8D4E3",
             "minorgridcolor": "#C8D4E3",
             "startlinecolor": "#2a3f5f"
            },
            "baxis": {
             "endlinecolor": "#2a3f5f",
             "gridcolor": "#C8D4E3",
             "linecolor": "#C8D4E3",
             "minorgridcolor": "#C8D4E3",
             "startlinecolor": "#2a3f5f"
            },
            "type": "carpet"
           }
          ],
          "choropleth": [
           {
            "colorbar": {
             "outlinewidth": 0,
             "ticks": ""
            },
            "type": "choropleth"
           }
          ],
          "contour": [
           {
            "colorbar": {
             "outlinewidth": 0,
             "ticks": ""
            },
            "colorscale": [
             [
              0,
              "#0d0887"
             ],
             [
              0.1111111111111111,
              "#46039f"
             ],
             [
              0.2222222222222222,
              "#7201a8"
             ],
             [
              0.3333333333333333,
              "#9c179e"
             ],
             [
              0.4444444444444444,
              "#bd3786"
             ],
             [
              0.5555555555555556,
              "#d8576b"
             ],
             [
              0.6666666666666666,
              "#ed7953"
             ],
             [
              0.7777777777777778,
              "#fb9f3a"
             ],
             [
              0.8888888888888888,
              "#fdca26"
             ],
             [
              1,
              "#f0f921"
             ]
            ],
            "type": "contour"
           }
          ],
          "contourcarpet": [
           {
            "colorbar": {
             "outlinewidth": 0,
             "ticks": ""
            },
            "type": "contourcarpet"
           }
          ],
          "heatmap": [
           {
            "colorbar": {
             "outlinewidth": 0,
             "ticks": ""
            },
            "colorscale": [
             [
              0,
              "#0d0887"
             ],
             [
              0.1111111111111111,
              "#46039f"
             ],
             [
              0.2222222222222222,
              "#7201a8"
             ],
             [
              0.3333333333333333,
              "#9c179e"
             ],
             [
              0.4444444444444444,
              "#bd3786"
             ],
             [
              0.5555555555555556,
              "#d8576b"
             ],
             [
              0.6666666666666666,
              "#ed7953"
             ],
             [
              0.7777777777777778,
              "#fb9f3a"
             ],
             [
              0.8888888888888888,
              "#fdca26"
             ],
             [
              1,
              "#f0f921"
             ]
            ],
            "type": "heatmap"
           }
          ],
          "heatmapgl": [
           {
            "colorbar": {
             "outlinewidth": 0,
             "ticks": ""
            },
            "colorscale": [
             [
              0,
              "#0d0887"
             ],
             [
              0.1111111111111111,
              "#46039f"
             ],
             [
              0.2222222222222222,
              "#7201a8"
             ],
             [
              0.3333333333333333,
              "#9c179e"
             ],
             [
              0.4444444444444444,
              "#bd3786"
             ],
             [
              0.5555555555555556,
              "#d8576b"
             ],
             [
              0.6666666666666666,
              "#ed7953"
             ],
             [
              0.7777777777777778,
              "#fb9f3a"
             ],
             [
              0.8888888888888888,
              "#fdca26"
             ],
             [
              1,
              "#f0f921"
             ]
            ],
            "type": "heatmapgl"
           }
          ],
          "histogram": [
           {
            "marker": {
             "line": {
              "width": 1
             },
             "pattern": {
              "fillmode": "overlay",
              "size": 10,
              "solidity": 0.2
             }
            },
            "type": "histogram"
           }
          ],
          "histogram2d": [
           {
            "colorbar": {
             "outlinewidth": 0,
             "ticks": ""
            },
            "colorscale": [
             [
              0,
              "#0d0887"
             ],
             [
              0.1111111111111111,
              "#46039f"
             ],
             [
              0.2222222222222222,
              "#7201a8"
             ],
             [
              0.3333333333333333,
              "#9c179e"
             ],
             [
              0.4444444444444444,
              "#bd3786"
             ],
             [
              0.5555555555555556,
              "#d8576b"
             ],
             [
              0.6666666666666666,
              "#ed7953"
             ],
             [
              0.7777777777777778,
              "#fb9f3a"
             ],
             [
              0.8888888888888888,
              "#fdca26"
             ],
             [
              1,
              "#f0f921"
             ]
            ],
            "type": "histogram2d"
           }
          ],
          "histogram2dcontour": [
           {
            "colorbar": {
             "outlinewidth": 0,
             "ticks": ""
            },
            "colorscale": [
             [
              0,
              "#0d0887"
             ],
             [
              0.1111111111111111,
              "#46039f"
             ],
             [
              0.2222222222222222,
              "#7201a8"
             ],
             [
              0.3333333333333333,
              "#9c179e"
             ],
             [
              0.4444444444444444,
              "#bd3786"
             ],
             [
              0.5555555555555556,
              "#d8576b"
             ],
             [
              0.6666666666666666,
              "#ed7953"
             ],
             [
              0.7777777777777778,
              "#fb9f3a"
             ],
             [
              0.8888888888888888,
              "#fdca26"
             ],
             [
              1,
              "#f0f921"
             ]
            ],
            "type": "histogram2dcontour"
           }
          ],
          "mesh3d": [
           {
            "colorbar": {
             "outlinewidth": 0,
             "ticks": ""
            },
            "type": "mesh3d"
           }
          ],
          "parcoords": [
           {
            "line": {
             "colorbar": {
              "outlinewidth": 0,
              "ticks": ""
             }
            },
            "type": "parcoords"
           }
          ],
          "pie": [
           {
            "automargin": true,
            "type": "pie"
           }
          ],
          "scatter": [
           {
            "marker": {
             "colorbar": {
              "outlinewidth": 0,
              "ticks": ""
             },
             "opacity": 0.8
            },
            "type": "scatter"
           }
          ],
          "scatter3d": [
           {
            "line": {
             "colorbar": {
              "outlinewidth": 0,
              "ticks": ""
             }
            },
            "marker": {
             "colorbar": {
              "outlinewidth": 0,
              "ticks": ""
             },
             "opacity": 0.8
            },
            "type": "scatter3d"
           }
          ],
          "scattercarpet": [
           {
            "marker": {
             "colorbar": {
              "outlinewidth": 0,
              "ticks": ""
             }
            },
            "type": "scattercarpet"
           }
          ],
          "scattergeo": [
           {
            "marker": {
             "colorbar": {
              "outlinewidth": 0,
              "ticks": ""
             }
            },
            "type": "scattergeo"
           }
          ],
          "scattergl": [
           {
            "marker": {
             "colorbar": {
              "outlinewidth": 0,
              "ticks": ""
             }
            },
            "type": "scattergl"
           }
          ],
          "scattermapbox": [
           {
            "marker": {
             "colorbar": {
              "outlinewidth": 0,
              "ticks": ""
             }
            },
            "type": "scattermapbox"
           }
          ],
          "scatterpolar": [
           {
            "marker": {
             "colorbar": {
              "outlinewidth": 0,
              "ticks": ""
             }
            },
            "type": "scatterpolar"
           }
          ],
          "scatterpolargl": [
           {
            "marker": {
             "colorbar": {
              "outlinewidth": 0,
              "ticks": ""
             }
            },
            "type": "scatterpolargl"
           }
          ],
          "scatterternary": [
           {
            "marker": {
             "colorbar": {
              "outlinewidth": 0,
              "ticks": ""
             }
            },
            "type": "scatterternary"
           }
          ],
          "surface": [
           {
            "colorbar": {
             "outlinewidth": 0,
             "ticks": ""
            },
            "colorscale": [
             [
              0,
              "#0d0887"
             ],
             [
              0.1111111111111111,
              "#46039f"
             ],
             [
              0.2222222222222222,
              "#7201a8"
             ],
             [
              0.3333333333333333,
              "#9c179e"
             ],
             [
              0.4444444444444444,
              "#bd3786"
             ],
             [
              0.5555555555555556,
              "#d8576b"
             ],
             [
              0.6666666666666666,
              "#ed7953"
             ],
             [
              0.7777777777777778,
              "#fb9f3a"
             ],
             [
              0.8888888888888888,
              "#fdca26"
             ],
             [
              1,
              "#f0f921"
             ]
            ],
            "type": "surface"
           }
          ],
          "table": [
           {
            "cells": {
             "fill": {
              "color": "#EBF0F8"
             },
             "line": {
              "color": "white"
             }
            },
            "header": {
             "fill": {
              "color": "#C8D4E3"
             },
             "line": {
              "color": "white"
             }
            },
            "type": "table"
           }
          ]
         },
         "layout": {
          "annotationdefaults": {
           "arrowcolor": "#2a3f5f",
           "arrowhead": 0,
           "arrowwidth": 1
          },
          "autotypenumbers": "strict",
          "coloraxis": {
           "colorbar": {
            "outlinewidth": 0,
            "ticks": ""
           }
          },
          "colorscale": {
           "diverging": [
            [
             0,
             "#8e0152"
            ],
            [
             0.1,
             "#c51b7d"
            ],
            [
             0.2,
             "#de77ae"
            ],
            [
             0.3,
             "#f1b6da"
            ],
            [
             0.4,
             "#fde0ef"
            ],
            [
             0.5,
             "#f7f7f7"
            ],
            [
             0.6,
             "#e6f5d0"
            ],
            [
             0.7,
             "#b8e186"
            ],
            [
             0.8,
             "#7fbc41"
            ],
            [
             0.9,
             "#4d9221"
            ],
            [
             1,
             "#276419"
            ]
           ],
           "sequential": [
            [
             0,
             "#0d0887"
            ],
            [
             0.1111111111111111,
             "#46039f"
            ],
            [
             0.2222222222222222,
             "#7201a8"
            ],
            [
             0.3333333333333333,
             "#9c179e"
            ],
            [
             0.4444444444444444,
             "#bd3786"
            ],
            [
             0.5555555555555556,
             "#d8576b"
            ],
            [
             0.6666666666666666,
             "#ed7953"
            ],
            [
             0.7777777777777778,
             "#fb9f3a"
            ],
            [
             0.8888888888888888,
             "#fdca26"
            ],
            [
             1,
             "#f0f921"
            ]
           ],
           "sequentialminus": [
            [
             0,
             "#0d0887"
            ],
            [
             0.1111111111111111,
             "#46039f"
            ],
            [
             0.2222222222222222,
             "#7201a8"
            ],
            [
             0.3333333333333333,
             "#9c179e"
            ],
            [
             0.4444444444444444,
             "#bd3786"
            ],
            [
             0.5555555555555556,
             "#d8576b"
            ],
            [
             0.6666666666666666,
             "#ed7953"
            ],
            [
             0.7777777777777778,
             "#fb9f3a"
            ],
            [
             0.8888888888888888,
             "#fdca26"
            ],
            [
             1,
             "#f0f921"
            ]
           ]
          },
          "colorway": [
           "#636efa",
           "#EF553B",
           "#00cc96",
           "#ab63fa",
           "#FFA15A",
           "#19d3f3",
           "#FF6692",
           "#B6E880",
           "#FF97FF",
           "#FECB52"
          ],
          "font": {
           "color": "#2a3f5f"
          },
          "geo": {
           "bgcolor": "white",
           "lakecolor": "white",
           "landcolor": "white",
           "showlakes": true,
           "showland": true,
           "subunitcolor": "#C8D4E3"
          },
          "height": 400,
          "hoverlabel": {
           "align": "left"
          },
          "hovermode": "closest",
          "mapbox": {
           "style": "light"
          },
          "margin": {
           "b": 2,
           "l": 2,
           "r": 2,
           "t": 30
          },
          "paper_bgcolor": "white",
          "plot_bgcolor": "white",
          "polar": {
           "angularaxis": {
            "gridcolor": "#EBF0F8",
            "linecolor": "#EBF0F8",
            "ticks": ""
           },
           "bgcolor": "white",
           "radialaxis": {
            "gridcolor": "#EBF0F8",
            "linecolor": "#EBF0F8",
            "ticks": ""
           }
          },
          "scene": {
           "camera": {
            "eye": {
             "x": 1.5,
             "y": 1.5,
             "z": 0.1
            }
           },
           "xaxis": {
            "backgroundcolor": "white",
            "gridcolor": "#DFE8F3",
            "gridwidth": 2,
            "linecolor": "#EBF0F8",
            "showbackground": true,
            "ticks": "",
            "zerolinecolor": "#EBF0F8"
           },
           "yaxis": {
            "backgroundcolor": "white",
            "gridcolor": "#DFE8F3",
            "gridwidth": 2,
            "linecolor": "#EBF0F8",
            "showbackground": true,
            "ticks": "",
            "zerolinecolor": "#EBF0F8"
           },
           "zaxis": {
            "backgroundcolor": "white",
            "gridcolor": "#DFE8F3",
            "gridwidth": 2,
            "linecolor": "#EBF0F8",
            "showbackground": true,
            "ticks": "",
            "zerolinecolor": "#EBF0F8"
           }
          },
          "shapedefaults": {
           "line": {
            "color": "#2a3f5f"
           }
          },
          "ternary": {
           "aaxis": {
            "gridcolor": "#DFE8F3",
            "linecolor": "#A2B1C6",
            "ticks": ""
           },
           "baxis": {
            "gridcolor": "#DFE8F3",
            "linecolor": "#A2B1C6",
            "ticks": ""
           },
           "bgcolor": "white",
           "caxis": {
            "gridcolor": "#DFE8F3",
            "linecolor": "#A2B1C6",
            "ticks": ""
           }
          },
          "title": {
           "x": 0.5
          },
          "xaxis": {
           "automargin": true,
           "gridcolor": "#EBF0F8",
           "linecolor": "#EBF0F8",
           "linewidth": 2,
           "showline": true,
           "ticks": "",
           "title": {
            "standoff": 15
           },
           "zerolinecolor": "#EBF0F8",
           "zerolinewidth": 2
          },
          "yaxis": {
           "automargin": true,
           "gridcolor": "#EBF0F8",
           "linecolor": "#EBF0F8",
           "linewidth": 2,
           "showline": true,
           "ticks": "",
           "title": {
            "standoff": 15
           },
           "zerolinecolor": "#EBF0F8",
           "zerolinewidth": 2
          }
         }
        },
        "title": {
         "text": "Model Prediction"
        }
       }
      }
     },
     "metadata": {}
    }
   ],
   "metadata": {}
  },
  {
   "cell_type": "markdown",
   "source": [
    "The graph is interactive - rotate it and explore how there's a clear s-shaped relationship between the features and probability.\r\n",
    "\r\n",
    "Let's now look at the features that we've said can interact:"
   ],
   "metadata": {}
  },
  {
   "cell_type": "code",
   "execution_count": 12,
   "source": [
    "graphings.model_to_surface_plot(model_with_interaction, [\"no_visitors\", \"fresh_thickness\"], test)"
   ],
   "outputs": [
    {
     "output_type": "stream",
     "name": "stdout",
     "text": [
      "Creating plot...\n"
     ]
    },
    {
     "output_type": "display_data",
     "data": {
      "application/vnd.plotly.v1+json": {
       "config": {
        "plotlyServerURL": "https://plot.ly"
       },
       "data": [
        {
         "colorbar": {
          "title": {
           "text": "Probability"
          }
         },
         "type": "surface",
         "x": [
          0,
          0.47368421052631576,
          0.9473684210526315,
          1.4210526315789473,
          1.894736842105263,
          2.3684210526315788,
          2.8421052631578947,
          3.31578947368421,
          3.789473684210526,
          4.263157894736842,
          4.7368421052631575,
          5.2105263157894735,
          5.684210526315789,
          6.157894736842105,
          6.63157894736842,
          7.105263157894736,
          7.578947368421052,
          8.052631578947368,
          8.526315789473683,
          9
         ],
         "y": [
          0.4137014307004687,
          1.2959187122253057,
          2.1781359937501428,
          3.0603532752749802,
          3.9425705567998173,
          4.824787838324655,
          5.707005119849492,
          6.589222401374329,
          7.471439682899166,
          8.353656964424003,
          9.23587424594884,
          10.118091527473677,
          11.000308808998515,
          11.882526090523351,
          12.764743372048189,
          13.646960653573025,
          14.529177935097863,
          15.4113952166227,
          16.29361249814754,
          17.175829779672377
         ],
         "z": [
          [
           0.99044918008353,
           0.9854392371316607,
           0.9778600417499922,
           0.966469944710615,
           0.9495225928648764,
           0.9246769998260714,
           0.8890313166146231,
           0.8394457433886228,
           0.7733518652935405,
           0.6900944442979233,
           0.592373576758023,
           0.48675605667711797,
           0.3823081645994714,
           0.28770895395160245,
           0.20861209423162844,
           0.1467795382116592,
           0.10093661725478216,
           0.0682660152505165,
           0.045633319963443955,
           0.03026049763788077
          ],
          [
           0.9852805799553711,
           0.9785303897364478,
           0.9687827037145869,
           0.9548137161707447,
           0.9350132513097367,
           0.9073779610227785,
           0.8696294712482958,
           0.8195558525936686,
           0.7556535479978904,
           0.6780119636373164,
           0.589114309289757,
           0.4939902474396437,
           0.3992993054992529,
           0.31158259783380965,
           0.23557830435770633,
           0.17344275287706348,
           0.12501566386065804,
           0.08865958913492786,
           0.062125614039975005,
           0.04315665661218293
          ],
          [
           0.9773787812881171,
           0.9684483644175702,
           0.9561505644008693,
           0.9393596186708871,
           0.9166991944073006,
           0.8865932077592887,
           0.8474175942462414,
           0.7977954769159218,
           0.7370431335968362,
           0.6656866223244291,
           0.5858472013833484,
           0.5012269555332395,
           0.4165363650661544,
           0.33650137432733,
           0.2648636669745737,
           0.2037925942075138,
           0.15385591367802243,
           0.1143974662901065,
           0.08405341946170555,
           0.06120192945481741
          ],
          [
           0.9653841059371397,
           0.9538551336028975,
           0.9387300859192843,
           0.9190680908910764,
           0.8938101642972097,
           0.8618543811722702,
           0.8221951187646509,
           0.7741341492141387,
           0.7175450997272511,
           0.653130852531915,
           0.5825725226493615,
           0.508463149615511,
           0.4339799433101536,
           0.3623640314854629,
           0.2963780766870715,
           0.23792449347860864,
           0.1879204913265389,
           0.1464067202312639,
           0.11279006758473806,
           0.08611348547981056
          ],
          [
           0.9473718388209149,
           0.9329793598287853,
           0.9150040266384516,
           0.8927617469677956,
           0.8655542010259725,
           0.8327370775944403,
           0.7938177047393369,
           0.7485766208337947,
           0.6971952760168535,
           0.6403582882366239,
           0.5792905453283064,
           0.5156957992051342,
           0.45158862910337405,
           0.38904889763222755,
           0.3299591654769667,
           0.27579281341728645,
           0.22749934908121094,
           0.18549640569261372,
           0.14974516047982772,
           0.11987028947390022
          ],
          [
           0.9207563007618523,
           0.9036137806867809,
           0.8832331606674778,
           0.8592145314224403,
           0.8311995580229822,
           0.798914543453415,
           0.7622210807346388,
           0.7211687938868457,
           0.6760412542509632,
           0.6273837265502266,
           0.5760015442048453,
           0.5229218797560148,
           0.4693193773048233,
           0.4164155330306055,
           0.3653693867823842,
           0.31717975988129293,
           0.2726157370111059,
           0.23218393100813514,
           0.19613170529318602,
           0.16447829081559792
          ],
          [
           0.8823520755898339,
           0.8632671463983732,
           0.8416418887665548,
           0.8173202060190151,
           0.7901942261324284,
           0.7602220040536134,
           0.7274449057833644,
           0.692002512127796,
           0.6541425113595657,
           0.6142230766317986,
           0.572705796520144,
           0.530138377710342,
           0.48712791982637743,
           0.44430724360183615,
           0.40229810356759305,
           0.3616757489144155,
           0.32293902053633794,
           0.2864890722561509,
           0.25261820312645744,
           0.22150861835634075
          ],
          [
           0.82879651836193,
           0.8095904930850266,
           0.7887789891168764,
           0.7663492933889571,
           0.7423158854941226,
           0.7167241812762754,
           0.6896534540273164,
           0.6612185699355547,
           0.6315702058556374,
           0.60089329626284,
           0.5694035818824222,
           0.5373422955126235,
           0.5049692025311007,
           0.4725543892611964,
           0.4403693342814441,
           0.4086778819466336,
           0.37772774902666983,
           0.34774313237757776,
           0.3189188591151185,
           0.2914163525473741
          ],
          [
           0.7575601053938387,
           0.7411602762959261,
           0.7240551734504721,
           0.7062676825184355,
           0.6878279485334936,
           0.668773508895936,
           0.6491492736840156,
           0.6290073385291837,
           0.6084066207882168,
           0.5874123163854297,
           0.566095182175762,
           0.5445306565670203,
           0.522797838926923,
           0.5009783554384432,
           0.4791551450183895,
           0.45741120321088086,
           0.43582832426040374,
           0.4144858816690155,
           0.39345968544057247,
           0.37282095008562877
          ],
          [
           0.6685371538019934,
           0.6585106517915469,
           0.6483403924658071,
           0.6380337333213337,
           0.6275985090473764,
           0.6170430132797602,
           0.6063759770448288,
           0.5956065439621946,
           0.5847442423142707,
           0.5737989541298099,
           0.5627808814672379,
           0.5517005101206618,
           0.5405685710064139,
           0.5293959995200486,
           0.5181938931822541,
           0.5069734679165429,
           0.4957460133212742,
           0.48452284731320144,
           0.47331527052889383,
           0.4621345208739367
          ],
          [
           0.5655710296385342,
           0.5649608876032272,
           0.564350548717092,
           0.5637400147670188,
           0.5631292875422441,
           0.5625183688343288,
           0.5619072604371376,
           0.5612959641468193,
           0.5606844817617868,
           0.5600728150826949,
           0.559460965912421,
           0.5588489360560429,
           0.5582367273208193,
           0.5576243415161701,
           0.5570117804536497,
           0.5563990459469358,
           0.5557861398117984,
           0.5551730638660846,
           0.5545598199296977,
           0.5539464098245712
          ],
          [
           0.45661701763568135,
           0.4665442920983227,
           0.4764981327761915,
           0.48647067810594863,
           0.49645400707896137,
           0.5064401643389815,
           0.5164211855120062,
           0.5263891225971771,
           0.536336069246878,
           0.5462541857654659,
           0.5561357236593343,
           0.5659730495761744,
           0.5757586684782882,
           0.5854852459035074,
           0.5951456291775046,
           0.6047328674529245,
           0.6142402304635326,
           0.6236612258953965,
           0.632989615291602,
           0.6422194284220821
          ],
          [
           0.3516618839290426,
           0.37066460005206536,
           0.3900763550791043,
           0.40984266744288766,
           0.42990460718255563,
           0.45019944089957264,
           0.47066137842093403,
           0.49122240348843665,
           0.5118131668926819,
           0.5323639174957342,
           0.5528054447509138,
           0.5730700057667878,
           0.5930922107166634,
           0.6128098424089137,
           0.6321645889597727,
           0.6511026725248611,
           0.6695753616706156,
           0.6875393598966933,
           0.7049570677503123,
           0.7217967206240489
          ],
          [
           0.25931824520492325,
           0.28399909527999,
           0.31004567871082045,
           0.3373555538040804,
           0.3657956179398288,
           0.39520333782138395,
           0.42538948212563116,
           0.4561423389951988,
           0.48723326769756414,
           0.5184233029900683,
           0.5494704210260515,
           0.5801370040206275,
           0.6101970189946818,
           0.6394424573644629,
           0.6676886617368445,
           0.6947782811650299,
           0.7205837287113265,
           0.7450081467880811,
           0.7679850002023199,
           0.7894765028768312
          ],
          [
           0.1843291612387642,
           0.21080930528163194,
           0.2399743319083759,
           0.2717847165949878,
           0.3061134545956835,
           0.3427374440527716,
           0.38133513684963966,
           0.42149206507117026,
           0.4627149603957814,
           0.5044539472241175,
           0.546130946019284,
           0.5871712923096758,
           0.6270349621284823,
           0.6652438708953691,
           0.7014024578981098,
           0.7352099727942767,
           0.7664642273101309,
           0.7950577538804509,
           0.8209681116773465,
           0.844244426616096
          ],
          [
           0.1272983032034769,
           0.15246492285961213,
           0.18157176764508698,
           0.2148268737359557,
           0.25229512385016856,
           0.29385256803759535,
           0.3391503311694824,
           0.38759805689019006,
           0.4383756498134951,
           0.49047763419368356,
           0.5427873148592041,
           0.5941701712920427,
           0.6435704238148234,
           0.690093772767796,
           0.7330633349025436,
           0.7720430702833635,
           0.8068306583075947,
           0.8374273497797218,
           0.8639946652907259,
           0.8868072398124102
          ],
          [
           0.08605109388601173,
           0.10805719708168988,
           0.13486057596189405,
           0.16706716538727812,
           0.2051413618520172,
           0.24929555622898028,
           0.2993739684470711,
           0.3547582162378354,
           0.41432932530163114,
           0.4765161913122091,
           0.5394398241656668,
           0.6011309982411999,
           0.6597705648601857,
           0.7138923539334419,
           0.7625038557026498,
           0.8051107334039286,
           0.8416611852659909,
           0.8724428355653436,
           0.8979658645564408,
           0.9188569459616384
          ],
          [
           0.05729142433785015,
           0.07543270074598046,
           0.09871686183763854,
           0.1281917395933662,
           0.16485746944286886,
           0.20949040646222392,
           0.26241026737329914,
           0.3232321983504668,
           0.3906844665021606,
           0.4625913532335427,
           0.5360887719458589,
           0.6080511907862608,
           0.6756055335023508,
           0.736561034176427,
           0.7896291817449365,
           0.8344104028195284,
           0.8712138541994164,
           0.9008098528897743,
           0.9241962578413474,
           0.9424212111107133
          ],
          [
           0.037746722160544456,
           0.052082986831560464,
           0.07145983009533914,
           0.09730558273492,
           0.1311786624256719,
           0.17456305764519403,
           0.22852187290623246,
           0.2932345727938614,
           0.3675421663239991,
           0.44872462690186987,
           0.5327344574893165,
           0.614928230453065,
           0.691048622294414,
           0.7580423822832729,
           0.8144104805279214,
           0.8600707371383154,
           0.8959327521910544,
           0.9234221408540748,
           0.9441032312968476,
           0.9594443568634645
          ],
          [
           0.024694941718144865,
           0.035682085898466796,
           0.051300448913705284,
           0.07323591881496933,
           0.10352721299830084,
           0.14439529627003014,
           0.19783607252309493,
           0.264931068664465,
           0.3449945365360632,
           0.4349371596028981,
           0.5293771812619641,
           0.621759665996911,
           0.7060763715510662,
           0.7782993291185383,
           0.8368756443471576,
           0.8823154875872369,
           0.9163626403942021,
           0.9412159191238683,
           0.9590142345085426,
           0.9715863560479974
          ]
         ]
        }
       ],
       "layout": {
        "scene": {
         "xaxis": {
          "title": {
           "text": "no_visitors"
          }
         },
         "yaxis": {
          "title": {
           "text": "fresh_thickness"
          }
         },
         "zaxis": {
          "title": {
           "text": "Probability"
          }
         }
        },
        "template": {
         "data": {
          "bar": [
           {
            "error_x": {
             "color": "#2a3f5f"
            },
            "error_y": {
             "color": "#2a3f5f"
            },
            "marker": {
             "line": {
              "color": "white",
              "width": 0.5
             },
             "pattern": {
              "fillmode": "overlay",
              "size": 10,
              "solidity": 0.2
             }
            },
            "type": "bar"
           }
          ],
          "barpolar": [
           {
            "marker": {
             "line": {
              "color": "white",
              "width": 0.5
             },
             "pattern": {
              "fillmode": "overlay",
              "size": 10,
              "solidity": 0.2
             }
            },
            "type": "barpolar"
           }
          ],
          "box": [
           {
            "boxpoints": "outliers",
            "notched": false,
            "type": "box"
           }
          ],
          "carpet": [
           {
            "aaxis": {
             "endlinecolor": "#2a3f5f",
             "gridcolor": "#C8D4E3",
             "linecolor": "#C8D4E3",
             "minorgridcolor": "#C8D4E3",
             "startlinecolor": "#2a3f5f"
            },
            "baxis": {
             "endlinecolor": "#2a3f5f",
             "gridcolor": "#C8D4E3",
             "linecolor": "#C8D4E3",
             "minorgridcolor": "#C8D4E3",
             "startlinecolor": "#2a3f5f"
            },
            "type": "carpet"
           }
          ],
          "choropleth": [
           {
            "colorbar": {
             "outlinewidth": 0,
             "ticks": ""
            },
            "type": "choropleth"
           }
          ],
          "contour": [
           {
            "colorbar": {
             "outlinewidth": 0,
             "ticks": ""
            },
            "colorscale": [
             [
              0,
              "#0d0887"
             ],
             [
              0.1111111111111111,
              "#46039f"
             ],
             [
              0.2222222222222222,
              "#7201a8"
             ],
             [
              0.3333333333333333,
              "#9c179e"
             ],
             [
              0.4444444444444444,
              "#bd3786"
             ],
             [
              0.5555555555555556,
              "#d8576b"
             ],
             [
              0.6666666666666666,
              "#ed7953"
             ],
             [
              0.7777777777777778,
              "#fb9f3a"
             ],
             [
              0.8888888888888888,
              "#fdca26"
             ],
             [
              1,
              "#f0f921"
             ]
            ],
            "type": "contour"
           }
          ],
          "contourcarpet": [
           {
            "colorbar": {
             "outlinewidth": 0,
             "ticks": ""
            },
            "type": "contourcarpet"
           }
          ],
          "heatmap": [
           {
            "colorbar": {
             "outlinewidth": 0,
             "ticks": ""
            },
            "colorscale": [
             [
              0,
              "#0d0887"
             ],
             [
              0.1111111111111111,
              "#46039f"
             ],
             [
              0.2222222222222222,
              "#7201a8"
             ],
             [
              0.3333333333333333,
              "#9c179e"
             ],
             [
              0.4444444444444444,
              "#bd3786"
             ],
             [
              0.5555555555555556,
              "#d8576b"
             ],
             [
              0.6666666666666666,
              "#ed7953"
             ],
             [
              0.7777777777777778,
              "#fb9f3a"
             ],
             [
              0.8888888888888888,
              "#fdca26"
             ],
             [
              1,
              "#f0f921"
             ]
            ],
            "type": "heatmap"
           }
          ],
          "heatmapgl": [
           {
            "colorbar": {
             "outlinewidth": 0,
             "ticks": ""
            },
            "colorscale": [
             [
              0,
              "#0d0887"
             ],
             [
              0.1111111111111111,
              "#46039f"
             ],
             [
              0.2222222222222222,
              "#7201a8"
             ],
             [
              0.3333333333333333,
              "#9c179e"
             ],
             [
              0.4444444444444444,
              "#bd3786"
             ],
             [
              0.5555555555555556,
              "#d8576b"
             ],
             [
              0.6666666666666666,
              "#ed7953"
             ],
             [
              0.7777777777777778,
              "#fb9f3a"
             ],
             [
              0.8888888888888888,
              "#fdca26"
             ],
             [
              1,
              "#f0f921"
             ]
            ],
            "type": "heatmapgl"
           }
          ],
          "histogram": [
           {
            "marker": {
             "line": {
              "width": 1
             },
             "pattern": {
              "fillmode": "overlay",
              "size": 10,
              "solidity": 0.2
             }
            },
            "type": "histogram"
           }
          ],
          "histogram2d": [
           {
            "colorbar": {
             "outlinewidth": 0,
             "ticks": ""
            },
            "colorscale": [
             [
              0,
              "#0d0887"
             ],
             [
              0.1111111111111111,
              "#46039f"
             ],
             [
              0.2222222222222222,
              "#7201a8"
             ],
             [
              0.3333333333333333,
              "#9c179e"
             ],
             [
              0.4444444444444444,
              "#bd3786"
             ],
             [
              0.5555555555555556,
              "#d8576b"
             ],
             [
              0.6666666666666666,
              "#ed7953"
             ],
             [
              0.7777777777777778,
              "#fb9f3a"
             ],
             [
              0.8888888888888888,
              "#fdca26"
             ],
             [
              1,
              "#f0f921"
             ]
            ],
            "type": "histogram2d"
           }
          ],
          "histogram2dcontour": [
           {
            "colorbar": {
             "outlinewidth": 0,
             "ticks": ""
            },
            "colorscale": [
             [
              0,
              "#0d0887"
             ],
             [
              0.1111111111111111,
              "#46039f"
             ],
             [
              0.2222222222222222,
              "#7201a8"
             ],
             [
              0.3333333333333333,
              "#9c179e"
             ],
             [
              0.4444444444444444,
              "#bd3786"
             ],
             [
              0.5555555555555556,
              "#d8576b"
             ],
             [
              0.6666666666666666,
              "#ed7953"
             ],
             [
              0.7777777777777778,
              "#fb9f3a"
             ],
             [
              0.8888888888888888,
              "#fdca26"
             ],
             [
              1,
              "#f0f921"
             ]
            ],
            "type": "histogram2dcontour"
           }
          ],
          "mesh3d": [
           {
            "colorbar": {
             "outlinewidth": 0,
             "ticks": ""
            },
            "type": "mesh3d"
           }
          ],
          "parcoords": [
           {
            "line": {
             "colorbar": {
              "outlinewidth": 0,
              "ticks": ""
             }
            },
            "type": "parcoords"
           }
          ],
          "pie": [
           {
            "automargin": true,
            "type": "pie"
           }
          ],
          "scatter": [
           {
            "marker": {
             "colorbar": {
              "outlinewidth": 0,
              "ticks": ""
             },
             "opacity": 0.8
            },
            "type": "scatter"
           }
          ],
          "scatter3d": [
           {
            "line": {
             "colorbar": {
              "outlinewidth": 0,
              "ticks": ""
             }
            },
            "marker": {
             "colorbar": {
              "outlinewidth": 0,
              "ticks": ""
             },
             "opacity": 0.8
            },
            "type": "scatter3d"
           }
          ],
          "scattercarpet": [
           {
            "marker": {
             "colorbar": {
              "outlinewidth": 0,
              "ticks": ""
             }
            },
            "type": "scattercarpet"
           }
          ],
          "scattergeo": [
           {
            "marker": {
             "colorbar": {
              "outlinewidth": 0,
              "ticks": ""
             }
            },
            "type": "scattergeo"
           }
          ],
          "scattergl": [
           {
            "marker": {
             "colorbar": {
              "outlinewidth": 0,
              "ticks": ""
             }
            },
            "type": "scattergl"
           }
          ],
          "scattermapbox": [
           {
            "marker": {
             "colorbar": {
              "outlinewidth": 0,
              "ticks": ""
             }
            },
            "type": "scattermapbox"
           }
          ],
          "scatterpolar": [
           {
            "marker": {
             "colorbar": {
              "outlinewidth": 0,
              "ticks": ""
             }
            },
            "type": "scatterpolar"
           }
          ],
          "scatterpolargl": [
           {
            "marker": {
             "colorbar": {
              "outlinewidth": 0,
              "ticks": ""
             }
            },
            "type": "scatterpolargl"
           }
          ],
          "scatterternary": [
           {
            "marker": {
             "colorbar": {
              "outlinewidth": 0,
              "ticks": ""
             }
            },
            "type": "scatterternary"
           }
          ],
          "surface": [
           {
            "colorbar": {
             "outlinewidth": 0,
             "ticks": ""
            },
            "colorscale": [
             [
              0,
              "#0d0887"
             ],
             [
              0.1111111111111111,
              "#46039f"
             ],
             [
              0.2222222222222222,
              "#7201a8"
             ],
             [
              0.3333333333333333,
              "#9c179e"
             ],
             [
              0.4444444444444444,
              "#bd3786"
             ],
             [
              0.5555555555555556,
              "#d8576b"
             ],
             [
              0.6666666666666666,
              "#ed7953"
             ],
             [
              0.7777777777777778,
              "#fb9f3a"
             ],
             [
              0.8888888888888888,
              "#fdca26"
             ],
             [
              1,
              "#f0f921"
             ]
            ],
            "type": "surface"
           }
          ],
          "table": [
           {
            "cells": {
             "fill": {
              "color": "#EBF0F8"
             },
             "line": {
              "color": "white"
             }
            },
            "header": {
             "fill": {
              "color": "#C8D4E3"
             },
             "line": {
              "color": "white"
             }
            },
            "type": "table"
           }
          ]
         },
         "layout": {
          "annotationdefaults": {
           "arrowcolor": "#2a3f5f",
           "arrowhead": 0,
           "arrowwidth": 1
          },
          "autotypenumbers": "strict",
          "coloraxis": {
           "colorbar": {
            "outlinewidth": 0,
            "ticks": ""
           }
          },
          "colorscale": {
           "diverging": [
            [
             0,
             "#8e0152"
            ],
            [
             0.1,
             "#c51b7d"
            ],
            [
             0.2,
             "#de77ae"
            ],
            [
             0.3,
             "#f1b6da"
            ],
            [
             0.4,
             "#fde0ef"
            ],
            [
             0.5,
             "#f7f7f7"
            ],
            [
             0.6,
             "#e6f5d0"
            ],
            [
             0.7,
             "#b8e186"
            ],
            [
             0.8,
             "#7fbc41"
            ],
            [
             0.9,
             "#4d9221"
            ],
            [
             1,
             "#276419"
            ]
           ],
           "sequential": [
            [
             0,
             "#0d0887"
            ],
            [
             0.1111111111111111,
             "#46039f"
            ],
            [
             0.2222222222222222,
             "#7201a8"
            ],
            [
             0.3333333333333333,
             "#9c179e"
            ],
            [
             0.4444444444444444,
             "#bd3786"
            ],
            [
             0.5555555555555556,
             "#d8576b"
            ],
            [
             0.6666666666666666,
             "#ed7953"
            ],
            [
             0.7777777777777778,
             "#fb9f3a"
            ],
            [
             0.8888888888888888,
             "#fdca26"
            ],
            [
             1,
             "#f0f921"
            ]
           ],
           "sequentialminus": [
            [
             0,
             "#0d0887"
            ],
            [
             0.1111111111111111,
             "#46039f"
            ],
            [
             0.2222222222222222,
             "#7201a8"
            ],
            [
             0.3333333333333333,
             "#9c179e"
            ],
            [
             0.4444444444444444,
             "#bd3786"
            ],
            [
             0.5555555555555556,
             "#d8576b"
            ],
            [
             0.6666666666666666,
             "#ed7953"
            ],
            [
             0.7777777777777778,
             "#fb9f3a"
            ],
            [
             0.8888888888888888,
             "#fdca26"
            ],
            [
             1,
             "#f0f921"
            ]
           ]
          },
          "colorway": [
           "#636efa",
           "#EF553B",
           "#00cc96",
           "#ab63fa",
           "#FFA15A",
           "#19d3f3",
           "#FF6692",
           "#B6E880",
           "#FF97FF",
           "#FECB52"
          ],
          "font": {
           "color": "#2a3f5f"
          },
          "geo": {
           "bgcolor": "white",
           "lakecolor": "white",
           "landcolor": "white",
           "showlakes": true,
           "showland": true,
           "subunitcolor": "#C8D4E3"
          },
          "height": 400,
          "hoverlabel": {
           "align": "left"
          },
          "hovermode": "closest",
          "mapbox": {
           "style": "light"
          },
          "margin": {
           "b": 2,
           "l": 2,
           "r": 2,
           "t": 30
          },
          "paper_bgcolor": "white",
          "plot_bgcolor": "white",
          "polar": {
           "angularaxis": {
            "gridcolor": "#EBF0F8",
            "linecolor": "#EBF0F8",
            "ticks": ""
           },
           "bgcolor": "white",
           "radialaxis": {
            "gridcolor": "#EBF0F8",
            "linecolor": "#EBF0F8",
            "ticks": ""
           }
          },
          "scene": {
           "camera": {
            "eye": {
             "x": 1.5,
             "y": 1.5,
             "z": 0.1
            }
           },
           "xaxis": {
            "backgroundcolor": "white",
            "gridcolor": "#DFE8F3",
            "gridwidth": 2,
            "linecolor": "#EBF0F8",
            "showbackground": true,
            "ticks": "",
            "zerolinecolor": "#EBF0F8"
           },
           "yaxis": {
            "backgroundcolor": "white",
            "gridcolor": "#DFE8F3",
            "gridwidth": 2,
            "linecolor": "#EBF0F8",
            "showbackground": true,
            "ticks": "",
            "zerolinecolor": "#EBF0F8"
           },
           "zaxis": {
            "backgroundcolor": "white",
            "gridcolor": "#DFE8F3",
            "gridwidth": 2,
            "linecolor": "#EBF0F8",
            "showbackground": true,
            "ticks": "",
            "zerolinecolor": "#EBF0F8"
           }
          },
          "shapedefaults": {
           "line": {
            "color": "#2a3f5f"
           }
          },
          "ternary": {
           "aaxis": {
            "gridcolor": "#DFE8F3",
            "linecolor": "#A2B1C6",
            "ticks": ""
           },
           "baxis": {
            "gridcolor": "#DFE8F3",
            "linecolor": "#A2B1C6",
            "ticks": ""
           },
           "bgcolor": "white",
           "caxis": {
            "gridcolor": "#DFE8F3",
            "linecolor": "#A2B1C6",
            "ticks": ""
           }
          },
          "title": {
           "x": 0.5
          },
          "xaxis": {
           "automargin": true,
           "gridcolor": "#EBF0F8",
           "linecolor": "#EBF0F8",
           "linewidth": 2,
           "showline": true,
           "ticks": "",
           "title": {
            "standoff": 15
           },
           "zerolinecolor": "#EBF0F8",
           "zerolinewidth": 2
          },
          "yaxis": {
           "automargin": true,
           "gridcolor": "#EBF0F8",
           "linecolor": "#EBF0F8",
           "linewidth": 2,
           "showline": true,
           "ticks": "",
           "title": {
            "standoff": 15
           },
           "zerolinecolor": "#EBF0F8",
           "zerolinewidth": 2
          }
         }
        },
        "title": {
         "text": "Model Prediction"
        }
       }
      }
     },
     "metadata": {}
    }
   ],
   "metadata": {}
  },
  {
   "cell_type": "markdown",
   "source": [
    "It looks quite different to the other! From any side, we can see an s-shape, but these combine in strange ways.\r\n",
    "\r\n",
    "We can see that the risk goes up on days with lots of visitors _and_ lots of snow. There is no real risk of avalanche when there's a lot of snow but no visitors, or when there are a lot of visitors but no snow.\r\n",
    "\r\n",
    "The fact that it shows high risk when there's no fresh snow and no visitors could be due to rain, which keeps visitors and snow clouds away but results in avalanches of the older snow. To confirm this, we'd need to explore the data in more depth, but we'll stop here for now.\r\n",
    "\r\n",
    "## Summary\r\n",
    "\r\n",
    "Well done! Let's recap. We've:\r\n",
    "\r\n",
    "* improved our simple model by adding more features. \r\n",
    "* practiced interpreting our model coefficients (parameters) from the model summary\r\n",
    "* eliminated unnecessary features\r\n",
    "* explored how sometimes it's important to think about what your data really mean\r\n",
    "* created a model that combined features to give superior result"
   ],
   "metadata": {}
  }
 ],
 "metadata": {
  "orig_nbformat": 4,
  "language_info": {
   "name": "python",
   "version": "3.7.6",
   "mimetype": "text/x-python",
   "codemirror_mode": {
    "name": "ipython",
    "version": 3
   },
   "pygments_lexer": "ipython3",
   "nbconvert_exporter": "python",
   "file_extension": ".py"
  },
  "kernelspec": {
   "name": "python3",
   "display_name": "Python 3.7.6 64-bit ('base': conda)"
  },
  "interpreter": {
   "hash": "1e5578b02018c6c380bd479292c298c822ff7a659f664b04603102d4b0786aad"
  }
 },
 "nbformat": 4,
 "nbformat_minor": 2
}